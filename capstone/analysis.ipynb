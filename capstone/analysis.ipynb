{
 "cells": [
  {
   "cell_type": "markdown",
   "metadata": {},
   "source": [
    "# Machine Learning Engineer Nanodegree\n",
    "\n",
    "## Capstone Project\n",
    "\n",
    "### Using Computer Vision for Facial Expression Classification\n",
    "\n",
    "This project seeks to investigate the use of computer vision techniques to build a classifier that can classify different faces, based on facial expressions.\n",
    "\n",
    "A deep learning approach will be taken to this problem, investigating the use of convolutional neural networks (CNNs). \n",
    "\n",
    "A simple benchmark CNN will first be investigated, followed by a more complex and deep network.\n",
    "\n",
    "In addition, the use of pre-trained networks for the ImageNet challenge (link to something here) will be explored to aid performance in the facial expression classification problem. \n",
    "\n",
    "\n",
    "\n",
    "\n"
   ]
  },
  {
   "cell_type": "code",
   "execution_count": 16,
   "metadata": {},
   "outputs": [],
   "source": [
    "import pandas as pd\n",
    "import numpy as np\n",
    "import matplotlib.pyplot as plt\n",
    "\n",
    "from keras.datasets import mnist\n",
    "from keras.models import Sequential, Model\n",
    "from keras.layers import Dense, Dropout, Flatten\n",
    "from keras.layers import Conv2D, MaxPooling2D, GlobalAveragePooling2D\n",
    "from keras.callbacks import ModelCheckpoint  \n",
    "\n",
    "from keras import backend as K\n",
    "from keras import applications\n",
    "from keras import optimizers\n",
    "\n",
    "%matplotlib inline"
   ]
  },
  {
   "cell_type": "markdown",
   "metadata": {},
   "source": [
    "### Reading the Data\n",
    "\n",
    "The dataset can be obtained from [here](https://www.kaggle.com/c/challenges-in-representation-learning-facial-expression-recognition-challenge). For the purpose of this notebook, and determining the best classification model, only the first 15,000 entries will be used. Later, the entire dataset will be used for training, testing and validation on the optimal model, to gain an idea for the true performance of the model.\n",
    "\n",
    "Below, Pandas is used to read the input data into a Data Frame"
   ]
  },
  {
   "cell_type": "code",
   "execution_count": 17,
   "metadata": {},
   "outputs": [],
   "source": [
    "use_section_data = False\n",
    "\n",
    "if use_section_data:\n",
    "    data = pd.read_csv(\"section_fer2013.csv\")    \n",
    "else:\n",
    "    data = pd.read_csv(\"fer2013cp.csv\")\n",
    "\n",
    "labels = data['emotion']\n",
    "\n",
    "features = data.drop(['emotion','Usage'], axis=1, inplace=False)\n"
   ]
  },
  {
   "cell_type": "markdown",
   "metadata": {},
   "source": [
    "### Pre-Processing the Data\n",
    "\n",
    "The raw data is in .csv format, with every pixel value listed in a single cell, for each image, separated by spaces.\n",
    "\n",
    "Below, each pixel value is separated, to be an individual value in a Python list, within a Data Frame.\n",
    "\n",
    "In addition, the data will be converted to a tensor format."
   ]
  },
  {
   "cell_type": "code",
   "execution_count": 18,
   "metadata": {},
   "outputs": [],
   "source": [
    "temp_list = []\n",
    "\n",
    "for i in features['pixels']:\n",
    "    temp_list.append(i.split())\n",
    "    \n",
    "features.drop('pixels',axis=1,inplace=True)\n",
    "\n",
    "features['pixels'] = pd.Series(temp_list)"
   ]
  },
  {
   "cell_type": "markdown",
   "metadata": {},
   "source": [
    "Of all of the data that has been imported, 20% will be used for training, 10% for validation, and 70% for training."
   ]
  },
  {
   "cell_type": "code",
   "execution_count": 19,
   "metadata": {},
   "outputs": [],
   "source": [
    "from sklearn.model_selection import train_test_split\n",
    "\n",
    "\n",
    "X_train, X_test, y_train, y_test = train_test_split(features,labels,test_size = 0.2, random_state=0)\n",
    "\n",
    "X_train, X_val, y_train, y_val = train_test_split(X_train, y_train, test_size = 0.125, random_state=0)"
   ]
  },
  {
   "cell_type": "code",
   "execution_count": 20,
   "metadata": {},
   "outputs": [],
   "source": [
    "def df_to_tensor(X_in, im_dim, reshape=True, triple_channels=False, horizontal_flip_double=False):\n",
    "    \n",
    "    # convert from the dataframe which contains Python lists with all pixel values, into a tensor, suitable for\n",
    "    # input into a convolutional neural network\n",
    "    \n",
    "    list_of_2d_arrays = []\n",
    "    \n",
    "    \n",
    "    \n",
    "    for image in X_in['pixels']:\n",
    "        pixel_array = []\n",
    "        \n",
    "        for pixel in image:\n",
    "            if not triple_channels:\n",
    "                pixel_array.append(int(pixel))\n",
    "            else:\n",
    "                pixel_array.append([int(pixel),int(pixel),int(pixel)])\n",
    "        \n",
    "        pixel_array = [pixel_array[x:x+im_dim] for x in range(0,len(pixel_array),im_dim)]\n",
    "        \n",
    "        \n",
    "        \n",
    "        list_of_2d_arrays.append(pixel_array)\n",
    "        \n",
    "    if horizontal_flip_double == True:\n",
    "        \n",
    "        reversed_array = []\n",
    "        \n",
    "        for pixel_row in pixel_array:\n",
    "            reversed_array.append(pixel_row[::-1])\n",
    "            \n",
    "        list_of_2d_arrays.append(reversed_array)\n",
    "            \n",
    "            \n",
    "        \n",
    "        \n",
    "    np_arr =  np.array(list_of_2d_arrays)\n",
    "    \n",
    "    #print(np_arr.shape)\n",
    "    if reshape:\n",
    "        return np_arr.reshape(np_arr.shape[0], 48, 48, 1)\n",
    "    else:\n",
    "        return np_arr"
   ]
  },
  {
   "cell_type": "markdown",
   "metadata": {},
   "source": [
    "### Sample Visualization\n",
    "\n",
    "A few of the images from the dataset will be plotted below."
   ]
  },
  {
   "cell_type": "code",
   "execution_count": 21,
   "metadata": {},
   "outputs": [],
   "source": [
    "# take a few sample images to provide a visualization\n",
    "\n",
    "samples = df_to_tensor(features,48)"
   ]
  },
  {
   "cell_type": "code",
   "execution_count": 22,
   "metadata": {
    "scrolled": true
   },
   "outputs": [
    {
     "data": {
      "image/png": "[encoded data removed]",
      "text/plain": [
       "<matplotlib.figure.Figure at 0x7f84069a0290>"
      ]
     },
     "metadata": {},
     "output_type": "display_data"
    }
   ],
   "source": [
    "seed_number = 21\n",
    "\n",
    "two_d_array = samples[seed_number].reshape(48,48)\n",
    "\n",
    "fig = plt.figure(figsize=(10, 10))\n",
    "\n",
    "num_rows = 3\n",
    "\n",
    "num_columns = 3\n",
    "\n",
    "hardcoded_labels = [\"Fear\", \"Anger\", \"Anger\", \"Happy\", \"Happy\",\n",
    "                   \"Happy\", \"Disgust\", \"Happy\", \"Surprised\"]\n",
    "\n",
    "for i in range(num_rows*num_columns):\n",
    "    ax = fig.add_subplot(num_rows,num_columns,i + 1)\n",
    "    ax.imshow(samples[seed_number + i].reshape(48,48), cmap='gray')\n",
    "    ax.title.set_text(hardcoded_labels[i])\n",
    "\n"
   ]
  },
  {
   "cell_type": "markdown",
   "metadata": {},
   "source": [
    "### Frequency of Expressions\n",
    "\n",
    "The distribution of how many times each expression appears in the dataset is important to inform what metrics are suitable for assessing the classifier. Below a bar graph showing the relative frequencies of each expression is shown."
   ]
  },
  {
   "cell_type": "code",
   "execution_count": 23,
   "metadata": {},
   "outputs": [
    {
     "data": {
      "image/png": "[encoded data removed]",
      "text/plain": [
       "<matplotlib.figure.Figure at 0x7f84ce8fb250>"
      ]
     },
     "metadata": {},
     "output_type": "display_data"
    }
   ],
   "source": [
    "# seeing the distribution of each emotion in the dataset\n",
    "\n",
    "frequency_list = np.zeros(7)\n",
    "\n",
    "for label in labels:\n",
    "    frequency_list[int(label)] += 1\n",
    "    \n",
    "emotion_indices = range(1,8)\n",
    "\n",
    "x_axis_labels = ['Angry','Disgust','Fear','Happy','Sad','Surprise',\n",
    "         'Neutral']\n",
    "\n",
    "\n",
    "bar = plt.bar(emotion_indices, frequency_list, align='center')\n",
    "\n",
    "plt.xticks(emotion_indices, x_axis_labels )\n",
    "\n",
    "plt.xlabel(\"Facial Expression\")\n",
    "\n",
    "plt.ylabel(\"Frequency of Occurence\")\n",
    "\n",
    "\n",
    "\n",
    "plt.show()"
   ]
  },
  {
   "cell_type": "code",
   "execution_count": 24,
   "metadata": {},
   "outputs": [],
   "source": [
    "train_tensors = df_to_tensor(X_train,48).astype('float32')/255\n",
    "valid_tensors = df_to_tensor(X_val,48).astype('float32')/255\n",
    "test_tensors = df_to_tensor(X_test,48).astype('float32')/255\n",
    "\n",
    "train_targets = np.array(pd.get_dummies(y_train))\n",
    "valid_targets = np.array(pd.get_dummies(y_val))\n",
    "test_targets = np.array(pd.get_dummies(y_test))\n"
   ]
  },
  {
   "cell_type": "code",
   "execution_count": 25,
   "metadata": {},
   "outputs": [],
   "source": [
    "img_width = 48\n",
    "img_height = 48"
   ]
  },
  {
   "cell_type": "markdown",
   "metadata": {},
   "source": [
    "### Evaluation Metrics\n",
    "\n",
    "Due to the uneven distribution of facial expressions in the dataset, illustrated above, accuracy alone is not a suitable measure of classifier performance. Instead <b>categorical cross entropy loss</b> will be used to rank classifiers.\n"
   ]
  },
  {
   "cell_type": "code",
   "execution_count": 1,
   "metadata": {},
   "outputs": [
    {
     "name": "stdout",
     "output_type": "stream",
     "text": [
      "1.20397280433\n"
     ]
    }
   ],
   "source": [
    "import numpy as np\n",
    "\n",
    "\n",
    "\n",
    "def categorical_cross_entropy(predictions_vector, targets_vector):\n",
    "    #calculates, for each individual sample, the contribution to the total categorical cross entropy of the predictions with respect to the targets\n",
    "\n",
    "    predictions = np.array(predictions_vector)\n",
    "\n",
    "    targets = np.array(targets_vector)\n",
    "\n",
    "    log_vector = -np.log(predictions_vector)\n",
    "\n",
    "    return targets.dot(log_vector)\n",
    "\"\"\"\n",
    "\n",
    "predictions_ = [0.2, 0.3, 0.5]\n",
    "\n",
    "targets_ = [0, 1, 0]\n",
    "\n",
    "\n",
    "print categorical_cross_entropy(predictions_, targets_)\n",
    "\n",
    "\"\"\"\n"
   ]
  },
  {
   "cell_type": "markdown",
   "metadata": {},
   "source": [
    "### Baseline Model\n",
    "\n",
    "First, a simple CNN will be used to build a classifier, to which others can be compared. The baseline comprises only of two convolutional layers and a low amount of filters (ADD EXACT AMOUNT HERE AFTERWARD) and is expected to pick up basic features in the faces that will give it some degree of accuracy with the classification task\n"
   ]
  },
  {
   "cell_type": "code",
   "execution_count": 19,
   "metadata": {},
   "outputs": [
    {
     "name": "stdout",
     "output_type": "stream",
     "text": [
      "_________________________________________________________________\n",
      "Layer (type)                 Output Shape              Param #   \n",
      "=================================================================\n",
      "conv2d_7 (Conv2D)            (None, 48, 48, 16)        80        \n",
      "_________________________________________________________________\n",
      "max_pooling2d_6 (MaxPooling2 (None, 24, 24, 16)        0         \n",
      "_________________________________________________________________\n",
      "conv2d_8 (Conv2D)            (None, 24, 24, 32)        2080      \n",
      "_________________________________________________________________\n",
      "max_pooling2d_7 (MaxPooling2 (None, 12, 12, 32)        0         \n",
      "_________________________________________________________________\n",
      "flatten_3 (Flatten)          (None, 4608)              0         \n",
      "_________________________________________________________________\n",
      "dense_6 (Dense)              (None, 100)               460900    \n",
      "_________________________________________________________________\n",
      "dense_7 (Dense)              (None, 7)                 707       \n",
      "=================================================================\n",
      "Total params: 463,767\n",
      "Trainable params: 463,767\n",
      "Non-trainable params: 0\n",
      "_________________________________________________________________\n"
     ]
    }
   ],
   "source": [
    "model_baseline = Sequential()\n",
    "model_baseline.add(Conv2D(filters=16, kernel_size=2, padding='same', activation='relu', input_shape=(48,48,1)))\n",
    "model_baseline.add(MaxPooling2D(pool_size=2))\n",
    "model_baseline.add(Conv2D(filters=32, kernel_size=2, padding='same', activation='relu'))\n",
    "model_baseline.add(MaxPooling2D(pool_size=2))\n",
    "model_baseline.add(Flatten())\n",
    "model_baseline.add(Dense(100, activation='relu'))\n",
    "#temporarily adding dropout\n",
    "model_baseline.add(Dense(7, activation='softmax'))\n",
    "\n",
    "\n",
    "model_baseline.summary()"
   ]
  },
  {
   "cell_type": "code",
   "execution_count": 20,
   "metadata": {
    "collapsed": true
   },
   "outputs": [],
   "source": [
    "model_baseline.compile(optimizer='rmsprop', loss='categorical_crossentropy', metrics=['accuracy'])"
   ]
  },
  {
   "cell_type": "code",
   "execution_count": 21,
   "metadata": {},
   "outputs": [
    {
     "name": "stdout",
     "output_type": "stream",
     "text": [
      "Train on 25120 samples, validate on 3589 samples\n",
      "Epoch 1/20\n",
      "25100/25120 [============================>.] - ETA: 0s - loss: 1.6194 - acc: 0.3653Epoch 00001: val_loss improved from inf to 1.49987, saving model to saved_models/weights.best.baseline.hdf5\n",
      "25120/25120 [==============================] - 31s 1ms/step - loss: 1.6196 - acc: 0.3654 - val_loss: 1.4999 - val_acc: 0.4408\n",
      "Epoch 2/20\n",
      "25080/25120 [============================>.] - ETA: 0s - loss: 1.4369 - acc: 0.4533- ETEpoch 00002: val_loss improved from 1.49987 to 1.40442, saving model to saved_models/weights.best.baseline.hdf5\n",
      "25120/25120 [==============================] - 30s 1ms/step - loss: 1.4367 - acc: 0.4534 - val_loss: 1.4044 - val_acc: 0.4609\n",
      "Epoch 3/20\n",
      "25080/25120 [============================>.] - ETA: 0s - loss: 1.3377 - acc: 0.4913Epoch 00003: val_loss improved from 1.40442 to 1.36824, saving model to saved_models/weights.best.baseline.hdf5\n",
      "25120/25120 [==============================] - 30s 1ms/step - loss: 1.3375 - acc: 0.4915 - val_loss: 1.3682 - val_acc: 0.4717\n",
      "Epoch 4/20\n",
      "25060/25120 [============================>.] - ETA: 0s - loss: 1.2657 - acc: 0.5213Epoch 00004: val_loss improved from 1.36824 to 1.36776, saving model to saved_models/weights.best.baseline.hdf5\n",
      "25120/25120 [==============================] - 30s 1ms/step - loss: 1.2661 - acc: 0.5210 - val_loss: 1.3678 - val_acc: 0.4723\n",
      "Epoch 5/20\n",
      "25060/25120 [============================>.] - ETA: 0s - loss: 1.1998 - acc: 0.5514Epoch 00005: val_loss did not improve\n",
      "25120/25120 [==============================] - 31s 1ms/step - loss: 1.1997 - acc: 0.5514 - val_loss: 1.3709 - val_acc: 0.4720\n",
      "Epoch 6/20\n",
      "25100/25120 [============================>.] - ETA: 0s - loss: 1.1382 - acc: 0.5733Epoch 00006: val_loss did not improve\n",
      "25120/25120 [==============================] - 30s 1ms/step - loss: 1.1379 - acc: 0.5734 - val_loss: 1.3836 - val_acc: 0.4756\n",
      "Epoch 7/20\n",
      "25100/25120 [============================>.] - ETA: 0s - loss: 1.0736 - acc: 0.6020- ETA: 1s - lEpoch 00007: val_loss did not improve\n",
      "25120/25120 [==============================] - 30s 1ms/step - loss: 1.0736 - acc: 0.6020 - val_loss: 1.4071 - val_acc: 0.4837\n",
      "Epoch 8/20\n",
      "25080/25120 [============================>.] - ETA: 0s - loss: 1.0082 - acc: 0.6272Epoch 00008: val_loss did not improve\n",
      "25120/25120 [==============================] - 30s 1ms/step - loss: 1.0082 - acc: 0.6271 - val_loss: 1.4609 - val_acc: 0.4681\n",
      "Epoch 9/20\n",
      "25100/25120 [============================>.] - ETA: 0s - loss: 0.9486 - acc: 0.6541Epoch 00009: val_loss did not improve\n",
      "25120/25120 [==============================] - 30s 1ms/step - loss: 0.9486 - acc: 0.6541 - val_loss: 1.4201 - val_acc: 0.4937\n",
      "Epoch 10/20\n",
      "25080/25120 [============================>.] - ETA: 0s - loss: 0.8884 - acc: 0.6751Epoch 00010: val_loss did not improve\n",
      "25120/25120 [==============================] - 30s 1ms/step - loss: 0.8888 - acc: 0.6750 - val_loss: 1.4231 - val_acc: 0.4901\n",
      "Epoch 11/20\n",
      "25100/25120 [============================>.] - ETA: 0s - loss: 0.8298 - acc: 0.6980Epoch 00011: val_loss did not improve\n",
      "25120/25120 [==============================] - 30s 1ms/step - loss: 0.8298 - acc: 0.6979 - val_loss: 1.4781 - val_acc: 0.4820\n",
      "Epoch 12/20\n",
      "25100/25120 [============================>.] - ETA: 0s - loss: 0.7746 - acc: 0.7218Epoch 00012: val_loss did not improve\n",
      "25120/25120 [==============================] - 30s 1ms/step - loss: 0.7744 - acc: 0.7218 - val_loss: 1.5459 - val_acc: 0.5004\n",
      "Epoch 13/20\n",
      "25080/25120 [============================>.] - ETA: 0s - loss: 0.7179 - acc: 0.7429Epoch 00013: val_loss did not improve\n",
      "25120/25120 [==============================] - 30s 1ms/step - loss: 0.7174 - acc: 0.7431 - val_loss: 1.6328 - val_acc: 0.4993\n",
      "Epoch 14/20\n",
      "25060/25120 [============================>.] - ETA: 0s - loss: 0.6664 - acc: 0.7635Epoch 00014: val_loss did not improve\n",
      "25120/25120 [==============================] - 31s 1ms/step - loss: 0.6665 - acc: 0.7635 - val_loss: 1.6594 - val_acc: 0.4943\n",
      "Epoch 15/20\n",
      "25100/25120 [============================>.] - ETA: 0s - loss: 0.6185 - acc: 0.7806Epoch 00015: val_loss did not improve\n",
      "25120/25120 [==============================] - 32s 1ms/step - loss: 0.6185 - acc: 0.7806 - val_loss: 1.7724 - val_acc: 0.4951\n",
      "Epoch 16/20\n",
      "25100/25120 [============================>.] - ETA: 0s - loss: 0.5631 - acc: 0.7995Epoch 00016: val_loss did not improve\n",
      "25120/25120 [==============================] - 31s 1ms/step - loss: 0.5635 - acc: 0.7994 - val_loss: 1.9164 - val_acc: 0.4882\n",
      "Epoch 17/20\n",
      "25100/25120 [============================>.] - ETA: 0s - loss: 0.5181 - acc: 0.8175Epoch 00017: val_loss did not improve\n",
      "25120/25120 [==============================] - 34s 1ms/step - loss: 0.5184 - acc: 0.8174 - val_loss: 1.9788 - val_acc: 0.4962\n",
      "Epoch 18/20\n",
      "25060/25120 [============================>.] - ETA: 0s - loss: 0.4706 - acc: 0.8330Epoch 00018: val_loss did not improve\n",
      "25120/25120 [==============================] - 48s 2ms/step - loss: 0.4707 - acc: 0.8331 - val_loss: 2.1398 - val_acc: 0.4834\n",
      "Epoch 19/20\n",
      "25100/25120 [============================>.] - ETA: 0s - loss: 0.4281 - acc: 0.8498Epoch 00019: val_loss did not improve\n",
      "25120/25120 [==============================] - 30s 1ms/step - loss: 0.4281 - acc: 0.8499 - val_loss: 2.2349 - val_acc: 0.4923\n",
      "Epoch 20/20\n",
      "25080/25120 [============================>.] - ETA: 0s - loss: 0.3850 - acc: 0.8673Epoch 00020: val_loss did not improve\n",
      "25120/25120 [==============================] - 30s 1ms/step - loss: 0.3854 - acc: 0.8672 - val_loss: 2.2662 - val_acc: 0.4759\n"
     ]
    }
   ],
   "source": [
    "# put repeated stuff into a function later on\n",
    "\n",
    "\n",
    "### TODO: specify the number of epochs that you would like to use to train the model.\n",
    "\n",
    "epochs = 20\n",
    "\n",
    "### Do NOT modify the code below this line.\n",
    "\n",
    "checkpointer = ModelCheckpoint(filepath='saved_models/weights.best.baseline.hdf5', \n",
    "                               verbose=1, save_best_only=True)\n",
    "\n",
    "history = model_baseline.fit(train_tensors, train_targets, \n",
    "          validation_data=(valid_tensors, valid_targets),\n",
    "          epochs=epochs, batch_size=20, callbacks=[checkpointer], verbose=1)"
   ]
  },
  {
   "cell_type": "code",
   "execution_count": 22,
   "metadata": {
    "collapsed": true
   },
   "outputs": [],
   "source": [
    "model_baseline.load_weights('saved_models/weights.best.baseline.hdf5')"
   ]
  },
  {
   "cell_type": "code",
   "execution_count": 23,
   "metadata": {},
   "outputs": [
    {
     "name": "stdout",
     "output_type": "stream",
     "text": [
      "Test accuracy: 48.1889%\n"
     ]
    }
   ],
   "source": [
    "# get index of predicted facial expression for test set images\n",
    "expression_predictions = [np.argmax(model_baseline.predict(np.expand_dims(tensor, axis=0))) for tensor in test_tensors]\n",
    "\n",
    "# report test accuracy\n",
    "test_accuracy = 100*np.sum(np.array(expression_predictions)==np.argmax(test_targets, axis=1))/len(expression_predictions)\n",
    "print('Test accuracy: %.4f%%' % test_accuracy)"
   ]
  },
  {
   "cell_type": "code",
   "execution_count": 24,
   "metadata": {},
   "outputs": [
    {
     "name": "stdout",
     "output_type": "stream",
     "text": [
      "dict_keys(['val_loss', 'val_acc', 'loss', 'acc'])\n"
     ]
    },
    {
     "data": {
      "image/png": "[encoded data removed]",
      "text/plain": [
       "<matplotlib.figure.Figure at 0x2d922cf3f28>"
      ]
     },
     "metadata": {},
     "output_type": "display_data"
    }
   ],
   "source": [
    "# list all data in history\n",
    "print(history.history.keys())\n",
    "# summarize history for accuracy\n",
    "plt.plot(history.history['acc'])\n",
    "plt.plot(history.history['val_acc'])\n",
    "plt.title('model accuracy')\n",
    "plt.ylabel('accuracy')\n",
    "plt.xlabel('epoch')\n",
    "plt.legend(['train', 'test'], loc='upper left')\n",
    "plt.show()"
   ]
  },
  {
   "cell_type": "markdown",
   "metadata": {},
   "source": [
    "### Advanced Model"
   ]
  },
  {
   "cell_type": "markdown",
   "metadata": {},
   "source": [
    "### Image Augmentation\n",
    "\n",
    "\n"
   ]
  },
  {
   "cell_type": "code",
   "execution_count": 26,
   "metadata": {},
   "outputs": [],
   "source": [
    "from keras.preprocessing.image import ImageDataGenerator\n",
    "\n",
    "def augment_data(train_tensors_input, valid_tensors_input, shift_width=0.1, shift_height=0.1, flip_hor=True,\n",
    "                flip_vert=False):\n",
    "    \n",
    "    \n",
    "    \n",
    "    datagen_train = ImageDataGenerator(\n",
    "        width_shift_range = shift_width,\n",
    "        height_shift_range = shift_height,\n",
    "        horizontal_flip = flip_hor,\n",
    "        vertical_flip = flip_vert )\n",
    "\n",
    "    # create and configure augmented image generator\n",
    "    datagen_valid = ImageDataGenerator(\n",
    "        width_shift_range = shift_width,\n",
    "        height_shift_range = shift_height,\n",
    "        horizontal_flip = flip_hor,\n",
    "        vertical_flip = flip_vert )\n",
    "\n",
    "    # fit augmented image generator on data\n",
    "    datagen_train.fit(train_tensors_input)\n",
    "    datagen_valid.fit(valid_tensors_input)\n",
    "    \n",
    "    return (datagen_train, datagen_valid)\n",
    "    "
   ]
  },
  {
   "cell_type": "code",
   "execution_count": 27,
   "metadata": {},
   "outputs": [],
   "source": [
    "(datagen_train, datagen_valid) = augment_data(train_tensors, valid_tensors)"
   ]
  },
  {
   "cell_type": "code",
   "execution_count": 13,
   "metadata": {
    "scrolled": true
   },
   "outputs": [
    {
     "name": "stdout",
     "output_type": "stream",
     "text": [
      "_________________________________________________________________\n",
      "Layer (type)                 Output Shape              Param #   \n",
      "=================================================================\n",
      "conv2d_1 (Conv2D)            (None, 48, 48, 32)        320       \n",
      "_________________________________________________________________\n",
      "max_pooling2d_1 (MaxPooling2 (None, 24, 24, 32)        0         \n",
      "_________________________________________________________________\n",
      "conv2d_2 (Conv2D)            (None, 24, 24, 64)        18496     \n",
      "_________________________________________________________________\n",
      "conv2d_3 (Conv2D)            (None, 24, 24, 128)       73856     \n",
      "_________________________________________________________________\n",
      "max_pooling2d_2 (MaxPooling2 (None, 12, 12, 128)       0         \n",
      "_________________________________________________________________\n",
      "dropout_1 (Dropout)          (None, 12, 12, 128)       0         \n",
      "_________________________________________________________________\n",
      "conv2d_4 (Conv2D)            (None, 12, 12, 256)       295168    \n",
      "_________________________________________________________________\n",
      "max_pooling2d_3 (MaxPooling2 (None, 6, 6, 256)         0         \n",
      "_________________________________________________________________\n",
      "flatten_1 (Flatten)          (None, 9216)              0         \n",
      "_________________________________________________________________\n",
      "dense_1 (Dense)              (None, 1024)              9438208   \n",
      "_________________________________________________________________\n",
      "dropout_2 (Dropout)          (None, 1024)              0         \n",
      "_________________________________________________________________\n",
      "dense_2 (Dense)              (None, 1024)              1049600   \n",
      "_________________________________________________________________\n",
      "dropout_3 (Dropout)          (None, 1024)              0         \n",
      "_________________________________________________________________\n",
      "dense_3 (Dense)              (None, 7)                 7175      \n",
      "=================================================================\n",
      "Total params: 10,882,823\n",
      "Trainable params: 10,882,823\n",
      "Non-trainable params: 0\n",
      "_________________________________________________________________\n"
     ]
    }
   ],
   "source": [
    "\n",
    "\n",
    "model = Sequential()\n",
    "model.add(Conv2D(filters=32, kernel_size=3, padding='same', activation='relu',\n",
    "                 input_shape=(img_width, img_height, 1)))\n",
    "model.add(MaxPooling2D(pool_size=2))\n",
    "model.add(Conv2D(filters=64, kernel_size=3, padding='same', activation='relu'))\n",
    "\n",
    "model.add(Conv2D(filters=128, kernel_size=3, padding='same', activation='relu'))\n",
    "model.add(MaxPooling2D(pool_size=2))\n",
    "model.add(Dropout(0.25))\n",
    "model.add(Conv2D(filters=256, kernel_size=3, padding='same', activation='relu'))\n",
    "model.add(MaxPooling2D(pool_size=2))\n",
    "\n",
    "model.add(Flatten())\n",
    "model.add(Dense(1024, activation='relu'))\n",
    "model.add(Dropout(0.25))\n",
    "model.add(Dense(1024, activation='relu'))\n",
    "model.add(Dropout(0.25))\n",
    "model.add(Dense(7, activation='softmax'))\n",
    "\n",
    "\n",
    "model.summary()"
   ]
  },
  {
   "cell_type": "code",
   "execution_count": 14,
   "metadata": {},
   "outputs": [],
   "source": [
    "model.compile(optimizer='rmsprop', loss='categorical_crossentropy', metrics=['accuracy'])"
   ]
  },
  {
   "cell_type": "code",
   "execution_count": 15,
   "metadata": {},
   "outputs": [
    {
     "name": "stdout",
     "output_type": "stream",
     "text": [
      "Epoch 1/20\n",
      "1255/1256 [============================>.] - ETA: 0s - loss: 1.7712 - acc: 0.2764Epoch 00000: val_loss improved from inf to 1.62798, saving model to saved_models/weights.best.from_scratch_augmentation.hdf5\n",
      "1256/1256 [==============================] - 93s - loss: 1.7711 - acc: 0.2766 - val_loss: 1.6280 - val_acc: 0.3634\n",
      "Epoch 2/20\n",
      "1255/1256 [============================>.] - ETA: 0s - loss: 1.5774 - acc: 0.3797Epoch 00001: val_loss improved from 1.62798 to 1.49944, saving model to saved_models/weights.best.from_scratch_augmentation.hdf5\n",
      "1256/1256 [==============================] - 43s - loss: 1.5772 - acc: 0.3797 - val_loss: 1.4994 - val_acc: 0.4180\n",
      "Epoch 3/20\n",
      "1255/1256 [============================>.] - ETA: 0s - loss: 1.4893 - acc: 0.4271Epoch 00002: val_loss improved from 1.49944 to 1.43115, saving model to saved_models/weights.best.from_scratch_augmentation.hdf5\n",
      "1256/1256 [==============================] - 41s - loss: 1.4895 - acc: 0.4271 - val_loss: 1.4312 - val_acc: 0.4447\n",
      "Epoch 4/20\n",
      "1255/1256 [============================>.] - ETA: 0s - loss: 1.4556 - acc: 0.4439Epoch 00003: val_loss improved from 1.43115 to 1.37154, saving model to saved_models/weights.best.from_scratch_augmentation.hdf5\n",
      "1256/1256 [==============================] - 43s - loss: 1.4556 - acc: 0.4438 - val_loss: 1.3715 - val_acc: 0.4626\n",
      "Epoch 5/20\n",
      " 239/1256 [====>.........................] - ETA: 30s - loss: 1.4480 - acc: 0.4527"
     ]
    },
    {
     "ename": "KeyboardInterrupt",
     "evalue": "",
     "output_type": "error",
     "traceback": [
      "\u001b[0;31m---------------------------------------------------------------------------\u001b[0m",
      "\u001b[0;31mKeyboardInterrupt\u001b[0m                         Traceback (most recent call last)",
      "\u001b[0;32m<ipython-input-15-f370dd350fc9>\u001b[0m in \u001b[0;36m<module>\u001b[0;34m()\u001b[0m\n\u001b[1;32m     27\u001b[0m                     \u001b[0mepochs\u001b[0m\u001b[0;34m=\u001b[0m\u001b[0mepochs\u001b[0m\u001b[0;34m,\u001b[0m \u001b[0mverbose\u001b[0m\u001b[0;34m=\u001b[0m\u001b[0;36m1\u001b[0m\u001b[0;34m,\u001b[0m \u001b[0mcallbacks\u001b[0m\u001b[0;34m=\u001b[0m\u001b[0;34m[\u001b[0m\u001b[0mcheckpointer\u001b[0m\u001b[0;34m]\u001b[0m\u001b[0;34m,\u001b[0m\u001b[0;34m\u001b[0m\u001b[0m\n\u001b[1;32m     28\u001b[0m                     \u001b[0mvalidation_data\u001b[0m\u001b[0;34m=\u001b[0m\u001b[0mdatagen_valid\u001b[0m\u001b[0;34m.\u001b[0m\u001b[0mflow\u001b[0m\u001b[0;34m(\u001b[0m\u001b[0mvalid_tensors\u001b[0m\u001b[0;34m,\u001b[0m \u001b[0mvalid_targets\u001b[0m\u001b[0;34m,\u001b[0m \u001b[0mbatch_size\u001b[0m\u001b[0;34m=\u001b[0m\u001b[0mbatch_size\u001b[0m\u001b[0;34m)\u001b[0m\u001b[0;34m,\u001b[0m\u001b[0;34m\u001b[0m\u001b[0m\n\u001b[0;32m---> 29\u001b[0;31m                     validation_steps=valid_tensors.shape[0] // batch_size)\n\u001b[0m",
      "\u001b[0;32m/usr/local/lib/python2.7/dist-packages/Keras-2.0.8-py2.7.egg/keras/legacy/interfaces.pyc\u001b[0m in \u001b[0;36mwrapper\u001b[0;34m(*args, **kwargs)\u001b[0m\n\u001b[1;32m     85\u001b[0m                 warnings.warn('Update your `' + object_name +\n\u001b[1;32m     86\u001b[0m                               '` call to the Keras 2 API: ' + signature, stacklevel=2)\n\u001b[0;32m---> 87\u001b[0;31m             \u001b[0;32mreturn\u001b[0m \u001b[0mfunc\u001b[0m\u001b[0;34m(\u001b[0m\u001b[0;34m*\u001b[0m\u001b[0margs\u001b[0m\u001b[0;34m,\u001b[0m \u001b[0;34m**\u001b[0m\u001b[0mkwargs\u001b[0m\u001b[0;34m)\u001b[0m\u001b[0;34m\u001b[0m\u001b[0m\n\u001b[0m\u001b[1;32m     88\u001b[0m         \u001b[0mwrapper\u001b[0m\u001b[0;34m.\u001b[0m\u001b[0m_original_function\u001b[0m \u001b[0;34m=\u001b[0m \u001b[0mfunc\u001b[0m\u001b[0;34m\u001b[0m\u001b[0m\n\u001b[1;32m     89\u001b[0m         \u001b[0;32mreturn\u001b[0m \u001b[0mwrapper\u001b[0m\u001b[0;34m\u001b[0m\u001b[0m\n",
      "\u001b[0;32m/usr/local/lib/python2.7/dist-packages/Keras-2.0.8-py2.7.egg/keras/models.pyc\u001b[0m in \u001b[0;36mfit_generator\u001b[0;34m(self, generator, steps_per_epoch, epochs, verbose, callbacks, validation_data, validation_steps, class_weight, max_queue_size, workers, use_multiprocessing, initial_epoch)\u001b[0m\n\u001b[1;32m   1119\u001b[0m                                         \u001b[0mworkers\u001b[0m\u001b[0;34m=\u001b[0m\u001b[0mworkers\u001b[0m\u001b[0;34m,\u001b[0m\u001b[0;34m\u001b[0m\u001b[0m\n\u001b[1;32m   1120\u001b[0m                                         \u001b[0muse_multiprocessing\u001b[0m\u001b[0;34m=\u001b[0m\u001b[0muse_multiprocessing\u001b[0m\u001b[0;34m,\u001b[0m\u001b[0;34m\u001b[0m\u001b[0m\n\u001b[0;32m-> 1121\u001b[0;31m                                         initial_epoch=initial_epoch)\n\u001b[0m\u001b[1;32m   1122\u001b[0m \u001b[0;34m\u001b[0m\u001b[0m\n\u001b[1;32m   1123\u001b[0m     \u001b[0;34m@\u001b[0m\u001b[0minterfaces\u001b[0m\u001b[0;34m.\u001b[0m\u001b[0mlegacy_generator_methods_support\u001b[0m\u001b[0;34m\u001b[0m\u001b[0m\n",
      "\u001b[0;32m/usr/local/lib/python2.7/dist-packages/Keras-2.0.8-py2.7.egg/keras/legacy/interfaces.pyc\u001b[0m in \u001b[0;36mwrapper\u001b[0;34m(*args, **kwargs)\u001b[0m\n\u001b[1;32m     85\u001b[0m                 warnings.warn('Update your `' + object_name +\n\u001b[1;32m     86\u001b[0m                               '` call to the Keras 2 API: ' + signature, stacklevel=2)\n\u001b[0;32m---> 87\u001b[0;31m             \u001b[0;32mreturn\u001b[0m \u001b[0mfunc\u001b[0m\u001b[0;34m(\u001b[0m\u001b[0;34m*\u001b[0m\u001b[0margs\u001b[0m\u001b[0;34m,\u001b[0m \u001b[0;34m**\u001b[0m\u001b[0mkwargs\u001b[0m\u001b[0;34m)\u001b[0m\u001b[0;34m\u001b[0m\u001b[0m\n\u001b[0m\u001b[1;32m     88\u001b[0m         \u001b[0mwrapper\u001b[0m\u001b[0;34m.\u001b[0m\u001b[0m_original_function\u001b[0m \u001b[0;34m=\u001b[0m \u001b[0mfunc\u001b[0m\u001b[0;34m\u001b[0m\u001b[0m\n\u001b[1;32m     89\u001b[0m         \u001b[0;32mreturn\u001b[0m \u001b[0mwrapper\u001b[0m\u001b[0;34m\u001b[0m\u001b[0m\n",
      "\u001b[0;32m/usr/local/lib/python2.7/dist-packages/Keras-2.0.8-py2.7.egg/keras/engine/training.pyc\u001b[0m in \u001b[0;36mfit_generator\u001b[0;34m(self, generator, steps_per_epoch, epochs, verbose, callbacks, validation_data, validation_steps, class_weight, max_queue_size, workers, use_multiprocessing, shuffle, initial_epoch)\u001b[0m\n\u001b[1;32m   2040\u001b[0m                     outs = self.train_on_batch(x, y,\n\u001b[1;32m   2041\u001b[0m                                                \u001b[0msample_weight\u001b[0m\u001b[0;34m=\u001b[0m\u001b[0msample_weight\u001b[0m\u001b[0;34m,\u001b[0m\u001b[0;34m\u001b[0m\u001b[0m\n\u001b[0;32m-> 2042\u001b[0;31m                                                class_weight=class_weight)\n\u001b[0m\u001b[1;32m   2043\u001b[0m \u001b[0;34m\u001b[0m\u001b[0m\n\u001b[1;32m   2044\u001b[0m                     \u001b[0;32mif\u001b[0m \u001b[0;32mnot\u001b[0m \u001b[0misinstance\u001b[0m\u001b[0;34m(\u001b[0m\u001b[0mouts\u001b[0m\u001b[0;34m,\u001b[0m \u001b[0mlist\u001b[0m\u001b[0;34m)\u001b[0m\u001b[0;34m:\u001b[0m\u001b[0;34m\u001b[0m\u001b[0m\n",
      "\u001b[0;32m/usr/local/lib/python2.7/dist-packages/Keras-2.0.8-py2.7.egg/keras/engine/training.pyc\u001b[0m in \u001b[0;36mtrain_on_batch\u001b[0;34m(self, x, y, sample_weight, class_weight)\u001b[0m\n\u001b[1;32m   1760\u001b[0m             \u001b[0mins\u001b[0m \u001b[0;34m=\u001b[0m \u001b[0mx\u001b[0m \u001b[0;34m+\u001b[0m \u001b[0my\u001b[0m \u001b[0;34m+\u001b[0m \u001b[0msample_weights\u001b[0m\u001b[0;34m\u001b[0m\u001b[0m\n\u001b[1;32m   1761\u001b[0m         \u001b[0mself\u001b[0m\u001b[0;34m.\u001b[0m\u001b[0m_make_train_function\u001b[0m\u001b[0;34m(\u001b[0m\u001b[0;34m)\u001b[0m\u001b[0;34m\u001b[0m\u001b[0m\n\u001b[0;32m-> 1762\u001b[0;31m         \u001b[0moutputs\u001b[0m \u001b[0;34m=\u001b[0m \u001b[0mself\u001b[0m\u001b[0;34m.\u001b[0m\u001b[0mtrain_function\u001b[0m\u001b[0;34m(\u001b[0m\u001b[0mins\u001b[0m\u001b[0;34m)\u001b[0m\u001b[0;34m\u001b[0m\u001b[0m\n\u001b[0m\u001b[1;32m   1763\u001b[0m         \u001b[0;32mif\u001b[0m \u001b[0mlen\u001b[0m\u001b[0;34m(\u001b[0m\u001b[0moutputs\u001b[0m\u001b[0;34m)\u001b[0m \u001b[0;34m==\u001b[0m \u001b[0;36m1\u001b[0m\u001b[0;34m:\u001b[0m\u001b[0;34m\u001b[0m\u001b[0m\n\u001b[1;32m   1764\u001b[0m             \u001b[0;32mreturn\u001b[0m \u001b[0moutputs\u001b[0m\u001b[0;34m[\u001b[0m\u001b[0;36m0\u001b[0m\u001b[0;34m]\u001b[0m\u001b[0;34m\u001b[0m\u001b[0m\n",
      "\u001b[0;32m/usr/local/lib/python2.7/dist-packages/Keras-2.0.8-py2.7.egg/keras/backend/tensorflow_backend.pyc\u001b[0m in \u001b[0;36m__call__\u001b[0;34m(self, inputs)\u001b[0m\n\u001b[1;32m   2271\u001b[0m         updated = session.run(self.outputs + [self.updates_op],\n\u001b[1;32m   2272\u001b[0m                               \u001b[0mfeed_dict\u001b[0m\u001b[0;34m=\u001b[0m\u001b[0mfeed_dict\u001b[0m\u001b[0;34m,\u001b[0m\u001b[0;34m\u001b[0m\u001b[0m\n\u001b[0;32m-> 2273\u001b[0;31m                               **self.session_kwargs)\n\u001b[0m\u001b[1;32m   2274\u001b[0m         \u001b[0;32mreturn\u001b[0m \u001b[0mupdated\u001b[0m\u001b[0;34m[\u001b[0m\u001b[0;34m:\u001b[0m\u001b[0mlen\u001b[0m\u001b[0;34m(\u001b[0m\u001b[0mself\u001b[0m\u001b[0;34m.\u001b[0m\u001b[0moutputs\u001b[0m\u001b[0;34m)\u001b[0m\u001b[0;34m]\u001b[0m\u001b[0;34m\u001b[0m\u001b[0m\n\u001b[1;32m   2275\u001b[0m \u001b[0;34m\u001b[0m\u001b[0m\n",
      "\u001b[0;32m/usr/local/lib/python2.7/dist-packages/tensorflow/python/client/session.pyc\u001b[0m in \u001b[0;36mrun\u001b[0;34m(self, fetches, feed_dict, options, run_metadata)\u001b[0m\n\u001b[1;32m    893\u001b[0m     \u001b[0;32mtry\u001b[0m\u001b[0;34m:\u001b[0m\u001b[0;34m\u001b[0m\u001b[0m\n\u001b[1;32m    894\u001b[0m       result = self._run(None, fetches, feed_dict, options_ptr,\n\u001b[0;32m--> 895\u001b[0;31m                          run_metadata_ptr)\n\u001b[0m\u001b[1;32m    896\u001b[0m       \u001b[0;32mif\u001b[0m \u001b[0mrun_metadata\u001b[0m\u001b[0;34m:\u001b[0m\u001b[0;34m\u001b[0m\u001b[0m\n\u001b[1;32m    897\u001b[0m         \u001b[0mproto_data\u001b[0m \u001b[0;34m=\u001b[0m \u001b[0mtf_session\u001b[0m\u001b[0;34m.\u001b[0m\u001b[0mTF_GetBuffer\u001b[0m\u001b[0;34m(\u001b[0m\u001b[0mrun_metadata_ptr\u001b[0m\u001b[0;34m)\u001b[0m\u001b[0;34m\u001b[0m\u001b[0m\n",
      "\u001b[0;32m/usr/local/lib/python2.7/dist-packages/tensorflow/python/client/session.pyc\u001b[0m in \u001b[0;36m_run\u001b[0;34m(self, handle, fetches, feed_dict, options, run_metadata)\u001b[0m\n\u001b[1;32m   1122\u001b[0m     \u001b[0;32mif\u001b[0m \u001b[0mfinal_fetches\u001b[0m \u001b[0;32mor\u001b[0m \u001b[0mfinal_targets\u001b[0m \u001b[0;32mor\u001b[0m \u001b[0;34m(\u001b[0m\u001b[0mhandle\u001b[0m \u001b[0;32mand\u001b[0m \u001b[0mfeed_dict_tensor\u001b[0m\u001b[0;34m)\u001b[0m\u001b[0;34m:\u001b[0m\u001b[0;34m\u001b[0m\u001b[0m\n\u001b[1;32m   1123\u001b[0m       results = self._do_run(handle, final_targets, final_fetches,\n\u001b[0;32m-> 1124\u001b[0;31m                              feed_dict_tensor, options, run_metadata)\n\u001b[0m\u001b[1;32m   1125\u001b[0m     \u001b[0;32melse\u001b[0m\u001b[0;34m:\u001b[0m\u001b[0;34m\u001b[0m\u001b[0m\n\u001b[1;32m   1126\u001b[0m       \u001b[0mresults\u001b[0m \u001b[0;34m=\u001b[0m \u001b[0;34m[\u001b[0m\u001b[0;34m]\u001b[0m\u001b[0;34m\u001b[0m\u001b[0m\n",
      "\u001b[0;32m/usr/local/lib/python2.7/dist-packages/tensorflow/python/client/session.pyc\u001b[0m in \u001b[0;36m_do_run\u001b[0;34m(self, handle, target_list, fetch_list, feed_dict, options, run_metadata)\u001b[0m\n\u001b[1;32m   1319\u001b[0m     \u001b[0;32mif\u001b[0m \u001b[0mhandle\u001b[0m \u001b[0;32mis\u001b[0m \u001b[0mNone\u001b[0m\u001b[0;34m:\u001b[0m\u001b[0;34m\u001b[0m\u001b[0m\n\u001b[1;32m   1320\u001b[0m       return self._do_call(_run_fn, self._session, feeds, fetches, targets,\n\u001b[0;32m-> 1321\u001b[0;31m                            options, run_metadata)\n\u001b[0m\u001b[1;32m   1322\u001b[0m     \u001b[0;32melse\u001b[0m\u001b[0;34m:\u001b[0m\u001b[0;34m\u001b[0m\u001b[0m\n\u001b[1;32m   1323\u001b[0m       \u001b[0;32mreturn\u001b[0m \u001b[0mself\u001b[0m\u001b[0;34m.\u001b[0m\u001b[0m_do_call\u001b[0m\u001b[0;34m(\u001b[0m\u001b[0m_prun_fn\u001b[0m\u001b[0;34m,\u001b[0m \u001b[0mself\u001b[0m\u001b[0;34m.\u001b[0m\u001b[0m_session\u001b[0m\u001b[0;34m,\u001b[0m \u001b[0mhandle\u001b[0m\u001b[0;34m,\u001b[0m \u001b[0mfeeds\u001b[0m\u001b[0;34m,\u001b[0m \u001b[0mfetches\u001b[0m\u001b[0;34m)\u001b[0m\u001b[0;34m\u001b[0m\u001b[0m\n",
      "\u001b[0;32m/usr/local/lib/python2.7/dist-packages/tensorflow/python/client/session.pyc\u001b[0m in \u001b[0;36m_do_call\u001b[0;34m(self, fn, *args)\u001b[0m\n\u001b[1;32m   1325\u001b[0m   \u001b[0;32mdef\u001b[0m \u001b[0m_do_call\u001b[0m\u001b[0;34m(\u001b[0m\u001b[0mself\u001b[0m\u001b[0;34m,\u001b[0m \u001b[0mfn\u001b[0m\u001b[0;34m,\u001b[0m \u001b[0;34m*\u001b[0m\u001b[0margs\u001b[0m\u001b[0;34m)\u001b[0m\u001b[0;34m:\u001b[0m\u001b[0;34m\u001b[0m\u001b[0m\n\u001b[1;32m   1326\u001b[0m     \u001b[0;32mtry\u001b[0m\u001b[0;34m:\u001b[0m\u001b[0;34m\u001b[0m\u001b[0m\n\u001b[0;32m-> 1327\u001b[0;31m       \u001b[0;32mreturn\u001b[0m \u001b[0mfn\u001b[0m\u001b[0;34m(\u001b[0m\u001b[0;34m*\u001b[0m\u001b[0margs\u001b[0m\u001b[0;34m)\u001b[0m\u001b[0;34m\u001b[0m\u001b[0m\n\u001b[0m\u001b[1;32m   1328\u001b[0m     \u001b[0;32mexcept\u001b[0m \u001b[0merrors\u001b[0m\u001b[0;34m.\u001b[0m\u001b[0mOpError\u001b[0m \u001b[0;32mas\u001b[0m \u001b[0me\u001b[0m\u001b[0;34m:\u001b[0m\u001b[0;34m\u001b[0m\u001b[0m\n\u001b[1;32m   1329\u001b[0m       \u001b[0mmessage\u001b[0m \u001b[0;34m=\u001b[0m \u001b[0mcompat\u001b[0m\u001b[0;34m.\u001b[0m\u001b[0mas_text\u001b[0m\u001b[0;34m(\u001b[0m\u001b[0me\u001b[0m\u001b[0;34m.\u001b[0m\u001b[0mmessage\u001b[0m\u001b[0;34m)\u001b[0m\u001b[0;34m\u001b[0m\u001b[0m\n",
      "\u001b[0;32m/usr/local/lib/python2.7/dist-packages/tensorflow/python/client/session.pyc\u001b[0m in \u001b[0;36m_run_fn\u001b[0;34m(session, feed_dict, fetch_list, target_list, options, run_metadata)\u001b[0m\n\u001b[1;32m   1304\u001b[0m           return tf_session.TF_Run(session, options,\n\u001b[1;32m   1305\u001b[0m                                    \u001b[0mfeed_dict\u001b[0m\u001b[0;34m,\u001b[0m \u001b[0mfetch_list\u001b[0m\u001b[0;34m,\u001b[0m \u001b[0mtarget_list\u001b[0m\u001b[0;34m,\u001b[0m\u001b[0;34m\u001b[0m\u001b[0m\n\u001b[0;32m-> 1306\u001b[0;31m                                    status, run_metadata)\n\u001b[0m\u001b[1;32m   1307\u001b[0m \u001b[0;34m\u001b[0m\u001b[0m\n\u001b[1;32m   1308\u001b[0m     \u001b[0;32mdef\u001b[0m \u001b[0m_prun_fn\u001b[0m\u001b[0;34m(\u001b[0m\u001b[0msession\u001b[0m\u001b[0;34m,\u001b[0m \u001b[0mhandle\u001b[0m\u001b[0;34m,\u001b[0m \u001b[0mfeed_dict\u001b[0m\u001b[0;34m,\u001b[0m \u001b[0mfetch_list\u001b[0m\u001b[0;34m)\u001b[0m\u001b[0;34m:\u001b[0m\u001b[0;34m\u001b[0m\u001b[0m\n",
      "\u001b[0;31mKeyboardInterrupt\u001b[0m: "
     ]
    }
   ],
   "source": [
    "\n",
    "### TODO: specify the number of epochs that you would like to use to train the model.\n",
    "\n",
    "epochs = 20\n",
    "\n",
    "\n",
    "\n",
    "### Do NOT modify the code below this line.\n",
    "\n",
    "checkpointer = ModelCheckpoint(filepath='saved_models/weights.best.from_scratch_augmentation.hdf5', \n",
    "                               verbose=1, save_best_only=True)\n",
    "\n",
    "\"\"\"\n",
    "#Without image augmentation\n",
    "model.fit(train_tensors, train_targets, \n",
    "          validation_data=(valid_tensors, valid_targets),\n",
    "          epochs=epochs, batch_size=20, callbacks=[checkpointer], verbose=1)\n",
    "\"\"\"\n",
    "\n",
    "\n",
    "#With image augmentation\n",
    "\n",
    "batch_size = 20\n",
    "\n",
    "history = model.fit_generator(datagen_train.flow(train_tensors, train_targets, batch_size=batch_size),\n",
    "                    steps_per_epoch=train_tensors.shape[0] // batch_size,\n",
    "                    epochs=epochs, verbose=1, callbacks=[checkpointer],\n",
    "                    validation_data=datagen_valid.flow(valid_tensors, valid_targets, batch_size=batch_size),\n",
    "                    validation_steps=valid_tensors.shape[0] // batch_size)"
   ]
  },
  {
   "cell_type": "code",
   "execution_count": null,
   "metadata": {},
   "outputs": [],
   "source": [
    "model.load_weights('saved_models/weights.best.from_scratch_augmentation.hdf5')"
   ]
  },
  {
   "cell_type": "code",
   "execution_count": 17,
   "metadata": {},
   "outputs": [
    {
     "name": "stdout",
     "output_type": "stream",
     "text": [
      "Test accuracy: 48.7880%\n"
     ]
    }
   ],
   "source": [
    "# get index of predicted facial expression for test set images\n",
    "expression_predictions = [np.argmax(model.predict(np.expand_dims(tensor, axis=0))) for tensor in test_tensors]\n",
    "\n",
    "# report test accuracy\n",
    "test_accuracy = 100*np.sum(np.array(expression_predictions)==np.argmax(test_targets, axis=1))/len(expression_predictions)\n",
    "print('Test accuracy: %.4f%%' % test_accuracy)"
   ]
  },
  {
   "cell_type": "code",
   "execution_count": null,
   "metadata": {
    "collapsed": true
   },
   "outputs": [],
   "source": [
    "# list all data in history\n",
    "print(history.history.keys())\n",
    "# summarize history for accuracy\n",
    "plt.plot(history.history['acc'])\n",
    "plt.plot(history.history['val_acc'])\n",
    "plt.title('model accuracy')\n",
    "plt.ylabel('accuracy')\n",
    "plt.xlabel('epoch')\n",
    "plt.legend(['train', 'test'], loc='upper left')\n",
    "plt.show()"
   ]
  },
  {
   "cell_type": "markdown",
   "metadata": {},
   "source": [
    "### Transfer Learning\n",
    "\n",
    "It is suitable to explore the use of other CNNs that have been used for other computer vision applications. Below, the performance of the pre-trained networks Inception, VGG-19 and Resnet50 will be explored"
   ]
  },
  {
   "cell_type": "code",
   "execution_count": 28,
   "metadata": {},
   "outputs": [],
   "source": [
    "import cv2\n",
    "\n",
    "X_train_transf, X_test_transf, X_val_transf = X_train, X_test, X_val\n",
    "\n",
    "y_train_transf, y_test_transf, y_val_transf = y_train, y_test, y_val\n",
    "\n",
    "\n",
    "sample = df_to_tensor(X_train_transf, 48, reshape=False)\n",
    "\n",
    "#sample.shape"
   ]
  },
  {
   "cell_type": "code",
   "execution_count": 29,
   "metadata": {},
   "outputs": [],
   "source": [
    "# creating transfer tensors\n",
    "\n",
    "train_tensors_transf = df_to_tensor(X_train_transf,48,reshape=False, triple_channels=True).astype('float32')/255\n",
    "valid_tensors_transf = df_to_tensor(X_val_transf,48, reshape=False, triple_channels=True).astype('float32')/255\n",
    "test_tensors_transf = df_to_tensor(X_test_transf,48, reshape=False, triple_channels=True).astype('float32')/255\n",
    "\n",
    "train_targets_transf = np.array(pd.get_dummies(y_train_transf))\n",
    "valid_targets_transf = np.array(pd.get_dummies(y_val_transf))\n",
    "test_targets_transf = np.array(pd.get_dummies(y_test_transf))\n"
   ]
  },
  {
   "cell_type": "code",
   "execution_count": 30,
   "metadata": {},
   "outputs": [
    {
     "name": "stdout",
     "output_type": "stream",
     "text": [
      "Downloading data from https://github.com/fchollet/deep-learning-models/releases/download/v0.1/vgg19_weights_tf_dim_ordering_tf_kernels_notop.h5\n",
      "78905344/80134624 [============================>.] - ETA: 0s_________________________________________________________________\n",
      "Layer (type)                 Output Shape              Param #   \n",
      "=================================================================\n",
      "input_1 (InputLayer)         (None, 48, 48, 3)         0         \n",
      "_________________________________________________________________\n",
      "block1_conv1 (Conv2D)        (None, 48, 48, 64)        1792      \n",
      "_________________________________________________________________\n",
      "block1_conv2 (Conv2D)        (None, 48, 48, 64)        36928     \n",
      "_________________________________________________________________\n",
      "block1_pool (MaxPooling2D)   (None, 24, 24, 64)        0         \n",
      "_________________________________________________________________\n",
      "block2_conv1 (Conv2D)        (None, 24, 24, 128)       73856     \n",
      "_________________________________________________________________\n",
      "block2_conv2 (Conv2D)        (None, 24, 24, 128)       147584    \n",
      "_________________________________________________________________\n",
      "block2_pool (MaxPooling2D)   (None, 12, 12, 128)       0         \n",
      "_________________________________________________________________\n",
      "block3_conv1 (Conv2D)        (None, 12, 12, 256)       295168    \n",
      "_________________________________________________________________\n",
      "block3_conv2 (Conv2D)        (None, 12, 12, 256)       590080    \n",
      "_________________________________________________________________\n",
      "block3_conv3 (Conv2D)        (None, 12, 12, 256)       590080    \n",
      "_________________________________________________________________\n",
      "block3_conv4 (Conv2D)        (None, 12, 12, 256)       590080    \n",
      "_________________________________________________________________\n",
      "block3_pool (MaxPooling2D)   (None, 6, 6, 256)         0         \n",
      "_________________________________________________________________\n",
      "block4_conv1 (Conv2D)        (None, 6, 6, 512)         1180160   \n",
      "_________________________________________________________________\n",
      "block4_conv2 (Conv2D)        (None, 6, 6, 512)         2359808   \n",
      "_________________________________________________________________\n",
      "block4_conv3 (Conv2D)        (None, 6, 6, 512)         2359808   \n",
      "_________________________________________________________________\n",
      "block4_conv4 (Conv2D)        (None, 6, 6, 512)         2359808   \n",
      "_________________________________________________________________\n",
      "block4_pool (MaxPooling2D)   (None, 3, 3, 512)         0         \n",
      "_________________________________________________________________\n",
      "block5_conv1 (Conv2D)        (None, 3, 3, 512)         2359808   \n",
      "_________________________________________________________________\n",
      "block5_conv2 (Conv2D)        (None, 3, 3, 512)         2359808   \n",
      "_________________________________________________________________\n",
      "block5_conv3 (Conv2D)        (None, 3, 3, 512)         2359808   \n",
      "_________________________________________________________________\n",
      "block5_conv4 (Conv2D)        (None, 3, 3, 512)         2359808   \n",
      "_________________________________________________________________\n",
      "block5_pool (MaxPooling2D)   (None, 1, 1, 512)         0         \n",
      "=================================================================\n",
      "Total params: 20,024,384\n",
      "Trainable params: 20,024,384\n",
      "Non-trainable params: 0\n",
      "_________________________________________________________________\n"
     ]
    }
   ],
   "source": [
    "# Note: the code below is an adaptation of a code snippet by Prakash Jay,\n",
    "# obtained from: https://towardsdatascience.com/transfer-learning-using-keras-d804b2e04ef8\n",
    "\n",
    "img_width, img_height = 48, 48\n",
    "\"\"\"\n",
    "train_data_dir = \"data/train\"\n",
    "validation_data_dir = \"data/val\"\n",
    "nb_train_samples = 4125\n",
    "nb_validation_samples = 466 \n",
    "\"\"\"\n",
    "batch_size = 16\n",
    "epochs = 50\n",
    "\n",
    "model = applications.VGG19(weights = \"imagenet\", include_top=False, input_shape = (img_width, img_height, 3))\n",
    "\n",
    "\n",
    "model.summary()\n"
   ]
  },
  {
   "cell_type": "code",
   "execution_count": 31,
   "metadata": {},
   "outputs": [],
   "source": [
    "# Image augmentation for transfer model\n",
    "\n",
    "# create and configure augmented image generator\n",
    "datagen_train_transf = ImageDataGenerator(\n",
    "    width_shift_range=0.1,  # randomly shift images horizontally (10% of total width)\n",
    "    height_shift_range=0.1,  # randomly shift images vertically (10% of total height)\n",
    "    horizontal_flip=True) # randomly flip images horizontally\n",
    "\n",
    "# create and configure augmented image generator\n",
    "datagen_valid_transf = ImageDataGenerator(\n",
    "    width_shift_range=0.1,  # randomly shift images horizontally (10% of total width)\n",
    "    height_shift_range=0.1,  # randomly shift images vertically (10% of total height)\n",
    "    horizontal_flip=True) # randomly flip images horizontally\n",
    "\n",
    "# fit augmented image generator on data\n",
    "datagen_train_transf.fit(train_tensors_transf)\n",
    "datagen_valid_transf.fit(valid_tensors_transf)"
   ]
  },
  {
   "cell_type": "code",
   "execution_count": 32,
   "metadata": {},
   "outputs": [
    {
     "data": {
      "text/plain": [
       "'\\nfor layer in model.layers:\\n    layer.trainable = False\\n'"
      ]
     },
     "execution_count": 32,
     "metadata": {},
     "output_type": "execute_result"
    }
   ],
   "source": [
    "\"\"\"\n",
    "for layer in model.layers:\n",
    "    layer.trainable = False\n",
    "\"\"\"\n",
    "\n",
    "#allow training in initial layers for now, to see what the result is"
   ]
  },
  {
   "cell_type": "code",
   "execution_count": 33,
   "metadata": {},
   "outputs": [
    {
     "name": "stdout",
     "output_type": "stream",
     "text": [
      "_________________________________________________________________\n",
      "Layer (type)                 Output Shape              Param #   \n",
      "=================================================================\n",
      "input_1 (InputLayer)         (None, 48, 48, 3)         0         \n",
      "_________________________________________________________________\n",
      "block1_conv1 (Conv2D)        (None, 48, 48, 64)        1792      \n",
      "_________________________________________________________________\n",
      "block1_conv2 (Conv2D)        (None, 48, 48, 64)        36928     \n",
      "_________________________________________________________________\n",
      "block1_pool (MaxPooling2D)   (None, 24, 24, 64)        0         \n",
      "_________________________________________________________________\n",
      "block2_conv1 (Conv2D)        (None, 24, 24, 128)       73856     \n",
      "_________________________________________________________________\n",
      "block2_conv2 (Conv2D)        (None, 24, 24, 128)       147584    \n",
      "_________________________________________________________________\n",
      "block2_pool (MaxPooling2D)   (None, 12, 12, 128)       0         \n",
      "_________________________________________________________________\n",
      "block3_conv1 (Conv2D)        (None, 12, 12, 256)       295168    \n",
      "_________________________________________________________________\n",
      "block3_conv2 (Conv2D)        (None, 12, 12, 256)       590080    \n",
      "_________________________________________________________________\n",
      "block3_conv3 (Conv2D)        (None, 12, 12, 256)       590080    \n",
      "_________________________________________________________________\n",
      "block3_conv4 (Conv2D)        (None, 12, 12, 256)       590080    \n",
      "_________________________________________________________________\n",
      "block3_pool (MaxPooling2D)   (None, 6, 6, 256)         0         \n",
      "_________________________________________________________________\n",
      "block4_conv1 (Conv2D)        (None, 6, 6, 512)         1180160   \n",
      "_________________________________________________________________\n",
      "block4_conv2 (Conv2D)        (None, 6, 6, 512)         2359808   \n",
      "_________________________________________________________________\n",
      "block4_conv3 (Conv2D)        (None, 6, 6, 512)         2359808   \n",
      "_________________________________________________________________\n",
      "block4_conv4 (Conv2D)        (None, 6, 6, 512)         2359808   \n",
      "_________________________________________________________________\n",
      "block4_pool (MaxPooling2D)   (None, 3, 3, 512)         0         \n",
      "_________________________________________________________________\n",
      "block5_conv1 (Conv2D)        (None, 3, 3, 512)         2359808   \n",
      "_________________________________________________________________\n",
      "block5_conv2 (Conv2D)        (None, 3, 3, 512)         2359808   \n",
      "_________________________________________________________________\n",
      "block5_conv3 (Conv2D)        (None, 3, 3, 512)         2359808   \n",
      "_________________________________________________________________\n",
      "block5_conv4 (Conv2D)        (None, 3, 3, 512)         2359808   \n",
      "_________________________________________________________________\n",
      "block5_pool (MaxPooling2D)   (None, 1, 1, 512)         0         \n",
      "_________________________________________________________________\n",
      "flatten_2 (Flatten)          (None, 512)               0         \n",
      "_________________________________________________________________\n",
      "dense_4 (Dense)              (None, 1024)              525312    \n",
      "_________________________________________________________________\n",
      "dropout_4 (Dropout)          (None, 1024)              0         \n",
      "_________________________________________________________________\n",
      "dense_5 (Dense)              (None, 1024)              1049600   \n",
      "_________________________________________________________________\n",
      "dropout_5 (Dropout)          (None, 1024)              0         \n",
      "_________________________________________________________________\n",
      "dense_6 (Dense)              (None, 1024)              1049600   \n",
      "_________________________________________________________________\n",
      "dropout_6 (Dropout)          (None, 1024)              0         \n",
      "_________________________________________________________________\n",
      "dense_7 (Dense)              (None, 1024)              1049600   \n",
      "_________________________________________________________________\n",
      "dropout_7 (Dropout)          (None, 1024)              0         \n",
      "_________________________________________________________________\n",
      "dense_8 (Dense)              (None, 7)                 7175      \n",
      "=================================================================\n",
      "Total params: 23,705,671\n",
      "Trainable params: 23,705,671\n",
      "Non-trainable params: 0\n",
      "_________________________________________________________________\n"
     ]
    },
    {
     "name": "stderr",
     "output_type": "stream",
     "text": [
      "/usr/local/lib/python2.7/dist-packages/ipykernel_launcher.py:18: UserWarning: Update your `Model` call to the Keras 2 API: `Model(outputs=Tensor(\"de..., inputs=Tensor(\"in...)`\n"
     ]
    }
   ],
   "source": [
    "# duplicate of prakash jay code\n",
    "x = model.output\n",
    "x = Flatten()(x)\n",
    "x = Dense(1024, activation=\"relu\")(x)\n",
    "x = Dropout(0.5)(x)\n",
    "x = Dense(1024, activation=\"relu\")(x)\n",
    "x = Dropout(0.5)(x)\n",
    "#two additional dense layers below with same dropout\n",
    "#unsure whether it will help, go back to two if \n",
    "#needed\n",
    "x = Dense(1024, activation=\"relu\")(x)\n",
    "x = Dropout(0.5)(x)\n",
    "x = Dense(1024, activation=\"relu\")(x)\n",
    "x = Dropout(0.5)(x)\n",
    "predictions = Dense(7, activation=\"softmax\")(x)\n",
    "\n",
    "# creating the final model \n",
    "model_final = Model(input = model.input, output = predictions)\n",
    "\n",
    "# compile the model \n",
    "model_final.compile(loss = \"categorical_crossentropy\", optimizer = optimizers.SGD(lr=0.0001, momentum=0.9), metrics=[\"accuracy\"])\n",
    "\n",
    "model_final.summary()"
   ]
  },
  {
   "cell_type": "code",
   "execution_count": 34,
   "metadata": {},
   "outputs": [
    {
     "name": "stdout",
     "output_type": "stream",
     "text": [
      "Epoch 1/50\n",
      "1569/1570 [============================>.] - ETA: 0s - loss: 1.8449 - acc: 0.2257Epoch 00000: val_loss improved from inf to 1.77302, saving model to saved_models/weights.best.transfer_example_six.hdf5\n",
      "1570/1570 [==============================] - 179s - loss: 1.8448 - acc: 0.2257 - val_loss: 1.7730 - val_acc: 0.2416\n",
      "Epoch 2/50\n",
      "1569/1570 [============================>.] - ETA: 0s - loss: 1.7246 - acc: 0.2772Epoch 00001: val_loss improved from 1.77302 to 1.68979, saving model to saved_models/weights.best.transfer_example_six.hdf5\n",
      "1570/1570 [==============================] - 189s - loss: 1.7245 - acc: 0.2773 - val_loss: 1.6898 - val_acc: 0.3465\n",
      "Epoch 3/50\n",
      "1569/1570 [============================>.] - ETA: 0s - loss: 1.6453 - acc: 0.3367Epoch 00002: val_loss improved from 1.68979 to 1.60097, saving model to saved_models/weights.best.transfer_example_six.hdf5\n",
      "1570/1570 [==============================] - 190s - loss: 1.6451 - acc: 0.3367 - val_loss: 1.6010 - val_acc: 0.3857\n",
      "Epoch 4/50\n",
      "1569/1570 [============================>.] - ETA: 0s - loss: 1.5913 - acc: 0.3785Epoch 00003: val_loss improved from 1.60097 to 1.53654, saving model to saved_models/weights.best.transfer_example_six.hdf5\n",
      "1570/1570 [==============================] - 189s - loss: 1.5912 - acc: 0.3787 - val_loss: 1.5365 - val_acc: 0.4075\n",
      "Epoch 5/50\n",
      "1569/1570 [============================>.] - ETA: 0s - loss: 1.5477 - acc: 0.4068Epoch 00004: val_loss improved from 1.53654 to 1.49857, saving model to saved_models/weights.best.transfer_example_six.hdf5\n",
      "1570/1570 [==============================] - 189s - loss: 1.5475 - acc: 0.4068 - val_loss: 1.4986 - val_acc: 0.4240\n",
      "Epoch 6/50\n",
      "1569/1570 [============================>.] - ETA: 0s - loss: 1.5079 - acc: 0.4218Epoch 00005: val_loss did not improve\n",
      "1570/1570 [==============================] - 179s - loss: 1.5079 - acc: 0.4219 - val_loss: 1.5357 - val_acc: 0.3943\n",
      "Epoch 7/50\n",
      "1569/1570 [============================>.] - ETA: 0s - loss: 1.4716 - acc: 0.4350Epoch 00006: val_loss improved from 1.49857 to 1.47885, saving model to saved_models/weights.best.transfer_example_six.hdf5\n",
      "1570/1570 [==============================] - 190s - loss: 1.4716 - acc: 0.4350 - val_loss: 1.4788 - val_acc: 0.4229\n",
      "Epoch 8/50\n",
      "1569/1570 [============================>.] - ETA: 0s - loss: 1.4481 - acc: 0.4362Epoch 00007: val_loss improved from 1.47885 to 1.44556, saving model to saved_models/weights.best.transfer_example_six.hdf5\n",
      "1570/1570 [==============================] - 190s - loss: 1.4481 - acc: 0.4362 - val_loss: 1.4456 - val_acc: 0.4405\n",
      "Epoch 9/50\n",
      "1569/1570 [============================>.] - ETA: 0s - loss: 1.4142 - acc: 0.4470Epoch 00008: val_loss improved from 1.44556 to 1.43154, saving model to saved_models/weights.best.transfer_example_six.hdf5\n",
      "1570/1570 [==============================] - 190s - loss: 1.4142 - acc: 0.4471 - val_loss: 1.4315 - val_acc: 0.4517\n",
      "Epoch 10/50\n",
      "1569/1570 [============================>.] - ETA: 0s - loss: 1.3954 - acc: 0.4556Epoch 00009: val_loss improved from 1.43154 to 1.36478, saving model to saved_models/weights.best.transfer_example_six.hdf5\n",
      "1570/1570 [==============================] - 190s - loss: 1.3957 - acc: 0.4555 - val_loss: 1.3648 - val_acc: 0.4761\n",
      "Epoch 11/50\n",
      "1569/1570 [============================>.] - ETA: 0s - loss: 1.3701 - acc: 0.4685Epoch 00010: val_loss did not improve\n",
      "1570/1570 [==============================] - 179s - loss: 1.3700 - acc: 0.4686 - val_loss: 1.3724 - val_acc: 0.4680\n",
      "Epoch 12/50\n",
      "1569/1570 [============================>.] - ETA: 0s - loss: 1.3437 - acc: 0.4849Epoch 00011: val_loss improved from 1.36478 to 1.35175, saving model to saved_models/weights.best.transfer_example_six.hdf5\n",
      "1570/1570 [==============================] - 190s - loss: 1.3439 - acc: 0.4848 - val_loss: 1.3518 - val_acc: 0.4867\n",
      "Epoch 13/50\n",
      "1569/1570 [============================>.] - ETA: 0s - loss: 1.3212 - acc: 0.4986Epoch 00012: val_loss improved from 1.35175 to 1.30350, saving model to saved_models/weights.best.transfer_example_six.hdf5\n",
      "1570/1570 [==============================] - 190s - loss: 1.3211 - acc: 0.4986 - val_loss: 1.3035 - val_acc: 0.4999\n",
      "Epoch 14/50\n",
      "1569/1570 [============================>.] - ETA: 0s - loss: 1.2907 - acc: 0.5146Epoch 00013: val_loss improved from 1.30350 to 1.29600, saving model to saved_models/weights.best.transfer_example_six.hdf5\n",
      "1570/1570 [==============================] - 190s - loss: 1.2907 - acc: 0.5146 - val_loss: 1.2960 - val_acc: 0.5161\n",
      "Epoch 15/50\n",
      "1569/1570 [============================>.] - ETA: 0s - loss: 1.2768 - acc: 0.5209Epoch 00014: val_loss improved from 1.29600 to 1.26013, saving model to saved_models/weights.best.transfer_example_six.hdf5\n",
      "1570/1570 [==============================] - 188s - loss: 1.2768 - acc: 0.5208 - val_loss: 1.2601 - val_acc: 0.5217\n",
      "Epoch 16/50\n",
      "1569/1570 [============================>.] - ETA: 0s - loss: 1.2471 - acc: 0.5310Epoch 00015: val_loss improved from 1.26013 to 1.25513, saving model to saved_models/weights.best.transfer_example_six.hdf5\n",
      "1570/1570 [==============================] - 187s - loss: 1.2472 - acc: 0.5310 - val_loss: 1.2551 - val_acc: 0.5264\n",
      "Epoch 17/50\n",
      "1569/1570 [============================>.] - ETA: 0s - loss: 1.2310 - acc: 0.5380Epoch 00016: val_loss improved from 1.25513 to 1.24538, saving model to saved_models/weights.best.transfer_example_six.hdf5\n",
      "1570/1570 [==============================] - 189s - loss: 1.2310 - acc: 0.5380 - val_loss: 1.2454 - val_acc: 0.5306\n",
      "Epoch 18/50\n",
      "1569/1570 [============================>.] - ETA: 0s - loss: 1.2091 - acc: 0.5437Epoch 00017: val_loss improved from 1.24538 to 1.22051, saving model to saved_models/weights.best.transfer_example_six.hdf5\n",
      "1570/1570 [==============================] - 188s - loss: 1.2090 - acc: 0.5437 - val_loss: 1.2205 - val_acc: 0.5368\n",
      "Epoch 19/50\n",
      "1569/1570 [============================>.] - ETA: 0s - loss: 1.1929 - acc: 0.5555Epoch 00018: val_loss improved from 1.22051 to 1.21367, saving model to saved_models/weights.best.transfer_example_six.hdf5\n",
      "1570/1570 [==============================] - 188s - loss: 1.1930 - acc: 0.5555 - val_loss: 1.2137 - val_acc: 0.5390\n",
      "Epoch 20/50\n",
      "1569/1570 [============================>.] - ETA: 0s - loss: 1.1765 - acc: 0.5563Epoch 00019: val_loss improved from 1.21367 to 1.19359, saving model to saved_models/weights.best.transfer_example_six.hdf5\n",
      "1570/1570 [==============================] - 189s - loss: 1.1766 - acc: 0.5563 - val_loss: 1.1936 - val_acc: 0.5460\n",
      "Epoch 21/50\n",
      "1569/1570 [============================>.] - ETA: 0s - loss: 1.1610 - acc: 0.5659Epoch 00020: val_loss did not improve\n",
      "1570/1570 [==============================] - 179s - loss: 1.1610 - acc: 0.5659 - val_loss: 1.2284 - val_acc: 0.5421\n",
      "Epoch 22/50\n",
      "1569/1570 [============================>.] - ETA: 0s - loss: 1.1414 - acc: 0.5725Epoch 00021: val_loss did not improve\n",
      "1570/1570 [==============================] - 179s - loss: 1.1414 - acc: 0.5725 - val_loss: 1.2440 - val_acc: 0.5365\n",
      "Epoch 23/50\n",
      "1569/1570 [============================>.] - ETA: 0s - loss: 1.1278 - acc: 0.5831Epoch 00022: val_loss improved from 1.19359 to 1.18609, saving model to saved_models/weights.best.transfer_example_six.hdf5\n",
      "1570/1570 [==============================] - 188s - loss: 1.1277 - acc: 0.5832 - val_loss: 1.1861 - val_acc: 0.5567\n",
      "Epoch 24/50\n",
      "1569/1570 [============================>.] - ETA: 0s - loss: 1.1120 - acc: 0.5891Epoch 00023: val_loss improved from 1.18609 to 1.16614, saving model to saved_models/weights.best.transfer_example_six.hdf5\n",
      "1570/1570 [==============================] - 189s - loss: 1.1118 - acc: 0.5892 - val_loss: 1.1661 - val_acc: 0.5701\n",
      "Epoch 25/50\n",
      "1569/1570 [============================>.] - ETA: 0s - loss: 1.0946 - acc: 0.5998Epoch 00024: val_loss did not improve\n",
      "1570/1570 [==============================] - 179s - loss: 1.0947 - acc: 0.5998 - val_loss: 1.1767 - val_acc: 0.5709\n",
      "Epoch 26/50\n",
      "1569/1570 [============================>.] - ETA: 0s - loss: 1.0798 - acc: 0.6077Epoch 00025: val_loss did not improve\n",
      "1570/1570 [==============================] - 179s - loss: 1.0798 - acc: 0.6078 - val_loss: 1.1673 - val_acc: 0.5751\n",
      "Epoch 27/50\n",
      "1569/1570 [============================>.] - ETA: 0s - loss: 1.0627 - acc: 0.6125Epoch 00026: val_loss improved from 1.16614 to 1.12349, saving model to saved_models/weights.best.transfer_example_six.hdf5\n",
      "1570/1570 [==============================] - 184s - loss: 1.0626 - acc: 0.6125 - val_loss: 1.1235 - val_acc: 0.5844\n",
      "Epoch 28/50\n",
      "1569/1570 [============================>.] - ETA: 0s - loss: 1.0438 - acc: 0.6196Epoch 00027: val_loss did not improve\n",
      "1570/1570 [==============================] - 179s - loss: 1.0438 - acc: 0.6197 - val_loss: 1.1432 - val_acc: 0.5897\n",
      "Epoch 29/50\n",
      "1569/1570 [============================>.] - ETA: 0s - loss: 1.0262 - acc: 0.6266Epoch 00028: val_loss did not improve\n",
      "1570/1570 [==============================] - 179s - loss: 1.0263 - acc: 0.6266 - val_loss: 1.1628 - val_acc: 0.5732\n",
      "Epoch 30/50\n",
      "1569/1570 [============================>.] - ETA: 0s - loss: 1.0089 - acc: 0.6362Epoch 00029: val_loss did not improve\n",
      "1570/1570 [==============================] - 179s - loss: 1.0088 - acc: 0.6362 - val_loss: 1.1347 - val_acc: 0.5844\n",
      "Epoch 31/50\n",
      "1569/1570 [============================>.] - ETA: 0s - loss: 0.9951 - acc: 0.6409Epoch 00030: val_loss did not improve\n",
      "1570/1570 [==============================] - 179s - loss: 0.9948 - acc: 0.6410 - val_loss: 1.1415 - val_acc: 0.5877\n",
      "Epoch 32/50\n",
      "1569/1570 [============================>.] - ETA: 0s - loss: 0.9843 - acc: 0.6463Epoch 00031: val_loss did not improve\n",
      "1570/1570 [==============================] - 179s - loss: 0.9843 - acc: 0.6463 - val_loss: 1.1401 - val_acc: 0.5847\n",
      "Epoch 33/50\n",
      "1569/1570 [============================>.] - ETA: 0s - loss: 0.9634 - acc: 0.6543Epoch 00032: val_loss did not improve\n",
      "1570/1570 [==============================] - 179s - loss: 0.9635 - acc: 0.6542 - val_loss: 1.1280 - val_acc: 0.6009\n",
      "Epoch 34/50\n",
      "1569/1570 [============================>.] - ETA: 0s - loss: 0.9508 - acc: 0.6616Epoch 00033: val_loss did not improve\n",
      "1570/1570 [==============================] - 179s - loss: 0.9505 - acc: 0.6617 - val_loss: 1.1350 - val_acc: 0.6015\n",
      "Epoch 35/50\n",
      "1569/1570 [============================>.] - ETA: 0s - loss: 0.9381 - acc: 0.6652Epoch 00034: val_loss did not improve\n",
      "1570/1570 [==============================] - 179s - loss: 0.9382 - acc: 0.6650 - val_loss: 1.1322 - val_acc: 0.6040\n",
      "Epoch 36/50\n",
      "1569/1570 [============================>.] - ETA: 0s - loss: 0.9223 - acc: 0.6708Epoch 00035: val_loss did not improve\n",
      "1570/1570 [==============================] - 179s - loss: 0.9224 - acc: 0.6708 - val_loss: 1.1559 - val_acc: 0.6023\n",
      "Epoch 37/50\n",
      "1569/1570 [============================>.] - ETA: 0s - loss: 0.9089 - acc: 0.6793Epoch 00036: val_loss did not improve\n",
      "1570/1570 [==============================] - 179s - loss: 0.9087 - acc: 0.6794 - val_loss: 1.1632 - val_acc: 0.5897\n",
      "Epoch 38/50\n",
      "1569/1570 [============================>.] - ETA: 0s - loss: 0.8893 - acc: 0.6848Epoch 00037: val_loss did not improve\n",
      "1570/1570 [==============================] - 179s - loss: 0.8894 - acc: 0.6847 - val_loss: 1.1786 - val_acc: 0.5922\n",
      "Epoch 39/50\n",
      "1569/1570 [============================>.] - ETA: 0s - loss: 0.8777 - acc: 0.6893Epoch 00038: val_loss improved from 1.12349 to 1.10226, saving model to saved_models/weights.best.transfer_example_six.hdf5\n",
      "1570/1570 [==============================] - 183s - loss: 0.8776 - acc: 0.6893 - val_loss: 1.1023 - val_acc: 0.6110\n",
      "Epoch 40/50\n",
      "1569/1570 [============================>.] - ETA: 0s - loss: 0.8645 - acc: 0.6951Epoch 00039: val_loss did not improve\n",
      "1570/1570 [==============================] - 179s - loss: 0.8644 - acc: 0.6952 - val_loss: 1.1505 - val_acc: 0.5858\n",
      "Epoch 41/50\n",
      "1569/1570 [============================>.] - ETA: 0s - loss: 0.8486 - acc: 0.7007Epoch 00040: val_loss did not improve\n",
      "1570/1570 [==============================] - 179s - loss: 0.8485 - acc: 0.7007 - val_loss: 1.1804 - val_acc: 0.6051\n",
      "Epoch 42/50\n",
      "1569/1570 [============================>.] - ETA: 0s - loss: 0.8326 - acc: 0.7048Epoch 00041: val_loss did not improve\n",
      "1570/1570 [==============================] - 179s - loss: 0.8326 - acc: 0.7048 - val_loss: 1.1447 - val_acc: 0.6034\n",
      "Epoch 43/50\n",
      "1569/1570 [============================>.] - ETA: 0s - loss: 0.8180 - acc: 0.7130Epoch 00042: val_loss did not improve\n",
      "1570/1570 [==============================] - 179s - loss: 0.8180 - acc: 0.7130 - val_loss: 1.1692 - val_acc: 0.5931\n",
      "Epoch 44/50\n",
      "1569/1570 [============================>.] - ETA: 0s - loss: 0.8071 - acc: 0.7183Epoch 00043: val_loss did not improve\n",
      "1570/1570 [==============================] - 179s - loss: 0.8070 - acc: 0.7184 - val_loss: 1.1666 - val_acc: 0.6110\n",
      "Epoch 45/50\n",
      "1569/1570 [============================>.] - ETA: 0s - loss: 0.7931 - acc: 0.7243Epoch 00044: val_loss did not improve\n",
      "1570/1570 [==============================] - 179s - loss: 0.7932 - acc: 0.7244 - val_loss: 1.1419 - val_acc: 0.6118\n",
      "Epoch 46/50\n",
      "1569/1570 [============================>.] - ETA: 0s - loss: 0.7689 - acc: 0.7339Epoch 00045: val_loss did not improve\n",
      "1570/1570 [==============================] - 179s - loss: 0.7689 - acc: 0.7340 - val_loss: 1.2112 - val_acc: 0.5922\n",
      "Epoch 47/50\n",
      "1569/1570 [============================>.] - ETA: 0s - loss: 0.7570 - acc: 0.7386Epoch 00046: val_loss did not improve\n",
      "1570/1570 [==============================] - 179s - loss: 0.7570 - acc: 0.7385 - val_loss: 1.1701 - val_acc: 0.6140\n",
      "Epoch 48/50\n",
      "1569/1570 [============================>.] - ETA: 0s - loss: 0.7504 - acc: 0.7383Epoch 00047: val_loss did not improve\n",
      "1570/1570 [==============================] - 180s - loss: 0.7504 - acc: 0.7383 - val_loss: 1.2620 - val_acc: 0.5891\n",
      "Epoch 49/50\n",
      "1569/1570 [============================>.] - ETA: 0s - loss: 0.7326 - acc: 0.7495Epoch 00048: val_loss did not improve\n",
      "1570/1570 [==============================] - 179s - loss: 0.7325 - acc: 0.7495 - val_loss: 1.1719 - val_acc: 0.6124\n",
      "Epoch 50/50\n",
      "1569/1570 [============================>.] - ETA: 0s - loss: 0.7120 - acc: 0.7549Epoch 00049: val_loss did not improve\n",
      "1570/1570 [==============================] - 180s - loss: 0.7119 - acc: 0.7550 - val_loss: 1.2143 - val_acc: 0.6118\n"
     ]
    }
   ],
   "source": [
    "checkpointer = ModelCheckpoint(filepath='saved_models/weights.best.transfer_example_six.hdf5', \n",
    "                               verbose=1, save_best_only=True)\n",
    "\n",
    "history = model_final.fit_generator(datagen_train_transf.flow(train_tensors_transf, train_targets_transf, batch_size=batch_size),\n",
    "                    steps_per_epoch=train_tensors_transf.shape[0] // batch_size,\n",
    "                    epochs=epochs, verbose=1, callbacks=[checkpointer],\n",
    "                    validation_data=datagen_valid_transf.flow(valid_tensors_transf, valid_targets_transf, batch_size=batch_size),\n",
    "                    validation_steps=valid_tensors_transf.shape[0] // batch_size)"
   ]
  },
  {
   "cell_type": "code",
   "execution_count": 35,
   "metadata": {},
   "outputs": [],
   "source": [
    "model_final.load_weights('saved_models/weights.best.transfer_example_six.hdf5')"
   ]
  },
  {
   "cell_type": "code",
   "execution_count": 41,
   "metadata": {},
   "outputs": [
    {
     "name": "stdout",
     "output_type": "stream",
     "text": [
      "['acc', 'loss', 'val_acc', 'val_loss']\n"
     ]
    },
    {
     "data": {
      "image/png": "[encoded data removed]",
      "text/plain": [
       "<matplotlib.figure.Figure at 0x7f847f7d1890>"
      ]
     },
     "metadata": {},
     "output_type": "display_data"
    }
   ],
   "source": [
    "# list all data in history\n",
    "print(history.history.keys())\n",
    "# summarize history for accuracy\n",
    "plt.plot(history.history['loss'])\n",
    "plt.plot(history.history['val_loss'])\n",
    "\n",
    "plt.legend(['train', 'validation'], loc='upper left')\n",
    "plt.title('Training and Validation data for VGG-19 transfer learning model')\n",
    "plt.xlabel('Training Epoch')\n",
    "plt.ylabel('Cross Entropy Loss')\n",
    "plt.show()\n",
    "\n",
    "#change to loss and val_loss to get categorical cross entropy plots!"
   ]
  },
  {
   "cell_type": "code",
   "execution_count": null,
   "metadata": {},
   "outputs": [],
   "source": []
  },
  {
   "cell_type": "code",
   "execution_count": 38,
   "metadata": {},
   "outputs": [
    {
     "name": "stdout",
     "output_type": "stream",
     "text": [
      "Test accuracy: 63.0000%\n"
     ]
    }
   ],
   "source": [
    "# get index of predicted facial expression for test set images\n",
    "expression_predictions_transf = [np.argmax(model_final.predict(np.expand_dims(tensor, axis=0))) for tensor in test_tensors_transf]\n",
    "\n",
    "# report test accuracy\n",
    "test_accuracy = 100*np.sum(np.array(expression_predictions_transf)==np.argmax(test_targets_transf, axis=1))/len(expression_predictions_transf)\n",
    "print('Test accuracy: %.4f%%' % test_accuracy)"
   ]
  },
  {
   "cell_type": "markdown",
   "metadata": {},
   "source": [
    "BELOW: INCEPTION RESNET V2"
   ]
  },
  {
   "cell_type": "code",
   "execution_count": 16,
   "metadata": {},
   "outputs": [
    {
     "ename": "ValueError",
     "evalue": "Input size must be at least 71x71; got `input_shape=(48, 48, 3)`",
     "output_type": "error",
     "traceback": [
      "\u001b[0;31m---------------------------------------------------------------------------\u001b[0m",
      "\u001b[0;31mValueError\u001b[0m                                Traceback (most recent call last)",
      "\u001b[0;32m<ipython-input-16-9af07d58f51e>\u001b[0m in \u001b[0;36m<module>\u001b[0;34m()\u001b[0m\n\u001b[1;32m     11\u001b[0m \u001b[0;31m#this time, using inception resnetv2\u001b[0m\u001b[0;34m\u001b[0m\u001b[0;34m\u001b[0m\u001b[0m\n\u001b[1;32m     12\u001b[0m \u001b[0;34m\u001b[0m\u001b[0m\n\u001b[0;32m---> 13\u001b[0;31m \u001b[0mmodel_xception\u001b[0m \u001b[0;34m=\u001b[0m \u001b[0mapplications\u001b[0m\u001b[0;34m.\u001b[0m\u001b[0mxception\u001b[0m\u001b[0;34m.\u001b[0m\u001b[0mXception\u001b[0m\u001b[0;34m(\u001b[0m\u001b[0minclude_top\u001b[0m\u001b[0;34m=\u001b[0m\u001b[0;32mTrue\u001b[0m\u001b[0;34m,\u001b[0m \u001b[0mweights\u001b[0m\u001b[0;34m=\u001b[0m\u001b[0;34m'imagenet'\u001b[0m\u001b[0;34m,\u001b[0m \u001b[0minput_tensor\u001b[0m\u001b[0;34m=\u001b[0m\u001b[0;32mNone\u001b[0m\u001b[0;34m,\u001b[0m \u001b[0minput_shape\u001b[0m\u001b[0;34m=\u001b[0m\u001b[0;34m(\u001b[0m\u001b[0;36m48\u001b[0m\u001b[0;34m,\u001b[0m\u001b[0;36m48\u001b[0m\u001b[0;34m,\u001b[0m\u001b[0;36m3\u001b[0m\u001b[0;34m)\u001b[0m\u001b[0;34m,\u001b[0m \u001b[0mpooling\u001b[0m\u001b[0;34m=\u001b[0m\u001b[0;32mNone\u001b[0m\u001b[0;34m)\u001b[0m\u001b[0;34m\u001b[0m\u001b[0m\n\u001b[0m\u001b[1;32m     14\u001b[0m \u001b[0;34m\u001b[0m\u001b[0m\n\u001b[1;32m     15\u001b[0m \u001b[0;34m\u001b[0m\u001b[0m\n",
      "\u001b[0;32m/usr/local/lib/python3.5/dist-packages/Keras-2.0.8-py3.5.egg/keras/applications/xception.py\u001b[0m in \u001b[0;36mXception\u001b[0;34m(include_top, weights, input_tensor, input_shape, pooling, classes)\u001b[0m\n\u001b[1;32m    130\u001b[0m                                       \u001b[0mdata_format\u001b[0m\u001b[0;34m=\u001b[0m\u001b[0mK\u001b[0m\u001b[0;34m.\u001b[0m\u001b[0mimage_data_format\u001b[0m\u001b[0;34m(\u001b[0m\u001b[0;34m)\u001b[0m\u001b[0;34m,\u001b[0m\u001b[0;34m\u001b[0m\u001b[0m\n\u001b[1;32m    131\u001b[0m                                       \u001b[0mrequire_flatten\u001b[0m\u001b[0;34m=\u001b[0m\u001b[0;32mFalse\u001b[0m\u001b[0;34m,\u001b[0m\u001b[0;34m\u001b[0m\u001b[0m\n\u001b[0;32m--> 132\u001b[0;31m                                       weights=weights)\n\u001b[0m\u001b[1;32m    133\u001b[0m \u001b[0;34m\u001b[0m\u001b[0m\n\u001b[1;32m    134\u001b[0m     \u001b[0;32mif\u001b[0m \u001b[0minput_tensor\u001b[0m \u001b[0;32mis\u001b[0m \u001b[0;32mNone\u001b[0m\u001b[0;34m:\u001b[0m\u001b[0;34m\u001b[0m\u001b[0m\n",
      "\u001b[0;32m/usr/local/lib/python3.5/dist-packages/Keras-2.0.8-py3.5.egg/keras/applications/imagenet_utils.py\u001b[0m in \u001b[0;36m_obtain_input_shape\u001b[0;34m(input_shape, default_size, min_size, data_format, require_flatten, weights)\u001b[0m\n\u001b[1;32m    162\u001b[0m                     raise ValueError('Input size must be at least ' +\n\u001b[1;32m    163\u001b[0m                                      \u001b[0mstr\u001b[0m\u001b[0;34m(\u001b[0m\u001b[0mmin_size\u001b[0m\u001b[0;34m)\u001b[0m \u001b[0;34m+\u001b[0m \u001b[0;34m'x'\u001b[0m \u001b[0;34m+\u001b[0m \u001b[0mstr\u001b[0m\u001b[0;34m(\u001b[0m\u001b[0mmin_size\u001b[0m\u001b[0;34m)\u001b[0m \u001b[0;34m+\u001b[0m \u001b[0;34m'; got '\u001b[0m\u001b[0;34m\u001b[0m\u001b[0m\n\u001b[0;32m--> 164\u001b[0;31m                                      '`input_shape=' + str(input_shape) + '`')\n\u001b[0m\u001b[1;32m    165\u001b[0m     \u001b[0;32melse\u001b[0m\u001b[0;34m:\u001b[0m\u001b[0;34m\u001b[0m\u001b[0m\n\u001b[1;32m    166\u001b[0m         \u001b[0;32mif\u001b[0m \u001b[0mrequire_flatten\u001b[0m\u001b[0;34m:\u001b[0m\u001b[0;34m\u001b[0m\u001b[0m\n",
      "\u001b[0;31mValueError\u001b[0m: Input size must be at least 71x71; got `input_shape=(48, 48, 3)`"
     ]
    }
   ],
   "source": [
    "img_width, img_height = 48, 48\n",
    "\"\"\"\n",
    "train_data_dir = \"data/train\"\n",
    "validation_data_dir = \"data/val\"\n",
    "nb_train_samples = 4125\n",
    "nb_validation_samples = 466 \n",
    "\"\"\"\n",
    "batch_size = 16\n",
    "epochs = 50\n",
    "\n",
    "#this time, using inception resnetv2\n",
    "\n",
    "model_xception = applications.xception.Xception(include_top=True, weights='imagenet', input_tensor=None, input_shape=(48,48,3), pooling=None)\n",
    "\n",
    "\n",
    "model_irv2.summary()"
   ]
  },
  {
   "cell_type": "code",
   "execution_count": 7,
   "metadata": {},
   "outputs": [
    {
     "name": "stdout",
     "output_type": "stream",
     "text": [
      "_________________________________________________________________\n",
      "Layer (type)                 Output Shape              Param #   \n",
      "=================================================================\n",
      "input_1 (InputLayer)         (None, 48, 48, 3)         0         \n",
      "_________________________________________________________________\n",
      "block1_conv1 (Conv2D)        (None, 48, 48, 64)        1792      \n",
      "_________________________________________________________________\n",
      "block1_conv2 (Conv2D)        (None, 48, 48, 64)        36928     \n",
      "_________________________________________________________________\n",
      "block1_pool (MaxPooling2D)   (None, 24, 24, 64)        0         \n",
      "_________________________________________________________________\n",
      "block2_conv1 (Conv2D)        (None, 24, 24, 128)       73856     \n",
      "_________________________________________________________________\n",
      "block2_conv2 (Conv2D)        (None, 24, 24, 128)       147584    \n",
      "_________________________________________________________________\n",
      "block2_pool (MaxPooling2D)   (None, 12, 12, 128)       0         \n",
      "_________________________________________________________________\n",
      "block3_conv1 (Conv2D)        (None, 12, 12, 256)       295168    \n",
      "_________________________________________________________________\n",
      "block3_conv2 (Conv2D)        (None, 12, 12, 256)       590080    \n",
      "_________________________________________________________________\n",
      "block3_conv3 (Conv2D)        (None, 12, 12, 256)       590080    \n",
      "_________________________________________________________________\n",
      "block3_conv4 (Conv2D)        (None, 12, 12, 256)       590080    \n",
      "_________________________________________________________________\n",
      "block3_pool (MaxPooling2D)   (None, 6, 6, 256)         0         \n",
      "_________________________________________________________________\n",
      "block4_conv1 (Conv2D)        (None, 6, 6, 512)         1180160   \n",
      "_________________________________________________________________\n",
      "block4_conv2 (Conv2D)        (None, 6, 6, 512)         2359808   \n",
      "_________________________________________________________________\n",
      "block4_conv3 (Conv2D)        (None, 6, 6, 512)         2359808   \n",
      "_________________________________________________________________\n",
      "block4_conv4 (Conv2D)        (None, 6, 6, 512)         2359808   \n",
      "_________________________________________________________________\n",
      "block4_pool (MaxPooling2D)   (None, 3, 3, 512)         0         \n",
      "_________________________________________________________________\n",
      "block5_conv1 (Conv2D)        (None, 3, 3, 512)         2359808   \n",
      "_________________________________________________________________\n",
      "block5_conv2 (Conv2D)        (None, 3, 3, 512)         2359808   \n",
      "_________________________________________________________________\n",
      "block5_conv3 (Conv2D)        (None, 3, 3, 512)         2359808   \n",
      "_________________________________________________________________\n",
      "block5_conv4 (Conv2D)        (None, 3, 3, 512)         2359808   \n",
      "_________________________________________________________________\n",
      "block5_pool (MaxPooling2D)   (None, 1, 1, 512)         0         \n",
      "_________________________________________________________________\n",
      "flatten_1 (Flatten)          (None, 512)               0         \n",
      "_________________________________________________________________\n",
      "dense_1 (Dense)              (None, 1024)              525312    \n",
      "_________________________________________________________________\n",
      "dropout_1 (Dropout)          (None, 1024)              0         \n",
      "_________________________________________________________________\n",
      "dense_2 (Dense)              (None, 1024)              1049600   \n",
      "_________________________________________________________________\n",
      "dropout_2 (Dropout)          (None, 1024)              0         \n",
      "_________________________________________________________________\n",
      "dense_3 (Dense)              (None, 7)                 7175      \n",
      "=================================================================\n",
      "Total params: 21,606,471\n",
      "Trainable params: 21,606,471\n",
      "Non-trainable params: 0\n",
      "_________________________________________________________________\n"
     ]
    },
    {
     "name": "stderr",
     "output_type": "stream",
     "text": [
      "/usr/local/lib/python3.5/dist-packages/ipykernel_launcher.py:11: UserWarning: Update your `Model` call to the Keras 2 API: `Model(inputs=Tensor(\"in..., outputs=Tensor(\"de...)`\n",
      "  # This is added back by InteractiveShellApp.init_path()\n"
     ]
    }
   ],
   "source": [
    "# duplicate of prakash jay code\n",
    "x = model.output\n",
    "x = Flatten()(x)\n",
    "x = Dense(1024, activation=\"relu\")(x)\n",
    "x = Dropout(0.5)(x)\n",
    "x = Dense(1024, activation=\"relu\")(x)\n",
    "x = Dropout(0.5)(x)\n",
    "predictions = Dense(7, activation=\"softmax\")(x)\n",
    "\n",
    "# creating the final model \n",
    "model_final = Model(input = model.input, output = predictions)\n",
    "\n",
    "# compile the model \n",
    "model_final.compile(loss = \"categorical_crossentropy\", optimizer = optimizers.SGD(lr=0.0001, momentum=0.9), metrics=[\"accuracy\"])\n",
    "\n",
    "model_final.summary()"
   ]
  },
  {
   "cell_type": "code",
   "execution_count": null,
   "metadata": {
    "collapsed": true
   },
   "outputs": [],
   "source": []
  }
 ],
 "metadata": {
  "kernelspec": {
   "display_name": "Python 2",
   "language": "python",
   "name": "python2"
  },
  "language_info": {
   "codemirror_mode": {
    "name": "ipython",
    "version": 2
   },
   "file_extension": ".py",
   "mimetype": "text/x-python",
   "name": "python",
   "nbconvert_exporter": "python",
   "pygments_lexer": "ipython2",
   "version": "2.7.12"
  }
 },
 "nbformat": 4,
 "nbformat_minor": 2
}
