{
 "cells": [
  {
   "cell_type": "markdown",
   "metadata": {},
   "source": [
    "# Machine Learning Engineer Nanodegree\n",
    "\n",
    "## Capstone Project\n",
    "\n",
    "### Using Computer Vision for Facial Expression Classification\n",
    "\n",
    "This project seeks to investigate the use of computer vision techniques to build a classifier that can classify different faces, based on facial expressions.\n",
    "\n",
    "A deep learning approach will be taken to this problem, investigating the use of convolutional neural networks (CNNs). \n",
    "\n",
    "A simple benchmark CNN will first be investigated, followed by a more complex and deep network.\n",
    "\n",
    "In addition, the use of pre-existing architectures for the [ImageNet challenge](http://www.image-net.org/challenges/LSVRC/) will be explored to aid performance in the facial expression classification problem. \n",
    "\n",
    "\n",
    "\n",
    "\n"
   ]
  },
  {
   "cell_type": "code",
   "execution_count": 1,
   "metadata": {
    "scrolled": true
   },
   "outputs": [
    {
     "name": "stderr",
     "output_type": "stream",
     "text": [
      "Using TensorFlow backend.\n"
     ]
    }
   ],
   "source": [
    "import pandas as pd\n",
    "import numpy as np\n",
    "import matplotlib.pyplot as plt\n",
    "\n",
    "from keras.datasets import mnist\n",
    "from keras.models import Sequential, Model\n",
    "from keras.layers import Dense, Dropout, Flatten\n",
    "from keras.layers import Conv2D, MaxPooling2D, GlobalAveragePooling2D\n",
    "from keras.callbacks import ModelCheckpoint  \n",
    "\n",
    "from keras import losses\n",
    "from keras import backend as K\n",
    "from keras import applications\n",
    "from keras import optimizers\n",
    "\n",
    "%matplotlib inline"
   ]
  },
  {
   "cell_type": "markdown",
   "metadata": {},
   "source": [
    "### Reading the Data\n",
    "\n",
    "The dataset can be obtained from [here](https://www.kaggle.com/c/challenges-in-representation-learning-facial-expression-recognition-challenge). For the purpose of this notebook, and determining the best classification model, only the first 15,000 entries will be used. Later, the entire dataset will be used for training, testing and validation on the optimal model, to gain an idea for the true performance of the model.\n",
    "\n",
    "Below, Pandas is used to read the input data into a Data Frame"
   ]
  },
  {
   "cell_type": "code",
   "execution_count": 2,
   "metadata": {},
   "outputs": [],
   "source": [
    "use_section_data = False\n",
    "smaller_section_data = False\n",
    "\n",
    "if use_section_data:\n",
    "    data = pd.read_csv(\"section_fer2013.csv\")    \n",
    "    if smaller_section_data:\n",
    "        data = pd.read_csv(\"smaller_section_fer2013.csv\")\n",
    "else:\n",
    "    data = pd.read_csv(\"fer2013cp.csv\")\n",
    "\n",
    "labels = data['emotion']\n",
    "\n",
    "features = data.drop(['emotion','Usage'], axis=1, inplace=False)\n"
   ]
  },
  {
   "cell_type": "markdown",
   "metadata": {},
   "source": [
    "### Pre-Processing the Data\n",
    "\n",
    "The raw data is in .csv format, with every pixel value listed in a single cell, for each image, separated by spaces.\n",
    "\n",
    "Below, each pixel value is separated, to be an individual value in a Python list, within a Data Frame.\n",
    "\n",
    "In addition, the data will be converted to a tensor format."
   ]
  },
  {
   "cell_type": "code",
   "execution_count": 3,
   "metadata": {},
   "outputs": [],
   "source": [
    "temp_list = []\n",
    "\n",
    "for i in features['pixels']:\n",
    "    temp_list.append(i.split())\n",
    "    \n",
    "features.drop('pixels',axis=1,inplace=True)\n",
    "\n",
    "features['pixels'] = pd.Series(temp_list)"
   ]
  },
  {
   "cell_type": "markdown",
   "metadata": {},
   "source": [
    "Of all of the data that has been imported, 20% will be used for training, 10% for validation, and 70% for training."
   ]
  },
  {
   "cell_type": "code",
   "execution_count": 4,
   "metadata": {},
   "outputs": [],
   "source": [
    "from sklearn.model_selection import train_test_split\n",
    "\n",
    "\n",
    "X_train, X_test, y_train, y_test = train_test_split(features,labels,test_size = 0.2, random_state=0)\n",
    "\n",
    "X_train, X_val, y_train, y_val = train_test_split(X_train, y_train, test_size = 0.125, random_state=0)"
   ]
  },
  {
   "cell_type": "code",
   "execution_count": 5,
   "metadata": {},
   "outputs": [],
   "source": [
    "def df_to_tensor(X_in, im_dim, reshape=True, triple_channels=False, horizontal_flip_double=False):\n",
    "    \n",
    "    # convert from the dataframe which contains Python lists with all pixel values, into a tensor, suitable for\n",
    "    # input into a convolutional neural network\n",
    "    \n",
    "    list_of_2d_arrays = []\n",
    "    \n",
    "    \n",
    "    \n",
    "    for image in X_in['pixels']:\n",
    "        pixel_array = []\n",
    "        \n",
    "        for pixel in image:\n",
    "            if not triple_channels:\n",
    "                pixel_array.append(int(pixel))\n",
    "            else:\n",
    "                pixel_array.append([int(pixel),int(pixel),int(pixel)])\n",
    "        \n",
    "        pixel_array = [pixel_array[x:x+im_dim] for x in range(0,len(pixel_array),im_dim)]\n",
    "        \n",
    "        \n",
    "        \n",
    "        list_of_2d_arrays.append(pixel_array)\n",
    "        \n",
    "    if horizontal_flip_double == True:\n",
    "        \n",
    "        reversed_array = []\n",
    "        \n",
    "        for pixel_row in pixel_array:\n",
    "            reversed_array.append(pixel_row[::-1])\n",
    "            \n",
    "        list_of_2d_arrays.append(reversed_array)\n",
    "            \n",
    "            \n",
    "        \n",
    "        \n",
    "    np_arr =  np.array(list_of_2d_arrays)\n",
    "    \n",
    "    #print(np_arr.shape)\n",
    "    if reshape:\n",
    "        return np_arr.reshape(np_arr.shape[0], 48, 48, 1)\n",
    "    else:\n",
    "        return np_arr"
   ]
  },
  {
   "cell_type": "markdown",
   "metadata": {},
   "source": [
    "### Sample Visualization\n",
    "\n",
    "A few of the images from the dataset will be plotted below."
   ]
  },
  {
   "cell_type": "code",
   "execution_count": 6,
   "metadata": {},
   "outputs": [],
   "source": [
    "# take a few sample images to provide a visualization\n",
    "\n",
    "samples = df_to_tensor(features,48)"
   ]
  },
  {
   "cell_type": "code",
   "execution_count": 7,
   "metadata": {
    "scrolled": true
   },
   "outputs": [
    {
     "data": {
      "image/png": "[encoded data removed]",
      "text/plain": [
       "<matplotlib.figure.Figure at 0x7fdfb7fc3208>"
      ]
     },
     "metadata": {},
     "output_type": "display_data"
    }
   ],
   "source": [
    "seed_number = 21\n",
    "\n",
    "two_d_array = samples[seed_number].reshape(48,48)\n",
    "\n",
    "fig = plt.figure(figsize=(10, 10))\n",
    "\n",
    "num_rows = 3\n",
    "\n",
    "num_columns = 3\n",
    "\n",
    "hardcoded_labels = [\"Fear\", \"Anger\", \"Anger\", \"Happy\", \"Happy\",\n",
    "                   \"Happy\", \"Disgust\", \"Happy\", \"Surprised\"]\n",
    "\n",
    "for i in range(num_rows*num_columns):\n",
    "    ax = fig.add_subplot(num_rows,num_columns,i + 1)\n",
    "    ax.imshow(samples[seed_number + i].reshape(48,48), cmap='gray')\n",
    "    ax.title.set_text(hardcoded_labels[i])\n",
    "\n"
   ]
  },
  {
   "cell_type": "markdown",
   "metadata": {},
   "source": [
    "### Frequency of Expressions\n",
    "\n",
    "The distribution of how many times each expression appears in the dataset is important to inform what metrics are suitable for assessing the classifier. Below a bar graph showing the relative frequencies of each expression is shown."
   ]
  },
  {
   "cell_type": "code",
   "execution_count": 8,
   "metadata": {},
   "outputs": [
    {
     "data": {
      "image/png": "[encoded data removed]",
      "text/plain": [
       "<matplotlib.figure.Figure at 0x7fde61778978>"
      ]
     },
     "metadata": {},
     "output_type": "display_data"
    }
   ],
   "source": [
    "# seeing the distribution of each emotion in the dataset\n",
    "\n",
    "frequency_list = np.zeros(7)\n",
    "\n",
    "for label in labels:\n",
    "    frequency_list[int(label)] += 1\n",
    "    \n",
    "emotion_indices = range(1,8)\n",
    "\n",
    "x_axis_labels = ['Angry','Disgust','Fear','Happy','Sad','Surprise',\n",
    "         'Neutral']\n",
    "\n",
    "\n",
    "bar = plt.bar(emotion_indices, frequency_list, align='center')\n",
    "\n",
    "plt.xticks(emotion_indices, x_axis_labels )\n",
    "\n",
    "plt.xlabel(\"Facial Expression\")\n",
    "\n",
    "plt.ylabel(\"Frequency of Occurence\")\n",
    "\n",
    "\n",
    "\n",
    "plt.show()"
   ]
  },
  {
   "cell_type": "code",
   "execution_count": 9,
   "metadata": {},
   "outputs": [],
   "source": [
    "train_tensors = df_to_tensor(X_train,48).astype('float32')/255\n",
    "valid_tensors = df_to_tensor(X_val,48).astype('float32')/255\n",
    "test_tensors = df_to_tensor(X_test,48).astype('float32')/255\n",
    "\n",
    "train_targets = np.array(pd.get_dummies(y_train))\n",
    "valid_targets = np.array(pd.get_dummies(y_val))\n",
    "test_targets = np.array(pd.get_dummies(y_test))\n"
   ]
  },
  {
   "cell_type": "code",
   "execution_count": 10,
   "metadata": {},
   "outputs": [],
   "source": [
    "img_width = 48\n",
    "img_height = 48"
   ]
  },
  {
   "cell_type": "markdown",
   "metadata": {},
   "source": [
    "### Evaluation Metrics\n",
    "\n",
    "Due to the uneven distribution of facial expressions in the dataset, illustrated above, accuracy alone is not a suitable measure of classifier performance. Instead <b>categorical cross entropy loss</b> will be used to rank classifiers.\n"
   ]
  },
  {
   "cell_type": "code",
   "execution_count": 11,
   "metadata": {},
   "outputs": [],
   "source": [
    "import numpy as np\n",
    "\n",
    "# this function probably isn't needed, now that you are able to make use of keras' categorical cross entropy function which\n",
    "# makes use of tensorflow\n",
    "\n",
    "def my_categorical_cross_entropy(predictions_vector, targets_vector, epsilon_ = 0.0001):\n",
    "    #calculates, for each individual sample, the contribution to the total categorical cross entropy of the predictions with respect to the targets\n",
    "\n",
    "    for i in range(len(predictions_vector)):\n",
    "        if predictions_vector[i] <= 0:\n",
    "            predictions_vector[i] = epsilon_\n",
    "    \n",
    "    predictions = np.array(predictions_vector)\n",
    "\n",
    "    targets = np.array(targets_vector)\n",
    "\n",
    "    log_vector = -np.log(predictions_vector)\n",
    "\n",
    "    return targets.dot(log_vector)\n"
   ]
  },
  {
   "cell_type": "code",
   "execution_count": 12,
   "metadata": {},
   "outputs": [],
   "source": [
    "def manual_total_cce(predictions, targets ):\n",
    "    \n",
    "    # predictions and targets inputs must be numpy arrays with the shape: (number of samples, number of classes)\n",
    "    \n",
    "    total = 0\n",
    "    \n",
    "    for i in range(predictions.shape[0]):\n",
    "        if predictions.shape[0] != targets.shape[0]:\n",
    "            print(\"WRONG INPUT DIMS!\")\n",
    "            return None\n",
    "        total += my_categorical_cross_entropy(predictions[i], targets[i])\n",
    "    \n",
    "    return float(total)/predictions.shape[0]"
   ]
  },
  {
   "cell_type": "code",
   "execution_count": 13,
   "metadata": {},
   "outputs": [],
   "source": [
    "# function for getting model predictions of a CNN\n",
    "\n",
    "#move this to higher up in the notebook later so you can use the same function for the other models\n",
    "\n",
    "def get_model_predictions(input_model, input_test_tensors):\n",
    "    # closely based on code provided in the Dog Breeds Classifier project\n",
    "    return [input_model.predict(np.expand_dims(tensor, axis=0)) for tensor in input_test_tensors]"
   ]
  },
  {
   "cell_type": "code",
   "execution_count": 14,
   "metadata": {},
   "outputs": [],
   "source": [
    "def get_model_accuracy(input_model, input_test_tensors, input_test_targets):\n",
    "    # closely based on code provided in the Dog Breeds Classifier project\n",
    "    # get index of predicted facial expression for test set images\n",
    "    expression_predictions = [np.argmax(input_model.predict(np.expand_dims(tensor, axis=0))) for tensor in input_test_tensors]\n",
    "\n",
    "    # report test accuracy\n",
    "    test_accuracy = 100*np.sum(np.array(expression_predictions)==np.argmax(input_test_targets, axis=1))/len(expression_predictions)\n",
    "    #print('Test accuracy: %.4f%%' % test_accuracy)\n",
    "    \n",
    "    return test_accuracy\n",
    "    "
   ]
  },
  {
   "cell_type": "markdown",
   "metadata": {},
   "source": [
    "### Baseline Model\n",
    "\n",
    "First, a simple CNN will be used to build a classifier, to which others can be compared. The baseline comprises only of two convolutional layers and a low amount of filters (ADD EXACT AMOUNT HERE AFTERWARD) and is expected to pick up basic features in the faces that will give it some degree of accuracy with the classification task\n"
   ]
  },
  {
   "cell_type": "code",
   "execution_count": 15,
   "metadata": {},
   "outputs": [
    {
     "name": "stdout",
     "output_type": "stream",
     "text": [
      "_________________________________________________________________\n",
      "Layer (type)                 Output Shape              Param #   \n",
      "=================================================================\n",
      "conv2d_1 (Conv2D)            (None, 48, 48, 16)        80        \n",
      "_________________________________________________________________\n",
      "max_pooling2d_1 (MaxPooling2 (None, 24, 24, 16)        0         \n",
      "_________________________________________________________________\n",
      "flatten_1 (Flatten)          (None, 9216)              0         \n",
      "_________________________________________________________________\n",
      "dense_1 (Dense)              (None, 100)               921700    \n",
      "_________________________________________________________________\n",
      "dense_2 (Dense)              (None, 7)                 707       \n",
      "=================================================================\n",
      "Total params: 922,487.0\n",
      "Trainable params: 922,487.0\n",
      "Non-trainable params: 0.0\n",
      "_________________________________________________________________\n"
     ]
    }
   ],
   "source": [
    "model_baseline = Sequential()\n",
    "model_baseline.add(Conv2D(filters=16, kernel_size=2, padding='same', activation='relu', input_shape=(48,48,1)))\n",
    "model_baseline.add(MaxPooling2D(pool_size=2))\n",
    "\"\"\"\n",
    "temporarily remove second convolutional layer to allow for baseline to be beaten\n",
    "model_baseline.add(Conv2D(filters=32, kernel_size=2, padding='same', activation='relu'))\n",
    "model_baseline.add(MaxPooling2D(pool_size=2))\n",
    "\"\"\"\n",
    "model_baseline.add(Flatten())\n",
    "model_baseline.add(Dense(100, activation='relu'))\n",
    "model_baseline.add(Dense(7, activation='softmax'))\n",
    "\n",
    "\n",
    "model_baseline.summary()"
   ]
  },
  {
   "cell_type": "code",
   "execution_count": 16,
   "metadata": {},
   "outputs": [],
   "source": [
    "model_baseline.compile(optimizer='rmsprop', loss='categorical_crossentropy', metrics=['accuracy'])"
   ]
  },
  {
   "cell_type": "code",
   "execution_count": 17,
   "metadata": {
    "scrolled": true
   },
   "outputs": [
    {
     "name": "stdout",
     "output_type": "stream",
     "text": [
      "Train on 25120 samples, validate on 3589 samples\n",
      "Epoch 1/20\n",
      "25100/25120 [============================>.] - ETA: 0s - loss: 1.6553 - acc: 0.3463Epoch 00000: val_loss improved from inf to 1.52842, saving model to saved_models/weights.best.baseline.hdf5\n",
      "25120/25120 [==============================] - 36s - loss: 1.6552 - acc: 0.3463 - val_loss: 1.5284 - val_acc: 0.4257\n",
      "Epoch 2/20\n",
      "24980/25120 [============================>.] - ETA: 0s - loss: 1.4939 - acc: 0.4312Epoch 00001: val_loss improved from 1.52842 to 1.46809, saving model to saved_models/weights.best.baseline.hdf5\n",
      "25120/25120 [==============================] - 8s - loss: 1.4937 - acc: 0.4315 - val_loss: 1.4681 - val_acc: 0.4505\n",
      "Epoch 3/20\n",
      "25040/25120 [============================>.] - ETA: 0s - loss: 1.4104 - acc: 0.4670Epoch 00002: val_loss improved from 1.46809 to 1.44976, saving model to saved_models/weights.best.baseline.hdf5\n",
      "25120/25120 [==============================] - 8s - loss: 1.4098 - acc: 0.4674 - val_loss: 1.4498 - val_acc: 0.4519\n",
      "Epoch 4/20\n",
      "24980/25120 [============================>.] - ETA: 0s - loss: 1.3457 - acc: 0.4908Epoch 00003: val_loss did not improve\n",
      "25120/25120 [==============================] - 8s - loss: 1.3449 - acc: 0.4912 - val_loss: 1.4620 - val_acc: 0.4464\n",
      "Epoch 5/20\n",
      "25080/25120 [============================>.] - ETA: 0s - loss: 1.2921 - acc: 0.5129Epoch 00004: val_loss improved from 1.44976 to 1.44894, saving model to saved_models/weights.best.baseline.hdf5\n",
      "25120/25120 [==============================] - 8s - loss: 1.2920 - acc: 0.5129 - val_loss: 1.4489 - val_acc: 0.4461\n",
      "Epoch 6/20\n",
      "25040/25120 [============================>.] - ETA: 0s - loss: 1.2412 - acc: 0.5317Epoch 00005: val_loss did not improve\n",
      "25120/25120 [==============================] - 8s - loss: 1.2412 - acc: 0.5318 - val_loss: 1.4540 - val_acc: 0.4486\n",
      "Epoch 7/20\n",
      "25020/25120 [============================>.] - ETA: 0s - loss: 1.1997 - acc: 0.5510Epoch 00006: val_loss did not improve\n",
      "25120/25120 [==============================] - 8s - loss: 1.2000 - acc: 0.5510 - val_loss: 1.5024 - val_acc: 0.4349\n",
      "Epoch 8/20\n",
      "25020/25120 [============================>.] - ETA: 0s - loss: 1.1559 - acc: 0.5699Epoch 00007: val_loss did not improve\n",
      "25120/25120 [==============================] - 8s - loss: 1.1556 - acc: 0.5699 - val_loss: 1.5198 - val_acc: 0.4430\n",
      "Epoch 9/20\n",
      "25080/25120 [============================>.] - ETA: 0s - loss: 1.1126 - acc: 0.5878Epoch 00008: val_loss did not improve\n",
      "25120/25120 [==============================] - 8s - loss: 1.1130 - acc: 0.5879 - val_loss: 1.4730 - val_acc: 0.4570\n",
      "Epoch 10/20\n",
      "24960/25120 [============================>.] - ETA: 0s - loss: 1.0694 - acc: 0.6058Epoch 00009: val_loss did not improve\n",
      "25120/25120 [==============================] - 8s - loss: 1.0700 - acc: 0.6055 - val_loss: 1.5011 - val_acc: 0.4572\n",
      "Epoch 11/20\n",
      "25040/25120 [============================>.] - ETA: 0s - loss: 1.0280 - acc: 0.6197Epoch 00010: val_loss did not improve\n",
      "25120/25120 [==============================] - 8s - loss: 1.0283 - acc: 0.6196 - val_loss: 1.6016 - val_acc: 0.4238\n",
      "Epoch 12/20\n",
      "25000/25120 [============================>.] - ETA: 0s - loss: 0.9843 - acc: 0.6376Epoch 00011: val_loss did not improve\n",
      "25120/25120 [==============================] - 8s - loss: 0.9838 - acc: 0.6377 - val_loss: 1.5722 - val_acc: 0.4645\n",
      "Epoch 13/20\n",
      "25100/25120 [============================>.] - ETA: 0s - loss: 0.9407 - acc: 0.6577Epoch 00012: val_loss did not improve\n",
      "25120/25120 [==============================] - 8s - loss: 0.9407 - acc: 0.6576 - val_loss: 1.5540 - val_acc: 0.4636\n",
      "Epoch 14/20\n",
      "25100/25120 [============================>.] - ETA: 0s - loss: 0.8958 - acc: 0.6724Epoch 00013: val_loss did not improve\n",
      "25120/25120 [==============================] - 8s - loss: 0.8959 - acc: 0.6724 - val_loss: 1.6092 - val_acc: 0.4570\n",
      "Epoch 15/20\n",
      "25100/25120 [============================>.] - ETA: 0s - loss: 0.8525 - acc: 0.6922Epoch 00014: val_loss did not improve\n",
      "25120/25120 [==============================] - 8s - loss: 0.8525 - acc: 0.6922 - val_loss: 1.6536 - val_acc: 0.4503\n",
      "Epoch 16/20\n",
      "24960/25120 [============================>.] - ETA: 0s - loss: 0.8096 - acc: 0.7095Epoch 00015: val_loss did not improve\n",
      "25120/25120 [==============================] - 8s - loss: 0.8092 - acc: 0.7097 - val_loss: 1.7180 - val_acc: 0.4581\n",
      "Epoch 17/20\n",
      "24940/25120 [============================>.] - ETA: 0s - loss: 0.7679 - acc: 0.7242Epoch 00016: val_loss did not improve\n",
      "25120/25120 [==============================] - 8s - loss: 0.7677 - acc: 0.7245 - val_loss: 1.7593 - val_acc: 0.4645\n",
      "Epoch 18/20\n",
      "25080/25120 [============================>.] - ETA: 0s - loss: 0.7240 - acc: 0.7386Epoch 00017: val_loss did not improve\n",
      "25120/25120 [==============================] - 8s - loss: 0.7242 - acc: 0.7386 - val_loss: 1.9117 - val_acc: 0.4294\n",
      "Epoch 19/20\n",
      "24940/25120 [============================>.] - ETA: 0s - loss: 0.6847 - acc: 0.7569Epoch 00018: val_loss did not improve\n",
      "25120/25120 [==============================] - 8s - loss: 0.6845 - acc: 0.7572 - val_loss: 1.8868 - val_acc: 0.4597\n",
      "Epoch 20/20\n",
      "24980/25120 [============================>.] - ETA: 0s - loss: 0.6420 - acc: 0.7759Epoch 00019: val_loss did not improve\n",
      "25120/25120 [==============================] - 8s - loss: 0.6422 - acc: 0.7758 - val_loss: 1.9620 - val_acc: 0.4528\n"
     ]
    }
   ],
   "source": [
    "# put repeated stuff into a function later on\n",
    "\n",
    "\n",
    "### TODO: specify the number of epochs that you would like to use to train the model.\n",
    "\n",
    "epochs = 20\n",
    "\n",
    "### Do NOT modify the code below this line.\n",
    "\n",
    "checkpointer = ModelCheckpoint(filepath='saved_models/weights.best.baseline.hdf5', \n",
    "                               verbose=1, save_best_only=True)\n",
    "\n",
    "history = model_baseline.fit(train_tensors, train_targets, \n",
    "          validation_data=(valid_tensors, valid_targets),\n",
    "          epochs=epochs, batch_size=20, callbacks=[checkpointer], verbose=1)"
   ]
  },
  {
   "cell_type": "code",
   "execution_count": 18,
   "metadata": {},
   "outputs": [],
   "source": [
    "model_baseline.load_weights('saved_models/weights.best.baseline.hdf5')"
   ]
  },
  {
   "cell_type": "code",
   "execution_count": 19,
   "metadata": {},
   "outputs": [
    {
     "name": "stdout",
     "output_type": "stream",
     "text": [
      "Test accuracy: 45.4305% \n"
     ]
    }
   ],
   "source": [
    "print(\"Test accuracy: %.4f%% \" % get_model_accuracy(model_baseline, test_tensors, test_targets))"
   ]
  },
  {
   "cell_type": "code",
   "execution_count": 20,
   "metadata": {},
   "outputs": [
    {
     "name": "stdout",
     "output_type": "stream",
     "text": [
      "45.4304820284\n"
     ]
    }
   ],
   "source": [
    "print(get_model_accuracy(model_baseline, test_tensors, test_targets))"
   ]
  },
  {
   "cell_type": "code",
   "execution_count": 21,
   "metadata": {},
   "outputs": [
    {
     "name": "stdout",
     "output_type": "stream",
     "text": [
      "dict_keys(['val_acc', 'acc', 'loss', 'val_loss'])\n"
     ]
    },
    {
     "data": {
      "image/png": "[encoded data removed]",
      "text/plain": [
       "<matplotlib.figure.Figure at 0x7fde5d984c88>"
      ]
     },
     "metadata": {},
     "output_type": "display_data"
    }
   ],
   "source": [
    "# list all data in history\n",
    "print(history.history.keys())\n",
    "# summarize history for accuracy\n",
    "plt.plot(history.history['loss'])\n",
    "plt.plot(history.history['val_loss'])\n",
    "\n",
    "plt.legend(['train', 'validation'], loc='upper left')\n",
    "plt.title('Training and Validation data for Baseline Model')\n",
    "plt.xlabel('Training Epoch')\n",
    "plt.ylabel('Cross Entropy Loss')\n",
    "plt.show()"
   ]
  },
  {
   "cell_type": "code",
   "execution_count": 22,
   "metadata": {},
   "outputs": [
    {
     "name": "stdout",
     "output_type": "stream",
     "text": [
      "[[  1.28602935e-02   7.11517700e-04   8.76329020e-02 ...,   2.02042144e-02\n",
      "    1.49735317e-01   1.05642788e-01]\n",
      " [  2.27117240e-01   1.13362074e-02   1.24869853e-01 ...,   4.70569223e-01\n",
      "    5.15299663e-02   8.10307786e-02]\n",
      " [  2.70138890e-01   2.25366466e-03   4.23930556e-01 ...,   2.56712418e-02\n",
      "    1.22724168e-01   8.05180669e-02]\n",
      " ..., \n",
      " [  2.91146547e-01   5.37341833e-03   1.34398058e-01 ...,   7.41966888e-02\n",
      "    1.32459244e-02   3.03122252e-02]\n",
      " [  8.14870670e-02   2.65657989e-04   5.18936276e-01 ...,   1.84470534e-01\n",
      "    5.36397360e-02   7.81363398e-02]\n",
      " [  8.49090442e-02   6.27537370e-02   6.28602803e-01 ...,   4.68120836e-02\n",
      "    6.21526316e-02   8.05550069e-03]]\n",
      "(7178, 7)\n"
     ]
    }
   ],
   "source": [
    "preds_ = get_model_predictions(model_baseline, test_tensors)\n",
    "\n",
    "holder = np.array(preds_)\n",
    "\n",
    "preds_np = np.array(preds_, dtype='float32').reshape(holder.shape[0],7)\n",
    "\n",
    "print(preds_np)\n",
    "print(preds_np.shape)"
   ]
  },
  {
   "cell_type": "code",
   "execution_count": 23,
   "metadata": {},
   "outputs": [
    {
     "name": "stdout",
     "output_type": "stream",
     "text": [
      "1.4321339317629496\n"
     ]
    }
   ],
   "source": [
    "print(manual_total_cce(preds_np, test_targets))"
   ]
  },
  {
   "cell_type": "markdown",
   "metadata": {},
   "source": [
    "### Advanced Model"
   ]
  },
  {
   "cell_type": "markdown",
   "metadata": {},
   "source": [
    "### Image Augmentation\n",
    "\n",
    "\n"
   ]
  },
  {
   "cell_type": "code",
   "execution_count": 41,
   "metadata": {},
   "outputs": [],
   "source": [
    "from keras.preprocessing.image import ImageDataGenerator\n",
    "\n",
    "def augment_data(train_tensors_input, valid_tensors_input, shift_width=0.1, shift_height=0.1, flip_hor=True,\n",
    "                flip_vert=False):\n",
    "    \n",
    "    \n",
    "    datagen_train = ImageDataGenerator(\n",
    "        width_shift_range = shift_width,\n",
    "        height_shift_range = shift_height,\n",
    "        horizontal_flip = flip_hor,\n",
    "        vertical_flip = flip_vert )\n",
    "\n",
    "    # create and configure augmented image generator\n",
    "    datagen_valid = ImageDataGenerator(\n",
    "        width_shift_range = shift_width,\n",
    "        height_shift_range = shift_height,\n",
    "        horizontal_flip = flip_hor,\n",
    "        vertical_flip = flip_vert )\n",
    "\n",
    "    # fit augmented image generator on data\n",
    "    datagen_train.fit(train_tensors_input)\n",
    "    datagen_valid.fit(valid_tensors_input)\n",
    "    \n",
    "    return (datagen_train, datagen_valid)\n",
    "    "
   ]
  },
  {
   "cell_type": "code",
   "execution_count": 42,
   "metadata": {},
   "outputs": [],
   "source": [
    "(datagen_train, datagen_valid) = augment_data(train_tensors, valid_tensors)"
   ]
  },
  {
   "cell_type": "code",
   "execution_count": 43,
   "metadata": {
    "scrolled": false
   },
   "outputs": [
    {
     "name": "stdout",
     "output_type": "stream",
     "text": [
      "_________________________________________________________________\n",
      "Layer (type)                 Output Shape              Param #   \n",
      "=================================================================\n",
      "conv2d_14 (Conv2D)           (None, 48, 48, 16)        80        \n",
      "_________________________________________________________________\n",
      "max_pooling2d_14 (MaxPooling (None, 24, 24, 16)        0         \n",
      "_________________________________________________________________\n",
      "conv2d_15 (Conv2D)           (None, 24, 24, 32)        2080      \n",
      "_________________________________________________________________\n",
      "max_pooling2d_15 (MaxPooling (None, 12, 12, 32)        0         \n",
      "_________________________________________________________________\n",
      "conv2d_16 (Conv2D)           (None, 12, 12, 64)        8256      \n",
      "_________________________________________________________________\n",
      "max_pooling2d_16 (MaxPooling (None, 6, 6, 64)          0         \n",
      "_________________________________________________________________\n",
      "flatten_5 (Flatten)          (None, 2304)              0         \n",
      "_________________________________________________________________\n",
      "dense_7 (Dense)              (None, 100)               230500    \n",
      "_________________________________________________________________\n",
      "dense_8 (Dense)              (None, 7)                 707       \n",
      "=================================================================\n",
      "Total params: 241,623.0\n",
      "Trainable params: 241,623.0\n",
      "Non-trainable params: 0.0\n",
      "_________________________________________________________________\n"
     ]
    }
   ],
   "source": [
    "model = Sequential()\n",
    "model.add(Conv2D(filters=16, kernel_size=2, padding='same', activation='relu', input_shape=(48,48,1)))\n",
    "model.add(MaxPooling2D(pool_size=2))\n",
    "model.add(Conv2D(filters=32, kernel_size=2, padding='same', activation='relu'))\n",
    "model.add(MaxPooling2D(pool_size=2))\n",
    "model.add(Conv2D(filters=64, kernel_size=2, padding='same', activation='relu'))\n",
    "model.add(MaxPooling2D(pool_size=2))\n",
    "model.add(Flatten())\n",
    "model.add(Dense(100, activation='relu'))\n",
    "model.add(Dense(7, activation='softmax'))\n",
    "\n",
    "model.summary()"
   ]
  },
  {
   "cell_type": "code",
   "execution_count": 44,
   "metadata": {},
   "outputs": [],
   "source": [
    "model.compile(optimizer='rmsprop', loss='categorical_crossentropy', metrics=['accuracy'])"
   ]
  },
  {
   "cell_type": "code",
   "execution_count": 45,
   "metadata": {},
   "outputs": [
    {
     "name": "stdout",
     "output_type": "stream",
     "text": [
      "Epoch 1/50\n",
      "1250/1256 [============================>.] - ETA: 0s - loss: 1.7276 - acc: 0.3036Epoch 00000: val_loss improved from inf to 1.66591, saving model to saved_models/weights.best.from_scratch_augmentation.hdf5\n",
      "1256/1256 [==============================] - 11s - loss: 1.7270 - acc: 0.3039 - val_loss: 1.6659 - val_acc: 0.3587\n",
      "Epoch 2/50\n",
      "1250/1256 [============================>.] - ETA: 0s - loss: 1.5642 - acc: 0.3939Epoch 00001: val_loss improved from 1.66591 to 1.53052, saving model to saved_models/weights.best.from_scratch_augmentation.hdf5\n",
      "1256/1256 [==============================] - 10s - loss: 1.5640 - acc: 0.3942 - val_loss: 1.5305 - val_acc: 0.4116\n",
      "Epoch 3/50\n",
      "1249/1256 [============================>.] - ETA: 0s - loss: 1.4697 - acc: 0.4373Epoch 00002: val_loss improved from 1.53052 to 1.42870, saving model to saved_models/weights.best.from_scratch_augmentation.hdf5\n",
      "1256/1256 [==============================] - 10s - loss: 1.4695 - acc: 0.4376 - val_loss: 1.4287 - val_acc: 0.4576\n",
      "Epoch 4/50\n",
      "1254/1256 [============================>.] - ETA: 0s - loss: 1.4067 - acc: 0.4619Epoch 00003: val_loss improved from 1.42870 to 1.37344, saving model to saved_models/weights.best.from_scratch_augmentation.hdf5\n",
      "1256/1256 [==============================] - 10s - loss: 1.4066 - acc: 0.4620 - val_loss: 1.3734 - val_acc: 0.4797\n",
      "Epoch 5/50\n",
      "1251/1256 [============================>.] - ETA: 0s - loss: 1.3647 - acc: 0.4785Epoch 00004: val_loss improved from 1.37344 to 1.36081, saving model to saved_models/weights.best.from_scratch_augmentation.hdf5\n",
      "1256/1256 [==============================] - 10s - loss: 1.3646 - acc: 0.4785 - val_loss: 1.3608 - val_acc: 0.4794\n",
      "Epoch 6/50\n",
      "1253/1256 [============================>.] - ETA: 0s - loss: 1.3314 - acc: 0.4933Epoch 00005: val_loss improved from 1.36081 to 1.32616, saving model to saved_models/weights.best.from_scratch_augmentation.hdf5\n",
      "1256/1256 [==============================] - 10s - loss: 1.3314 - acc: 0.4933 - val_loss: 1.3262 - val_acc: 0.4909\n",
      "Epoch 7/50\n",
      "1252/1256 [============================>.] - ETA: 0s - loss: 1.3037 - acc: 0.5056Epoch 00006: val_loss improved from 1.32616 to 1.31555, saving model to saved_models/weights.best.from_scratch_augmentation.hdf5\n",
      "1256/1256 [==============================] - 10s - loss: 1.3032 - acc: 0.5059 - val_loss: 1.3156 - val_acc: 0.5001\n",
      "Epoch 8/50\n",
      "1255/1256 [============================>.] - ETA: 0s - loss: 1.2882 - acc: 0.5085Epoch 00007: val_loss did not improve\n",
      "1256/1256 [==============================] - 10s - loss: 1.2882 - acc: 0.5085 - val_loss: 1.3607 - val_acc: 0.4755\n",
      "Epoch 9/50\n",
      "1254/1256 [============================>.] - ETA: 0s - loss: 1.2739 - acc: 0.5162Epoch 00008: val_loss improved from 1.31555 to 1.31456, saving model to saved_models/weights.best.from_scratch_augmentation.hdf5\n",
      "1256/1256 [==============================] - 10s - loss: 1.2737 - acc: 0.5163 - val_loss: 1.3146 - val_acc: 0.4959\n",
      "Epoch 10/50\n",
      "1249/1256 [============================>.] - ETA: 0s - loss: 1.2616 - acc: 0.5209Epoch 00009: val_loss improved from 1.31456 to 1.28203, saving model to saved_models/weights.best.from_scratch_augmentation.hdf5\n",
      "1256/1256 [==============================] - 10s - loss: 1.2618 - acc: 0.5207 - val_loss: 1.2820 - val_acc: 0.5172\n",
      "Epoch 11/50\n",
      "1252/1256 [============================>.] - ETA: 0s - loss: 1.2522 - acc: 0.5273Epoch 00010: val_loss improved from 1.28203 to 1.27804, saving model to saved_models/weights.best.from_scratch_augmentation.hdf5\n",
      "1256/1256 [==============================] - 10s - loss: 1.2521 - acc: 0.5271 - val_loss: 1.2780 - val_acc: 0.5189\n",
      "Epoch 12/50\n",
      "1255/1256 [============================>.] - ETA: 0s - loss: 1.2425 - acc: 0.5281Epoch 00011: val_loss improved from 1.27804 to 1.25956, saving model to saved_models/weights.best.from_scratch_augmentation.hdf5\n",
      "1256/1256 [==============================] - 10s - loss: 1.2422 - acc: 0.5283 - val_loss: 1.2596 - val_acc: 0.5242\n",
      "Epoch 13/50\n",
      "1255/1256 [============================>.] - ETA: 0s - loss: 1.2350 - acc: 0.5269Epoch 00012: val_loss did not improve\n",
      "1256/1256 [==============================] - 10s - loss: 1.2352 - acc: 0.5268 - val_loss: 1.2639 - val_acc: 0.5186\n",
      "Epoch 14/50\n",
      "1254/1256 [============================>.] - ETA: 0s - loss: 1.2230 - acc: 0.5385Epoch 00013: val_loss did not improve\n",
      "1256/1256 [==============================] - 10s - loss: 1.2227 - acc: 0.5386 - val_loss: 1.3068 - val_acc: 0.5032\n",
      "Epoch 15/50\n",
      "1252/1256 [============================>.] - ETA: 0s - loss: 1.2191 - acc: 0.5392Epoch 00014: val_loss improved from 1.25956 to 1.25588, saving model to saved_models/weights.best.from_scratch_augmentation.hdf5\n",
      "1256/1256 [==============================] - 10s - loss: 1.2198 - acc: 0.5389 - val_loss: 1.2559 - val_acc: 0.5116\n",
      "Epoch 16/50\n",
      "1255/1256 [============================>.] - ETA: 0s - loss: 1.2182 - acc: 0.5394Epoch 00015: val_loss did not improve\n",
      "1256/1256 [==============================] - 10s - loss: 1.2182 - acc: 0.5393 - val_loss: 1.3593 - val_acc: 0.5122\n",
      "Epoch 17/50\n",
      "1254/1256 [============================>.] - ETA: 0s - loss: 1.2189 - acc: 0.5368Epoch 00016: val_loss did not improve\n",
      "1256/1256 [==============================] - 10s - loss: 1.2191 - acc: 0.5368 - val_loss: 1.2825 - val_acc: 0.5113\n",
      "Epoch 18/50\n",
      "1254/1256 [============================>.] - ETA: 0s - loss: 1.2159 - acc: 0.5424Epoch 00017: val_loss improved from 1.25588 to 1.23267, saving model to saved_models/weights.best.from_scratch_augmentation.hdf5\n",
      "1256/1256 [==============================] - 10s - loss: 1.2159 - acc: 0.5425 - val_loss: 1.2327 - val_acc: 0.5287\n",
      "Epoch 19/50\n",
      "1255/1256 [============================>.] - ETA: 0s - loss: 1.2106 - acc: 0.5431Epoch 00018: val_loss did not improve\n",
      "1256/1256 [==============================] - 10s - loss: 1.2105 - acc: 0.5432 - val_loss: 1.2369 - val_acc: 0.5396\n",
      "Epoch 20/50\n",
      "1255/1256 [============================>.] - ETA: 0s - loss: 1.2086 - acc: 0.5459Epoch 00019: val_loss did not improve\n",
      "1256/1256 [==============================] - 10s - loss: 1.2088 - acc: 0.5458 - val_loss: 1.2842 - val_acc: 0.5195\n",
      "Epoch 21/50\n",
      "1254/1256 [============================>.] - ETA: 0s - loss: 1.2158 - acc: 0.5436Epoch 00020: val_loss did not improve\n",
      "1256/1256 [==============================] - 10s - loss: 1.2159 - acc: 0.5436 - val_loss: 1.2788 - val_acc: 0.5164\n",
      "Epoch 22/50\n",
      "1249/1256 [============================>.] - ETA: 0s - loss: 1.2180 - acc: 0.5421Epoch 00021: val_loss did not improve\n",
      "1256/1256 [==============================] - 10s - loss: 1.2181 - acc: 0.5422 - val_loss: 1.2963 - val_acc: 0.5111\n",
      "Epoch 23/50\n",
      "1249/1256 [============================>.] - ETA: 0s - loss: 1.2147 - acc: 0.5454Epoch 00022: val_loss improved from 1.23267 to 1.23042, saving model to saved_models/weights.best.from_scratch_augmentation.hdf5\n",
      "1256/1256 [==============================] - 10s - loss: 1.2149 - acc: 0.5453 - val_loss: 1.2304 - val_acc: 0.5310\n",
      "Epoch 24/50\n",
      "1251/1256 [============================>.] - ETA: 0s - loss: 1.2115 - acc: 0.5440Epoch 00023: val_loss did not improve\n",
      "1256/1256 [==============================] - 10s - loss: 1.2115 - acc: 0.5439 - val_loss: 1.2633 - val_acc: 0.5256\n",
      "Epoch 25/50\n",
      "1251/1256 [============================>.] - ETA: 0s - loss: 1.2169 - acc: 0.5441Epoch 00024: val_loss did not improve\n",
      "1256/1256 [==============================] - 10s - loss: 1.2169 - acc: 0.5439 - val_loss: 1.2500 - val_acc: 0.5228\n",
      "Epoch 26/50\n",
      "1250/1256 [============================>.] - ETA: 0s - loss: 1.2196 - acc: 0.5419Epoch 00025: val_loss did not improve\n",
      "1256/1256 [==============================] - 10s - loss: 1.2204 - acc: 0.5418 - val_loss: 1.2831 - val_acc: 0.5116\n",
      "Epoch 27/50\n",
      "1253/1256 [============================>.] - ETA: 0s - loss: 1.2288 - acc: 0.5407Epoch 00026: val_loss did not improve\n",
      "1256/1256 [==============================] - 10s - loss: 1.2294 - acc: 0.5406 - val_loss: 1.2896 - val_acc: 0.5139\n",
      "Epoch 28/50\n",
      "1250/1256 [============================>.] - ETA: 0s - loss: 1.2264 - acc: 0.5378Epoch 00027: val_loss did not improve\n",
      "1256/1256 [==============================] - 10s - loss: 1.2266 - acc: 0.5376 - val_loss: 1.2855 - val_acc: 0.5156\n",
      "Epoch 29/50\n"
     ]
    },
    {
     "name": "stdout",
     "output_type": "stream",
     "text": [
      "1251/1256 [============================>.] - ETA: 0s - loss: 1.2407 - acc: 0.5344Epoch 00028: val_loss did not improve\n",
      "1256/1256 [==============================] - 10s - loss: 1.2407 - acc: 0.5341 - val_loss: 1.2612 - val_acc: 0.5192\n",
      "Epoch 30/50\n",
      "1251/1256 [============================>.] - ETA: 0s - loss: 1.2445 - acc: 0.5390Epoch 00029: val_loss did not improve\n",
      "1256/1256 [==============================] - 10s - loss: 1.2442 - acc: 0.5393 - val_loss: 1.2811 - val_acc: 0.5206\n",
      "Epoch 31/50\n",
      "1251/1256 [============================>.] - ETA: 0s - loss: 1.2428 - acc: 0.5346Epoch 00030: val_loss did not improve\n",
      "1256/1256 [==============================] - 10s - loss: 1.2432 - acc: 0.5344 - val_loss: 1.2920 - val_acc: 0.5085\n",
      "Epoch 32/50\n",
      "1249/1256 [============================>.] - ETA: 0s - loss: 1.2516 - acc: 0.5314Epoch 00031: val_loss did not improve\n",
      "1256/1256 [==============================] - 10s - loss: 1.2512 - acc: 0.5317 - val_loss: 1.3025 - val_acc: 0.5043\n",
      "Epoch 33/50\n",
      "1253/1256 [============================>.] - ETA: 0s - loss: 1.2577 - acc: 0.5285Epoch 00032: val_loss did not improve\n",
      "1256/1256 [==============================] - 10s - loss: 1.2575 - acc: 0.5285 - val_loss: 1.3265 - val_acc: 0.5083\n",
      "Epoch 34/50\n",
      "1250/1256 [============================>.] - ETA: 0s - loss: 1.2565 - acc: 0.5276Epoch 00033: val_loss did not improve\n",
      "1256/1256 [==============================] - 10s - loss: 1.2565 - acc: 0.5277 - val_loss: 1.2765 - val_acc: 0.5178\n",
      "Epoch 35/50\n",
      "1254/1256 [============================>.] - ETA: 0s - loss: 1.2641 - acc: 0.5292Epoch 00034: val_loss did not improve\n",
      "1256/1256 [==============================] - 10s - loss: 1.2636 - acc: 0.5294 - val_loss: 1.3379 - val_acc: 0.5057\n",
      "Epoch 36/50\n",
      "1251/1256 [============================>.] - ETA: 0s - loss: 1.2666 - acc: 0.5264Epoch 00035: val_loss did not improve\n",
      "1256/1256 [==============================] - 10s - loss: 1.2661 - acc: 0.5265 - val_loss: 1.2487 - val_acc: 0.5189\n",
      "Epoch 37/50\n",
      "1254/1256 [============================>.] - ETA: 0s - loss: 1.2733 - acc: 0.5264Epoch 00036: val_loss did not improve\n",
      "1256/1256 [==============================] - 10s - loss: 1.2729 - acc: 0.5266 - val_loss: 1.3026 - val_acc: 0.5116\n",
      "Epoch 38/50\n",
      "1251/1256 [============================>.] - ETA: 0s - loss: 1.2884 - acc: 0.5197Epoch 00037: val_loss did not improve\n",
      "1256/1256 [==============================] - 10s - loss: 1.2884 - acc: 0.5199 - val_loss: 1.2988 - val_acc: 0.5209\n",
      "Epoch 39/50\n",
      "1253/1256 [============================>.] - ETA: 0s - loss: 1.2849 - acc: 0.5239Epoch 00038: val_loss did not improve\n",
      "1256/1256 [==============================] - 10s - loss: 1.2855 - acc: 0.5237 - val_loss: 1.3730 - val_acc: 0.4853\n",
      "Epoch 40/50\n",
      "1253/1256 [============================>.] - ETA: 0s - loss: 1.2877 - acc: 0.5168Epoch 00039: val_loss did not improve\n",
      "1256/1256 [==============================] - 10s - loss: 1.2877 - acc: 0.5169 - val_loss: 1.3003 - val_acc: 0.4993\n",
      "Epoch 41/50\n",
      "1252/1256 [============================>.] - ETA: 0s - loss: 1.2962 - acc: 0.5153Epoch 00040: val_loss did not improve\n",
      "1256/1256 [==============================] - 10s - loss: 1.2964 - acc: 0.5150 - val_loss: 1.3323 - val_acc: 0.4990\n",
      "Epoch 42/50\n",
      "1253/1256 [============================>.] - ETA: 0s - loss: 1.2957 - acc: 0.5164Epoch 00041: val_loss did not improve\n",
      "1256/1256 [==============================] - 10s - loss: 1.2961 - acc: 0.5163 - val_loss: 1.3054 - val_acc: 0.5055\n",
      "Epoch 43/50\n",
      "1250/1256 [============================>.] - ETA: 0s - loss: 1.3007 - acc: 0.5119Epoch 00042: val_loss did not improve\n",
      "1256/1256 [==============================] - 10s - loss: 1.3011 - acc: 0.5117 - val_loss: 1.3370 - val_acc: 0.4931\n",
      "Epoch 44/50\n",
      "1253/1256 [============================>.] - ETA: 0s - loss: 1.3028 - acc: 0.5123Epoch 00043: val_loss did not improve\n",
      "1256/1256 [==============================] - 10s - loss: 1.3027 - acc: 0.5123 - val_loss: 1.3246 - val_acc: 0.5195\n",
      "Epoch 45/50\n",
      "1251/1256 [============================>.] - ETA: 0s - loss: 1.3073 - acc: 0.5134Epoch 00044: val_loss did not improve\n",
      "1256/1256 [==============================] - 10s - loss: 1.3070 - acc: 0.5134 - val_loss: 1.3629 - val_acc: 0.4749\n",
      "Epoch 46/50\n",
      "1253/1256 [============================>.] - ETA: 0s - loss: 1.3099 - acc: 0.5071Epoch 00045: val_loss did not improve\n",
      "1256/1256 [==============================] - 10s - loss: 1.3103 - acc: 0.5069 - val_loss: 1.2820 - val_acc: 0.5130\n",
      "Epoch 47/50\n",
      "1252/1256 [============================>.] - ETA: 0s - loss: 1.3160 - acc: 0.5050Epoch 00046: val_loss did not improve\n",
      "1256/1256 [==============================] - 10s - loss: 1.3166 - acc: 0.5047 - val_loss: 1.3220 - val_acc: 0.5074\n",
      "Epoch 48/50\n",
      "1250/1256 [============================>.] - ETA: 0s - loss: 1.3210 - acc: 0.5074Epoch 00047: val_loss did not improve\n",
      "1256/1256 [==============================] - 10s - loss: 1.3210 - acc: 0.5074 - val_loss: 1.3319 - val_acc: 0.4959\n",
      "Epoch 49/50\n",
      "1249/1256 [============================>.] - ETA: 0s - loss: 1.3224 - acc: 0.5062Epoch 00048: val_loss did not improve\n",
      "1256/1256 [==============================] - 10s - loss: 1.3230 - acc: 0.5059 - val_loss: 1.3326 - val_acc: 0.4895\n",
      "Epoch 50/50\n",
      "1250/1256 [============================>.] - ETA: 0s - loss: 1.3187 - acc: 0.5069Epoch 00049: val_loss did not improve\n",
      "1256/1256 [==============================] - 10s - loss: 1.3197 - acc: 0.5065 - val_loss: 1.3376 - val_acc: 0.4971\n"
     ]
    }
   ],
   "source": [
    "\n",
    "### TODO: specify the number of epochs that you would like to use to train the model.\n",
    "\n",
    "epochs = 50\n",
    "\n",
    "\n",
    "\n",
    "### Do NOT modify the code below this line.\n",
    "\n",
    "checkpointer = ModelCheckpoint(filepath='saved_models/weights.best.from_scratch_augmentation.hdf5', \n",
    "                               verbose=1, save_best_only=True)\n",
    "\n",
    "\"\"\"\n",
    "#Without image augmentation\n",
    "model.fit(train_tensors, train_targets, \n",
    "          validation_data=(valid_tensors, valid_targets),\n",
    "          epochs=epochs, batch_size=20, callbacks=[checkpointer], verbose=1)\n",
    "\"\"\"\n",
    "\n",
    "\n",
    "#With image augmentation\n",
    "\n",
    "batch_size = 20\n",
    "\n",
    "history = model.fit_generator(datagen_train.flow(train_tensors, train_targets, batch_size=batch_size),\n",
    "                    steps_per_epoch=train_tensors.shape[0] // batch_size,\n",
    "                    epochs=epochs, verbose=1, callbacks=[checkpointer],\n",
    "                    validation_data=datagen_valid.flow(valid_tensors, valid_targets, batch_size=batch_size),\n",
    "                    validation_steps=valid_tensors.shape[0] // batch_size)"
   ]
  },
  {
   "cell_type": "code",
   "execution_count": 46,
   "metadata": {},
   "outputs": [],
   "source": [
    "model.load_weights('saved_models/weights.best.from_scratch_augmentation.hdf5')"
   ]
  },
  {
   "cell_type": "code",
   "execution_count": 47,
   "metadata": {},
   "outputs": [
    {
     "name": "stdout",
     "output_type": "stream",
     "text": [
      "Test accuracy: 56.0045% \n"
     ]
    }
   ],
   "source": [
    "# get index of predicted facial expression for test set images\n",
    "print(\"Test accuracy: %.4f%% \" % get_model_accuracy(model, test_tensors, test_targets))"
   ]
  },
  {
   "cell_type": "code",
   "execution_count": 48,
   "metadata": {},
   "outputs": [
    {
     "name": "stdout",
     "output_type": "stream",
     "text": [
      "dict_keys(['val_acc', 'acc', 'loss', 'val_loss'])\n"
     ]
    },
    {
     "data": {
      "image/png": "[encoded data removed]",
      "text/plain": [
       "<matplotlib.figure.Figure at 0x7fde2845f898>"
      ]
     },
     "metadata": {},
     "output_type": "display_data"
    }
   ],
   "source": [
    "# list all data in history\n",
    "print(history.history.keys())\n",
    "# summarize history for accuracy\n",
    "plt.plot(history.history['loss'])\n",
    "plt.plot(history.history['val_loss'])\n",
    "\n",
    "plt.legend(['train', 'validation'], loc='upper left')\n",
    "plt.title('Training and Validation data for Advanced From-Scratch Model')\n",
    "plt.xlabel('Training Epoch')\n",
    "plt.ylabel('Cross Entropy Loss')\n",
    "plt.show()"
   ]
  },
  {
   "cell_type": "code",
   "execution_count": 49,
   "metadata": {},
   "outputs": [
    {
     "name": "stdout",
     "output_type": "stream",
     "text": [
      "[[  3.62101803e-03   1.09963788e-04   9.90843307e-03 ...,   1.22750532e-02\n",
      "    1.37678357e-02   1.41398028e-01]\n",
      " [  9.56081375e-02   9.30007445e-05   1.52469724e-01 ...,   2.67372698e-01\n",
      "    3.96864116e-01   7.62181133e-02]\n",
      " [  2.53930420e-01   1.57032534e-03   1.57950595e-01 ...,   3.50844041e-02\n",
      "    3.77912819e-01   3.43648009e-02]\n",
      " ..., \n",
      " [  7.60806873e-02   1.13192969e-03   5.23319393e-02 ...,   9.43560451e-02\n",
      "    6.72199950e-02   1.46455720e-01]\n",
      " [  1.07286699e-01   6.32650591e-03   1.28352478e-01 ...,   1.14086300e-01\n",
      "    5.10718636e-02   2.49520436e-01]\n",
      " [  5.94851196e-01   2.11825292e-03   9.93121490e-02 ...,   3.30106984e-03\n",
      "    5.71971685e-02   5.05908951e-03]]\n",
      "(7178, 7)\n"
     ]
    }
   ],
   "source": [
    "preds_ = get_model_predictions(model, test_tensors)\n",
    "\n",
    "#after computation is finished change model_baseline to model\n",
    "\n",
    "holder = np.array(preds_)\n",
    "\n",
    "preds_np = np.array(preds_, dtype='float32').reshape(holder.shape[0],7)\n",
    "\n",
    "print(preds_np)\n",
    "print(preds_np.shape)"
   ]
  },
  {
   "cell_type": "code",
   "execution_count": 50,
   "metadata": {},
   "outputs": [
    {
     "name": "stdout",
     "output_type": "stream",
     "text": [
      "(7178, 7)\n"
     ]
    }
   ],
   "source": [
    "print(test_targets.shape)"
   ]
  },
  {
   "cell_type": "code",
   "execution_count": 51,
   "metadata": {},
   "outputs": [
    {
     "name": "stdout",
     "output_type": "stream",
     "text": [
      "1.1750675828218506\n"
     ]
    }
   ],
   "source": [
    "print(manual_total_cce(preds_np, test_targets))"
   ]
  },
  {
   "cell_type": "markdown",
   "metadata": {},
   "source": [
    "### Transfer Learning\n",
    "\n",
    "It is suitable to explore the use of other CNNs that have been used for other computer vision applications. Below, the performance of the pre-trained networks Inception, VGG-19 and Resnet50 will be explored"
   ]
  },
  {
   "cell_type": "code",
   "execution_count": 52,
   "metadata": {},
   "outputs": [],
   "source": [
    "#import cv2\n",
    "\n",
    "X_train_transf, X_test_transf, X_val_transf = X_train, X_test, X_val\n",
    "\n",
    "y_train_transf, y_test_transf, y_val_transf = y_train, y_test, y_val\n",
    "\n",
    "\n",
    "sample = df_to_tensor(X_train_transf, 48, reshape=False)\n",
    "\n",
    "#sample.shape"
   ]
  },
  {
   "cell_type": "code",
   "execution_count": 53,
   "metadata": {},
   "outputs": [],
   "source": [
    "# creating transfer tensors\n",
    "\n",
    "train_tensors_transf = df_to_tensor(X_train_transf,48,reshape=False, triple_channels=True).astype('float32')/255\n",
    "valid_tensors_transf = df_to_tensor(X_val_transf,48, reshape=False, triple_channels=True).astype('float32')/255\n",
    "test_tensors_transf = df_to_tensor(X_test_transf,48, reshape=False, triple_channels=True).astype('float32')/255\n",
    "\n",
    "train_targets_transf = np.array(pd.get_dummies(y_train_transf))\n",
    "valid_targets_transf = np.array(pd.get_dummies(y_val_transf))\n",
    "test_targets_transf = np.array(pd.get_dummies(y_test_transf))\n"
   ]
  },
  {
   "cell_type": "code",
   "execution_count": 54,
   "metadata": {},
   "outputs": [
    {
     "name": "stdout",
     "output_type": "stream",
     "text": [
      "Downloading data from https://github.com/fchollet/deep-learning-models/releases/download/v0.1/vgg19_weights_tf_dim_ordering_tf_kernels_notop.h5\n",
      "_________________________________________________________________\n",
      "Layer (type)                 Output Shape              Param #   \n",
      "=================================================================\n",
      "input_1 (InputLayer)         (None, 48, 48, 3)         0         \n",
      "_________________________________________________________________\n",
      "block1_conv1 (Conv2D)        (None, 48, 48, 64)        1792      \n",
      "_________________________________________________________________\n",
      "block1_conv2 (Conv2D)        (None, 48, 48, 64)        36928     \n",
      "_________________________________________________________________\n",
      "block1_pool (MaxPooling2D)   (None, 24, 24, 64)        0         \n",
      "_________________________________________________________________\n",
      "block2_conv1 (Conv2D)        (None, 24, 24, 128)       73856     \n",
      "_________________________________________________________________\n",
      "block2_conv2 (Conv2D)        (None, 24, 24, 128)       147584    \n",
      "_________________________________________________________________\n",
      "block2_pool (MaxPooling2D)   (None, 12, 12, 128)       0         \n",
      "_________________________________________________________________\n",
      "block3_conv1 (Conv2D)        (None, 12, 12, 256)       295168    \n",
      "_________________________________________________________________\n",
      "block3_conv2 (Conv2D)        (None, 12, 12, 256)       590080    \n",
      "_________________________________________________________________\n",
      "block3_conv3 (Conv2D)        (None, 12, 12, 256)       590080    \n",
      "_________________________________________________________________\n",
      "block3_conv4 (Conv2D)        (None, 12, 12, 256)       590080    \n",
      "_________________________________________________________________\n",
      "block3_pool (MaxPooling2D)   (None, 6, 6, 256)         0         \n",
      "_________________________________________________________________\n",
      "block4_conv1 (Conv2D)        (None, 6, 6, 512)         1180160   \n",
      "_________________________________________________________________\n",
      "block4_conv2 (Conv2D)        (None, 6, 6, 512)         2359808   \n",
      "_________________________________________________________________\n",
      "block4_conv3 (Conv2D)        (None, 6, 6, 512)         2359808   \n",
      "_________________________________________________________________\n",
      "block4_conv4 (Conv2D)        (None, 6, 6, 512)         2359808   \n",
      "_________________________________________________________________\n",
      "block4_pool (MaxPooling2D)   (None, 3, 3, 512)         0         \n",
      "_________________________________________________________________\n",
      "block5_conv1 (Conv2D)        (None, 3, 3, 512)         2359808   \n",
      "_________________________________________________________________\n",
      "block5_conv2 (Conv2D)        (None, 3, 3, 512)         2359808   \n",
      "_________________________________________________________________\n",
      "block5_conv3 (Conv2D)        (None, 3, 3, 512)         2359808   \n",
      "_________________________________________________________________\n",
      "block5_conv4 (Conv2D)        (None, 3, 3, 512)         2359808   \n",
      "_________________________________________________________________\n",
      "block5_pool (MaxPooling2D)   (None, 1, 1, 512)         0         \n",
      "=================================================================\n",
      "Total params: 20,024,384.0\n",
      "Trainable params: 20,024,384.0\n",
      "Non-trainable params: 0.0\n",
      "_________________________________________________________________\n"
     ]
    }
   ],
   "source": [
    "# Note: the code below is an adaptation of a code snippet by Prakash Jay,\n",
    "# obtained from: https://towardsdatascience.com/transfer-learning-using-keras-d804b2e04ef8\n",
    "\n",
    "img_width, img_height = 48, 48\n",
    "\"\"\"\n",
    "train_data_dir = \"data/train\"\n",
    "validation_data_dir = \"data/val\"\n",
    "nb_train_samples = 4125\n",
    "nb_validation_samples = 466 \n",
    "\"\"\"\n",
    "batch_size = 16\n",
    "epochs = 50\n",
    "\n",
    "model = applications.VGG19(weights = \"imagenet\", include_top=False, input_shape = (img_width, img_height, 3))\n",
    "\n",
    "\n",
    "model.summary()\n"
   ]
  },
  {
   "cell_type": "code",
   "execution_count": 55,
   "metadata": {},
   "outputs": [],
   "source": [
    "# Image augmentation for transfer model\n",
    "\n",
    "from keras.preprocessing.image import ImageDataGenerator\n",
    "\n",
    "# create and configure augmented image generator\n",
    "datagen_train_transf = ImageDataGenerator(\n",
    "    width_shift_range=0.1,  # randomly shift images horizontally (10% of total width)\n",
    "    height_shift_range=0.1,  # randomly shift images vertically (10% of total height)\n",
    "    horizontal_flip=True) # randomly flip images horizontally\n",
    "\n",
    "# create and configure augmented image generator\n",
    "datagen_valid_transf = ImageDataGenerator(\n",
    "    width_shift_range=0.1,  # randomly shift images horizontally (10% of total width)\n",
    "    height_shift_range=0.1,  # randomly shift images vertically (10% of total height)\n",
    "    horizontal_flip=True) # randomly flip images horizontally\n",
    "\n",
    "# fit augmented image generator on data\n",
    "datagen_train_transf.fit(train_tensors_transf)\n",
    "datagen_valid_transf.fit(valid_tensors_transf)"
   ]
  },
  {
   "cell_type": "code",
   "execution_count": 56,
   "metadata": {},
   "outputs": [
    {
     "data": {
      "text/plain": [
       "'\\nfor layer in model.layers:\\n    layer.trainable = False\\n'"
      ]
     },
     "execution_count": 56,
     "metadata": {},
     "output_type": "execute_result"
    }
   ],
   "source": [
    "\"\"\"\n",
    "for layer in model.layers:\n",
    "    layer.trainable = False\n",
    "\"\"\"\n",
    "\n",
    "#allow training in initial layers for now, to see what the result is"
   ]
  },
  {
   "cell_type": "code",
   "execution_count": 57,
   "metadata": {},
   "outputs": [
    {
     "name": "stdout",
     "output_type": "stream",
     "text": [
      "_________________________________________________________________\n",
      "Layer (type)                 Output Shape              Param #   \n",
      "=================================================================\n",
      "input_1 (InputLayer)         (None, 48, 48, 3)         0         \n",
      "_________________________________________________________________\n",
      "block1_conv1 (Conv2D)        (None, 48, 48, 64)        1792      \n",
      "_________________________________________________________________\n",
      "block1_conv2 (Conv2D)        (None, 48, 48, 64)        36928     \n",
      "_________________________________________________________________\n",
      "block1_pool (MaxPooling2D)   (None, 24, 24, 64)        0         \n",
      "_________________________________________________________________\n",
      "block2_conv1 (Conv2D)        (None, 24, 24, 128)       73856     \n",
      "_________________________________________________________________\n",
      "block2_conv2 (Conv2D)        (None, 24, 24, 128)       147584    \n",
      "_________________________________________________________________\n",
      "block2_pool (MaxPooling2D)   (None, 12, 12, 128)       0         \n",
      "_________________________________________________________________\n",
      "block3_conv1 (Conv2D)        (None, 12, 12, 256)       295168    \n",
      "_________________________________________________________________\n",
      "block3_conv2 (Conv2D)        (None, 12, 12, 256)       590080    \n",
      "_________________________________________________________________\n",
      "block3_conv3 (Conv2D)        (None, 12, 12, 256)       590080    \n",
      "_________________________________________________________________\n",
      "block3_conv4 (Conv2D)        (None, 12, 12, 256)       590080    \n",
      "_________________________________________________________________\n",
      "block3_pool (MaxPooling2D)   (None, 6, 6, 256)         0         \n",
      "_________________________________________________________________\n",
      "block4_conv1 (Conv2D)        (None, 6, 6, 512)         1180160   \n",
      "_________________________________________________________________\n",
      "block4_conv2 (Conv2D)        (None, 6, 6, 512)         2359808   \n",
      "_________________________________________________________________\n",
      "block4_conv3 (Conv2D)        (None, 6, 6, 512)         2359808   \n",
      "_________________________________________________________________\n",
      "block4_conv4 (Conv2D)        (None, 6, 6, 512)         2359808   \n",
      "_________________________________________________________________\n",
      "block4_pool (MaxPooling2D)   (None, 3, 3, 512)         0         \n",
      "_________________________________________________________________\n",
      "block5_conv1 (Conv2D)        (None, 3, 3, 512)         2359808   \n",
      "_________________________________________________________________\n",
      "block5_conv2 (Conv2D)        (None, 3, 3, 512)         2359808   \n",
      "_________________________________________________________________\n",
      "block5_conv3 (Conv2D)        (None, 3, 3, 512)         2359808   \n",
      "_________________________________________________________________\n",
      "block5_conv4 (Conv2D)        (None, 3, 3, 512)         2359808   \n",
      "_________________________________________________________________\n",
      "block5_pool (MaxPooling2D)   (None, 1, 1, 512)         0         \n",
      "_________________________________________________________________\n",
      "flatten_6 (Flatten)          (None, 512)               0         \n",
      "_________________________________________________________________\n",
      "dense_9 (Dense)              (None, 1024)              525312    \n",
      "_________________________________________________________________\n",
      "dropout_1 (Dropout)          (None, 1024)              0         \n",
      "_________________________________________________________________\n",
      "dense_10 (Dense)             (None, 1024)              1049600   \n",
      "_________________________________________________________________\n",
      "dropout_2 (Dropout)          (None, 1024)              0         \n",
      "_________________________________________________________________\n",
      "dense_11 (Dense)             (None, 1024)              1049600   \n",
      "_________________________________________________________________\n",
      "dropout_3 (Dropout)          (None, 1024)              0         \n",
      "_________________________________________________________________\n",
      "dense_12 (Dense)             (None, 1024)              1049600   \n",
      "_________________________________________________________________\n",
      "dropout_4 (Dropout)          (None, 1024)              0         \n",
      "_________________________________________________________________\n",
      "dense_13 (Dense)             (None, 7)                 7175      \n",
      "=================================================================\n",
      "Total params: 23,705,671.0\n",
      "Trainable params: 23,705,671.0\n",
      "Non-trainable params: 0.0\n",
      "_________________________________________________________________\n"
     ]
    },
    {
     "name": "stderr",
     "output_type": "stream",
     "text": [
      "/usr/local/lib/python3.5/dist-packages/ipykernel_launcher.py:18: UserWarning: Update your `Model` call to the Keras 2 API: `Model(inputs=Tensor(\"in..., outputs=Tensor(\"de...)`\n"
     ]
    }
   ],
   "source": [
    "# duplicate of prakash jay code\n",
    "x = model.output\n",
    "x = Flatten()(x)\n",
    "x = Dense(1024, activation=\"relu\")(x)\n",
    "x = Dropout(0.5)(x)\n",
    "x = Dense(1024, activation=\"relu\")(x)\n",
    "x = Dropout(0.5)(x)\n",
    "#two additional dense layers below with same dropout\n",
    "#unsure whether it will help, go back to two if \n",
    "#needed\n",
    "x = Dense(1024, activation=\"relu\")(x)\n",
    "x = Dropout(0.5)(x)\n",
    "x = Dense(1024, activation=\"relu\")(x)\n",
    "x = Dropout(0.5)(x)\n",
    "predictions = Dense(7, activation=\"softmax\")(x)\n",
    "\n",
    "# creating the final model \n",
    "model_final = Model(input = model.input, output = predictions)\n",
    "\n",
    "# compile the model \n",
    "model_final.compile(loss = \"categorical_crossentropy\", optimizer = optimizers.SGD(lr=0.0001, momentum=0.9), metrics=[\"accuracy\"])\n",
    "\n",
    "model_final.summary()"
   ]
  },
  {
   "cell_type": "code",
   "execution_count": 58,
   "metadata": {},
   "outputs": [
    {
     "name": "stdout",
     "output_type": "stream",
     "text": [
      "Epoch 1/50\n",
      "1569/1570 [============================>.] - ETA: 0s - loss: 1.8511 - acc: 0.2238Epoch 00000: val_loss improved from inf to 1.76689, saving model to saved_models/weights.best.transfer_example_six.hdf5\n",
      "1570/1570 [==============================] - 182s - loss: 1.8510 - acc: 0.2238 - val_loss: 1.7669 - val_acc: 0.2414\n",
      "Epoch 2/50\n",
      "1569/1570 [============================>.] - ETA: 0s - loss: 1.7190 - acc: 0.2795Epoch 00001: val_loss improved from 1.76689 to 1.70122, saving model to saved_models/weights.best.transfer_example_six.hdf5\n",
      "1570/1570 [==============================] - 192s - loss: 1.7189 - acc: 0.2796 - val_loss: 1.7012 - val_acc: 0.3182\n",
      "Epoch 3/50\n",
      "1569/1570 [============================>.] - ETA: 0s - loss: 1.6421 - acc: 0.3262Epoch 00002: val_loss improved from 1.70122 to 1.63514, saving model to saved_models/weights.best.transfer_example_six.hdf5\n",
      "1570/1570 [==============================] - 192s - loss: 1.6418 - acc: 0.3264 - val_loss: 1.6351 - val_acc: 0.3980\n",
      "Epoch 4/50\n",
      "1569/1570 [============================>.] - ETA: 0s - loss: 1.5910 - acc: 0.3599Epoch 00003: val_loss improved from 1.63514 to 1.56749, saving model to saved_models/weights.best.transfer_example_six.hdf5\n",
      "1570/1570 [==============================] - 192s - loss: 1.5908 - acc: 0.3600 - val_loss: 1.5675 - val_acc: 0.4212\n",
      "Epoch 5/50\n",
      "1569/1570 [============================>.] - ETA: 0s - loss: 1.5588 - acc: 0.3939Epoch 00004: val_loss improved from 1.56749 to 1.54045, saving model to saved_models/weights.best.transfer_example_six.hdf5\n",
      "1570/1570 [==============================] - 192s - loss: 1.5590 - acc: 0.3939 - val_loss: 1.5405 - val_acc: 0.4411\n",
      "Epoch 6/50\n",
      "1569/1570 [============================>.] - ETA: 0s - loss: 1.5247 - acc: 0.4231Epoch 00005: val_loss improved from 1.54045 to 1.51295, saving model to saved_models/weights.best.transfer_example_six.hdf5\n",
      "1570/1570 [==============================] - 193s - loss: 1.5245 - acc: 0.4231 - val_loss: 1.5129 - val_acc: 0.4531\n",
      "Epoch 7/50\n",
      "1569/1570 [============================>.] - ETA: 0s - loss: 1.4860 - acc: 0.4435Epoch 00006: val_loss improved from 1.51295 to 1.45851, saving model to saved_models/weights.best.transfer_example_six.hdf5\n",
      "1570/1570 [==============================] - 192s - loss: 1.4859 - acc: 0.4436 - val_loss: 1.4585 - val_acc: 0.4638\n",
      "Epoch 8/50\n",
      "1569/1570 [============================>.] - ETA: 0s - loss: 1.4462 - acc: 0.4625Epoch 00007: val_loss improved from 1.45851 to 1.45176, saving model to saved_models/weights.best.transfer_example_six.hdf5\n",
      "1570/1570 [==============================] - 192s - loss: 1.4464 - acc: 0.4624 - val_loss: 1.4518 - val_acc: 0.4545\n",
      "Epoch 9/50\n",
      "1569/1570 [============================>.] - ETA: 0s - loss: 1.4161 - acc: 0.4801Epoch 00008: val_loss improved from 1.45176 to 1.38039, saving model to saved_models/weights.best.transfer_example_six.hdf5\n",
      "1570/1570 [==============================] - 192s - loss: 1.4161 - acc: 0.4800 - val_loss: 1.3804 - val_acc: 0.4850\n",
      "Epoch 10/50\n",
      "1569/1570 [============================>.] - ETA: 0s - loss: 1.3805 - acc: 0.4907Epoch 00009: val_loss improved from 1.38039 to 1.33166, saving model to saved_models/weights.best.transfer_example_six.hdf5\n",
      "1570/1570 [==============================] - 192s - loss: 1.3805 - acc: 0.4907 - val_loss: 1.3317 - val_acc: 0.5074\n",
      "Epoch 11/50\n",
      "1569/1570 [============================>.] - ETA: 0s - loss: 1.3455 - acc: 0.5009Epoch 00010: val_loss did not improve\n",
      "1570/1570 [==============================] - 182s - loss: 1.3458 - acc: 0.5007 - val_loss: 1.3622 - val_acc: 0.4892\n",
      "Epoch 12/50\n",
      "1569/1570 [============================>.] - ETA: 0s - loss: 1.3191 - acc: 0.5100Epoch 00011: val_loss improved from 1.33166 to 1.31912, saving model to saved_models/weights.best.transfer_example_six.hdf5\n",
      "1570/1570 [==============================] - 192s - loss: 1.3192 - acc: 0.5099 - val_loss: 1.3191 - val_acc: 0.4999\n",
      "Epoch 13/50\n",
      "1569/1570 [============================>.] - ETA: 0s - loss: 1.2984 - acc: 0.5145Epoch 00012: val_loss improved from 1.31912 to 1.29536, saving model to saved_models/weights.best.transfer_example_six.hdf5\n",
      "1570/1570 [==============================] - 193s - loss: 1.2984 - acc: 0.5145 - val_loss: 1.2954 - val_acc: 0.5125\n",
      "Epoch 14/50\n",
      "1569/1570 [============================>.] - ETA: 0s - loss: 1.2710 - acc: 0.5259Epoch 00013: val_loss did not improve\n",
      "1570/1570 [==============================] - 182s - loss: 1.2711 - acc: 0.5258 - val_loss: 1.3091 - val_acc: 0.5080\n",
      "Epoch 15/50\n",
      "1569/1570 [============================>.] - ETA: 0s - loss: 1.2513 - acc: 0.5296Epoch 00014: val_loss did not improve\n",
      "1570/1570 [==============================] - 183s - loss: 1.2516 - acc: 0.5295 - val_loss: 1.3256 - val_acc: 0.4943\n",
      "Epoch 16/50\n",
      "1569/1570 [============================>.] - ETA: 0s - loss: 1.2291 - acc: 0.5371Epoch 00015: val_loss improved from 1.29536 to 1.26628, saving model to saved_models/weights.best.transfer_example_six.hdf5\n",
      "1570/1570 [==============================] - 192s - loss: 1.2291 - acc: 0.5372 - val_loss: 1.2663 - val_acc: 0.5139\n",
      "Epoch 17/50\n",
      "1569/1570 [============================>.] - ETA: 0s - loss: 1.2127 - acc: 0.5405Epoch 00016: val_loss improved from 1.26628 to 1.22571, saving model to saved_models/weights.best.transfer_example_six.hdf5\n",
      "1570/1570 [==============================] - 192s - loss: 1.2125 - acc: 0.5405 - val_loss: 1.2257 - val_acc: 0.5343\n",
      "Epoch 18/50\n",
      "1569/1570 [============================>.] - ETA: 0s - loss: 1.1963 - acc: 0.5445Epoch 00017: val_loss improved from 1.22571 to 1.21314, saving model to saved_models/weights.best.transfer_example_six.hdf5\n",
      "1570/1570 [==============================] - 192s - loss: 1.1963 - acc: 0.5444 - val_loss: 1.2131 - val_acc: 0.5340\n",
      "Epoch 19/50\n",
      "1569/1570 [============================>.] - ETA: 0s - loss: 1.1813 - acc: 0.5515Epoch 00018: val_loss did not improve\n",
      "1570/1570 [==============================] - 182s - loss: 1.1811 - acc: 0.5517 - val_loss: 1.2171 - val_acc: 0.5304\n",
      "Epoch 20/50\n",
      "1569/1570 [============================>.] - ETA: 0s - loss: 1.1617 - acc: 0.5603Epoch 00019: val_loss improved from 1.21314 to 1.19988, saving model to saved_models/weights.best.transfer_example_six.hdf5\n",
      "1570/1570 [==============================] - 191s - loss: 1.1618 - acc: 0.5602 - val_loss: 1.1999 - val_acc: 0.5348\n",
      "Epoch 21/50\n",
      "1569/1570 [============================>.] - ETA: 0s - loss: 1.1506 - acc: 0.5673Epoch 00020: val_loss did not improve\n",
      "1570/1570 [==============================] - 182s - loss: 1.1505 - acc: 0.5674 - val_loss: 1.2342 - val_acc: 0.5480\n",
      "Epoch 22/50\n",
      "1569/1570 [============================>.] - ETA: 0s - loss: 1.1364 - acc: 0.5703Epoch 00021: val_loss improved from 1.19988 to 1.18625, saving model to saved_models/weights.best.transfer_example_six.hdf5\n",
      "1570/1570 [==============================] - 191s - loss: 1.1363 - acc: 0.5704 - val_loss: 1.1863 - val_acc: 0.5511\n",
      "Epoch 23/50\n",
      "1569/1570 [============================>.] - ETA: 0s - loss: 1.1163 - acc: 0.5797Epoch 00022: val_loss did not improve\n",
      "1570/1570 [==============================] - 182s - loss: 1.1163 - acc: 0.5797 - val_loss: 1.2204 - val_acc: 0.5396\n",
      "Epoch 24/50\n",
      "1569/1570 [============================>.] - ETA: 0s - loss: 1.0993 - acc: 0.5831Epoch 00023: val_loss improved from 1.18625 to 1.17465, saving model to saved_models/weights.best.transfer_example_six.hdf5\n",
      "1570/1570 [==============================] - 194s - loss: 1.0993 - acc: 0.5830 - val_loss: 1.1746 - val_acc: 0.5570\n",
      "Epoch 25/50\n",
      "1569/1570 [============================>.] - ETA: 0s - loss: 1.0835 - acc: 0.5957Epoch 00024: val_loss improved from 1.17465 to 1.17429, saving model to saved_models/weights.best.transfer_example_six.hdf5\n",
      "1570/1570 [==============================] - 191s - loss: 1.0833 - acc: 0.5957 - val_loss: 1.1743 - val_acc: 0.5561\n",
      "Epoch 26/50\n",
      "1569/1570 [============================>.] - ETA: 0s - loss: 1.0726 - acc: 0.6009Epoch 00025: val_loss improved from 1.17429 to 1.16155, saving model to saved_models/weights.best.transfer_example_six.hdf5\n",
      "1570/1570 [==============================] - 192s - loss: 1.0725 - acc: 0.6009 - val_loss: 1.1616 - val_acc: 0.5631\n",
      "Epoch 27/50\n"
     ]
    },
    {
     "name": "stdout",
     "output_type": "stream",
     "text": [
      "1569/1570 [============================>.] - ETA: 0s - loss: 1.0599 - acc: 0.6029Epoch 00026: val_loss improved from 1.16155 to 1.15210, saving model to saved_models/weights.best.transfer_example_six.hdf5\n",
      "1570/1570 [==============================] - 191s - loss: 1.0597 - acc: 0.6031 - val_loss: 1.1521 - val_acc: 0.5656\n",
      "Epoch 28/50\n",
      "1569/1570 [============================>.] - ETA: 0s - loss: 1.0400 - acc: 0.6051Epoch 00027: val_loss improved from 1.15210 to 1.15137, saving model to saved_models/weights.best.transfer_example_six.hdf5\n",
      "1570/1570 [==============================] - 192s - loss: 1.0397 - acc: 0.6053 - val_loss: 1.1514 - val_acc: 0.5668\n",
      "Epoch 29/50\n",
      "1569/1570 [============================>.] - ETA: 0s - loss: 1.0235 - acc: 0.6203Epoch 00028: val_loss improved from 1.15137 to 1.15007, saving model to saved_models/weights.best.transfer_example_six.hdf5\n",
      "1570/1570 [==============================] - 192s - loss: 1.0235 - acc: 0.6203 - val_loss: 1.1501 - val_acc: 0.5732\n",
      "Epoch 30/50\n",
      "1569/1570 [============================>.] - ETA: 0s - loss: 1.0165 - acc: 0.6238Epoch 00029: val_loss did not improve\n",
      "1570/1570 [==============================] - 183s - loss: 1.0166 - acc: 0.6237 - val_loss: 1.1574 - val_acc: 0.5751\n",
      "Epoch 31/50\n",
      "1569/1570 [============================>.] - ETA: 0s - loss: 0.9987 - acc: 0.6312Epoch 00030: val_loss did not improve\n",
      "1570/1570 [==============================] - 182s - loss: 0.9989 - acc: 0.6311 - val_loss: 1.1559 - val_acc: 0.5757\n",
      "Epoch 32/50\n",
      "1569/1570 [============================>.] - ETA: 0s - loss: 0.9883 - acc: 0.6363Epoch 00031: val_loss improved from 1.15007 to 1.14603, saving model to saved_models/weights.best.transfer_example_six.hdf5\n",
      "1570/1570 [==============================] - 184s - loss: 0.9882 - acc: 0.6363 - val_loss: 1.1460 - val_acc: 0.5824\n",
      "Epoch 33/50\n",
      "1569/1570 [============================>.] - ETA: 0s - loss: 0.9718 - acc: 0.6465Epoch 00032: val_loss improved from 1.14603 to 1.13774, saving model to saved_models/weights.best.transfer_example_six.hdf5\n",
      "1570/1570 [==============================] - 183s - loss: 0.9719 - acc: 0.6465 - val_loss: 1.1377 - val_acc: 0.5875\n",
      "Epoch 34/50\n",
      "1569/1570 [============================>.] - ETA: 0s - loss: 0.9607 - acc: 0.6508Epoch 00033: val_loss did not improve\n",
      "1570/1570 [==============================] - 182s - loss: 0.9606 - acc: 0.6508 - val_loss: 1.1673 - val_acc: 0.5668\n",
      "Epoch 35/50\n",
      "1569/1570 [============================>.] - ETA: 0s - loss: 0.9484 - acc: 0.6544Epoch 00034: val_loss improved from 1.13774 to 1.12145, saving model to saved_models/weights.best.transfer_example_six.hdf5\n",
      "1570/1570 [==============================] - 183s - loss: 0.9481 - acc: 0.6546 - val_loss: 1.1214 - val_acc: 0.5914\n",
      "Epoch 36/50\n",
      "1569/1570 [============================>.] - ETA: 0s - loss: 0.9311 - acc: 0.6614Epoch 00035: val_loss did not improve\n",
      "1570/1570 [==============================] - 182s - loss: 0.9312 - acc: 0.6614 - val_loss: 1.1647 - val_acc: 0.5894\n",
      "Epoch 37/50\n",
      "1569/1570 [============================>.] - ETA: 0s - loss: 0.9212 - acc: 0.6664Epoch 00036: val_loss did not improve\n",
      "1570/1570 [==============================] - 182s - loss: 0.9211 - acc: 0.6664 - val_loss: 1.1293 - val_acc: 0.5886\n",
      "Epoch 38/50\n",
      "1569/1570 [============================>.] - ETA: 0s - loss: 0.9026 - acc: 0.6761Epoch 00037: val_loss did not improve\n",
      "1570/1570 [==============================] - 182s - loss: 0.9025 - acc: 0.6761 - val_loss: 1.1412 - val_acc: 0.5894\n",
      "Epoch 39/50\n",
      "1569/1570 [============================>.] - ETA: 0s - loss: 0.8975 - acc: 0.6780Epoch 00038: val_loss did not improve\n",
      "1570/1570 [==============================] - 182s - loss: 0.8974 - acc: 0.6781 - val_loss: 1.1478 - val_acc: 0.5959\n",
      "Epoch 40/50\n",
      "1569/1570 [============================>.] - ETA: 0s - loss: 0.8697 - acc: 0.6901Epoch 00039: val_loss did not improve\n",
      "1570/1570 [==============================] - 182s - loss: 0.8695 - acc: 0.6902 - val_loss: 1.1568 - val_acc: 0.5961\n",
      "Epoch 41/50\n",
      "1569/1570 [============================>.] - ETA: 0s - loss: 0.8547 - acc: 0.6930Epoch 00040: val_loss did not improve\n",
      "1570/1570 [==============================] - 182s - loss: 0.8550 - acc: 0.6928 - val_loss: 1.1834 - val_acc: 0.5939\n",
      "Epoch 42/50\n",
      "1569/1570 [============================>.] - ETA: 0s - loss: 0.8434 - acc: 0.7006Epoch 00041: val_loss did not improve\n",
      "1570/1570 [==============================] - 182s - loss: 0.8431 - acc: 0.7008 - val_loss: 1.2852 - val_acc: 0.5620\n",
      "Epoch 43/50\n",
      "1569/1570 [============================>.] - ETA: 0s - loss: 0.8306 - acc: 0.7042Epoch 00042: val_loss did not improve\n",
      "1570/1570 [==============================] - 182s - loss: 0.8304 - acc: 0.7042 - val_loss: 1.1839 - val_acc: 0.6034\n",
      "Epoch 44/50\n",
      "1569/1570 [============================>.] - ETA: 0s - loss: 0.8123 - acc: 0.7140Epoch 00043: val_loss did not improve\n",
      "1570/1570 [==============================] - 182s - loss: 0.8122 - acc: 0.7141 - val_loss: 1.1875 - val_acc: 0.5931\n",
      "Epoch 45/50\n",
      "1569/1570 [============================>.] - ETA: 0s - loss: 0.7963 - acc: 0.7186Epoch 00044: val_loss did not improve\n",
      "1570/1570 [==============================] - 182s - loss: 0.7965 - acc: 0.7186 - val_loss: 1.2120 - val_acc: 0.5802\n",
      "Epoch 46/50\n",
      "1569/1570 [============================>.] - ETA: 0s - loss: 0.7781 - acc: 0.7277Epoch 00045: val_loss did not improve\n",
      "1570/1570 [==============================] - 182s - loss: 0.7782 - acc: 0.7277 - val_loss: 1.3796 - val_acc: 0.5567\n",
      "Epoch 47/50\n",
      "1569/1570 [============================>.] - ETA: 0s - loss: 0.7669 - acc: 0.7294Epoch 00046: val_loss did not improve\n",
      "1570/1570 [==============================] - 182s - loss: 0.7666 - acc: 0.7295 - val_loss: 1.1706 - val_acc: 0.6124\n",
      "Epoch 48/50\n",
      "1569/1570 [============================>.] - ETA: 0s - loss: 0.7511 - acc: 0.7369Epoch 00047: val_loss did not improve\n",
      "1570/1570 [==============================] - 182s - loss: 0.7511 - acc: 0.7368 - val_loss: 1.2024 - val_acc: 0.6031\n",
      "Epoch 49/50\n",
      "1569/1570 [============================>.] - ETA: 0s - loss: 0.7412 - acc: 0.7410Epoch 00048: val_loss did not improve\n",
      "1570/1570 [==============================] - 182s - loss: 0.7414 - acc: 0.7409 - val_loss: 1.2193 - val_acc: 0.6071\n",
      "Epoch 50/50\n",
      "1569/1570 [============================>.] - ETA: 0s - loss: 0.7236 - acc: 0.7508Epoch 00049: val_loss did not improve\n",
      "1570/1570 [==============================] - 182s - loss: 0.7234 - acc: 0.7509 - val_loss: 1.2288 - val_acc: 0.5992\n"
     ]
    }
   ],
   "source": [
    "checkpointer = ModelCheckpoint(filepath='saved_models/weights.best.transfer_example_six.hdf5', \n",
    "                               verbose=1, save_best_only=True)\n",
    "\n",
    "history = model_final.fit_generator(datagen_train_transf.flow(train_tensors_transf, train_targets_transf, batch_size=batch_size),\n",
    "                    steps_per_epoch=train_tensors_transf.shape[0] // batch_size,\n",
    "                    epochs=epochs, verbose=1, callbacks=[checkpointer],\n",
    "                    validation_data=datagen_valid_transf.flow(valid_tensors_transf, valid_targets_transf, batch_size=batch_size),\n",
    "                    validation_steps=valid_tensors_transf.shape[0] // batch_size)"
   ]
  },
  {
   "cell_type": "code",
   "execution_count": 59,
   "metadata": {},
   "outputs": [],
   "source": [
    "model_final.load_weights('saved_models/weights.best.transfer_example_six.hdf5')"
   ]
  },
  {
   "cell_type": "code",
   "execution_count": 60,
   "metadata": {},
   "outputs": [
    {
     "name": "stdout",
     "output_type": "stream",
     "text": [
      "dict_keys(['val_acc', 'acc', 'loss', 'val_loss'])\n"
     ]
    },
    {
     "data": {
      "image/png": "[encoded data removed]",
      "text/plain": [
       "<matplotlib.figure.Figure at 0x7fde080aef98>"
      ]
     },
     "metadata": {},
     "output_type": "display_data"
    }
   ],
   "source": [
    "# list all data in history\n",
    "print(history.history.keys())\n",
    "# summarize history for accuracy\n",
    "plt.plot(history.history['loss'])\n",
    "plt.plot(history.history['val_loss'])\n",
    "\n",
    "plt.legend(['train', 'validation'], loc='upper left')\n",
    "plt.title('Training and Validation data for VGG-19 transfer learning model')\n",
    "plt.xlabel('Training Epoch')\n",
    "plt.ylabel('Cross Entropy Loss')\n",
    "plt.show()\n",
    "\n",
    "#change to loss and val_loss to get categorical cross entropy plots!"
   ]
  },
  {
   "cell_type": "markdown",
   "metadata": {},
   "source": []
  },
  {
   "cell_type": "code",
   "execution_count": 61,
   "metadata": {},
   "outputs": [
    {
     "name": "stdout",
     "output_type": "stream",
     "text": [
      "Test accuracy: 61.0337%\n"
     ]
    }
   ],
   "source": [
    "# get index of predicted facial expression for test set images\n",
    "expression_predictions_transf = [np.argmax(model_final.predict(np.expand_dims(tensor, axis=0))) for tensor in test_tensors_transf]\n",
    "\n",
    "# report test accuracy\n",
    "test_accuracy = 100*np.sum(np.array(expression_predictions_transf)==np.argmax(test_targets_transf, axis=1))/len(expression_predictions_transf)\n",
    "print('Test accuracy: %.4f%%' % test_accuracy)"
   ]
  },
  {
   "cell_type": "code",
   "execution_count": null,
   "metadata": {},
   "outputs": [],
   "source": []
  },
  {
   "cell_type": "code",
   "execution_count": 62,
   "metadata": {},
   "outputs": [],
   "source": [
    "raw_preds = [model_final.predict(np.expand_dims(tensor, axis=0)) for tensor in test_tensors_transf]\n",
    "\n",
    "raw_preds = get_model_predictions(model_final, test_tensors_transf)"
   ]
  },
  {
   "cell_type": "code",
   "execution_count": 63,
   "metadata": {},
   "outputs": [
    {
     "name": "stdout",
     "output_type": "stream",
     "text": [
      "[ 0.2207897   0.06707966  0.38809004  0.01192824  0.21619065  0.03800069\n",
      "  0.05792108]\n"
     ]
    }
   ],
   "source": [
    "print(raw_preds[1][0])"
   ]
  },
  {
   "cell_type": "code",
   "execution_count": 64,
   "metadata": {},
   "outputs": [
    {
     "name": "stdout",
     "output_type": "stream",
     "text": [
      "[0 0 0 1 0 0 0]\n",
      "(7178, 1, 7)\n"
     ]
    }
   ],
   "source": [
    "print(test_targets_transf[0])\n",
    "\n",
    "print(np.array(raw_preds).shape)"
   ]
  },
  {
   "cell_type": "code",
   "execution_count": 65,
   "metadata": {},
   "outputs": [
    {
     "name": "stdout",
     "output_type": "stream",
     "text": [
      "7178\n",
      "(7178, 7)\n",
      "[[0 0 0 ..., 0 0 0]\n",
      " [0 0 0 ..., 1 0 0]\n",
      " [0 0 1 ..., 0 0 0]\n",
      " ..., \n",
      " [1 0 0 ..., 0 0 0]\n",
      " [0 0 0 ..., 1 0 0]\n",
      " [0 0 1 ..., 0 0 0]]\n"
     ]
    }
   ],
   "source": [
    "num_samples = np.array(raw_preds).shape[0]\n",
    "\n",
    "raw_preds_np = np.array(raw_preds,dtype='float32').reshape(num_samples,7)\n",
    "\n",
    "print(raw_preds_np.shape[0])\n",
    "\n",
    "print(test_targets_transf.shape)\n",
    "\n",
    "print(test_targets_transf)"
   ]
  },
  {
   "cell_type": "code",
   "execution_count": 66,
   "metadata": {},
   "outputs": [
    {
     "name": "stdout",
     "output_type": "stream",
     "text": [
      "1.0769218795470492\n"
     ]
    }
   ],
   "source": [
    "print(manual_total_cce(raw_preds_np, test_targets_transf))"
   ]
  },
  {
   "cell_type": "code",
   "execution_count": null,
   "metadata": {},
   "outputs": [],
   "source": [
    "\n",
    "    "
   ]
  },
  {
   "cell_type": "code",
   "execution_count": null,
   "metadata": {},
   "outputs": [],
   "source": []
  }
 ],
 "metadata": {
  "kernelspec": {
   "display_name": "Python 3",
   "language": "python",
   "name": "python3"
  },
  "language_info": {
   "codemirror_mode": {
    "name": "ipython",
    "version": 3
   },
   "file_extension": ".py",
   "mimetype": "text/x-python",
   "name": "python",
   "nbconvert_exporter": "python",
   "pygments_lexer": "ipython3",
   "version": "3.5.2"
  }
 },
 "nbformat": 4,
 "nbformat_minor": 2
}
