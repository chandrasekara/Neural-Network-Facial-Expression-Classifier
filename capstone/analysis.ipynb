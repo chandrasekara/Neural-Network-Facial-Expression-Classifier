{
 "cells": [
  {
   "cell_type": "markdown",
   "metadata": {},
   "source": [
    "# Machine Learning Engineer Nanodegree\n",
    "\n",
    "## Capstone Project\n",
    "\n",
    "### Using Computer Vision for Facial Expression Classification\n",
    "\n",
    "This project seeks to investigate the use of computer vision techniques to build a classifier that can classify different faces, based on facial expressions.\n",
    "\n",
    "A deep learning approach will be taken to this problem, investigating the use of convolutional neural networks (CNNs). \n",
    "\n",
    "A simple benchmark CNN will first be investigated, followed by a more complex and deep network.\n",
    "\n",
    "In addition, the use of pre-existing architectures for the [ImageNet challenge](http://www.image-net.org/challenges/LSVRC/) will be explored to aid performance in the facial expression classification problem. \n",
    "\n",
    "\n",
    "\n",
    "\n"
   ]
  },
  {
   "cell_type": "code",
   "execution_count": 1,
   "metadata": {
    "scrolled": true
   },
   "outputs": [
    {
     "name": "stderr",
     "output_type": "stream",
     "text": [
      "Using TensorFlow backend.\n"
     ]
    }
   ],
   "source": [
    "import pandas as pd\n",
    "import numpy as np\n",
    "import matplotlib.pyplot as plt\n",
    "\n",
    "from keras.datasets import mnist\n",
    "from keras.models import Sequential, Model\n",
    "from keras.layers import Dense, Dropout, Flatten\n",
    "from keras.layers import Conv2D, MaxPooling2D, GlobalAveragePooling2D\n",
    "from keras.callbacks import ModelCheckpoint  \n",
    "\n",
    "from keras import losses\n",
    "from keras import backend as K\n",
    "from keras import applications\n",
    "from keras import optimizers\n",
    "\n",
    "%matplotlib inline"
   ]
  },
  {
   "cell_type": "markdown",
   "metadata": {},
   "source": [
    "### Reading the Data\n",
    "\n",
    "The dataset can be obtained from [here](https://www.kaggle.com/c/challenges-in-representation-learning-facial-expression-recognition-challenge). For the purpose of this notebook, and determining the best classification model, only the first 15,000 entries will be used. Later, the entire dataset will be used for training, testing and validation on the optimal model, to gain an idea for the true performance of the model.\n",
    "\n",
    "Below, Pandas is used to read the input data into a Data Frame"
   ]
  },
  {
   "cell_type": "code",
   "execution_count": 2,
   "metadata": {},
   "outputs": [],
   "source": [
    "use_section_data = True\n",
    "smaller_section_data = False\n",
    "\n",
    "if use_section_data:\n",
    "    data = pd.read_csv(\"section_fer2013.csv\")    \n",
    "    if smaller_section_data:\n",
    "        data = pd.read_csv(\"smaller_section_fer2013.csv\")\n",
    "else:\n",
    "    data = pd.read_csv(\"fer2013cp.csv\")\n",
    "\n",
    "labels = data['emotion']\n",
    "\n",
    "features = data.drop(['emotion','Usage'], axis=1, inplace=False)\n"
   ]
  },
  {
   "cell_type": "markdown",
   "metadata": {},
   "source": [
    "### Pre-Processing the Data\n",
    "\n",
    "The raw data is in .csv format, with every pixel value listed in a single cell, for each image, separated by spaces.\n",
    "\n",
    "Below, each pixel value is separated, to be an individual value in a Python list, within a Data Frame.\n",
    "\n",
    "In addition, the data will be converted to a tensor format."
   ]
  },
  {
   "cell_type": "code",
   "execution_count": 3,
   "metadata": {},
   "outputs": [],
   "source": [
    "temp_list = []\n",
    "\n",
    "for i in features['pixels']:\n",
    "    temp_list.append(i.split())\n",
    "    \n",
    "features.drop('pixels',axis=1,inplace=True)\n",
    "\n",
    "features['pixels'] = pd.Series(temp_list)"
   ]
  },
  {
   "cell_type": "markdown",
   "metadata": {},
   "source": [
    "Of all of the data that has been imported, 20% will be used for training, 10% for validation, and 70% for training."
   ]
  },
  {
   "cell_type": "code",
   "execution_count": 4,
   "metadata": {},
   "outputs": [],
   "source": [
    "from sklearn.model_selection import train_test_split\n",
    "\n",
    "\n",
    "X_train, X_test, y_train, y_test = train_test_split(features,labels,test_size = 0.2, random_state=0)\n",
    "\n",
    "X_train, X_val, y_train, y_val = train_test_split(X_train, y_train, test_size = 0.125, random_state=0)"
   ]
  },
  {
   "cell_type": "code",
   "execution_count": 5,
   "metadata": {},
   "outputs": [],
   "source": [
    "def df_to_tensor(X_in, im_dim, reshape=True, triple_channels=False, horizontal_flip_double=False):\n",
    "    \n",
    "    # convert from the dataframe which contains Python lists with all pixel values, into a tensor, suitable for\n",
    "    # input into a convolutional neural network\n",
    "    \n",
    "    list_of_2d_arrays = []\n",
    "    \n",
    "    \n",
    "    \n",
    "    for image in X_in['pixels']:\n",
    "        pixel_array = []\n",
    "        \n",
    "        for pixel in image:\n",
    "            if not triple_channels:\n",
    "                pixel_array.append(int(pixel))\n",
    "            else:\n",
    "                pixel_array.append([int(pixel),int(pixel),int(pixel)])\n",
    "        \n",
    "        pixel_array = [pixel_array[x:x+im_dim] for x in range(0,len(pixel_array),im_dim)]\n",
    "        \n",
    "        \n",
    "        \n",
    "        list_of_2d_arrays.append(pixel_array)\n",
    "        \n",
    "    if horizontal_flip_double == True:\n",
    "        \n",
    "        reversed_array = []\n",
    "        \n",
    "        for pixel_row in pixel_array:\n",
    "            reversed_array.append(pixel_row[::-1])\n",
    "            \n",
    "        list_of_2d_arrays.append(reversed_array)\n",
    "            \n",
    "            \n",
    "        \n",
    "        \n",
    "    np_arr =  np.array(list_of_2d_arrays)\n",
    "    \n",
    "    #print(np_arr.shape)\n",
    "    if reshape:\n",
    "        return np_arr.reshape(np_arr.shape[0], 48, 48, 1)\n",
    "    else:\n",
    "        return np_arr"
   ]
  },
  {
   "cell_type": "markdown",
   "metadata": {},
   "source": [
    "### Sample Visualization\n",
    "\n",
    "A few of the images from the dataset will be plotted below."
   ]
  },
  {
   "cell_type": "code",
   "execution_count": 6,
   "metadata": {},
   "outputs": [],
   "source": [
    "# take a few sample images to provide a visualization\n",
    "\n",
    "samples = df_to_tensor(features,48)"
   ]
  },
  {
   "cell_type": "code",
   "execution_count": 7,
   "metadata": {
    "scrolled": true
   },
   "outputs": [
    {
     "data": {
      "image/png": "[encoded data removed]",
      "text/plain": [
       "<matplotlib.figure.Figure at 0x7f74a356d240>"
      ]
     },
     "metadata": {},
     "output_type": "display_data"
    }
   ],
   "source": [
    "seed_number = 21\n",
    "\n",
    "two_d_array = samples[seed_number].reshape(48,48)\n",
    "\n",
    "fig = plt.figure(figsize=(10, 10))\n",
    "\n",
    "num_rows = 3\n",
    "\n",
    "num_columns = 3\n",
    "\n",
    "hardcoded_labels = [\"Fear\", \"Anger\", \"Anger\", \"Happy\", \"Happy\",\n",
    "                   \"Happy\", \"Disgust\", \"Happy\", \"Surprised\"]\n",
    "\n",
    "for i in range(num_rows*num_columns):\n",
    "    ax = fig.add_subplot(num_rows,num_columns,i + 1)\n",
    "    ax.imshow(samples[seed_number + i].reshape(48,48), cmap='gray')\n",
    "    ax.title.set_text(hardcoded_labels[i])\n",
    "\n"
   ]
  },
  {
   "cell_type": "markdown",
   "metadata": {},
   "source": [
    "### Frequency of Expressions\n",
    "\n",
    "The distribution of how many times each expression appears in the dataset is important to inform what metrics are suitable for assessing the classifier. Below a bar graph showing the relative frequencies of each expression is shown."
   ]
  },
  {
   "cell_type": "code",
   "execution_count": 8,
   "metadata": {},
   "outputs": [
    {
     "data": {
      "image/png": "[encoded data removed]",
      "text/plain": [
       "<matplotlib.figure.Figure at 0x7f74a0fcbcf8>"
      ]
     },
     "metadata": {},
     "output_type": "display_data"
    }
   ],
   "source": [
    "# seeing the distribution of each emotion in the dataset\n",
    "\n",
    "frequency_list = np.zeros(7)\n",
    "\n",
    "for label in labels:\n",
    "    frequency_list[int(label)] += 1\n",
    "    \n",
    "emotion_indices = range(1,8)\n",
    "\n",
    "x_axis_labels = ['Angry','Disgust','Fear','Happy','Sad','Surprise',\n",
    "         'Neutral']\n",
    "\n",
    "\n",
    "bar = plt.bar(emotion_indices, frequency_list, align='center')\n",
    "\n",
    "plt.xticks(emotion_indices, x_axis_labels )\n",
    "\n",
    "plt.xlabel(\"Facial Expression\")\n",
    "\n",
    "plt.ylabel(\"Frequency of Occurence\")\n",
    "\n",
    "\n",
    "\n",
    "plt.show()"
   ]
  },
  {
   "cell_type": "code",
   "execution_count": 9,
   "metadata": {},
   "outputs": [],
   "source": [
    "train_tensors = df_to_tensor(X_train,48).astype('float32')/255\n",
    "valid_tensors = df_to_tensor(X_val,48).astype('float32')/255\n",
    "test_tensors = df_to_tensor(X_test,48).astype('float32')/255\n",
    "\n",
    "train_targets = np.array(pd.get_dummies(y_train))\n",
    "valid_targets = np.array(pd.get_dummies(y_val))\n",
    "test_targets = np.array(pd.get_dummies(y_test))\n"
   ]
  },
  {
   "cell_type": "code",
   "execution_count": 10,
   "metadata": {},
   "outputs": [],
   "source": [
    "img_width = 48\n",
    "img_height = 48"
   ]
  },
  {
   "cell_type": "markdown",
   "metadata": {},
   "source": [
    "### Evaluation Metrics\n",
    "\n",
    "Due to the uneven distribution of facial expressions in the dataset, illustrated above, accuracy alone is not a suitable measure of classifier performance. Instead <b>categorical cross entropy loss</b> will be used to rank classifiers.\n"
   ]
  },
  {
   "cell_type": "code",
   "execution_count": 87,
   "metadata": {},
   "outputs": [],
   "source": [
    "import numpy as np\n",
    "\n",
    "# this function probably isn't needed, now that you are able to make use of keras' categorical cross entropy function which\n",
    "# makes use of tensorflow\n",
    "\n",
    "def my_categorical_cross_entropy(predictions_vector, targets_vector, epsilon_ = 0.0001):\n",
    "    #calculates, for each individual sample, the contribution to the total categorical cross entropy of the predictions with respect to the targets\n",
    "\n",
    "    for i in range(len(predictions_vector)):\n",
    "        if predictions_vector[i] <= 0:\n",
    "            predictions_vector[i] = epsilon_\n",
    "    \n",
    "    predictions = np.array(predictions_vector)\n",
    "\n",
    "    targets = np.array(targets_vector)\n",
    "\n",
    "    log_vector = -np.log(predictions_vector)\n",
    "\n",
    "    return targets.dot(log_vector)\n"
   ]
  },
  {
   "cell_type": "code",
   "execution_count": 69,
   "metadata": {},
   "outputs": [],
   "source": [
    "def manual_total_cce(predictions, targets ):\n",
    "    \n",
    "    # predictions and targets inputs must be numpy arrays with the shape: (number of samples, number of classes)\n",
    "    \n",
    "    total = 0\n",
    "    \n",
    "    for i in range(predictions.shape[0]):\n",
    "        if predictions.shape[0] != targets.shape[0]:\n",
    "            print(\"WRONG INPUT DIMS!\")\n",
    "            return None\n",
    "        total += my_categorical_cross_entropy(predictions[i], targets[i])\n",
    "    \n",
    "    return float(total)/predictions.shape[0]"
   ]
  },
  {
   "cell_type": "code",
   "execution_count": 13,
   "metadata": {},
   "outputs": [],
   "source": [
    "# function for getting model predictions of a CNN\n",
    "\n",
    "#move this to higher up in the notebook later so you can use the same function for the other models\n",
    "\n",
    "def get_model_predictions(input_model, input_test_tensors):\n",
    "    # closely based on code provided in the Dog Breeds Classifier project\n",
    "    return [input_model.predict(np.expand_dims(tensor, axis=0)) for tensor in input_test_tensors]"
   ]
  },
  {
   "cell_type": "code",
   "execution_count": 14,
   "metadata": {},
   "outputs": [],
   "source": [
    "def get_model_accuracy(input_model, input_test_tensors, input_test_targets):\n",
    "    # closely based on code provided in the Dog Breeds Classifier project\n",
    "    # get index of predicted facial expression for test set images\n",
    "    expression_predictions = [np.argmax(input_model.predict(np.expand_dims(tensor, axis=0))) for tensor in input_test_tensors]\n",
    "\n",
    "    # report test accuracy\n",
    "    test_accuracy = 100*np.sum(np.array(expression_predictions)==np.argmax(input_test_targets, axis=1))/len(expression_predictions)\n",
    "    #print('Test accuracy: %.4f%%' % test_accuracy)\n",
    "    \n",
    "    return test_accuracy\n",
    "    "
   ]
  },
  {
   "cell_type": "markdown",
   "metadata": {},
   "source": [
    "### Baseline Model\n",
    "\n",
    "First, a simple CNN will be used to build a classifier, to which others can be compared. The baseline comprises only of two convolutional layers and a low amount of filters (ADD EXACT AMOUNT HERE AFTERWARD) and is expected to pick up basic features in the faces that will give it some degree of accuracy with the classification task\n"
   ]
  },
  {
   "cell_type": "code",
   "execution_count": 15,
   "metadata": {},
   "outputs": [
    {
     "name": "stdout",
     "output_type": "stream",
     "text": [
      "_________________________________________________________________\n",
      "Layer (type)                 Output Shape              Param #   \n",
      "=================================================================\n",
      "conv2d_1 (Conv2D)            (None, 48, 48, 16)        80        \n",
      "_________________________________________________________________\n",
      "max_pooling2d_1 (MaxPooling2 (None, 24, 24, 16)        0         \n",
      "_________________________________________________________________\n",
      "conv2d_2 (Conv2D)            (None, 24, 24, 32)        2080      \n",
      "_________________________________________________________________\n",
      "max_pooling2d_2 (MaxPooling2 (None, 12, 12, 32)        0         \n",
      "_________________________________________________________________\n",
      "flatten_1 (Flatten)          (None, 4608)              0         \n",
      "_________________________________________________________________\n",
      "dense_1 (Dense)              (None, 100)               460900    \n",
      "_________________________________________________________________\n",
      "dense_2 (Dense)              (None, 7)                 707       \n",
      "=================================================================\n",
      "Total params: 463,767.0\n",
      "Trainable params: 463,767.0\n",
      "Non-trainable params: 0.0\n",
      "_________________________________________________________________\n"
     ]
    }
   ],
   "source": [
    "model_baseline = Sequential()\n",
    "model_baseline.add(Conv2D(filters=16, kernel_size=2, padding='same', activation='relu', input_shape=(48,48,1)))\n",
    "model_baseline.add(MaxPooling2D(pool_size=2))\n",
    "model_baseline.add(Conv2D(filters=32, kernel_size=2, padding='same', activation='relu'))\n",
    "model_baseline.add(MaxPooling2D(pool_size=2))\n",
    "model_baseline.add(Flatten())\n",
    "model_baseline.add(Dense(100, activation='relu'))\n",
    "#temporarily adding dropout\n",
    "model_baseline.add(Dense(7, activation='softmax'))\n",
    "\n",
    "\n",
    "model_baseline.summary()"
   ]
  },
  {
   "cell_type": "code",
   "execution_count": 33,
   "metadata": {},
   "outputs": [],
   "source": [
    "model_baseline.compile(optimizer='rmsprop', loss='categorical_crossentropy', metrics=['accuracy'])"
   ]
  },
  {
   "cell_type": "code",
   "execution_count": 17,
   "metadata": {
    "scrolled": true
   },
   "outputs": [
    {
     "name": "stdout",
     "output_type": "stream",
     "text": [
      "Train on 10499 samples, validate on 1500 samples\n",
      "Epoch 1/20\n",
      "10440/10499 [============================>.] - ETA: 0s - loss: 1.7192 - acc: 0.3081Epoch 00000: val_loss improved from inf to 1.63521, saving model to saved_models/weights.best.baseline.hdf5\n",
      "10499/10499 [==============================] - 4s - loss: 1.7187 - acc: 0.3084 - val_loss: 1.6352 - val_acc: 0.3780\n",
      "Epoch 2/20\n",
      "10420/10499 [============================>.] - ETA: 0s - loss: 1.5521 - acc: 0.4018Epoch 00001: val_loss improved from 1.63521 to 1.56556, saving model to saved_models/weights.best.baseline.hdf5\n",
      "10499/10499 [==============================] - 3s - loss: 1.5511 - acc: 0.4023 - val_loss: 1.5656 - val_acc: 0.4067\n",
      "Epoch 3/20\n",
      "10420/10499 [============================>.] - ETA: 0s - loss: 1.4447 - acc: 0.4522Epoch 00002: val_loss improved from 1.56556 to 1.55372, saving model to saved_models/weights.best.baseline.hdf5\n",
      "10499/10499 [==============================] - 3s - loss: 1.4446 - acc: 0.4520 - val_loss: 1.5537 - val_acc: 0.4120\n",
      "Epoch 4/20\n",
      "10420/10499 [============================>.] - ETA: 0s - loss: 1.3599 - acc: 0.4853Epoch 00003: val_loss improved from 1.55372 to 1.53371, saving model to saved_models/weights.best.baseline.hdf5\n",
      "10499/10499 [==============================] - 3s - loss: 1.3606 - acc: 0.4849 - val_loss: 1.5337 - val_acc: 0.4227\n",
      "Epoch 5/20\n",
      "10420/10499 [============================>.] - ETA: 0s - loss: 1.2768 - acc: 0.5185Epoch 00004: val_loss improved from 1.53371 to 1.52184, saving model to saved_models/weights.best.baseline.hdf5\n",
      "10499/10499 [==============================] - 3s - loss: 1.2776 - acc: 0.5182 - val_loss: 1.5218 - val_acc: 0.4380\n",
      "Epoch 6/20\n",
      "10420/10499 [============================>.] - ETA: 0s - loss: 1.1974 - acc: 0.5535Epoch 00005: val_loss improved from 1.52184 to 1.51267, saving model to saved_models/weights.best.baseline.hdf5\n",
      "10499/10499 [==============================] - 3s - loss: 1.1978 - acc: 0.5533 - val_loss: 1.5127 - val_acc: 0.4447\n",
      "Epoch 7/20\n",
      "10420/10499 [============================>.] - ETA: 0s - loss: 1.1148 - acc: 0.5811Epoch 00006: val_loss did not improve\n",
      "10499/10499 [==============================] - 3s - loss: 1.1155 - acc: 0.5805 - val_loss: 1.5614 - val_acc: 0.4327\n",
      "Epoch 8/20\n",
      "10420/10499 [============================>.] - ETA: 0s - loss: 1.0322 - acc: 0.6216Epoch 00007: val_loss did not improve\n",
      "10499/10499 [==============================] - 3s - loss: 1.0321 - acc: 0.6217 - val_loss: 1.5732 - val_acc: 0.4360\n",
      "Epoch 9/20\n",
      "10420/10499 [============================>.] - ETA: 0s - loss: 0.9431 - acc: 0.6563Epoch 00008: val_loss did not improve\n",
      "10499/10499 [==============================] - 3s - loss: 0.9439 - acc: 0.6563 - val_loss: 1.6278 - val_acc: 0.4460\n",
      "Epoch 10/20\n",
      "10420/10499 [============================>.] - ETA: 0s - loss: 0.8478 - acc: 0.6978Epoch 00009: val_loss did not improve\n",
      "10499/10499 [==============================] - 3s - loss: 0.8481 - acc: 0.6979 - val_loss: 1.6852 - val_acc: 0.4367\n",
      "Epoch 11/20\n",
      "10420/10499 [============================>.] - ETA: 0s - loss: 0.7554 - acc: 0.7287Epoch 00010: val_loss did not improve\n",
      "10499/10499 [==============================] - 3s - loss: 0.7557 - acc: 0.7288 - val_loss: 1.8167 - val_acc: 0.4353\n",
      "Epoch 12/20\n",
      "10420/10499 [============================>.] - ETA: 0s - loss: 0.6650 - acc: 0.7675Epoch 00011: val_loss did not improve\n",
      "10499/10499 [==============================] - 3s - loss: 0.6643 - acc: 0.7675 - val_loss: 1.9300 - val_acc: 0.4487\n",
      "Epoch 13/20\n",
      "10420/10499 [============================>.] - ETA: 0s - loss: 0.5716 - acc: 0.8036Epoch 00012: val_loss did not improve\n",
      "10499/10499 [==============================] - 3s - loss: 0.5721 - acc: 0.8033 - val_loss: 2.0907 - val_acc: 0.4447\n",
      "Epoch 14/20\n",
      "10420/10499 [============================>.] - ETA: 0s - loss: 0.4880 - acc: 0.8310Epoch 00013: val_loss did not improve\n",
      "10499/10499 [==============================] - 3s - loss: 0.4887 - acc: 0.8307 - val_loss: 2.2676 - val_acc: 0.4347\n",
      "Epoch 15/20\n",
      "10420/10499 [============================>.] - ETA: 0s - loss: 0.4079 - acc: 0.8667Epoch 00014: val_loss did not improve\n",
      "10499/10499 [==============================] - 3s - loss: 0.4087 - acc: 0.8667 - val_loss: 2.4403 - val_acc: 0.4380\n",
      "Epoch 16/20\n",
      "10420/10499 [============================>.] - ETA: 0s - loss: 0.3366 - acc: 0.8878Epoch 00015: val_loss did not improve\n",
      "10499/10499 [==============================] - 3s - loss: 0.3367 - acc: 0.8875 - val_loss: 2.6224 - val_acc: 0.4380\n",
      "Epoch 17/20\n",
      "10420/10499 [============================>.] - ETA: 0s - loss: 0.2740 - acc: 0.9131Epoch 00016: val_loss did not improve\n",
      "10499/10499 [==============================] - 3s - loss: 0.2733 - acc: 0.9132 - val_loss: 3.0918 - val_acc: 0.4420\n",
      "Epoch 18/20\n",
      "10420/10499 [============================>.] - ETA: 0s - loss: 0.2149 - acc: 0.9349Epoch 00017: val_loss did not improve\n",
      "10499/10499 [==============================] - 3s - loss: 0.2146 - acc: 0.9350 - val_loss: 3.0841 - val_acc: 0.4367\n",
      "Epoch 19/20\n",
      "10420/10499 [============================>.] - ETA: 0s - loss: 0.1763 - acc: 0.9483Epoch 00018: val_loss did not improve\n",
      "10499/10499 [==============================] - 3s - loss: 0.1764 - acc: 0.9483 - val_loss: 3.3222 - val_acc: 0.4320\n",
      "Epoch 20/20\n",
      "10420/10499 [============================>.] - ETA: 0s - loss: 0.1418 - acc: 0.9590Epoch 00019: val_loss did not improve\n",
      "10499/10499 [==============================] - 3s - loss: 0.1419 - acc: 0.9589 - val_loss: 3.3489 - val_acc: 0.4293\n"
     ]
    }
   ],
   "source": [
    "# put repeated stuff into a function later on\n",
    "\n",
    "\n",
    "### TODO: specify the number of epochs that you would like to use to train the model.\n",
    "\n",
    "epochs = 20\n",
    "\n",
    "### Do NOT modify the code below this line.\n",
    "\n",
    "checkpointer = ModelCheckpoint(filepath='saved_models/weights.best.baseline.hdf5', \n",
    "                               verbose=1, save_best_only=True)\n",
    "\n",
    "history = model_baseline.fit(train_tensors, train_targets, \n",
    "          validation_data=(valid_tensors, valid_targets),\n",
    "          epochs=epochs, batch_size=20, callbacks=[checkpointer], verbose=1)"
   ]
  },
  {
   "cell_type": "code",
   "execution_count": 18,
   "metadata": {},
   "outputs": [],
   "source": [
    "model_baseline.load_weights('saved_models/weights.best.baseline.hdf5')"
   ]
  },
  {
   "cell_type": "code",
   "execution_count": 20,
   "metadata": {},
   "outputs": [
    {
     "name": "stdout",
     "output_type": "stream",
     "text": [
      "Test accuracy: 46.2000% \n"
     ]
    }
   ],
   "source": [
    "print(\"Test accuracy: %.4f%% \" % get_model_accuracy(model_baseline, test_tensors, test_targets))"
   ]
  },
  {
   "cell_type": "code",
   "execution_count": 30,
   "metadata": {},
   "outputs": [
    {
     "name": "stdout",
     "output_type": "stream",
     "text": [
      "53.3333333333\n"
     ]
    }
   ],
   "source": [
    "print(get_model_accuracy(model_baseline, test_tensors, test_targets))"
   ]
  },
  {
   "cell_type": "code",
   "execution_count": 24,
   "metadata": {},
   "outputs": [
    {
     "name": "stdout",
     "output_type": "stream",
     "text": [
      "dict_keys(['val_loss', 'val_acc', 'loss', 'acc'])\n"
     ]
    },
    {
     "data": {
      "image/png": "[encoded data removed]",
      "text/plain": [
       "<matplotlib.figure.Figure at 0x2d922cf3f28>"
      ]
     },
     "metadata": {},
     "output_type": "display_data"
    }
   ],
   "source": [
    "# list all data in history\n",
    "print(history.history.keys())\n",
    "# summarize history for accuracy\n",
    "plt.plot(history.history['acc'])\n",
    "plt.plot(history.history['val_acc'])\n",
    "plt.title('model accuracy')\n",
    "plt.ylabel('accuracy')\n",
    "plt.xlabel('epoch')\n",
    "plt.legend(['train', 'test'], loc='upper left')\n",
    "plt.show()"
   ]
  },
  {
   "cell_type": "code",
   "execution_count": 88,
   "metadata": {},
   "outputs": [
    {
     "name": "stdout",
     "output_type": "stream",
     "text": [
      "[[ 0.13636239  0.00739472  0.12860261 ...,  0.06149833  0.0276516\n",
      "   0.37994808]\n",
      " [ 0.38609937  0.0247804   0.06019731 ...,  0.18027559  0.02962567\n",
      "   0.17952356]\n",
      " [ 0.05365156  0.00116342  0.00853645 ...,  0.07653102  0.01195174\n",
      "   0.83958739]\n",
      " ..., \n",
      " [ 0.31616083  0.00810882  0.20319425 ...,  0.27322832  0.07748304\n",
      "   0.0333498 ]\n",
      " [ 0.42109144  0.03277703  0.06852021 ...,  0.03584544  0.3246716\n",
      "   0.06400522]\n",
      " [ 0.17982334  0.06187997  0.18478018 ...,  0.24129593  0.03021966\n",
      "   0.13939911]]\n",
      "(3000, 7)\n"
     ]
    }
   ],
   "source": [
    "preds_ = get_model_predictions(model_baseline, test_tensors)\n",
    "\n",
    "holder = np.array(preds_)\n",
    "\n",
    "preds_np = np.array(preds_, dtype='float32').reshape(holder.shape[0],7)\n",
    "\n",
    "print(preds_np)\n",
    "print(preds_np.shape)"
   ]
  },
  {
   "cell_type": "code",
   "execution_count": 89,
   "metadata": {},
   "outputs": [
    {
     "name": "stdout",
     "output_type": "stream",
     "text": [
      "1.4555574813968657\n"
     ]
    }
   ],
   "source": [
    "print(manual_total_cce(preds_np, test_targets))"
   ]
  },
  {
   "cell_type": "markdown",
   "metadata": {},
   "source": [
    "### Advanced Model"
   ]
  },
  {
   "cell_type": "markdown",
   "metadata": {},
   "source": [
    "### Image Augmentation\n",
    "\n",
    "\n"
   ]
  },
  {
   "cell_type": "code",
   "execution_count": 45,
   "metadata": {},
   "outputs": [],
   "source": [
    "from keras.preprocessing.image import ImageDataGenerator\n",
    "\n",
    "def augment_data(train_tensors_input, valid_tensors_input, shift_width=0.1, shift_height=0.1, flip_hor=True,\n",
    "                flip_vert=False):\n",
    "    \n",
    "    \n",
    "    \n",
    "    datagen_train = ImageDataGenerator(\n",
    "        width_shift_range = shift_width,\n",
    "        height_shift_range = shift_height,\n",
    "        horizontal_flip = flip_hor,\n",
    "        vertical_flip = flip_vert )\n",
    "\n",
    "    # create and configure augmented image generator\n",
    "    datagen_valid = ImageDataGenerator(\n",
    "        width_shift_range = shift_width,\n",
    "        height_shift_range = shift_height,\n",
    "        horizontal_flip = flip_hor,\n",
    "        vertical_flip = flip_vert )\n",
    "\n",
    "    # fit augmented image generator on data\n",
    "    datagen_train.fit(train_tensors_input)\n",
    "    datagen_valid.fit(valid_tensors_input)\n",
    "    \n",
    "    return (datagen_train, datagen_valid)\n",
    "    "
   ]
  },
  {
   "cell_type": "code",
   "execution_count": 46,
   "metadata": {},
   "outputs": [],
   "source": [
    "(datagen_train, datagen_valid) = augment_data(train_tensors, valid_tensors)"
   ]
  },
  {
   "cell_type": "code",
   "execution_count": 47,
   "metadata": {
    "scrolled": true
   },
   "outputs": [
    {
     "name": "stdout",
     "output_type": "stream",
     "text": [
      "_________________________________________________________________\n",
      "Layer (type)                 Output Shape              Param #   \n",
      "=================================================================\n",
      "conv2d_7 (Conv2D)            (None, 48, 48, 32)        320       \n",
      "_________________________________________________________________\n",
      "max_pooling2d_6 (MaxPooling2 (None, 24, 24, 32)        0         \n",
      "_________________________________________________________________\n",
      "conv2d_8 (Conv2D)            (None, 24, 24, 64)        18496     \n",
      "_________________________________________________________________\n",
      "conv2d_9 (Conv2D)            (None, 24, 24, 128)       73856     \n",
      "_________________________________________________________________\n",
      "max_pooling2d_7 (MaxPooling2 (None, 12, 12, 128)       0         \n",
      "_________________________________________________________________\n",
      "dropout_8 (Dropout)          (None, 12, 12, 128)       0         \n",
      "_________________________________________________________________\n",
      "conv2d_10 (Conv2D)           (None, 12, 12, 256)       295168    \n",
      "_________________________________________________________________\n",
      "max_pooling2d_8 (MaxPooling2 (None, 6, 6, 256)         0         \n",
      "_________________________________________________________________\n",
      "flatten_4 (Flatten)          (None, 9216)              0         \n",
      "_________________________________________________________________\n",
      "dense_11 (Dense)             (None, 1024)              9438208   \n",
      "_________________________________________________________________\n",
      "dropout_9 (Dropout)          (None, 1024)              0         \n",
      "_________________________________________________________________\n",
      "dense_12 (Dense)             (None, 1024)              1049600   \n",
      "_________________________________________________________________\n",
      "dropout_10 (Dropout)         (None, 1024)              0         \n",
      "_________________________________________________________________\n",
      "dense_13 (Dense)             (None, 7)                 7175      \n",
      "=================================================================\n",
      "Total params: 10,882,823.0\n",
      "Trainable params: 10,882,823.0\n",
      "Non-trainable params: 0.0\n",
      "_________________________________________________________________\n"
     ]
    }
   ],
   "source": [
    "\n",
    "\n",
    "model = Sequential()\n",
    "model.add(Conv2D(filters=32, kernel_size=3, padding='same', activation='relu',\n",
    "                 input_shape=(img_width, img_height, 1)))\n",
    "model.add(MaxPooling2D(pool_size=2))\n",
    "model.add(Conv2D(filters=64, kernel_size=3, padding='same', activation='relu'))\n",
    "\n",
    "model.add(Conv2D(filters=128, kernel_size=3, padding='same', activation='relu'))\n",
    "model.add(MaxPooling2D(pool_size=2))\n",
    "model.add(Dropout(0.25))\n",
    "model.add(Conv2D(filters=256, kernel_size=3, padding='same', activation='relu'))\n",
    "model.add(Flatten())\n",
    "model.add(Dense(1024, activation='relu'))\n",
    "model.add(Dropout(0.25))\n",
    "model.add(Dense(1024, activation='relu'))\n",
    "model.add(Dropout(0.25))\n",
    "model.add(Dense(7, activation='softmax'))\n",
    "\n",
    "\n",
    "model.summary()"
   ]
  },
  {
   "cell_type": "code",
   "execution_count": 48,
   "metadata": {},
   "outputs": [],
   "source": [
    "model.compile(optimizer='rmsprop', loss='categorical_crossentropy', metrics=['accuracy'])"
   ]
  },
  {
   "cell_type": "code",
   "execution_count": 49,
   "metadata": {},
   "outputs": [
    {
     "name": "stdout",
     "output_type": "stream",
     "text": [
      "Epoch 1/20\n",
      "523/524 [============================>.] - ETA: 0s - loss: 1.8299 - acc: 0.2464Epoch 00000: val_loss improved from inf to 1.78566, saving model to saved_models/weights.best.from_scratch_augmentation.hdf5\n",
      "524/524 [==============================] - 20s - loss: 1.8295 - acc: 0.2466 - val_loss: 1.7857 - val_acc: 0.2573\n",
      "Epoch 2/20\n",
      "523/524 [============================>.] - ETA: 0s - loss: 1.7211 - acc: 0.2926Epoch 00001: val_loss improved from 1.78566 to 1.69835, saving model to saved_models/weights.best.from_scratch_augmentation.hdf5\n",
      "524/524 [==============================] - 20s - loss: 1.7216 - acc: 0.2923 - val_loss: 1.6983 - val_acc: 0.3113\n",
      "Epoch 3/20\n",
      "523/524 [============================>.] - ETA: 0s - loss: 1.6503 - acc: 0.3426Epoch 00002: val_loss improved from 1.69835 to 1.67006, saving model to saved_models/weights.best.from_scratch_augmentation.hdf5\n",
      "524/524 [==============================] - 20s - loss: 1.6499 - acc: 0.3426 - val_loss: 1.6701 - val_acc: 0.3440\n",
      "Epoch 4/20\n",
      "523/524 [============================>.] - ETA: 0s - loss: 1.5839 - acc: 0.3790Epoch 00003: val_loss improved from 1.67006 to 1.55745, saving model to saved_models/weights.best.from_scratch_augmentation.hdf5\n",
      "524/524 [==============================] - 20s - loss: 1.5836 - acc: 0.3791 - val_loss: 1.5575 - val_acc: 0.3747\n",
      "Epoch 5/20\n",
      "523/524 [============================>.] - ETA: 0s - loss: 1.5246 - acc: 0.4078Epoch 00004: val_loss improved from 1.55745 to 1.48331, saving model to saved_models/weights.best.from_scratch_augmentation.hdf5\n",
      "524/524 [==============================] - 18s - loss: 1.5243 - acc: 0.4079 - val_loss: 1.4833 - val_acc: 0.4200\n",
      "Epoch 6/20\n",
      "523/524 [============================>.] - ETA: 0s - loss: 1.4880 - acc: 0.4206Epoch 00005: val_loss improved from 1.48331 to 1.46218, saving model to saved_models/weights.best.from_scratch_augmentation.hdf5\n",
      "524/524 [==============================] - 20s - loss: 1.4877 - acc: 0.4209 - val_loss: 1.4622 - val_acc: 0.4393\n",
      "Epoch 7/20\n",
      "523/524 [============================>.] - ETA: 0s - loss: 1.4699 - acc: 0.4368Epoch 00006: val_loss improved from 1.46218 to 1.45728, saving model to saved_models/weights.best.from_scratch_augmentation.hdf5\n",
      "524/524 [==============================] - 20s - loss: 1.4703 - acc: 0.4365 - val_loss: 1.4573 - val_acc: 0.4400\n",
      "Epoch 8/20\n",
      "523/524 [============================>.] - ETA: 0s - loss: 1.4554 - acc: 0.4422Epoch 00007: val_loss improved from 1.45728 to 1.45542, saving model to saved_models/weights.best.from_scratch_augmentation.hdf5\n",
      "524/524 [==============================] - 20s - loss: 1.4545 - acc: 0.4425 - val_loss: 1.4554 - val_acc: 0.4320\n",
      "Epoch 9/20\n",
      "523/524 [============================>.] - ETA: 0s - loss: 1.4386 - acc: 0.4441Epoch 00008: val_loss did not improve\n",
      "524/524 [==============================] - 16s - loss: 1.4390 - acc: 0.4436 - val_loss: 1.4649 - val_acc: 0.4340\n",
      "Epoch 10/20\n",
      "523/524 [============================>.] - ETA: 0s - loss: 1.4312 - acc: 0.4545Epoch 00009: val_loss improved from 1.45542 to 1.37653, saving model to saved_models/weights.best.from_scratch_augmentation.hdf5\n",
      "524/524 [==============================] - 20s - loss: 1.4314 - acc: 0.4543 - val_loss: 1.3765 - val_acc: 0.4680\n",
      "Epoch 11/20\n",
      "523/524 [============================>.] - ETA: 0s - loss: 1.4372 - acc: 0.4513Epoch 00010: val_loss did not improve\n",
      "524/524 [==============================] - 16s - loss: 1.4364 - acc: 0.4515 - val_loss: 1.4582 - val_acc: 0.4447\n",
      "Epoch 12/20\n",
      "523/524 [============================>.] - ETA: 0s - loss: 1.4380 - acc: 0.4519Epoch 00011: val_loss did not improve\n",
      "524/524 [==============================] - 16s - loss: 1.4376 - acc: 0.4523 - val_loss: 1.3981 - val_acc: 0.4567\n",
      "Epoch 13/20\n",
      "523/524 [============================>.] - ETA: 0s - loss: 1.4439 - acc: 0.4526Epoch 00012: val_loss did not improve\n",
      "524/524 [==============================] - 16s - loss: 1.4444 - acc: 0.4525 - val_loss: 1.3972 - val_acc: 0.4573\n",
      "Epoch 14/20\n",
      "523/524 [============================>.] - ETA: 0s - loss: 1.4410 - acc: 0.4544Epoch 00013: val_loss did not improve\n",
      "524/524 [==============================] - 16s - loss: 1.4411 - acc: 0.4544 - val_loss: 1.3794 - val_acc: 0.4780\n",
      "Epoch 15/20\n",
      "523/524 [============================>.] - ETA: 0s - loss: 1.4422 - acc: 0.4509Epoch 00014: val_loss did not improve\n",
      "524/524 [==============================] - 16s - loss: 1.4414 - acc: 0.4512 - val_loss: 1.3936 - val_acc: 0.4360\n",
      "Epoch 16/20\n",
      "523/524 [============================>.] - ETA: 0s - loss: 1.4569 - acc: 0.4436Epoch 00015: val_loss improved from 1.37653 to 1.37623, saving model to saved_models/weights.best.from_scratch_augmentation.hdf5\n",
      "524/524 [==============================] - 20s - loss: 1.4570 - acc: 0.4434 - val_loss: 1.3762 - val_acc: 0.4747\n",
      "Epoch 17/20\n",
      "523/524 [============================>.] - ETA: 0s - loss: 1.4510 - acc: 0.4571Epoch 00016: val_loss did not improve\n",
      "524/524 [==============================] - 16s - loss: 1.4512 - acc: 0.4569 - val_loss: 1.5015 - val_acc: 0.4273\n",
      "Epoch 18/20\n",
      "523/524 [============================>.] - ETA: 0s - loss: 1.4606 - acc: 0.4487Epoch 00017: val_loss did not improve\n",
      "524/524 [==============================] - 16s - loss: 1.4610 - acc: 0.4485 - val_loss: 1.5423 - val_acc: 0.3893\n",
      "Epoch 19/20\n",
      "523/524 [============================>.] - ETA: 0s - loss: 1.4598 - acc: 0.4439Epoch 00018: val_loss did not improve\n",
      "524/524 [==============================] - 16s - loss: 1.4599 - acc: 0.4435 - val_loss: 1.4188 - val_acc: 0.4513\n",
      "Epoch 20/20\n",
      "523/524 [============================>.] - ETA: 0s - loss: 1.4614 - acc: 0.4454Epoch 00019: val_loss did not improve\n",
      "524/524 [==============================] - 16s - loss: 1.4613 - acc: 0.4458 - val_loss: 1.5516 - val_acc: 0.4113\n"
     ]
    }
   ],
   "source": [
    "\n",
    "### TODO: specify the number of epochs that you would like to use to train the model.\n",
    "\n",
    "epochs = 20\n",
    "\n",
    "\n",
    "\n",
    "### Do NOT modify the code below this line.\n",
    "\n",
    "checkpointer = ModelCheckpoint(filepath='saved_models/weights.best.from_scratch_augmentation.hdf5', \n",
    "                               verbose=1, save_best_only=True)\n",
    "\n",
    "\"\"\"\n",
    "#Without image augmentation\n",
    "model.fit(train_tensors, train_targets, \n",
    "          validation_data=(valid_tensors, valid_targets),\n",
    "          epochs=epochs, batch_size=20, callbacks=[checkpointer], verbose=1)\n",
    "\"\"\"\n",
    "\n",
    "\n",
    "#With image augmentation\n",
    "\n",
    "batch_size = 20\n",
    "\n",
    "history = model.fit_generator(datagen_train.flow(train_tensors, train_targets, batch_size=batch_size),\n",
    "                    steps_per_epoch=train_tensors.shape[0] // batch_size,\n",
    "                    epochs=epochs, verbose=1, callbacks=[checkpointer],\n",
    "                    validation_data=datagen_valid.flow(valid_tensors, valid_targets, batch_size=batch_size),\n",
    "                    validation_steps=valid_tensors.shape[0] // batch_size)"
   ]
  },
  {
   "cell_type": "code",
   "execution_count": 63,
   "metadata": {},
   "outputs": [],
   "source": [
    "model.load_weights('saved_models/weights.best.from_scratch_augmentation.hdf5')"
   ]
  },
  {
   "cell_type": "code",
   "execution_count": 64,
   "metadata": {},
   "outputs": [
    {
     "name": "stdout",
     "output_type": "stream",
     "text": [
      "Test accuracy: 48.5000% \n"
     ]
    }
   ],
   "source": [
    "# get index of predicted facial expression for test set images\n",
    "print(\"Test accuracy: %.4f%% \" % get_model_accuracy(model, test_tensors, test_targets))"
   ]
  },
  {
   "cell_type": "code",
   "execution_count": 65,
   "metadata": {},
   "outputs": [
    {
     "name": "stdout",
     "output_type": "stream",
     "text": [
      "dict_keys(['val_loss', 'val_acc', 'loss', 'acc'])\n"
     ]
    },
    {
     "data": {
      "image/png": "[encoded data removed]",
      "text/plain": [
       "<matplotlib.figure.Figure at 0x7f7428de8048>"
      ]
     },
     "metadata": {},
     "output_type": "display_data"
    }
   ],
   "source": [
    "# list all data in history\n",
    "print(history.history.keys())\n",
    "# summarize history for accuracy\n",
    "plt.plot(history.history['acc'])\n",
    "plt.plot(history.history['val_acc'])\n",
    "plt.title('model accuracy')\n",
    "plt.ylabel('accuracy')\n",
    "plt.xlabel('epoch')\n",
    "plt.legend(['train', 'test'], loc='upper left')\n",
    "plt.show()"
   ]
  },
  {
   "cell_type": "code",
   "execution_count": 91,
   "metadata": {},
   "outputs": [
    {
     "name": "stdout",
     "output_type": "stream",
     "text": [
      "[[  1.26200750e-01   3.91729288e-02   1.04062401e-01 ...,   1.56545773e-01\n",
      "    3.47963460e-02   1.66180477e-01]\n",
      " [  1.77921653e-01   2.53715292e-02   1.47572756e-01 ...,   3.75835240e-01\n",
      "    7.16363965e-03   1.76970825e-01]\n",
      " [  6.68144003e-02   2.18844297e-03   9.77557302e-02 ...,   1.50211960e-01\n",
      "    3.19869444e-02   6.09350801e-01]\n",
      " ..., \n",
      " [  1.27489924e-01   3.74303292e-03   1.68599665e-01 ...,   7.13883787e-02\n",
      "    3.53145957e-01   3.74666341e-02]\n",
      " [  3.64968628e-01   1.03477195e-01   1.86278597e-01 ...,   8.62275809e-02\n",
      "    1.29775122e-01   4.06030640e-02]\n",
      " [  2.70753894e-02   7.27167644e-05   2.29592010e-01 ...,   1.17440052e-01\n",
      "    1.55217782e-01   3.82214874e-01]]\n",
      "(3000, 7)\n"
     ]
    }
   ],
   "source": [
    "preds_ = get_model_predictions(model, test_tensors)\n",
    "\n",
    "#after computation is finished change model_baseline to model\n",
    "\n",
    "holder = np.array(preds_)\n",
    "\n",
    "preds_np = np.array(preds_, dtype='float32').reshape(holder.shape[0],7)\n",
    "\n",
    "print(preds_np)\n",
    "print(preds_np.shape)"
   ]
  },
  {
   "cell_type": "code",
   "execution_count": 92,
   "metadata": {},
   "outputs": [
    {
     "name": "stdout",
     "output_type": "stream",
     "text": [
      "(3000, 7)\n"
     ]
    }
   ],
   "source": [
    "print(test_targets.shape)"
   ]
  },
  {
   "cell_type": "code",
   "execution_count": 93,
   "metadata": {},
   "outputs": [
    {
     "name": "stdout",
     "output_type": "stream",
     "text": [
      "1.3660752822164715\n"
     ]
    }
   ],
   "source": [
    "print(manual_total_cce(preds_np, test_targets))"
   ]
  },
  {
   "cell_type": "markdown",
   "metadata": {},
   "source": [
    "### Transfer Learning\n",
    "\n",
    "It is suitable to explore the use of other CNNs that have been used for other computer vision applications. Below, the performance of the pre-trained networks Inception, VGG-19 and Resnet50 will be explored"
   ]
  },
  {
   "cell_type": "code",
   "execution_count": 26,
   "metadata": {},
   "outputs": [],
   "source": [
    "#import cv2\n",
    "\n",
    "X_train_transf, X_test_transf, X_val_transf = X_train, X_test, X_val\n",
    "\n",
    "y_train_transf, y_test_transf, y_val_transf = y_train, y_test, y_val\n",
    "\n",
    "\n",
    "sample = df_to_tensor(X_train_transf, 48, reshape=False)\n",
    "\n",
    "#sample.shape"
   ]
  },
  {
   "cell_type": "code",
   "execution_count": 27,
   "metadata": {},
   "outputs": [],
   "source": [
    "# creating transfer tensors\n",
    "\n",
    "train_tensors_transf = df_to_tensor(X_train_transf,48,reshape=False, triple_channels=True).astype('float32')/255\n",
    "valid_tensors_transf = df_to_tensor(X_val_transf,48, reshape=False, triple_channels=True).astype('float32')/255\n",
    "test_tensors_transf = df_to_tensor(X_test_transf,48, reshape=False, triple_channels=True).astype('float32')/255\n",
    "\n",
    "train_targets_transf = np.array(pd.get_dummies(y_train_transf))\n",
    "valid_targets_transf = np.array(pd.get_dummies(y_val_transf))\n",
    "test_targets_transf = np.array(pd.get_dummies(y_test_transf))\n"
   ]
  },
  {
   "cell_type": "code",
   "execution_count": 28,
   "metadata": {},
   "outputs": [
    {
     "name": "stdout",
     "output_type": "stream",
     "text": [
      "Downloading data from https://github.com/fchollet/deep-learning-models/releases/download/v0.1/vgg19_weights_tf_dim_ordering_tf_kernels_notop.h5\n",
      "_________________________________________________________________\n",
      "Layer (type)                 Output Shape              Param #   \n",
      "=================================================================\n",
      "input_1 (InputLayer)         (None, 48, 48, 3)         0         \n",
      "_________________________________________________________________\n",
      "block1_conv1 (Conv2D)        (None, 48, 48, 64)        1792      \n",
      "_________________________________________________________________\n",
      "block1_conv2 (Conv2D)        (None, 48, 48, 64)        36928     \n",
      "_________________________________________________________________\n",
      "block1_pool (MaxPooling2D)   (None, 24, 24, 64)        0         \n",
      "_________________________________________________________________\n",
      "block2_conv1 (Conv2D)        (None, 24, 24, 128)       73856     \n",
      "_________________________________________________________________\n",
      "block2_conv2 (Conv2D)        (None, 24, 24, 128)       147584    \n",
      "_________________________________________________________________\n",
      "block2_pool (MaxPooling2D)   (None, 12, 12, 128)       0         \n",
      "_________________________________________________________________\n",
      "block3_conv1 (Conv2D)        (None, 12, 12, 256)       295168    \n",
      "_________________________________________________________________\n",
      "block3_conv2 (Conv2D)        (None, 12, 12, 256)       590080    \n",
      "_________________________________________________________________\n",
      "block3_conv3 (Conv2D)        (None, 12, 12, 256)       590080    \n",
      "_________________________________________________________________\n",
      "block3_conv4 (Conv2D)        (None, 12, 12, 256)       590080    \n",
      "_________________________________________________________________\n",
      "block3_pool (MaxPooling2D)   (None, 6, 6, 256)         0         \n",
      "_________________________________________________________________\n",
      "block4_conv1 (Conv2D)        (None, 6, 6, 512)         1180160   \n",
      "_________________________________________________________________\n",
      "block4_conv2 (Conv2D)        (None, 6, 6, 512)         2359808   \n",
      "_________________________________________________________________\n",
      "block4_conv3 (Conv2D)        (None, 6, 6, 512)         2359808   \n",
      "_________________________________________________________________\n",
      "block4_conv4 (Conv2D)        (None, 6, 6, 512)         2359808   \n",
      "_________________________________________________________________\n",
      "block4_pool (MaxPooling2D)   (None, 3, 3, 512)         0         \n",
      "_________________________________________________________________\n",
      "block5_conv1 (Conv2D)        (None, 3, 3, 512)         2359808   \n",
      "_________________________________________________________________\n",
      "block5_conv2 (Conv2D)        (None, 3, 3, 512)         2359808   \n",
      "_________________________________________________________________\n",
      "block5_conv3 (Conv2D)        (None, 3, 3, 512)         2359808   \n",
      "_________________________________________________________________\n",
      "block5_conv4 (Conv2D)        (None, 3, 3, 512)         2359808   \n",
      "_________________________________________________________________\n",
      "block5_pool (MaxPooling2D)   (None, 1, 1, 512)         0         \n",
      "=================================================================\n",
      "Total params: 20,024,384.0\n",
      "Trainable params: 20,024,384.0\n",
      "Non-trainable params: 0.0\n",
      "_________________________________________________________________\n"
     ]
    }
   ],
   "source": [
    "# Note: the code below is an adaptation of a code snippet by Prakash Jay,\n",
    "# obtained from: https://towardsdatascience.com/transfer-learning-using-keras-d804b2e04ef8\n",
    "\n",
    "img_width, img_height = 48, 48\n",
    "\"\"\"\n",
    "train_data_dir = \"data/train\"\n",
    "validation_data_dir = \"data/val\"\n",
    "nb_train_samples = 4125\n",
    "nb_validation_samples = 466 \n",
    "\"\"\"\n",
    "batch_size = 16\n",
    "epochs = 50\n",
    "\n",
    "model = applications.VGG19(weights = \"imagenet\", include_top=False, input_shape = (img_width, img_height, 3))\n",
    "\n",
    "\n",
    "model.summary()\n"
   ]
  },
  {
   "cell_type": "code",
   "execution_count": 29,
   "metadata": {},
   "outputs": [],
   "source": [
    "# Image augmentation for transfer model\n",
    "\n",
    "from keras.preprocessing.image import ImageDataGenerator\n",
    "\n",
    "# create and configure augmented image generator\n",
    "datagen_train_transf = ImageDataGenerator(\n",
    "    width_shift_range=0.1,  # randomly shift images horizontally (10% of total width)\n",
    "    height_shift_range=0.1,  # randomly shift images vertically (10% of total height)\n",
    "    horizontal_flip=True) # randomly flip images horizontally\n",
    "\n",
    "# create and configure augmented image generator\n",
    "datagen_valid_transf = ImageDataGenerator(\n",
    "    width_shift_range=0.1,  # randomly shift images horizontally (10% of total width)\n",
    "    height_shift_range=0.1,  # randomly shift images vertically (10% of total height)\n",
    "    horizontal_flip=True) # randomly flip images horizontally\n",
    "\n",
    "# fit augmented image generator on data\n",
    "datagen_train_transf.fit(train_tensors_transf)\n",
    "datagen_valid_transf.fit(valid_tensors_transf)"
   ]
  },
  {
   "cell_type": "code",
   "execution_count": 30,
   "metadata": {},
   "outputs": [
    {
     "data": {
      "text/plain": [
       "'\\nfor layer in model.layers:\\n    layer.trainable = False\\n'"
      ]
     },
     "execution_count": 30,
     "metadata": {},
     "output_type": "execute_result"
    }
   ],
   "source": [
    "\"\"\"\n",
    "for layer in model.layers:\n",
    "    layer.trainable = False\n",
    "\"\"\"\n",
    "\n",
    "#allow training in initial layers for now, to see what the result is"
   ]
  },
  {
   "cell_type": "code",
   "execution_count": 31,
   "metadata": {},
   "outputs": [
    {
     "name": "stdout",
     "output_type": "stream",
     "text": [
      "_________________________________________________________________\n",
      "Layer (type)                 Output Shape              Param #   \n",
      "=================================================================\n",
      "input_1 (InputLayer)         (None, 48, 48, 3)         0         \n",
      "_________________________________________________________________\n",
      "block1_conv1 (Conv2D)        (None, 48, 48, 64)        1792      \n",
      "_________________________________________________________________\n",
      "block1_conv2 (Conv2D)        (None, 48, 48, 64)        36928     \n",
      "_________________________________________________________________\n",
      "block1_pool (MaxPooling2D)   (None, 24, 24, 64)        0         \n",
      "_________________________________________________________________\n",
      "block2_conv1 (Conv2D)        (None, 24, 24, 128)       73856     \n",
      "_________________________________________________________________\n",
      "block2_conv2 (Conv2D)        (None, 24, 24, 128)       147584    \n",
      "_________________________________________________________________\n",
      "block2_pool (MaxPooling2D)   (None, 12, 12, 128)       0         \n",
      "_________________________________________________________________\n",
      "block3_conv1 (Conv2D)        (None, 12, 12, 256)       295168    \n",
      "_________________________________________________________________\n",
      "block3_conv2 (Conv2D)        (None, 12, 12, 256)       590080    \n",
      "_________________________________________________________________\n",
      "block3_conv3 (Conv2D)        (None, 12, 12, 256)       590080    \n",
      "_________________________________________________________________\n",
      "block3_conv4 (Conv2D)        (None, 12, 12, 256)       590080    \n",
      "_________________________________________________________________\n",
      "block3_pool (MaxPooling2D)   (None, 6, 6, 256)         0         \n",
      "_________________________________________________________________\n",
      "block4_conv1 (Conv2D)        (None, 6, 6, 512)         1180160   \n",
      "_________________________________________________________________\n",
      "block4_conv2 (Conv2D)        (None, 6, 6, 512)         2359808   \n",
      "_________________________________________________________________\n",
      "block4_conv3 (Conv2D)        (None, 6, 6, 512)         2359808   \n",
      "_________________________________________________________________\n",
      "block4_conv4 (Conv2D)        (None, 6, 6, 512)         2359808   \n",
      "_________________________________________________________________\n",
      "block4_pool (MaxPooling2D)   (None, 3, 3, 512)         0         \n",
      "_________________________________________________________________\n",
      "block5_conv1 (Conv2D)        (None, 3, 3, 512)         2359808   \n",
      "_________________________________________________________________\n",
      "block5_conv2 (Conv2D)        (None, 3, 3, 512)         2359808   \n",
      "_________________________________________________________________\n",
      "block5_conv3 (Conv2D)        (None, 3, 3, 512)         2359808   \n",
      "_________________________________________________________________\n",
      "block5_conv4 (Conv2D)        (None, 3, 3, 512)         2359808   \n",
      "_________________________________________________________________\n",
      "block5_pool (MaxPooling2D)   (None, 1, 1, 512)         0         \n",
      "_________________________________________________________________\n",
      "flatten_3 (Flatten)          (None, 512)               0         \n",
      "_________________________________________________________________\n",
      "dense_6 (Dense)              (None, 1024)              525312    \n",
      "_________________________________________________________________\n",
      "dropout_4 (Dropout)          (None, 1024)              0         \n",
      "_________________________________________________________________\n",
      "dense_7 (Dense)              (None, 1024)              1049600   \n",
      "_________________________________________________________________\n",
      "dropout_5 (Dropout)          (None, 1024)              0         \n",
      "_________________________________________________________________\n",
      "dense_8 (Dense)              (None, 1024)              1049600   \n",
      "_________________________________________________________________\n",
      "dropout_6 (Dropout)          (None, 1024)              0         \n",
      "_________________________________________________________________\n",
      "dense_9 (Dense)              (None, 1024)              1049600   \n",
      "_________________________________________________________________\n",
      "dropout_7 (Dropout)          (None, 1024)              0         \n",
      "_________________________________________________________________\n",
      "dense_10 (Dense)             (None, 7)                 7175      \n",
      "=================================================================\n",
      "Total params: 23,705,671.0\n",
      "Trainable params: 23,705,671.0\n",
      "Non-trainable params: 0.0\n",
      "_________________________________________________________________\n"
     ]
    },
    {
     "name": "stderr",
     "output_type": "stream",
     "text": [
      "/usr/local/lib/python3.5/dist-packages/ipykernel_launcher.py:18: UserWarning: Update your `Model` call to the Keras 2 API: `Model(inputs=Tensor(\"in..., outputs=Tensor(\"de...)`\n"
     ]
    }
   ],
   "source": [
    "# duplicate of prakash jay code\n",
    "x = model.output\n",
    "x = Flatten()(x)\n",
    "x = Dense(1024, activation=\"relu\")(x)\n",
    "x = Dropout(0.5)(x)\n",
    "x = Dense(1024, activation=\"relu\")(x)\n",
    "x = Dropout(0.5)(x)\n",
    "#two additional dense layers below with same dropout\n",
    "#unsure whether it will help, go back to two if \n",
    "#needed\n",
    "x = Dense(1024, activation=\"relu\")(x)\n",
    "x = Dropout(0.5)(x)\n",
    "x = Dense(1024, activation=\"relu\")(x)\n",
    "x = Dropout(0.5)(x)\n",
    "predictions = Dense(7, activation=\"softmax\")(x)\n",
    "\n",
    "# creating the final model \n",
    "model_final = Model(input = model.input, output = predictions)\n",
    "\n",
    "# compile the model \n",
    "model_final.compile(loss = \"categorical_crossentropy\", optimizer = optimizers.SGD(lr=0.0001, momentum=0.9), metrics=[\"accuracy\"])\n",
    "\n",
    "model_final.summary()"
   ]
  },
  {
   "cell_type": "code",
   "execution_count": 32,
   "metadata": {},
   "outputs": [
    {
     "name": "stdout",
     "output_type": "stream",
     "text": [
      "Epoch 1/50\n",
      "655/656 [============================>.] - ETA: 0s - loss: 1.8951 - acc: 0.2088Epoch 00000: val_loss improved from inf to 1.84672, saving model to saved_models/weights.best.transfer_example_six.hdf5\n",
      "656/656 [==============================] - 74s - loss: 1.8950 - acc: 0.2087 - val_loss: 1.8467 - val_acc: 0.2386\n",
      "Epoch 2/50\n",
      "655/656 [============================>.] - ETA: 0s - loss: 1.8239 - acc: 0.2281Epoch 00001: val_loss improved from 1.84672 to 1.80897, saving model to saved_models/weights.best.transfer_example_six.hdf5\n",
      "656/656 [==============================] - 82s - loss: 1.8240 - acc: 0.2283 - val_loss: 1.8090 - val_acc: 0.2399\n",
      "Epoch 3/50\n",
      "136/656 [=====>........................] - ETA: 56s - loss: 1.7877 - acc: 0.2471"
     ]
    },
    {
     "ename": "KeyboardInterrupt",
     "evalue": "",
     "output_type": "error",
     "traceback": [
      "\u001b[0;31m---------------------------------------------------------------------------\u001b[0m",
      "\u001b[0;31mKeyboardInterrupt\u001b[0m                         Traceback (most recent call last)",
      "\u001b[0;32m<ipython-input-32-4464f775d60b>\u001b[0m in \u001b[0;36m<module>\u001b[0;34m()\u001b[0m\n\u001b[1;32m      6\u001b[0m                     \u001b[0mepochs\u001b[0m\u001b[0;34m=\u001b[0m\u001b[0mepochs\u001b[0m\u001b[0;34m,\u001b[0m \u001b[0mverbose\u001b[0m\u001b[0;34m=\u001b[0m\u001b[0;36m1\u001b[0m\u001b[0;34m,\u001b[0m \u001b[0mcallbacks\u001b[0m\u001b[0;34m=\u001b[0m\u001b[0;34m[\u001b[0m\u001b[0mcheckpointer\u001b[0m\u001b[0;34m]\u001b[0m\u001b[0;34m,\u001b[0m\u001b[0;34m\u001b[0m\u001b[0m\n\u001b[1;32m      7\u001b[0m                     \u001b[0mvalidation_data\u001b[0m\u001b[0;34m=\u001b[0m\u001b[0mdatagen_valid_transf\u001b[0m\u001b[0;34m.\u001b[0m\u001b[0mflow\u001b[0m\u001b[0;34m(\u001b[0m\u001b[0mvalid_tensors_transf\u001b[0m\u001b[0;34m,\u001b[0m \u001b[0mvalid_targets_transf\u001b[0m\u001b[0;34m,\u001b[0m \u001b[0mbatch_size\u001b[0m\u001b[0;34m=\u001b[0m\u001b[0mbatch_size\u001b[0m\u001b[0;34m)\u001b[0m\u001b[0;34m,\u001b[0m\u001b[0;34m\u001b[0m\u001b[0m\n\u001b[0;32m----> 8\u001b[0;31m                     validation_steps=valid_tensors_transf.shape[0] // batch_size)\n\u001b[0m",
      "\u001b[0;32m/usr/local/lib/python3.5/dist-packages/keras/legacy/interfaces.py\u001b[0m in \u001b[0;36mwrapper\u001b[0;34m(*args, **kwargs)\u001b[0m\n\u001b[1;32m     86\u001b[0m                 warnings.warn('Update your `' + object_name +\n\u001b[1;32m     87\u001b[0m                               '` call to the Keras 2 API: ' + signature, stacklevel=2)\n\u001b[0;32m---> 88\u001b[0;31m             \u001b[0;32mreturn\u001b[0m \u001b[0mfunc\u001b[0m\u001b[0;34m(\u001b[0m\u001b[0;34m*\u001b[0m\u001b[0margs\u001b[0m\u001b[0;34m,\u001b[0m \u001b[0;34m**\u001b[0m\u001b[0mkwargs\u001b[0m\u001b[0;34m)\u001b[0m\u001b[0;34m\u001b[0m\u001b[0m\n\u001b[0m\u001b[1;32m     89\u001b[0m         \u001b[0mwrapper\u001b[0m\u001b[0;34m.\u001b[0m\u001b[0m_legacy_support_signature\u001b[0m \u001b[0;34m=\u001b[0m \u001b[0minspect\u001b[0m\u001b[0;34m.\u001b[0m\u001b[0mgetargspec\u001b[0m\u001b[0;34m(\u001b[0m\u001b[0mfunc\u001b[0m\u001b[0;34m)\u001b[0m\u001b[0;34m\u001b[0m\u001b[0m\n\u001b[1;32m     90\u001b[0m         \u001b[0;32mreturn\u001b[0m \u001b[0mwrapper\u001b[0m\u001b[0;34m\u001b[0m\u001b[0m\n",
      "\u001b[0;32m/usr/local/lib/python3.5/dist-packages/keras/engine/training.py\u001b[0m in \u001b[0;36mfit_generator\u001b[0;34m(self, generator, steps_per_epoch, epochs, verbose, callbacks, validation_data, validation_steps, class_weight, max_q_size, workers, pickle_safe, initial_epoch)\u001b[0m\n\u001b[1;32m   1874\u001b[0m                     outs = self.train_on_batch(x, y,\n\u001b[1;32m   1875\u001b[0m                                                \u001b[0msample_weight\u001b[0m\u001b[0;34m=\u001b[0m\u001b[0msample_weight\u001b[0m\u001b[0;34m,\u001b[0m\u001b[0;34m\u001b[0m\u001b[0m\n\u001b[0;32m-> 1876\u001b[0;31m                                                class_weight=class_weight)\n\u001b[0m\u001b[1;32m   1877\u001b[0m \u001b[0;34m\u001b[0m\u001b[0m\n\u001b[1;32m   1878\u001b[0m                     \u001b[0;32mif\u001b[0m \u001b[0;32mnot\u001b[0m \u001b[0misinstance\u001b[0m\u001b[0;34m(\u001b[0m\u001b[0mouts\u001b[0m\u001b[0;34m,\u001b[0m \u001b[0mlist\u001b[0m\u001b[0;34m)\u001b[0m\u001b[0;34m:\u001b[0m\u001b[0;34m\u001b[0m\u001b[0m\n",
      "\u001b[0;32m/usr/local/lib/python3.5/dist-packages/keras/engine/training.py\u001b[0m in \u001b[0;36mtrain_on_batch\u001b[0;34m(self, x, y, sample_weight, class_weight)\u001b[0m\n\u001b[1;32m   1618\u001b[0m             \u001b[0mins\u001b[0m \u001b[0;34m=\u001b[0m \u001b[0mx\u001b[0m \u001b[0;34m+\u001b[0m \u001b[0my\u001b[0m \u001b[0;34m+\u001b[0m \u001b[0msample_weights\u001b[0m\u001b[0;34m\u001b[0m\u001b[0m\n\u001b[1;32m   1619\u001b[0m         \u001b[0mself\u001b[0m\u001b[0;34m.\u001b[0m\u001b[0m_make_train_function\u001b[0m\u001b[0;34m(\u001b[0m\u001b[0;34m)\u001b[0m\u001b[0;34m\u001b[0m\u001b[0m\n\u001b[0;32m-> 1620\u001b[0;31m         \u001b[0moutputs\u001b[0m \u001b[0;34m=\u001b[0m \u001b[0mself\u001b[0m\u001b[0;34m.\u001b[0m\u001b[0mtrain_function\u001b[0m\u001b[0;34m(\u001b[0m\u001b[0mins\u001b[0m\u001b[0;34m)\u001b[0m\u001b[0;34m\u001b[0m\u001b[0m\n\u001b[0m\u001b[1;32m   1621\u001b[0m         \u001b[0;32mif\u001b[0m \u001b[0mlen\u001b[0m\u001b[0;34m(\u001b[0m\u001b[0moutputs\u001b[0m\u001b[0;34m)\u001b[0m \u001b[0;34m==\u001b[0m \u001b[0;36m1\u001b[0m\u001b[0;34m:\u001b[0m\u001b[0;34m\u001b[0m\u001b[0m\n\u001b[1;32m   1622\u001b[0m             \u001b[0;32mreturn\u001b[0m \u001b[0moutputs\u001b[0m\u001b[0;34m[\u001b[0m\u001b[0;36m0\u001b[0m\u001b[0;34m]\u001b[0m\u001b[0;34m\u001b[0m\u001b[0m\n",
      "\u001b[0;32m/usr/local/lib/python3.5/dist-packages/keras/backend/tensorflow_backend.py\u001b[0m in \u001b[0;36m__call__\u001b[0;34m(self, inputs)\u001b[0m\n\u001b[1;32m   2071\u001b[0m         \u001b[0msession\u001b[0m \u001b[0;34m=\u001b[0m \u001b[0mget_session\u001b[0m\u001b[0;34m(\u001b[0m\u001b[0;34m)\u001b[0m\u001b[0;34m\u001b[0m\u001b[0m\n\u001b[1;32m   2072\u001b[0m         updated = session.run(self.outputs + [self.updates_op],\n\u001b[0;32m-> 2073\u001b[0;31m                               feed_dict=feed_dict)\n\u001b[0m\u001b[1;32m   2074\u001b[0m         \u001b[0;32mreturn\u001b[0m \u001b[0mupdated\u001b[0m\u001b[0;34m[\u001b[0m\u001b[0;34m:\u001b[0m\u001b[0mlen\u001b[0m\u001b[0;34m(\u001b[0m\u001b[0mself\u001b[0m\u001b[0;34m.\u001b[0m\u001b[0moutputs\u001b[0m\u001b[0;34m)\u001b[0m\u001b[0;34m]\u001b[0m\u001b[0;34m\u001b[0m\u001b[0m\n\u001b[1;32m   2075\u001b[0m \u001b[0;34m\u001b[0m\u001b[0m\n",
      "\u001b[0;32m/usr/local/lib/python3.5/dist-packages/tensorflow/python/client/session.py\u001b[0m in \u001b[0;36mrun\u001b[0;34m(self, fetches, feed_dict, options, run_metadata)\u001b[0m\n\u001b[1;32m    765\u001b[0m     \u001b[0;32mtry\u001b[0m\u001b[0;34m:\u001b[0m\u001b[0;34m\u001b[0m\u001b[0m\n\u001b[1;32m    766\u001b[0m       result = self._run(None, fetches, feed_dict, options_ptr,\n\u001b[0;32m--> 767\u001b[0;31m                          run_metadata_ptr)\n\u001b[0m\u001b[1;32m    768\u001b[0m       \u001b[0;32mif\u001b[0m \u001b[0mrun_metadata\u001b[0m\u001b[0;34m:\u001b[0m\u001b[0;34m\u001b[0m\u001b[0m\n\u001b[1;32m    769\u001b[0m         \u001b[0mproto_data\u001b[0m \u001b[0;34m=\u001b[0m \u001b[0mtf_session\u001b[0m\u001b[0;34m.\u001b[0m\u001b[0mTF_GetBuffer\u001b[0m\u001b[0;34m(\u001b[0m\u001b[0mrun_metadata_ptr\u001b[0m\u001b[0;34m)\u001b[0m\u001b[0;34m\u001b[0m\u001b[0m\n",
      "\u001b[0;32m/usr/local/lib/python3.5/dist-packages/tensorflow/python/client/session.py\u001b[0m in \u001b[0;36m_run\u001b[0;34m(self, handle, fetches, feed_dict, options, run_metadata)\u001b[0m\n\u001b[1;32m    963\u001b[0m     \u001b[0;32mif\u001b[0m \u001b[0mfinal_fetches\u001b[0m \u001b[0;32mor\u001b[0m \u001b[0mfinal_targets\u001b[0m\u001b[0;34m:\u001b[0m\u001b[0;34m\u001b[0m\u001b[0m\n\u001b[1;32m    964\u001b[0m       results = self._do_run(handle, final_targets, final_fetches,\n\u001b[0;32m--> 965\u001b[0;31m                              feed_dict_string, options, run_metadata)\n\u001b[0m\u001b[1;32m    966\u001b[0m     \u001b[0;32melse\u001b[0m\u001b[0;34m:\u001b[0m\u001b[0;34m\u001b[0m\u001b[0m\n\u001b[1;32m    967\u001b[0m       \u001b[0mresults\u001b[0m \u001b[0;34m=\u001b[0m \u001b[0;34m[\u001b[0m\u001b[0;34m]\u001b[0m\u001b[0;34m\u001b[0m\u001b[0m\n",
      "\u001b[0;32m/usr/local/lib/python3.5/dist-packages/tensorflow/python/client/session.py\u001b[0m in \u001b[0;36m_do_run\u001b[0;34m(self, handle, target_list, fetch_list, feed_dict, options, run_metadata)\u001b[0m\n\u001b[1;32m   1013\u001b[0m     \u001b[0;32mif\u001b[0m \u001b[0mhandle\u001b[0m \u001b[0;32mis\u001b[0m \u001b[0;32mNone\u001b[0m\u001b[0;34m:\u001b[0m\u001b[0;34m\u001b[0m\u001b[0m\n\u001b[1;32m   1014\u001b[0m       return self._do_call(_run_fn, self._session, feed_dict, fetch_list,\n\u001b[0;32m-> 1015\u001b[0;31m                            target_list, options, run_metadata)\n\u001b[0m\u001b[1;32m   1016\u001b[0m     \u001b[0;32melse\u001b[0m\u001b[0;34m:\u001b[0m\u001b[0;34m\u001b[0m\u001b[0m\n\u001b[1;32m   1017\u001b[0m       return self._do_call(_prun_fn, self._session, handle, feed_dict,\n",
      "\u001b[0;32m/usr/local/lib/python3.5/dist-packages/tensorflow/python/client/session.py\u001b[0m in \u001b[0;36m_do_call\u001b[0;34m(self, fn, *args)\u001b[0m\n\u001b[1;32m   1020\u001b[0m   \u001b[0;32mdef\u001b[0m \u001b[0m_do_call\u001b[0m\u001b[0;34m(\u001b[0m\u001b[0mself\u001b[0m\u001b[0;34m,\u001b[0m \u001b[0mfn\u001b[0m\u001b[0;34m,\u001b[0m \u001b[0;34m*\u001b[0m\u001b[0margs\u001b[0m\u001b[0;34m)\u001b[0m\u001b[0;34m:\u001b[0m\u001b[0;34m\u001b[0m\u001b[0m\n\u001b[1;32m   1021\u001b[0m     \u001b[0;32mtry\u001b[0m\u001b[0;34m:\u001b[0m\u001b[0;34m\u001b[0m\u001b[0m\n\u001b[0;32m-> 1022\u001b[0;31m       \u001b[0;32mreturn\u001b[0m \u001b[0mfn\u001b[0m\u001b[0;34m(\u001b[0m\u001b[0;34m*\u001b[0m\u001b[0margs\u001b[0m\u001b[0;34m)\u001b[0m\u001b[0;34m\u001b[0m\u001b[0m\n\u001b[0m\u001b[1;32m   1023\u001b[0m     \u001b[0;32mexcept\u001b[0m \u001b[0merrors\u001b[0m\u001b[0;34m.\u001b[0m\u001b[0mOpError\u001b[0m \u001b[0;32mas\u001b[0m \u001b[0me\u001b[0m\u001b[0;34m:\u001b[0m\u001b[0;34m\u001b[0m\u001b[0m\n\u001b[1;32m   1024\u001b[0m       \u001b[0mmessage\u001b[0m \u001b[0;34m=\u001b[0m \u001b[0mcompat\u001b[0m\u001b[0;34m.\u001b[0m\u001b[0mas_text\u001b[0m\u001b[0;34m(\u001b[0m\u001b[0me\u001b[0m\u001b[0;34m.\u001b[0m\u001b[0mmessage\u001b[0m\u001b[0;34m)\u001b[0m\u001b[0;34m\u001b[0m\u001b[0m\n",
      "\u001b[0;32m/usr/local/lib/python3.5/dist-packages/tensorflow/python/client/session.py\u001b[0m in \u001b[0;36m_run_fn\u001b[0;34m(session, feed_dict, fetch_list, target_list, options, run_metadata)\u001b[0m\n\u001b[1;32m   1002\u001b[0m         return tf_session.TF_Run(session, options,\n\u001b[1;32m   1003\u001b[0m                                  \u001b[0mfeed_dict\u001b[0m\u001b[0;34m,\u001b[0m \u001b[0mfetch_list\u001b[0m\u001b[0;34m,\u001b[0m \u001b[0mtarget_list\u001b[0m\u001b[0;34m,\u001b[0m\u001b[0;34m\u001b[0m\u001b[0m\n\u001b[0;32m-> 1004\u001b[0;31m                                  status, run_metadata)\n\u001b[0m\u001b[1;32m   1005\u001b[0m \u001b[0;34m\u001b[0m\u001b[0m\n\u001b[1;32m   1006\u001b[0m     \u001b[0;32mdef\u001b[0m \u001b[0m_prun_fn\u001b[0m\u001b[0;34m(\u001b[0m\u001b[0msession\u001b[0m\u001b[0;34m,\u001b[0m \u001b[0mhandle\u001b[0m\u001b[0;34m,\u001b[0m \u001b[0mfeed_dict\u001b[0m\u001b[0;34m,\u001b[0m \u001b[0mfetch_list\u001b[0m\u001b[0;34m)\u001b[0m\u001b[0;34m:\u001b[0m\u001b[0;34m\u001b[0m\u001b[0m\n",
      "\u001b[0;31mKeyboardInterrupt\u001b[0m: "
     ]
    }
   ],
   "source": [
    "checkpointer = ModelCheckpoint(filepath='saved_models/weights.best.transfer_example_six.hdf5', \n",
    "                               verbose=1, save_best_only=True)\n",
    "\n",
    "history = model_final.fit_generator(datagen_train_transf.flow(train_tensors_transf, train_targets_transf, batch_size=batch_size),\n",
    "                    steps_per_epoch=train_tensors_transf.shape[0] // batch_size,\n",
    "                    epochs=epochs, verbose=1, callbacks=[checkpointer],\n",
    "                    validation_data=datagen_valid_transf.flow(valid_tensors_transf, valid_targets_transf, batch_size=batch_size),\n",
    "                    validation_steps=valid_tensors_transf.shape[0] // batch_size)"
   ]
  },
  {
   "cell_type": "code",
   "execution_count": 34,
   "metadata": {},
   "outputs": [],
   "source": [
    "model_final.load_weights('saved_models/weights.best.transfer_example_six.hdf5')"
   ]
  },
  {
   "cell_type": "code",
   "execution_count": 35,
   "metadata": {},
   "outputs": [
    {
     "name": "stdout",
     "output_type": "stream",
     "text": [
      "dict_keys(['val_loss', 'val_acc', 'loss', 'acc'])\n"
     ]
    },
    {
     "data": {
      "image/png": "[encoded data removed]",
      "text/plain": [
       "<matplotlib.figure.Figure at 0x7f7478156a20>"
      ]
     },
     "metadata": {},
     "output_type": "display_data"
    }
   ],
   "source": [
    "# list all data in history\n",
    "print(history.history.keys())\n",
    "# summarize history for accuracy\n",
    "plt.plot(history.history['loss'])\n",
    "plt.plot(history.history['val_loss'])\n",
    "\n",
    "plt.legend(['train', 'validation'], loc='upper left')\n",
    "plt.title('Training and Validation data for VGG-19 transfer learning model')\n",
    "plt.xlabel('Training Epoch')\n",
    "plt.ylabel('Cross Entropy Loss')\n",
    "plt.show()\n",
    "\n",
    "#change to loss and val_loss to get categorical cross entropy plots!"
   ]
  },
  {
   "cell_type": "code",
   "execution_count": null,
   "metadata": {
    "collapsed": true
   },
   "outputs": [],
   "source": []
  },
  {
   "cell_type": "code",
   "execution_count": 36,
   "metadata": {},
   "outputs": [
    {
     "name": "stdout",
     "output_type": "stream",
     "text": [
      "Test accuracy: 25.8000%\n"
     ]
    }
   ],
   "source": [
    "# get index of predicted facial expression for test set images\n",
    "expression_predictions_transf = [np.argmax(model_final.predict(np.expand_dims(tensor, axis=0))) for tensor in test_tensors_transf]\n",
    "\n",
    "# report test accuracy\n",
    "test_accuracy = 100*np.sum(np.array(expression_predictions_transf)==np.argmax(test_targets_transf, axis=1))/len(expression_predictions_transf)\n",
    "print('Test accuracy: %.4f%%' % test_accuracy)"
   ]
  },
  {
   "cell_type": "code",
   "execution_count": null,
   "metadata": {},
   "outputs": [],
   "source": []
  },
  {
   "cell_type": "code",
   "execution_count": 37,
   "metadata": {},
   "outputs": [],
   "source": [
    "raw_preds = [model_final.predict(np.expand_dims(tensor, axis=0)) for tensor in test_tensors_transf]\n",
    "\n",
    "raw_preds = get_model_predictions(model_final, test_tensors_transf)"
   ]
  },
  {
   "cell_type": "code",
   "execution_count": 38,
   "metadata": {},
   "outputs": [
    {
     "name": "stdout",
     "output_type": "stream",
     "text": [
      "[ 0.14222252  0.07077898  0.15497373  0.2003064   0.16067798  0.10911507\n",
      "  0.16192529]\n"
     ]
    }
   ],
   "source": [
    "print(raw_preds[1][0])"
   ]
  },
  {
   "cell_type": "code",
   "execution_count": 39,
   "metadata": {},
   "outputs": [
    {
     "name": "stdout",
     "output_type": "stream",
     "text": [
      "[0 0 0 1 0 0 0]\n",
      "(3000, 1, 7)\n"
     ]
    }
   ],
   "source": [
    "print(test_targets_transf[0])\n",
    "\n",
    "print(np.array(raw_preds).shape)"
   ]
  },
  {
   "cell_type": "code",
   "execution_count": 40,
   "metadata": {},
   "outputs": [
    {
     "name": "stdout",
     "output_type": "stream",
     "text": [
      "3000\n",
      "(3000, 7)\n",
      "[[0 0 0 ..., 0 0 0]\n",
      " [0 0 0 ..., 1 0 0]\n",
      " [0 0 0 ..., 0 0 1]\n",
      " ..., \n",
      " [0 0 0 ..., 0 1 0]\n",
      " [1 0 0 ..., 0 0 0]\n",
      " [0 0 0 ..., 0 0 1]]\n"
     ]
    }
   ],
   "source": [
    "num_samples = np.array(raw_preds).shape[0]\n",
    "\n",
    "raw_preds_np = np.array(raw_preds,dtype='float32').reshape(num_samples,7)\n",
    "\n",
    "print(raw_preds_np.shape[0])\n",
    "\n",
    "print(test_targets_transf.shape)\n",
    "\n",
    "print(test_targets_transf)"
   ]
  },
  {
   "cell_type": "code",
   "execution_count": 41,
   "metadata": {},
   "outputs": [
    {
     "name": "stdout",
     "output_type": "stream",
     "text": [
      "1.80042451529\n"
     ]
    }
   ],
   "source": [
    "print(manual_total_cce(raw_preds_np, test_targets_transf))"
   ]
  },
  {
   "cell_type": "code",
   "execution_count": 32,
   "metadata": {
    "collapsed": true
   },
   "outputs": [],
   "source": [
    "\n",
    "    "
   ]
  },
  {
   "cell_type": "code",
   "execution_count": null,
   "metadata": {
    "collapsed": true
   },
   "outputs": [],
   "source": []
  }
 ],
 "metadata": {
  "kernelspec": {
   "display_name": "Python 3",
   "language": "python",
   "name": "python3"
  },
  "language_info": {
   "codemirror_mode": {
    "name": "ipython",
    "version": 3
   },
   "file_extension": ".py",
   "mimetype": "text/x-python",
   "name": "python",
   "nbconvert_exporter": "python",
   "pygments_lexer": "ipython3",
   "version": "3.5.2"
  }
 },
 "nbformat": 4,
 "nbformat_minor": 2
}
