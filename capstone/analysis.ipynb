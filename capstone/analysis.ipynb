{
 "cells": [
  {
   "cell_type": "markdown",
   "metadata": {},
   "source": [
    "# Machine Learning Engineer Nanodegree\n",
    "\n",
    "## Capstone Project\n",
    "\n",
    "### Using Computer Vision for Facial Expression Classification\n",
    "\n",
    "This project seeks to investigate the use of computer vision techniques to build a classifier that can classify different faces, based on facial expressions.\n",
    "\n",
    "A deep learning approach will be taken to this problem, investigating the use of convolutional neural networks (CNNs). \n",
    "\n",
    "A simple benchmark CNN will first be investigated, followed by a more complex and deep network.\n",
    "\n",
    "In addition, the use of pre-trained networks for the ImageNet challenge (link to something here) will be explored to aid performance in the facial expression classification problem. \n",
    "\n",
    "\n",
    "\n",
    "\n"
   ]
  },
  {
   "cell_type": "code",
   "execution_count": 6,
   "metadata": {},
   "outputs": [],
   "source": [
    "import pandas as pd\n",
    "import numpy as np\n",
    "import matplotlib.pyplot as plt\n",
    "\n",
    "from keras.datasets import mnist\n",
    "from keras.models import Sequential, Model\n",
    "from keras.layers import Dense, Dropout, Flatten\n",
    "from keras.layers import Conv2D, MaxPooling2D, GlobalAveragePooling2D\n",
    "from keras.callbacks import ModelCheckpoint  \n",
    "\n",
    "from keras import backend as K\n",
    "from keras import applications\n",
    "from keras import optimizers\n",
    "\n",
    "%matplotlib inline"
   ]
  },
  {
   "cell_type": "markdown",
   "metadata": {},
   "source": [
    "### Reading the Data\n",
    "\n",
    "The dataset can be obtained from [here](https://www.kaggle.com/c/challenges-in-representation-learning-facial-expression-recognition-challenge). For the purpose of this notebook, and determining the best classification model, only the first 15,000 entries will be used. Later, the entire dataset will be used for training, testing and validation on the optimal model, to gain an idea for the true performance of the model.\n",
    "\n",
    "Below, Pandas is used to read the input data into a Data Frame"
   ]
  },
  {
   "cell_type": "code",
   "execution_count": 7,
   "metadata": {
    "collapsed": true
   },
   "outputs": [],
   "source": [
    "data = pd.read_csv(\"fer2013cp.csv\")\n",
    "\n",
    "labels = data['emotion']\n",
    "\n",
    "features = data.drop(['emotion','Usage'], axis=1, inplace=False)\n"
   ]
  },
  {
   "cell_type": "markdown",
   "metadata": {},
   "source": [
    "### Pre-Processing the Data\n",
    "\n",
    "The raw data is in .csv format, with every pixel value listed in a single cell, for each image, separated by spaces.\n",
    "\n",
    "Below, each pixel value is separated, to be an individual value in a Python list, within a Data Frame.\n",
    "\n",
    "In addition, the data will be converted to a tensor format."
   ]
  },
  {
   "cell_type": "code",
   "execution_count": 8,
   "metadata": {
    "collapsed": true
   },
   "outputs": [],
   "source": [
    "temp_list = []\n",
    "\n",
    "for i in features['pixels']:\n",
    "    temp_list.append(i.split())\n",
    "    \n",
    "features.drop('pixels',axis=1,inplace=True)\n",
    "\n",
    "features['pixels'] = pd.Series(temp_list)"
   ]
  },
  {
   "cell_type": "markdown",
   "metadata": {},
   "source": [
    "Of all of the data that has been imported, 20% will be used for training, 10% for validation, and 70% for training."
   ]
  },
  {
   "cell_type": "code",
   "execution_count": 9,
   "metadata": {
    "collapsed": true
   },
   "outputs": [],
   "source": [
    "from sklearn.model_selection import train_test_split\n",
    "\n",
    "\n",
    "X_train, X_test, y_train, y_test = train_test_split(features,labels,test_size = 0.2, random_state=0)\n",
    "\n",
    "X_train, X_val, y_train, y_val = train_test_split(X_train, y_train, test_size = 0.125, random_state=0)"
   ]
  },
  {
   "cell_type": "code",
   "execution_count": 10,
   "metadata": {
    "collapsed": true
   },
   "outputs": [],
   "source": [
    "def df_to_tensor(X_in, im_dim, reshape=True, triple_channels=False):\n",
    "    \n",
    "    # convert from the dataframe which contains Python lists with all pixel values, into a tensor, suitable for\n",
    "    # input into a convolutional neural network\n",
    "    \n",
    "    list_of_2d_arrays = []\n",
    "    \n",
    "    \n",
    "    \n",
    "    for image in X_in['pixels']:\n",
    "        pixel_array = []\n",
    "        \n",
    "        for pixel in image:\n",
    "            if not triple_channels:\n",
    "                pixel_array.append(int(pixel))\n",
    "            else:\n",
    "                pixel_array.append([int(pixel),int(pixel),int(pixel)])\n",
    "        \n",
    "        pixel_array = [pixel_array[x:x+im_dim] for x in range(0,len(pixel_array),im_dim)]\n",
    "        \n",
    "        \n",
    "        \n",
    "        list_of_2d_arrays.append(pixel_array)\n",
    "        \n",
    "    np_arr =  np.array(list_of_2d_arrays)\n",
    "    \n",
    "    #print(np_arr.shape)\n",
    "    if reshape:\n",
    "        return np_arr.reshape(np_arr.shape[0], 48, 48, 1)\n",
    "    else:\n",
    "        return np_arr"
   ]
  },
  {
   "cell_type": "markdown",
   "metadata": {},
   "source": [
    "### Sample Visualization\n",
    "\n",
    "A few of the images from the dataset will be plotted below."
   ]
  },
  {
   "cell_type": "code",
   "execution_count": 11,
   "metadata": {
    "collapsed": true
   },
   "outputs": [],
   "source": [
    "# take a few sample images to provide a visualization\n",
    "\n",
    "samples = df_to_tensor(features,48)"
   ]
  },
  {
   "cell_type": "code",
   "execution_count": 12,
   "metadata": {},
   "outputs": [
    {
     "data": {
      "image/png": "[encoded data removed]",
      "text/plain": [
       "<matplotlib.figure.Figure at 0x1eccd25dac8>"
      ]
     },
     "metadata": {},
     "output_type": "display_data"
    }
   ],
   "source": [
    "seed_number = 21\n",
    "\n",
    "two_d_array = samples[seed_number].reshape(48,48)\n",
    "\n",
    "fig = plt.figure(figsize=(10, 10))\n",
    "\n",
    "num_rows = 3\n",
    "\n",
    "num_columns = 3\n",
    "\n",
    "hardcoded_labels = [\"Fear\", \"Anger\", \"Anger\", \"Happy\", \"Happy\",\n",
    "                   \"Happy\", \"Disgust\", \"Happy\", \"Surprised\"]\n",
    "\n",
    "for i in range(num_rows*num_columns):\n",
    "    ax = fig.add_subplot(num_rows,num_columns,i + 1)\n",
    "    ax.imshow(samples[seed_number + i].reshape(48,48), cmap='gray')\n",
    "    ax.title.set_text(hardcoded_labels[i])\n",
    "\n"
   ]
  },
  {
   "cell_type": "markdown",
   "metadata": {},
   "source": [
    "### Frequency of Expressions\n",
    "\n",
    "The distribution of how many times each expression appears in the dataset is important to inform what metrics are suitable for assessing the classifier. Below a bar graph showing the relative frequencies of each expression is shown."
   ]
  },
  {
   "cell_type": "code",
   "execution_count": 13,
   "metadata": {},
   "outputs": [
    {
     "data": {
      "image/png": "[encoded data removed]",
      "text/plain": [
       "<matplotlib.figure.Figure at 0x1eb065d6668>"
      ]
     },
     "metadata": {},
     "output_type": "display_data"
    }
   ],
   "source": [
    "# seeing the distribution of each emotion in the dataset\n",
    "\n",
    "frequency_list = np.zeros(7)\n",
    "\n",
    "for label in labels:\n",
    "    frequency_list[int(label)] += 1\n",
    "    \n",
    "emotion_indices = range(1,8)\n",
    "\n",
    "x_axis_labels = ['Angry','Disgust','Fear','Happy','Sad','Surprise',\n",
    "         'Neutral']\n",
    "\n",
    "\n",
    "bar = plt.bar(emotion_indices, frequency_list, align='center')\n",
    "\n",
    "plt.xticks(emotion_indices, x_axis_labels )\n",
    "\n",
    "plt.xlabel(\"Facial Expression\")\n",
    "\n",
    "plt.ylabel(\"Frequency of Occurence\")\n",
    "\n",
    "\n",
    "\n",
    "plt.show()"
   ]
  },
  {
   "cell_type": "code",
   "execution_count": 14,
   "metadata": {
    "collapsed": true
   },
   "outputs": [],
   "source": [
    "train_tensors = df_to_tensor(X_train,48).astype('float32')/255\n",
    "valid_tensors = df_to_tensor(X_val,48).astype('float32')/255\n",
    "test_tensors = df_to_tensor(X_test,48).astype('float32')/255\n",
    "\n",
    "train_targets = np.array(pd.get_dummies(y_train))\n",
    "valid_targets = np.array(pd.get_dummies(y_val))\n",
    "test_targets = np.array(pd.get_dummies(y_test))\n"
   ]
  },
  {
   "cell_type": "code",
   "execution_count": 15,
   "metadata": {
    "collapsed": true
   },
   "outputs": [],
   "source": [
    "img_width = 48\n",
    "img_height = 48"
   ]
  },
  {
   "cell_type": "markdown",
   "metadata": {},
   "source": [
    "### Baseline Model\n",
    "\n",
    "First, a simple CNN will be used to build a classifier, to which others can be compared. The baseline comprises only of two convolutional layers and a low amount of filters (ADD EXACT AMOUNT HERE AFTERWARD) and is expected to pick up basic features in the faces that will give it some degree of accuracy with the classification task\n"
   ]
  },
  {
   "cell_type": "code",
   "execution_count": 26,
   "metadata": {},
   "outputs": [
    {
     "name": "stdout",
     "output_type": "stream",
     "text": [
      "_________________________________________________________________\n",
      "Layer (type)                 Output Shape              Param #   \n",
      "=================================================================\n",
      "conv2d_6 (Conv2D)            (None, 48, 48, 16)        80        \n",
      "_________________________________________________________________\n",
      "max_pooling2d_4 (MaxPooling2 (None, 24, 24, 16)        0         \n",
      "_________________________________________________________________\n",
      "conv2d_7 (Conv2D)            (None, 24, 24, 32)        2080      \n",
      "_________________________________________________________________\n",
      "max_pooling2d_5 (MaxPooling2 (None, 12, 12, 32)        0         \n",
      "_________________________________________________________________\n",
      "flatten_2 (Flatten)          (None, 4608)              0         \n",
      "_________________________________________________________________\n",
      "dense_3 (Dense)              (None, 100)               460900    \n",
      "_________________________________________________________________\n",
      "dense_4 (Dense)              (None, 7)                 707       \n",
      "=================================================================\n",
      "Total params: 463,767\n",
      "Trainable params: 463,767\n",
      "Non-trainable params: 0\n",
      "_________________________________________________________________\n"
     ]
    }
   ],
   "source": [
    "model_baseline = Sequential()\n",
    "model_baseline.add(Conv2D(filters=16, kernel_size=2, padding='same', activation='relu', input_shape=(48,48,1)))\n",
    "model_baseline.add(MaxPooling2D(pool_size=2))\n",
    "model_baseline.add(Conv2D(filters=32, kernel_size=2, padding='same', activation='relu'))\n",
    "model_baseline.add(MaxPooling2D(pool_size=2))\n",
    "model_baseline.add(Flatten())\n",
    "model_baseline.add(Dense(100, activation='relu'))\n",
    "model_baseline.add(Dense(7, activation='softmax'))\n",
    "\n",
    "\n",
    "model_baseline.summary()"
   ]
  },
  {
   "cell_type": "code",
   "execution_count": 28,
   "metadata": {
    "collapsed": true
   },
   "outputs": [],
   "source": [
    "model_baseline.compile(optimizer='rmsprop', loss='categorical_crossentropy', metrics=['accuracy'])"
   ]
  },
  {
   "cell_type": "code",
   "execution_count": 29,
   "metadata": {},
   "outputs": [
    {
     "name": "stdout",
     "output_type": "stream",
     "text": [
      "Train on 25120 samples, validate on 3589 samples\n",
      "Epoch 1/20\n",
      "25100/25120 [============================>.] - ETA: 0s - loss: 1.6177 - acc: 0.3693Epoch 00001: val_loss improved from inf to 1.50324, saving model to saved_models/weights.best.baseline.hdf5\n",
      "25120/25120 [==============================] - 36s 1ms/step - loss: 1.6175 - acc: 0.3695 - val_loss: 1.5032 - val_acc: 0.4205\n",
      "Epoch 2/20\n",
      "25100/25120 [============================>.] - ETA: 0s - loss: 1.4348 - acc: 0.4485Epoch 00002: val_loss improved from 1.50324 to 1.41142, saving model to saved_models/weights.best.baseline.hdf5\n",
      "25120/25120 [==============================] - 31s 1ms/step - loss: 1.4349 - acc: 0.4484 - val_loss: 1.4114 - val_acc: 0.4603\n",
      "Epoch 3/20\n",
      "25080/25120 [============================>.] - ETA: 0s - loss: 1.3418 - acc: 0.4854Epoch 00003: val_loss improved from 1.41142 to 1.38869, saving model to saved_models/weights.best.baseline.hdf5\n",
      "25120/25120 [==============================] - 31s 1ms/step - loss: 1.3419 - acc: 0.4853 - val_loss: 1.3887 - val_acc: 0.4678\n",
      "Epoch 4/20\n",
      "25080/25120 [============================>.] - ETA: 0s - loss: 1.2690 - acc: 0.5171Epoch 00004: val_loss improved from 1.38869 to 1.38121, saving model to saved_models/weights.best.baseline.hdf5\n",
      "25120/25120 [==============================] - 31s 1ms/step - loss: 1.2686 - acc: 0.5172 - val_loss: 1.3812 - val_acc: 0.4728\n",
      "Epoch 5/20\n",
      "25100/25120 [============================>.] - ETA: 0s - loss: 1.2037 - acc: 0.5483Epoch 00005: val_loss improved from 1.38121 to 1.34675, saving model to saved_models/weights.best.baseline.hdf5\n",
      "25120/25120 [==============================] - 31s 1ms/step - loss: 1.2035 - acc: 0.5484 - val_loss: 1.3468 - val_acc: 0.4845\n",
      "Epoch 6/20\n",
      "25100/25120 [============================>.] - ETA: 0s - loss: 1.1409 - acc: 0.5734Epoch 00006: val_loss did not improve\n",
      "25120/25120 [==============================] - 31s 1ms/step - loss: 1.1411 - acc: 0.5733 - val_loss: 1.4170 - val_acc: 0.4787\n",
      "Epoch 7/20\n",
      "25100/25120 [============================>.] - ETA: 0s - loss: 1.0757 - acc: 0.6002Epoch 00007: val_loss did not improve\n",
      "25120/25120 [==============================] - 31s 1ms/step - loss: 1.0752 - acc: 0.6004 - val_loss: 1.4297 - val_acc: 0.4843\n",
      "Epoch 8/20\n",
      "25100/25120 [============================>.] - ETA: 0s - loss: 1.0130 - acc: 0.6261Epoch 00008: val_loss did not improve\n",
      "25120/25120 [==============================] - 31s 1ms/step - loss: 1.0129 - acc: 0.6261 - val_loss: 1.4444 - val_acc: 0.4923\n",
      "Epoch 9/20\n",
      "25080/25120 [============================>.] - ETA: 0s - loss: 0.9466 - acc: 0.6508Epoch 00009: val_loss did not improve\n",
      "25120/25120 [==============================] - 31s 1ms/step - loss: 0.9465 - acc: 0.6509 - val_loss: 1.4401 - val_acc: 0.4868\n",
      "Epoch 10/20\n",
      "25060/25120 [============================>.] - ETA: 0s - loss: 0.8835 - acc: 0.6788Epoch 00010: val_loss did not improve\n",
      "25120/25120 [==============================] - 31s 1ms/step - loss: 0.8840 - acc: 0.6784 - val_loss: 1.4614 - val_acc: 0.4962\n",
      "Epoch 11/20\n",
      "25100/25120 [============================>.] - ETA: 0s - loss: 0.8203 - acc: 0.7021Epoch 00011: val_loss did not improve\n",
      "25120/25120 [==============================] - 30s 1ms/step - loss: 0.8203 - acc: 0.7022 - val_loss: 1.5248 - val_acc: 0.4870\n",
      "Epoch 12/20\n",
      "25080/25120 [============================>.] - ETA: 0s - loss: 0.7557 - acc: 0.7279Epoch 00012: val_loss did not improve\n",
      "25120/25120 [==============================] - 31s 1ms/step - loss: 0.7558 - acc: 0.7279 - val_loss: 1.6483 - val_acc: 0.4659\n",
      "Epoch 13/20\n",
      "25060/25120 [============================>.] - ETA: 0s - loss: 0.6931 - acc: 0.7511Epoch 00013: val_loss did not improve\n",
      "25120/25120 [==============================] - 32s 1ms/step - loss: 0.6929 - acc: 0.7510 - val_loss: 1.7398 - val_acc: 0.4834\n",
      "Epoch 14/20\n",
      "25080/25120 [============================>.] - ETA: 0s - loss: 0.6316 - acc: 0.7759Epoch 00014: val_loss did not improve\n",
      "25120/25120 [==============================] - 32s 1ms/step - loss: 0.6316 - acc: 0.7758 - val_loss: 1.7851 - val_acc: 0.4801\n",
      "Epoch 15/20\n",
      "25100/25120 [============================>.] - ETA: 0s - loss: 0.5705 - acc: 0.7996Epoch 00015: val_loss did not improve\n",
      "25120/25120 [==============================] - 31s 1ms/step - loss: 0.5704 - acc: 0.7996 - val_loss: 1.9281 - val_acc: 0.4639\n",
      "Epoch 16/20\n",
      "25080/25120 [============================>.] - ETA: 0s - loss: 0.5136 - acc: 0.8172Epoch 00016: val_loss did not improve\n",
      "25120/25120 [==============================] - 32s 1ms/step - loss: 0.5139 - acc: 0.8171 - val_loss: 1.9679 - val_acc: 0.4812\n",
      "Epoch 17/20\n",
      "25100/25120 [============================>.] - ETA: 0s - loss: 0.4613 - acc: 0.8404Epoch 00017: val_loss did not improve\n",
      "25120/25120 [==============================] - 32s 1ms/step - loss: 0.4615 - acc: 0.8404 - val_loss: 2.0892 - val_acc: 0.4784\n",
      "Epoch 18/20\n",
      "25060/25120 [============================>.] - ETA: 0s - loss: 0.4106 - acc: 0.8599Epoch 00018: val_loss did not improve\n",
      "25120/25120 [==============================] - 33s 1ms/step - loss: 0.4107 - acc: 0.8598 - val_loss: 2.2560 - val_acc: 0.4759\n",
      "Epoch 19/20\n",
      "25060/25120 [============================>.] - ETA: 0s - loss: 0.3649 - acc: 0.8723Epoch 00019: val_loss did not improve\n",
      "25120/25120 [==============================] - 32s 1ms/step - loss: 0.3653 - acc: 0.8721 - val_loss: 2.3743 - val_acc: 0.4753\n",
      "Epoch 20/20\n",
      "25060/25120 [============================>.] - ETA: 0s - loss: 0.3221 - acc: 0.8882Epoch 00020: val_loss did not improve\n",
      "25120/25120 [==============================] - 31s 1ms/step - loss: 0.3225 - acc: 0.8881 - val_loss: 2.6308 - val_acc: 0.4589\n"
     ]
    },
    {
     "data": {
      "text/plain": [
       "<keras.callbacks.History at 0x1f8d071bb70>"
      ]
     },
     "execution_count": 29,
     "metadata": {},
     "output_type": "execute_result"
    }
   ],
   "source": [
    "# put repeated stuff into a function later on\n",
    "\n",
    "\n",
    "### TODO: specify the number of epochs that you would like to use to train the model.\n",
    "\n",
    "epochs = 20\n",
    "\n",
    "### Do NOT modify the code below this line.\n",
    "\n",
    "checkpointer = ModelCheckpoint(filepath='saved_models/weights.best.baseline.hdf5', \n",
    "                               verbose=1, save_best_only=True)\n",
    "\n",
    "model_baseline.fit(train_tensors, train_targets, \n",
    "          validation_data=(valid_tensors, valid_targets),\n",
    "          epochs=epochs, batch_size=20, callbacks=[checkpointer], verbose=1)"
   ]
  },
  {
   "cell_type": "code",
   "execution_count": 30,
   "metadata": {
    "collapsed": true
   },
   "outputs": [],
   "source": [
    "model_baseline.load_weights('saved_models/weights.best.baseline.hdf5')"
   ]
  },
  {
   "cell_type": "code",
   "execution_count": 31,
   "metadata": {},
   "outputs": [
    {
     "name": "stdout",
     "output_type": "stream",
     "text": [
      "Test accuracy: 49.2756%\n"
     ]
    }
   ],
   "source": [
    "# get index of predicted facial expression for test set images\n",
    "expression_predictions = [np.argmax(model_baseline.predict(np.expand_dims(tensor, axis=0))) for tensor in test_tensors]\n",
    "\n",
    "# report test accuracy\n",
    "test_accuracy = 100*np.sum(np.array(expression_predictions)==np.argmax(test_targets, axis=1))/len(expression_predictions)\n",
    "print('Test accuracy: %.4f%%' % test_accuracy)"
   ]
  },
  {
   "cell_type": "markdown",
   "metadata": {},
   "source": [
    "### Advanced Model"
   ]
  },
  {
   "cell_type": "markdown",
   "metadata": {},
   "source": [
    "### Image Augmentation\n",
    "\n",
    "\n"
   ]
  },
  {
   "cell_type": "code",
   "execution_count": null,
   "metadata": {
    "collapsed": true
   },
   "outputs": [],
   "source": []
  },
  {
   "cell_type": "code",
   "execution_count": 17,
   "metadata": {
    "collapsed": true
   },
   "outputs": [],
   "source": [
    "from keras.preprocessing.image import ImageDataGenerator\n",
    "\n",
    "# create and configure augmented image generator\n",
    "datagen_train = ImageDataGenerator(\n",
    "    #width_shift_range=0.1,  # randomly shift images horizontally (10% of total width)\n",
    "    #height_shift_range=0.1,  # randomly shift images vertically (10% of total height)\n",
    "    horizontal_flip=True) # randomly flip images horizontally\n",
    "\n",
    "# create and configure augmented image generator\n",
    "datagen_valid = ImageDataGenerator(\n",
    "    #width_shift_range=0.1,  # randomly shift images horizontally (10% of total width)\n",
    "    #height_shift_range=0.1,  # randomly shift images vertically (10% of total height)\n",
    "    horizontal_flip=True) # randomly flip images horizontally\n",
    "\n",
    "# fit augmented image generator on data\n",
    "datagen_train.fit(train_tensors)\n",
    "datagen_valid.fit(valid_tensors)"
   ]
  },
  {
   "cell_type": "code",
   "execution_count": 18,
   "metadata": {
    "scrolled": true
   },
   "outputs": [
    {
     "name": "stdout",
     "output_type": "stream",
     "text": [
      "_________________________________________________________________\n",
      "Layer (type)                 Output Shape              Param #   \n",
      "=================================================================\n",
      "conv2d_1 (Conv2D)            (None, 48, 48, 32)        320       \n",
      "_________________________________________________________________\n",
      "max_pooling2d_1 (MaxPooling2 (None, 24, 24, 32)        0         \n",
      "_________________________________________________________________\n",
      "conv2d_2 (Conv2D)            (None, 24, 24, 64)        18496     \n",
      "_________________________________________________________________\n",
      "conv2d_3 (Conv2D)            (None, 24, 24, 128)       73856     \n",
      "_________________________________________________________________\n",
      "max_pooling2d_2 (MaxPooling2 (None, 12, 12, 128)       0         \n",
      "_________________________________________________________________\n",
      "dropout_1 (Dropout)          (None, 12, 12, 128)       0         \n",
      "_________________________________________________________________\n",
      "conv2d_4 (Conv2D)            (None, 12, 12, 256)       295168    \n",
      "_________________________________________________________________\n",
      "max_pooling2d_3 (MaxPooling2 (None, 6, 6, 256)         0         \n",
      "_________________________________________________________________\n",
      "flatten_1 (Flatten)          (None, 9216)              0         \n",
      "_________________________________________________________________\n",
      "dense_1 (Dense)              (None, 100)               921700    \n",
      "_________________________________________________________________\n",
      "dropout_2 (Dropout)          (None, 100)               0         \n",
      "_________________________________________________________________\n",
      "dense_2 (Dense)              (None, 7)                 707       \n",
      "=================================================================\n",
      "Total params: 1,310,247\n",
      "Trainable params: 1,310,247\n",
      "Non-trainable params: 0\n",
      "_________________________________________________________________\n"
     ]
    }
   ],
   "source": [
    "\n",
    "\n",
    "model = Sequential()\n",
    "model.add(Conv2D(filters=32, kernel_size=3, padding='same', activation='relu',\n",
    "                 input_shape=(img_width, img_height, 1)))\n",
    "model.add(MaxPooling2D(pool_size=2))\n",
    "model.add(Conv2D(filters=64, kernel_size=3, padding='same', activation='relu'))\n",
    "model.add(Conv2D(filters=128, kernel_size=3, padding='same', activation='relu'))\n",
    "model.add(MaxPooling2D(pool_size=2))\n",
    "model.add(Dropout(0.25))\n",
    "model.add(Conv2D(filters=256, kernel_size=3, padding='same', activation='relu'))\n",
    "model.add(MaxPooling2D(pool_size=2))\n",
    "model.add(Flatten())\n",
    "model.add(Dense(100, activation='relu'))\n",
    "model.add(Dropout(0.25))\n",
    "model.add(Dense(7, activation='softmax'))\n",
    "\n",
    "\n",
    "model.summary()"
   ]
  },
  {
   "cell_type": "code",
   "execution_count": 19,
   "metadata": {
    "collapsed": true
   },
   "outputs": [],
   "source": [
    "model.compile(optimizer='rmsprop', loss='categorical_crossentropy', metrics=['accuracy'])"
   ]
  },
  {
   "cell_type": "code",
   "execution_count": 24,
   "metadata": {},
   "outputs": [
    {
     "name": "stdout",
     "output_type": "stream",
     "text": [
      "Train on 22967 samples, validate on 5742 samples\n",
      "Epoch 1/20\n",
      "22940/22967 [============================>.] - ETA: 0s - loss: 1.7083 - acc: 0.3133Epoch 00000: val_loss improved from inf to 1.58062, saving model to saved_models/weights.best.from_scratch.hdf5\n",
      "22967/22967 [==============================] - 24s - loss: 1.7078 - acc: 0.3134 - val_loss: 1.5806 - val_acc: 0.4096\n",
      "Epoch 2/20\n",
      "22940/22967 [============================>.] - ETA: 0s - loss: 1.4553 - acc: 0.4409Epoch 00001: val_loss improved from 1.58062 to 1.38141, saving model to saved_models/weights.best.from_scratch.hdf5\n",
      "22967/22967 [==============================] - 24s - loss: 1.4552 - acc: 0.4408 - val_loss: 1.3814 - val_acc: 0.4582\n",
      "Epoch 3/20\n",
      "22940/22967 [============================>.] - ETA: 0s - loss: 1.3397 - acc: 0.4963Epoch 00002: val_loss improved from 1.38141 to 1.31683, saving model to saved_models/weights.best.from_scratch.hdf5\n",
      "22967/22967 [==============================] - 24s - loss: 1.3397 - acc: 0.4963 - val_loss: 1.3168 - val_acc: 0.4902\n",
      "Epoch 4/20\n",
      "22940/22967 [============================>.] - ETA: 0s - loss: 1.2720 - acc: 0.5219Epoch 00003: val_loss improved from 1.31683 to 1.28528, saving model to saved_models/weights.best.from_scratch.hdf5\n",
      "22967/22967 [==============================] - 23s - loss: 1.2721 - acc: 0.5219 - val_loss: 1.2853 - val_acc: 0.5178\n",
      "Epoch 5/20\n",
      "22940/22967 [============================>.] - ETA: 0s - loss: 1.2308 - acc: 0.5450Epoch 00004: val_loss did not improve\n",
      "22967/22967 [==============================] - 23s - loss: 1.2308 - acc: 0.5450 - val_loss: 1.2870 - val_acc: 0.5101\n",
      "Epoch 6/20\n",
      "22940/22967 [============================>.] - ETA: 0s - loss: 1.2003 - acc: 0.5554Epoch 00005: val_loss improved from 1.28528 to 1.23250, saving model to saved_models/weights.best.from_scratch.hdf5\n",
      "22967/22967 [==============================] - 23s - loss: 1.2008 - acc: 0.5554 - val_loss: 1.2325 - val_acc: 0.5305\n",
      "Epoch 7/20\n",
      "22940/22967 [============================>.] - ETA: 0s - loss: 1.1874 - acc: 0.5651Epoch 00006: val_loss did not improve\n",
      "22967/22967 [==============================] - 23s - loss: 1.1872 - acc: 0.5652 - val_loss: 1.2694 - val_acc: 0.5246\n",
      "Epoch 8/20\n",
      "22940/22967 [============================>.] - ETA: 0s - loss: 1.1774 - acc: 0.5683Epoch 00007: val_loss did not improve\n",
      "22967/22967 [==============================] - 23s - loss: 1.1779 - acc: 0.5682 - val_loss: 1.4031 - val_acc: 0.4923\n",
      "Epoch 9/20\n",
      "22940/22967 [============================>.] - ETA: 0s - loss: 1.1659 - acc: 0.5690Epoch 00008: val_loss did not improve\n",
      "22967/22967 [==============================] - 23s - loss: 1.1661 - acc: 0.5691 - val_loss: 1.3755 - val_acc: 0.5131\n",
      "Epoch 10/20\n",
      "22940/22967 [============================>.] - ETA: 0s - loss: 1.1656 - acc: 0.5734Epoch 00009: val_loss did not improve\n",
      "22967/22967 [==============================] - 23s - loss: 1.1653 - acc: 0.5734 - val_loss: 1.2542 - val_acc: 0.5533\n",
      "Epoch 11/20\n",
      "22940/22967 [============================>.] - ETA: 0s - loss: 1.1647 - acc: 0.5741Epoch 00010: val_loss did not improve\n",
      "22967/22967 [==============================] - 23s - loss: 1.1646 - acc: 0.5740 - val_loss: 1.2685 - val_acc: 0.5181\n",
      "Epoch 12/20\n",
      "22940/22967 [============================>.] - ETA: 0s - loss: 1.1716 - acc: 0.5745Epoch 00011: val_loss improved from 1.23250 to 1.20797, saving model to saved_models/weights.best.from_scratch.hdf5\n",
      "22967/22967 [==============================] - 23s - loss: 1.1715 - acc: 0.5747 - val_loss: 1.2080 - val_acc: 0.5470\n",
      "Epoch 13/20\n",
      "22940/22967 [============================>.] - ETA: 0s - loss: 1.1788 - acc: 0.5711Epoch 00012: val_loss did not improve\n",
      "22967/22967 [==============================] - 23s - loss: 1.1788 - acc: 0.5710 - val_loss: 1.3142 - val_acc: 0.4991\n",
      "Epoch 14/20\n",
      "22940/22967 [============================>.] - ETA: 0s - loss: 1.1746 - acc: 0.5744Epoch 00013: val_loss did not improve\n",
      "22967/22967 [==============================] - 23s - loss: 1.1746 - acc: 0.5744 - val_loss: 1.3737 - val_acc: 0.4976\n",
      "Epoch 15/20\n",
      "22940/22967 [============================>.] - ETA: 0s - loss: 1.1980 - acc: 0.5618Epoch 00014: val_loss did not improve\n",
      "22967/22967 [==============================] - 23s - loss: 1.1980 - acc: 0.5619 - val_loss: 1.2874 - val_acc: 0.5307\n",
      "Epoch 16/20\n",
      "22940/22967 [============================>.] - ETA: 0s - loss: 1.1959 - acc: 0.5639Epoch 00015: val_loss did not improve\n",
      "22967/22967 [==============================] - 23s - loss: 1.1958 - acc: 0.5640 - val_loss: 1.3017 - val_acc: 0.5101\n",
      "Epoch 17/20\n",
      "22940/22967 [============================>.] - ETA: 0s - loss: 1.1968 - acc: 0.5648Epoch 00016: val_loss did not improve\n",
      "22967/22967 [==============================] - 23s - loss: 1.1967 - acc: 0.5647 - val_loss: 1.3324 - val_acc: 0.5272\n",
      "Epoch 18/20\n",
      "22940/22967 [============================>.] - ETA: 0s - loss: 1.2170 - acc: 0.5598Epoch 00017: val_loss did not improve\n",
      "22967/22967 [==============================] - 23s - loss: 1.2171 - acc: 0.5597 - val_loss: 1.2503 - val_acc: 0.5275\n",
      "Epoch 19/20\n",
      "22940/22967 [============================>.] - ETA: 0s - loss: 1.2245 - acc: 0.5548Epoch 00018: val_loss did not improve\n",
      "22967/22967 [==============================] - 23s - loss: 1.2248 - acc: 0.5546 - val_loss: 1.4210 - val_acc: 0.4695\n",
      "Epoch 20/20\n",
      "22940/22967 [============================>.] - ETA: 0s - loss: 1.2383 - acc: 0.5494Epoch 00019: val_loss did not improve\n",
      "22967/22967 [==============================] - 23s - loss: 1.2383 - acc: 0.5494 - val_loss: 1.4018 - val_acc: 0.4673\n"
     ]
    },
    {
     "data": {
      "text/plain": [
       "<keras.callbacks.History at 0x7fcae3428f28>"
      ]
     },
     "execution_count": 24,
     "metadata": {},
     "output_type": "execute_result"
    }
   ],
   "source": [
    "\n",
    "### TODO: specify the number of epochs that you would like to use to train the model.\n",
    "\n",
    "epochs = 20\n",
    "\n",
    "### Do NOT modify the code below this line.\n",
    "\n",
    "checkpointer = ModelCheckpoint(filepath='saved_models/weights.best.from_scratch.hdf5', \n",
    "                               verbose=1, save_best_only=True)\n",
    "\n",
    "\"\"\"\n",
    "#Without image augmentation\n",
    "model.fit(train_tensors, train_targets, \n",
    "          validation_data=(valid_tensors, valid_targets),\n",
    "          epochs=epochs, batch_size=20, callbacks=[checkpointer], verbose=1)\n",
    "\"\"\"\n",
    "\n",
    "\n",
    "#With image augmentation\n",
    "\n",
    "model.fit_generator(datagen_train.flow(train_tensors, train_targets, batch_size=batch_size),\n",
    "                    steps_per_epoch=x_train.shape[0] // batch_size,\n",
    "                    epochs=epochs, verbose=2, callbacks=[checkpointer],\n",
    "                    validation_data=datagen_valid.flow(valid_tensors, valid_targets, batch_size=batch_size),\n",
    "                    validation_steps=x_valid.shape[0] // batch_size)"
   ]
  },
  {
   "cell_type": "code",
   "execution_count": 27,
   "metadata": {
    "collapsed": true
   },
   "outputs": [],
   "source": [
    "model.load_weights('saved_models/weights.best.from_scratch.hdf5')"
   ]
  },
  {
   "cell_type": "code",
   "execution_count": 29,
   "metadata": {},
   "outputs": [
    {
     "name": "stdout",
     "output_type": "stream",
     "text": [
      "Test accuracy: 56.3388%\n"
     ]
    }
   ],
   "source": [
    "# get index of predicted facial expression for test set images\n",
    "expression_predictions = [np.argmax(model.predict(np.expand_dims(tensor, axis=0))) for tensor in test_tensors]\n",
    "\n",
    "# report test accuracy\n",
    "test_accuracy = 100*np.sum(np.array(expression_predictions)==np.argmax(test_targets, axis=1))/len(expression_predictions)\n",
    "print('Test accuracy: %.4f%%' % test_accuracy)"
   ]
  },
  {
   "cell_type": "markdown",
   "metadata": {},
   "source": [
    "### Transfer Learning\n",
    "\n",
    "It is suitable to explore the use of other CNNs that have been used for other computer vision applications. Below, the performance of the pre-trained networks Inception, VGG-19 and Resnet50 will be explored"
   ]
  },
  {
   "cell_type": "code",
   "execution_count": 30,
   "metadata": {
    "collapsed": true
   },
   "outputs": [],
   "source": [
    "import cv2\n",
    "\n",
    "X_train_transf, X_test_transf, X_val_transf = X_train, X_test, X_val\n",
    "\n",
    "y_train_transf, y_test_transf, y_val_transf = y_train, y_test, y_val\n",
    "\n",
    "\n",
    "sample = df_to_tensor(X_train_transf, 48, reshape=False)\n",
    "\n",
    "#sample.shape"
   ]
  },
  {
   "cell_type": "code",
   "execution_count": 31,
   "metadata": {
    "collapsed": true
   },
   "outputs": [],
   "source": [
    "# creating transfer tensors\n",
    "\n",
    "train_tensors_transf = df_to_tensor(X_train_transf,48,reshape=False, triple_channels=True).astype('float32')/255\n",
    "valid_tensors_transf = df_to_tensor(X_val_transf,48, reshape=False, triple_channels=True).astype('float32')/255\n",
    "test_tensors_transf = df_to_tensor(X_test_transf,48, reshape=False, triple_channels=True).astype('float32')/255\n",
    "\n",
    "train_targets_transf = np.array(pd.get_dummies(y_train_transf))\n",
    "valid_targets_transf = np.array(pd.get_dummies(y_val_transf))\n",
    "test_targets_transf = np.array(pd.get_dummies(y_test_transf))\n"
   ]
  },
  {
   "cell_type": "code",
   "execution_count": 32,
   "metadata": {},
   "outputs": [
    {
     "name": "stdout",
     "output_type": "stream",
     "text": [
      "_________________________________________________________________\n",
      "Layer (type)                 Output Shape              Param #   \n",
      "=================================================================\n",
      "input_3 (InputLayer)         (None, 48, 48, 3)         0         \n",
      "_________________________________________________________________\n",
      "block1_conv1 (Conv2D)        (None, 48, 48, 64)        1792      \n",
      "_________________________________________________________________\n",
      "block1_conv2 (Conv2D)        (None, 48, 48, 64)        36928     \n",
      "_________________________________________________________________\n",
      "block1_pool (MaxPooling2D)   (None, 24, 24, 64)        0         \n",
      "_________________________________________________________________\n",
      "block2_conv1 (Conv2D)        (None, 24, 24, 128)       73856     \n",
      "_________________________________________________________________\n",
      "block2_conv2 (Conv2D)        (None, 24, 24, 128)       147584    \n",
      "_________________________________________________________________\n",
      "block2_pool (MaxPooling2D)   (None, 12, 12, 128)       0         \n",
      "_________________________________________________________________\n",
      "block3_conv1 (Conv2D)        (None, 12, 12, 256)       295168    \n",
      "_________________________________________________________________\n",
      "block3_conv2 (Conv2D)        (None, 12, 12, 256)       590080    \n",
      "_________________________________________________________________\n",
      "block3_conv3 (Conv2D)        (None, 12, 12, 256)       590080    \n",
      "_________________________________________________________________\n",
      "block3_conv4 (Conv2D)        (None, 12, 12, 256)       590080    \n",
      "_________________________________________________________________\n",
      "block3_pool (MaxPooling2D)   (None, 6, 6, 256)         0         \n",
      "_________________________________________________________________\n",
      "block4_conv1 (Conv2D)        (None, 6, 6, 512)         1180160   \n",
      "_________________________________________________________________\n",
      "block4_conv2 (Conv2D)        (None, 6, 6, 512)         2359808   \n",
      "_________________________________________________________________\n",
      "block4_conv3 (Conv2D)        (None, 6, 6, 512)         2359808   \n",
      "_________________________________________________________________\n",
      "block4_conv4 (Conv2D)        (None, 6, 6, 512)         2359808   \n",
      "_________________________________________________________________\n",
      "block4_pool (MaxPooling2D)   (None, 3, 3, 512)         0         \n",
      "_________________________________________________________________\n",
      "block5_conv1 (Conv2D)        (None, 3, 3, 512)         2359808   \n",
      "_________________________________________________________________\n",
      "block5_conv2 (Conv2D)        (None, 3, 3, 512)         2359808   \n",
      "_________________________________________________________________\n",
      "block5_conv3 (Conv2D)        (None, 3, 3, 512)         2359808   \n",
      "_________________________________________________________________\n",
      "block5_conv4 (Conv2D)        (None, 3, 3, 512)         2359808   \n",
      "_________________________________________________________________\n",
      "block5_pool (MaxPooling2D)   (None, 1, 1, 512)         0         \n",
      "=================================================================\n",
      "Total params: 20,024,384\n",
      "Trainable params: 20,024,384\n",
      "Non-trainable params: 0\n",
      "_________________________________________________________________\n"
     ]
    }
   ],
   "source": [
    "# Note: the code below is an adaptation of a code snippet by Prakash Jay,\n",
    "# obtained from: https://towardsdatascience.com/transfer-learning-using-keras-d804b2e04ef8\n",
    "\n",
    "img_width, img_height = 48, 48\n",
    "\"\"\"\n",
    "train_data_dir = \"data/train\"\n",
    "validation_data_dir = \"data/val\"\n",
    "nb_train_samples = 4125\n",
    "nb_validation_samples = 466 \n",
    "\"\"\"\n",
    "batch_size = 16\n",
    "epochs = 50\n",
    "\n",
    "model = applications.VGG19(weights = \"imagenet\", include_top=False, input_shape = (img_width, img_height, 3))\n",
    "\n",
    "\n",
    "model.summary()\n"
   ]
  },
  {
   "cell_type": "code",
   "execution_count": null,
   "metadata": {
    "collapsed": true
   },
   "outputs": [],
   "source": [
    "\"\"\"\n",
    "for layer in model.layers:\n",
    "    layer.trainable = False\n",
    "\"\"\"\n",
    "\n",
    "#allow training in initial layers for now, to see what the result is"
   ]
  },
  {
   "cell_type": "code",
   "execution_count": 33,
   "metadata": {},
   "outputs": [
    {
     "name": "stdout",
     "output_type": "stream",
     "text": [
      "_________________________________________________________________\n",
      "Layer (type)                 Output Shape              Param #   \n",
      "=================================================================\n",
      "input_3 (InputLayer)         (None, 48, 48, 3)         0         \n",
      "_________________________________________________________________\n",
      "block1_conv1 (Conv2D)        (None, 48, 48, 64)        1792      \n",
      "_________________________________________________________________\n",
      "block1_conv2 (Conv2D)        (None, 48, 48, 64)        36928     \n",
      "_________________________________________________________________\n",
      "block1_pool (MaxPooling2D)   (None, 24, 24, 64)        0         \n",
      "_________________________________________________________________\n",
      "block2_conv1 (Conv2D)        (None, 24, 24, 128)       73856     \n",
      "_________________________________________________________________\n",
      "block2_conv2 (Conv2D)        (None, 24, 24, 128)       147584    \n",
      "_________________________________________________________________\n",
      "block2_pool (MaxPooling2D)   (None, 12, 12, 128)       0         \n",
      "_________________________________________________________________\n",
      "block3_conv1 (Conv2D)        (None, 12, 12, 256)       295168    \n",
      "_________________________________________________________________\n",
      "block3_conv2 (Conv2D)        (None, 12, 12, 256)       590080    \n",
      "_________________________________________________________________\n",
      "block3_conv3 (Conv2D)        (None, 12, 12, 256)       590080    \n",
      "_________________________________________________________________\n",
      "block3_conv4 (Conv2D)        (None, 12, 12, 256)       590080    \n",
      "_________________________________________________________________\n",
      "block3_pool (MaxPooling2D)   (None, 6, 6, 256)         0         \n",
      "_________________________________________________________________\n",
      "block4_conv1 (Conv2D)        (None, 6, 6, 512)         1180160   \n",
      "_________________________________________________________________\n",
      "block4_conv2 (Conv2D)        (None, 6, 6, 512)         2359808   \n",
      "_________________________________________________________________\n",
      "block4_conv3 (Conv2D)        (None, 6, 6, 512)         2359808   \n",
      "_________________________________________________________________\n",
      "block4_conv4 (Conv2D)        (None, 6, 6, 512)         2359808   \n",
      "_________________________________________________________________\n",
      "block4_pool (MaxPooling2D)   (None, 3, 3, 512)         0         \n",
      "_________________________________________________________________\n",
      "block5_conv1 (Conv2D)        (None, 3, 3, 512)         2359808   \n",
      "_________________________________________________________________\n",
      "block5_conv2 (Conv2D)        (None, 3, 3, 512)         2359808   \n",
      "_________________________________________________________________\n",
      "block5_conv3 (Conv2D)        (None, 3, 3, 512)         2359808   \n",
      "_________________________________________________________________\n",
      "block5_conv4 (Conv2D)        (None, 3, 3, 512)         2359808   \n",
      "_________________________________________________________________\n",
      "block5_pool (MaxPooling2D)   (None, 1, 1, 512)         0         \n",
      "_________________________________________________________________\n",
      "flatten_3 (Flatten)          (None, 512)               0         \n",
      "_________________________________________________________________\n",
      "dense_6 (Dense)              (None, 1024)              525312    \n",
      "_________________________________________________________________\n",
      "dropout_5 (Dropout)          (None, 1024)              0         \n",
      "_________________________________________________________________\n",
      "dense_7 (Dense)              (None, 1024)              1049600   \n",
      "_________________________________________________________________\n",
      "dropout_6 (Dropout)          (None, 1024)              0         \n",
      "_________________________________________________________________\n",
      "dense_8 (Dense)              (None, 1024)              1049600   \n",
      "_________________________________________________________________\n",
      "dropout_7 (Dropout)          (None, 1024)              0         \n",
      "_________________________________________________________________\n",
      "dense_9 (Dense)              (None, 1024)              1049600   \n",
      "_________________________________________________________________\n",
      "dropout_8 (Dropout)          (None, 1024)              0         \n",
      "_________________________________________________________________\n",
      "dense_10 (Dense)             (None, 7)                 7175      \n",
      "=================================================================\n",
      "Total params: 23,705,671\n",
      "Trainable params: 23,705,671\n",
      "Non-trainable params: 0\n",
      "_________________________________________________________________\n"
     ]
    },
    {
     "name": "stderr",
     "output_type": "stream",
     "text": [
      "/usr/local/lib/python3.5/dist-packages/ipykernel_launcher.py:18: UserWarning: Update your `Model` call to the Keras 2 API: `Model(outputs=Tensor(\"de..., inputs=Tensor(\"in...)`\n"
     ]
    }
   ],
   "source": [
    "# duplicate of prakash jay code\n",
    "x = model.output\n",
    "x = Flatten()(x)\n",
    "x = Dense(1024, activation=\"relu\")(x)\n",
    "x = Dropout(0.5)(x)\n",
    "x = Dense(1024, activation=\"relu\")(x)\n",
    "x = Dropout(0.5)(x)\n",
    "#two additional dense layers below with same dropout\n",
    "#unsure whether it will help, go back to two if \n",
    "#needed\n",
    "x = Dense(1024, activation=\"relu\")(x)\n",
    "x = Dropout(0.5)(x)\n",
    "x = Dense(1024, activation=\"relu\")(x)\n",
    "x = Dropout(0.5)(x)\n",
    "predictions = Dense(7, activation=\"softmax\")(x)\n",
    "\n",
    "# creating the final model \n",
    "model_final = Model(input = model.input, output = predictions)\n",
    "\n",
    "# compile the model \n",
    "model_final.compile(loss = \"categorical_crossentropy\", optimizer = optimizers.SGD(lr=0.0001, momentum=0.9), metrics=[\"accuracy\"])\n",
    "\n",
    "model_final.summary()"
   ]
  },
  {
   "cell_type": "code",
   "execution_count": 34,
   "metadata": {},
   "outputs": [
    {
     "name": "stdout",
     "output_type": "stream",
     "text": [
      "Train on 22967 samples, validate on 5742 samples\n",
      "Epoch 1/20\n",
      "22960/22967 [============================>.] - ETA: 0s - loss: 1.8568 - acc: 0.2220Epoch 00000: val_loss improved from inf to 1.81824, saving model to saved_models/weights.best.transfer_example_six.hdf5\n",
      "22967/22967 [==============================] - 148s - loss: 1.8568 - acc: 0.2220 - val_loss: 1.8182 - val_acc: 0.2454\n",
      "Epoch 2/20\n",
      "22960/22967 [============================>.] - ETA: 0s - loss: 1.7369 - acc: 0.2816Epoch 00001: val_loss improved from 1.81824 to 1.69174, saving model to saved_models/weights.best.transfer_example_six.hdf5\n",
      "22967/22967 [==============================] - 155s - loss: 1.7368 - acc: 0.2816 - val_loss: 1.6917 - val_acc: 0.3342\n",
      "Epoch 3/20\n",
      "22960/22967 [============================>.] - ETA: 0s - loss: 1.6537 - acc: 0.3392Epoch 00002: val_loss improved from 1.69174 to 1.63798, saving model to saved_models/weights.best.transfer_example_six.hdf5\n",
      "22967/22967 [==============================] - 154s - loss: 1.6537 - acc: 0.3392 - val_loss: 1.6380 - val_acc: 0.3692\n",
      "Epoch 4/20\n",
      "22960/22967 [============================>.] - ETA: 0s - loss: 1.5969 - acc: 0.3717Epoch 00003: val_loss improved from 1.63798 to 1.56927, saving model to saved_models/weights.best.transfer_example_six.hdf5\n",
      "22967/22967 [==============================] - 155s - loss: 1.5968 - acc: 0.3717 - val_loss: 1.5693 - val_acc: 0.4187\n",
      "Epoch 5/20\n",
      "22960/22967 [============================>.] - ETA: 0s - loss: 1.5487 - acc: 0.4093Epoch 00004: val_loss improved from 1.56927 to 1.51938, saving model to saved_models/weights.best.transfer_example_six.hdf5\n",
      "22967/22967 [==============================] - 155s - loss: 1.5487 - acc: 0.4093 - val_loss: 1.5194 - val_acc: 0.4249\n",
      "Epoch 6/20\n",
      "22960/22967 [============================>.] - ETA: 0s - loss: 1.5063 - acc: 0.4268Epoch 00005: val_loss improved from 1.51938 to 1.46933, saving model to saved_models/weights.best.transfer_example_six.hdf5\n",
      "22967/22967 [==============================] - 155s - loss: 1.5064 - acc: 0.4267 - val_loss: 1.4693 - val_acc: 0.4276\n",
      "Epoch 7/20\n",
      "22960/22967 [============================>.] - ETA: 0s - loss: 1.4641 - acc: 0.4420Epoch 00006: val_loss did not improve\n",
      "22967/22967 [==============================] - 148s - loss: 1.4641 - acc: 0.4421 - val_loss: 1.4800 - val_acc: 0.4429\n",
      "Epoch 8/20\n",
      "22960/22967 [============================>.] - ETA: 0s - loss: 1.4255 - acc: 0.4492Epoch 00007: val_loss improved from 1.46933 to 1.41114, saving model to saved_models/weights.best.transfer_example_six.hdf5\n",
      "22967/22967 [==============================] - 154s - loss: 1.4255 - acc: 0.4491 - val_loss: 1.4111 - val_acc: 0.4770\n",
      "Epoch 9/20\n",
      "22960/22967 [============================>.] - ETA: 0s - loss: 1.3931 - acc: 0.4729Epoch 00008: val_loss improved from 1.41114 to 1.39740, saving model to saved_models/weights.best.transfer_example_six.hdf5\n",
      "22967/22967 [==============================] - 154s - loss: 1.3930 - acc: 0.4729 - val_loss: 1.3974 - val_acc: 0.4861\n",
      "Epoch 10/20\n",
      "22960/22967 [============================>.] - ETA: 0s - loss: 1.3586 - acc: 0.4865Epoch 00009: val_loss improved from 1.39740 to 1.35844, saving model to saved_models/weights.best.transfer_example_six.hdf5\n",
      "22967/22967 [==============================] - 155s - loss: 1.3585 - acc: 0.4866 - val_loss: 1.3584 - val_acc: 0.5012\n",
      "Epoch 11/20\n",
      "22960/22967 [============================>.] - ETA: 0s - loss: 1.3251 - acc: 0.5044Epoch 00010: val_loss improved from 1.35844 to 1.33642, saving model to saved_models/weights.best.transfer_example_six.hdf5\n",
      "22967/22967 [==============================] - 154s - loss: 1.3252 - acc: 0.5044 - val_loss: 1.3364 - val_acc: 0.5002\n",
      "Epoch 12/20\n",
      "22960/22967 [============================>.] - ETA: 0s - loss: 1.2959 - acc: 0.5164Epoch 00011: val_loss improved from 1.33642 to 1.31816, saving model to saved_models/weights.best.transfer_example_six.hdf5\n",
      "22967/22967 [==============================] - 154s - loss: 1.2959 - acc: 0.5163 - val_loss: 1.3182 - val_acc: 0.5157\n",
      "Epoch 13/20\n",
      "22960/22967 [============================>.] - ETA: 0s - loss: 1.2591 - acc: 0.5303Epoch 00012: val_loss did not improve\n",
      "22967/22967 [==============================] - 148s - loss: 1.2592 - acc: 0.5302 - val_loss: 1.3679 - val_acc: 0.4949\n",
      "Epoch 14/20\n",
      "22960/22967 [============================>.] - ETA: 0s - loss: 1.2320 - acc: 0.5418Epoch 00013: val_loss improved from 1.31816 to 1.30906, saving model to saved_models/weights.best.transfer_example_six.hdf5\n",
      "22967/22967 [==============================] - 154s - loss: 1.2319 - acc: 0.5418 - val_loss: 1.3091 - val_acc: 0.5131\n",
      "Epoch 15/20\n",
      "22960/22967 [============================>.] - ETA: 0s - loss: 1.2073 - acc: 0.5506Epoch 00014: val_loss improved from 1.30906 to 1.30575, saving model to saved_models/weights.best.transfer_example_six.hdf5\n",
      "22967/22967 [==============================] - 154s - loss: 1.2072 - acc: 0.5506 - val_loss: 1.3057 - val_acc: 0.5157\n",
      "Epoch 16/20\n",
      "22960/22967 [============================>.] - ETA: 0s - loss: 1.1770 - acc: 0.5590Epoch 00015: val_loss improved from 1.30575 to 1.27945, saving model to saved_models/weights.best.transfer_example_six.hdf5\n",
      "22967/22967 [==============================] - 154s - loss: 1.1769 - acc: 0.5590 - val_loss: 1.2795 - val_acc: 0.5312\n",
      "Epoch 17/20\n",
      "22960/22967 [============================>.] - ETA: 0s - loss: 1.1394 - acc: 0.5712Epoch 00016: val_loss did not improve\n",
      "22967/22967 [==============================] - 148s - loss: 1.1393 - acc: 0.5712 - val_loss: 1.2872 - val_acc: 0.5282\n",
      "Epoch 18/20\n",
      "22960/22967 [============================>.] - ETA: 0s - loss: 1.1102 - acc: 0.5821Epoch 00017: val_loss did not improve\n",
      "22967/22967 [==============================] - 148s - loss: 1.1103 - acc: 0.5821 - val_loss: 1.3107 - val_acc: 0.5204\n",
      "Epoch 19/20\n",
      "22960/22967 [============================>.] - ETA: 0s - loss: 1.0804 - acc: 0.5895Epoch 00018: val_loss did not improve\n",
      "22967/22967 [==============================] - 148s - loss: 1.0803 - acc: 0.5895 - val_loss: 1.2865 - val_acc: 0.5305\n",
      "Epoch 20/20\n",
      "22960/22967 [============================>.] - ETA: 0s - loss: 1.0385 - acc: 0.6094Epoch 00019: val_loss did not improve\n",
      "22967/22967 [==============================] - 148s - loss: 1.0384 - acc: 0.6095 - val_loss: 1.3333 - val_acc: 0.5228\n"
     ]
    },
    {
     "data": {
      "text/plain": [
       "<keras.callbacks.History at 0x7fcb2bee1cc0>"
      ]
     },
     "execution_count": 34,
     "metadata": {},
     "output_type": "execute_result"
    }
   ],
   "source": [
    "checkpointer = ModelCheckpoint(filepath='saved_models/weights.best.transfer_example_six.hdf5', \n",
    "                               verbose=1, save_best_only=True)\n",
    "\n",
    "model_final.fit(train_tensors_transf, train_targets_transf, \n",
    "          validation_data=(valid_tensors_transf, valid_targets_transf),\n",
    "          epochs=20, batch_size=20, callbacks=[checkpointer], verbose=1)"
   ]
  },
  {
   "cell_type": "code",
   "execution_count": 35,
   "metadata": {
    "collapsed": true
   },
   "outputs": [],
   "source": [
    "model_final.load_weights('saved_models/weights.best.transfer_example_six.hdf5')"
   ]
  },
  {
   "cell_type": "code",
   "execution_count": 36,
   "metadata": {},
   "outputs": [
    {
     "name": "stdout",
     "output_type": "stream",
     "text": [
      "Test accuracy: 54.5556%\n"
     ]
    }
   ],
   "source": [
    "# get index of predicted facial expression for test set images\n",
    "expression_predictions_transf = [np.argmax(model_final.predict(np.expand_dims(tensor, axis=0))) for tensor in test_tensors_transf]\n",
    "\n",
    "# report test accuracy\n",
    "test_accuracy = 100*np.sum(np.array(expression_predictions_transf)==np.argmax(test_targets_transf, axis=1))/len(expression_predictions_transf)\n",
    "print('Test accuracy: %.4f%%' % test_accuracy)"
   ]
  },
  {
   "cell_type": "markdown",
   "metadata": {},
   "source": [
    "BELOW: INCEPTION RESNET V2"
   ]
  },
  {
   "cell_type": "code",
   "execution_count": 16,
   "metadata": {},
   "outputs": [
    {
     "ename": "ValueError",
     "evalue": "Input size must be at least 71x71; got `input_shape=(48, 48, 3)`",
     "output_type": "error",
     "traceback": [
      "\u001b[0;31m---------------------------------------------------------------------------\u001b[0m",
      "\u001b[0;31mValueError\u001b[0m                                Traceback (most recent call last)",
      "\u001b[0;32m<ipython-input-16-9af07d58f51e>\u001b[0m in \u001b[0;36m<module>\u001b[0;34m()\u001b[0m\n\u001b[1;32m     11\u001b[0m \u001b[0;31m#this time, using inception resnetv2\u001b[0m\u001b[0;34m\u001b[0m\u001b[0;34m\u001b[0m\u001b[0m\n\u001b[1;32m     12\u001b[0m \u001b[0;34m\u001b[0m\u001b[0m\n\u001b[0;32m---> 13\u001b[0;31m \u001b[0mmodel_xception\u001b[0m \u001b[0;34m=\u001b[0m \u001b[0mapplications\u001b[0m\u001b[0;34m.\u001b[0m\u001b[0mxception\u001b[0m\u001b[0;34m.\u001b[0m\u001b[0mXception\u001b[0m\u001b[0;34m(\u001b[0m\u001b[0minclude_top\u001b[0m\u001b[0;34m=\u001b[0m\u001b[0;32mTrue\u001b[0m\u001b[0;34m,\u001b[0m \u001b[0mweights\u001b[0m\u001b[0;34m=\u001b[0m\u001b[0;34m'imagenet'\u001b[0m\u001b[0;34m,\u001b[0m \u001b[0minput_tensor\u001b[0m\u001b[0;34m=\u001b[0m\u001b[0;32mNone\u001b[0m\u001b[0;34m,\u001b[0m \u001b[0minput_shape\u001b[0m\u001b[0;34m=\u001b[0m\u001b[0;34m(\u001b[0m\u001b[0;36m48\u001b[0m\u001b[0;34m,\u001b[0m\u001b[0;36m48\u001b[0m\u001b[0;34m,\u001b[0m\u001b[0;36m3\u001b[0m\u001b[0;34m)\u001b[0m\u001b[0;34m,\u001b[0m \u001b[0mpooling\u001b[0m\u001b[0;34m=\u001b[0m\u001b[0;32mNone\u001b[0m\u001b[0;34m)\u001b[0m\u001b[0;34m\u001b[0m\u001b[0m\n\u001b[0m\u001b[1;32m     14\u001b[0m \u001b[0;34m\u001b[0m\u001b[0m\n\u001b[1;32m     15\u001b[0m \u001b[0;34m\u001b[0m\u001b[0m\n",
      "\u001b[0;32m/usr/local/lib/python3.5/dist-packages/Keras-2.0.8-py3.5.egg/keras/applications/xception.py\u001b[0m in \u001b[0;36mXception\u001b[0;34m(include_top, weights, input_tensor, input_shape, pooling, classes)\u001b[0m\n\u001b[1;32m    130\u001b[0m                                       \u001b[0mdata_format\u001b[0m\u001b[0;34m=\u001b[0m\u001b[0mK\u001b[0m\u001b[0;34m.\u001b[0m\u001b[0mimage_data_format\u001b[0m\u001b[0;34m(\u001b[0m\u001b[0;34m)\u001b[0m\u001b[0;34m,\u001b[0m\u001b[0;34m\u001b[0m\u001b[0m\n\u001b[1;32m    131\u001b[0m                                       \u001b[0mrequire_flatten\u001b[0m\u001b[0;34m=\u001b[0m\u001b[0;32mFalse\u001b[0m\u001b[0;34m,\u001b[0m\u001b[0;34m\u001b[0m\u001b[0m\n\u001b[0;32m--> 132\u001b[0;31m                                       weights=weights)\n\u001b[0m\u001b[1;32m    133\u001b[0m \u001b[0;34m\u001b[0m\u001b[0m\n\u001b[1;32m    134\u001b[0m     \u001b[0;32mif\u001b[0m \u001b[0minput_tensor\u001b[0m \u001b[0;32mis\u001b[0m \u001b[0;32mNone\u001b[0m\u001b[0;34m:\u001b[0m\u001b[0;34m\u001b[0m\u001b[0m\n",
      "\u001b[0;32m/usr/local/lib/python3.5/dist-packages/Keras-2.0.8-py3.5.egg/keras/applications/imagenet_utils.py\u001b[0m in \u001b[0;36m_obtain_input_shape\u001b[0;34m(input_shape, default_size, min_size, data_format, require_flatten, weights)\u001b[0m\n\u001b[1;32m    162\u001b[0m                     raise ValueError('Input size must be at least ' +\n\u001b[1;32m    163\u001b[0m                                      \u001b[0mstr\u001b[0m\u001b[0;34m(\u001b[0m\u001b[0mmin_size\u001b[0m\u001b[0;34m)\u001b[0m \u001b[0;34m+\u001b[0m \u001b[0;34m'x'\u001b[0m \u001b[0;34m+\u001b[0m \u001b[0mstr\u001b[0m\u001b[0;34m(\u001b[0m\u001b[0mmin_size\u001b[0m\u001b[0;34m)\u001b[0m \u001b[0;34m+\u001b[0m \u001b[0;34m'; got '\u001b[0m\u001b[0;34m\u001b[0m\u001b[0m\n\u001b[0;32m--> 164\u001b[0;31m                                      '`input_shape=' + str(input_shape) + '`')\n\u001b[0m\u001b[1;32m    165\u001b[0m     \u001b[0;32melse\u001b[0m\u001b[0;34m:\u001b[0m\u001b[0;34m\u001b[0m\u001b[0m\n\u001b[1;32m    166\u001b[0m         \u001b[0;32mif\u001b[0m \u001b[0mrequire_flatten\u001b[0m\u001b[0;34m:\u001b[0m\u001b[0;34m\u001b[0m\u001b[0m\n",
      "\u001b[0;31mValueError\u001b[0m: Input size must be at least 71x71; got `input_shape=(48, 48, 3)`"
     ]
    }
   ],
   "source": [
    "img_width, img_height = 48, 48\n",
    "\"\"\"\n",
    "train_data_dir = \"data/train\"\n",
    "validation_data_dir = \"data/val\"\n",
    "nb_train_samples = 4125\n",
    "nb_validation_samples = 466 \n",
    "\"\"\"\n",
    "batch_size = 16\n",
    "epochs = 50\n",
    "\n",
    "#this time, using inception resnetv2\n",
    "\n",
    "model_xception = applications.xception.Xception(include_top=True, weights='imagenet', input_tensor=None, input_shape=(48,48,3), pooling=None)\n",
    "\n",
    "\n",
    "model_irv2.summary()"
   ]
  },
  {
   "cell_type": "code",
   "execution_count": 7,
   "metadata": {},
   "outputs": [
    {
     "name": "stdout",
     "output_type": "stream",
     "text": [
      "_________________________________________________________________\n",
      "Layer (type)                 Output Shape              Param #   \n",
      "=================================================================\n",
      "input_1 (InputLayer)         (None, 48, 48, 3)         0         \n",
      "_________________________________________________________________\n",
      "block1_conv1 (Conv2D)        (None, 48, 48, 64)        1792      \n",
      "_________________________________________________________________\n",
      "block1_conv2 (Conv2D)        (None, 48, 48, 64)        36928     \n",
      "_________________________________________________________________\n",
      "block1_pool (MaxPooling2D)   (None, 24, 24, 64)        0         \n",
      "_________________________________________________________________\n",
      "block2_conv1 (Conv2D)        (None, 24, 24, 128)       73856     \n",
      "_________________________________________________________________\n",
      "block2_conv2 (Conv2D)        (None, 24, 24, 128)       147584    \n",
      "_________________________________________________________________\n",
      "block2_pool (MaxPooling2D)   (None, 12, 12, 128)       0         \n",
      "_________________________________________________________________\n",
      "block3_conv1 (Conv2D)        (None, 12, 12, 256)       295168    \n",
      "_________________________________________________________________\n",
      "block3_conv2 (Conv2D)        (None, 12, 12, 256)       590080    \n",
      "_________________________________________________________________\n",
      "block3_conv3 (Conv2D)        (None, 12, 12, 256)       590080    \n",
      "_________________________________________________________________\n",
      "block3_conv4 (Conv2D)        (None, 12, 12, 256)       590080    \n",
      "_________________________________________________________________\n",
      "block3_pool (MaxPooling2D)   (None, 6, 6, 256)         0         \n",
      "_________________________________________________________________\n",
      "block4_conv1 (Conv2D)        (None, 6, 6, 512)         1180160   \n",
      "_________________________________________________________________\n",
      "block4_conv2 (Conv2D)        (None, 6, 6, 512)         2359808   \n",
      "_________________________________________________________________\n",
      "block4_conv3 (Conv2D)        (None, 6, 6, 512)         2359808   \n",
      "_________________________________________________________________\n",
      "block4_conv4 (Conv2D)        (None, 6, 6, 512)         2359808   \n",
      "_________________________________________________________________\n",
      "block4_pool (MaxPooling2D)   (None, 3, 3, 512)         0         \n",
      "_________________________________________________________________\n",
      "block5_conv1 (Conv2D)        (None, 3, 3, 512)         2359808   \n",
      "_________________________________________________________________\n",
      "block5_conv2 (Conv2D)        (None, 3, 3, 512)         2359808   \n",
      "_________________________________________________________________\n",
      "block5_conv3 (Conv2D)        (None, 3, 3, 512)         2359808   \n",
      "_________________________________________________________________\n",
      "block5_conv4 (Conv2D)        (None, 3, 3, 512)         2359808   \n",
      "_________________________________________________________________\n",
      "block5_pool (MaxPooling2D)   (None, 1, 1, 512)         0         \n",
      "_________________________________________________________________\n",
      "flatten_1 (Flatten)          (None, 512)               0         \n",
      "_________________________________________________________________\n",
      "dense_1 (Dense)              (None, 1024)              525312    \n",
      "_________________________________________________________________\n",
      "dropout_1 (Dropout)          (None, 1024)              0         \n",
      "_________________________________________________________________\n",
      "dense_2 (Dense)              (None, 1024)              1049600   \n",
      "_________________________________________________________________\n",
      "dropout_2 (Dropout)          (None, 1024)              0         \n",
      "_________________________________________________________________\n",
      "dense_3 (Dense)              (None, 7)                 7175      \n",
      "=================================================================\n",
      "Total params: 21,606,471\n",
      "Trainable params: 21,606,471\n",
      "Non-trainable params: 0\n",
      "_________________________________________________________________\n"
     ]
    },
    {
     "name": "stderr",
     "output_type": "stream",
     "text": [
      "/usr/local/lib/python3.5/dist-packages/ipykernel_launcher.py:11: UserWarning: Update your `Model` call to the Keras 2 API: `Model(inputs=Tensor(\"in..., outputs=Tensor(\"de...)`\n",
      "  # This is added back by InteractiveShellApp.init_path()\n"
     ]
    }
   ],
   "source": [
    "# duplicate of prakash jay code\n",
    "x = model.output\n",
    "x = Flatten()(x)\n",
    "x = Dense(1024, activation=\"relu\")(x)\n",
    "x = Dropout(0.5)(x)\n",
    "x = Dense(1024, activation=\"relu\")(x)\n",
    "x = Dropout(0.5)(x)\n",
    "predictions = Dense(7, activation=\"softmax\")(x)\n",
    "\n",
    "# creating the final model \n",
    "model_final = Model(input = model.input, output = predictions)\n",
    "\n",
    "# compile the model \n",
    "model_final.compile(loss = \"categorical_crossentropy\", optimizer = optimizers.SGD(lr=0.0001, momentum=0.9), metrics=[\"accuracy\"])\n",
    "\n",
    "model_final.summary()"
   ]
  },
  {
   "cell_type": "code",
   "execution_count": null,
   "metadata": {
    "collapsed": true
   },
   "outputs": [],
   "source": []
  }
 ],
 "metadata": {
  "kernelspec": {
   "display_name": "Python 3",
   "language": "python",
   "name": "python3"
  },
  "language_info": {
   "codemirror_mode": {
    "name": "ipython",
    "version": 3
   },
   "file_extension": ".py",
   "mimetype": "text/x-python",
   "name": "python",
   "nbconvert_exporter": "python",
   "pygments_lexer": "ipython3",
   "version": "3.6.1"
  }
 },
 "nbformat": 4,
 "nbformat_minor": 2
}
