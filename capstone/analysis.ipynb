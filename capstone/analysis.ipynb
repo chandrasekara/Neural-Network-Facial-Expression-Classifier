{
 "cells": [
  {
   "cell_type": "markdown",
   "metadata": {},
   "source": [
    "# Machine Learning Engineer Nanodegree\n",
    "\n",
    "## Capstone Project\n",
    "\n",
    "### Using Computer Vision for Facial Expression Classification\n",
    "\n",
    "This project seeks to investigate the use of computer vision techniques to build a classifier that can classify different faces, based on facial expressions.\n",
    "\n",
    "A deep learning approach will be taken to this problem, investigating the use of convolutional neural networks (CNNs). \n",
    "\n",
    "A simple benchmark CNN will first be investigated, followed by a more complex and deep network.\n",
    "\n",
    "In addition, the use of pre-existing architectures for the [ImageNet challenge](http://www.image-net.org/challenges/LSVRC/) will be explored to aid performance in the facial expression classification problem. \n",
    "\n",
    "\n",
    "\n",
    "\n"
   ]
  },
  {
   "cell_type": "code",
   "execution_count": 24,
   "metadata": {
    "scrolled": true
   },
   "outputs": [],
   "source": [
    "import pandas as pd\n",
    "import numpy as np\n",
    "import matplotlib.pyplot as plt\n",
    "\n",
    "from keras.datasets import mnist\n",
    "from keras.models import Sequential, Model\n",
    "from keras.layers import Dense, Dropout, Flatten\n",
    "from keras.layers import Conv2D, MaxPooling2D, GlobalAveragePooling2D\n",
    "from keras.callbacks import ModelCheckpoint  \n",
    "\n",
    "from keras import losses\n",
    "from keras import backend as K\n",
    "from keras import applications\n",
    "from keras import optimizers\n",
    "\n",
    "%matplotlib inline"
   ]
  },
  {
   "cell_type": "markdown",
   "metadata": {},
   "source": [
    "### Reading the Data\n",
    "\n",
    "The dataset can be obtained from [here](https://www.kaggle.com/c/challenges-in-representation-learning-facial-expression-recognition-challenge). For the purpose of this notebook, and determining the best classification model, only the first 15,000 entries will be used. Later, the entire dataset will be used for training, testing and validation on the optimal model, to gain an idea for the true performance of the model.\n",
    "\n",
    "Below, Pandas is used to read the input data into a Data Frame"
   ]
  },
  {
   "cell_type": "code",
   "execution_count": 25,
   "metadata": {
    "collapsed": true
   },
   "outputs": [],
   "source": [
    "use_section_data = True\n",
    "smaller_section_data = True\n",
    "\n",
    "if use_section_data:\n",
    "    data = pd.read_csv(\"section_fer2013.csv\")    \n",
    "    if smaller_section_data:\n",
    "        data = pd.read_csv(\"smaller_section_fer2013.csv\")\n",
    "else:\n",
    "    data = pd.read_csv(\"fer2013cp.csv\")\n",
    "\n",
    "labels = data['emotion']\n",
    "\n",
    "features = data.drop(['emotion','Usage'], axis=1, inplace=False)\n"
   ]
  },
  {
   "cell_type": "markdown",
   "metadata": {},
   "source": [
    "### Pre-Processing the Data\n",
    "\n",
    "The raw data is in .csv format, with every pixel value listed in a single cell, for each image, separated by spaces.\n",
    "\n",
    "Below, each pixel value is separated, to be an individual value in a Python list, within a Data Frame.\n",
    "\n",
    "In addition, the data will be converted to a tensor format."
   ]
  },
  {
   "cell_type": "code",
   "execution_count": 26,
   "metadata": {
    "collapsed": true
   },
   "outputs": [],
   "source": [
    "temp_list = []\n",
    "\n",
    "for i in features['pixels']:\n",
    "    temp_list.append(i.split())\n",
    "    \n",
    "features.drop('pixels',axis=1,inplace=True)\n",
    "\n",
    "features['pixels'] = pd.Series(temp_list)"
   ]
  },
  {
   "cell_type": "markdown",
   "metadata": {},
   "source": [
    "Of all of the data that has been imported, 20% will be used for training, 10% for validation, and 70% for training."
   ]
  },
  {
   "cell_type": "code",
   "execution_count": 27,
   "metadata": {
    "collapsed": true
   },
   "outputs": [],
   "source": [
    "from sklearn.model_selection import train_test_split\n",
    "\n",
    "\n",
    "X_train, X_test, y_train, y_test = train_test_split(features,labels,test_size = 0.2, random_state=0)\n",
    "\n",
    "X_train, X_val, y_train, y_val = train_test_split(X_train, y_train, test_size = 0.125, random_state=0)"
   ]
  },
  {
   "cell_type": "code",
   "execution_count": 28,
   "metadata": {
    "collapsed": true
   },
   "outputs": [],
   "source": [
    "def df_to_tensor(X_in, im_dim, reshape=True, triple_channels=False, horizontal_flip_double=False):\n",
    "    \n",
    "    # convert from the dataframe which contains Python lists with all pixel values, into a tensor, suitable for\n",
    "    # input into a convolutional neural network\n",
    "    \n",
    "    list_of_2d_arrays = []\n",
    "    \n",
    "    \n",
    "    \n",
    "    for image in X_in['pixels']:\n",
    "        pixel_array = []\n",
    "        \n",
    "        for pixel in image:\n",
    "            if not triple_channels:\n",
    "                pixel_array.append(int(pixel))\n",
    "            else:\n",
    "                pixel_array.append([int(pixel),int(pixel),int(pixel)])\n",
    "        \n",
    "        pixel_array = [pixel_array[x:x+im_dim] for x in range(0,len(pixel_array),im_dim)]\n",
    "        \n",
    "        \n",
    "        \n",
    "        list_of_2d_arrays.append(pixel_array)\n",
    "        \n",
    "    if horizontal_flip_double == True:\n",
    "        \n",
    "        reversed_array = []\n",
    "        \n",
    "        for pixel_row in pixel_array:\n",
    "            reversed_array.append(pixel_row[::-1])\n",
    "            \n",
    "        list_of_2d_arrays.append(reversed_array)\n",
    "            \n",
    "            \n",
    "        \n",
    "        \n",
    "    np_arr =  np.array(list_of_2d_arrays)\n",
    "    \n",
    "    if reshape:\n",
    "        return np_arr.reshape(np_arr.shape[0], 48, 48, 1)\n",
    "    else:\n",
    "        return np_arr"
   ]
  },
  {
   "cell_type": "markdown",
   "metadata": {},
   "source": [
    "### Sample Visualization\n",
    "\n",
    "A few of the images from the dataset will be plotted below."
   ]
  },
  {
   "cell_type": "code",
   "execution_count": 29,
   "metadata": {
    "collapsed": true
   },
   "outputs": [],
   "source": [
    "# take a few sample images to provide a visualization\n",
    "\n",
    "samples = df_to_tensor(features,48)"
   ]
  },
  {
   "cell_type": "code",
   "execution_count": 30,
   "metadata": {
    "scrolled": true
   },
   "outputs": [
    {
     "data": {
      "image/png": "[encoded data removed]",
      "text/plain": [
       "<matplotlib.figure.Figure at 0x22f031f7cc0>"
      ]
     },
     "metadata": {},
     "output_type": "display_data"
    }
   ],
   "source": [
    "seed_number = 21\n",
    "\n",
    "two_d_array = samples[seed_number].reshape(48,48)\n",
    "\n",
    "fig = plt.figure(figsize=(10, 10))\n",
    "\n",
    "num_rows = 3\n",
    "\n",
    "num_columns = 3\n",
    "\n",
    "hardcoded_labels = [\"Fear\", \"Anger\", \"Anger\", \"Happy\", \"Happy\",\n",
    "                   \"Happy\", \"Disgust\", \"Happy\", \"Surprised\"]\n",
    "\n",
    "for i in range(num_rows*num_columns):\n",
    "    ax = fig.add_subplot(num_rows,num_columns,i + 1)\n",
    "    ax.imshow(samples[seed_number + i].reshape(48,48), cmap='gray')\n",
    "    ax.title.set_text(hardcoded_labels[i])\n",
    "\n"
   ]
  },
  {
   "cell_type": "markdown",
   "metadata": {},
   "source": [
    "### Frequency of Expressions\n",
    "\n",
    "The distribution of how many times each expression appears in the dataset is important to inform what metrics are suitable for assessing the classifier. Below a bar graph showing the relative frequencies of each expression is shown."
   ]
  },
  {
   "cell_type": "code",
   "execution_count": 31,
   "metadata": {},
   "outputs": [
    {
     "data": {
      "image/png": "[encoded data removed]",
      "text/plain": [
       "<matplotlib.figure.Figure at 0x22fa1dc35f8>"
      ]
     },
     "metadata": {},
     "output_type": "display_data"
    }
   ],
   "source": [
    "# seeing the distribution of each emotion in the dataset\n",
    "\n",
    "frequency_list = np.zeros(7)\n",
    "\n",
    "for label in labels:\n",
    "    frequency_list[int(label)] += 1\n",
    "    \n",
    "emotion_indices = range(1,8)\n",
    "\n",
    "x_axis_labels = ['Angry','Disgust','Fear','Happy','Sad','Surprise',\n",
    "         'Neutral']\n",
    "\n",
    "\n",
    "bar = plt.bar(emotion_indices, frequency_list, align='center')\n",
    "\n",
    "plt.xticks(emotion_indices, x_axis_labels )\n",
    "\n",
    "plt.xlabel(\"Facial Expression\")\n",
    "\n",
    "plt.ylabel(\"Frequency of Occurence\")\n",
    "\n",
    "\n",
    "\n",
    "plt.show()"
   ]
  },
  {
   "cell_type": "code",
   "execution_count": 32,
   "metadata": {
    "collapsed": true
   },
   "outputs": [],
   "source": [
    "train_tensors = df_to_tensor(X_train,48).astype('float32')/255\n",
    "valid_tensors = df_to_tensor(X_val,48).astype('float32')/255\n",
    "test_tensors = df_to_tensor(X_test,48).astype('float32')/255\n",
    "\n",
    "train_targets = np.array(pd.get_dummies(y_train))\n",
    "valid_targets = np.array(pd.get_dummies(y_val))\n",
    "test_targets = np.array(pd.get_dummies(y_test))\n"
   ]
  },
  {
   "cell_type": "code",
   "execution_count": 33,
   "metadata": {
    "collapsed": true
   },
   "outputs": [],
   "source": [
    "img_width = 48\n",
    "img_height = 48"
   ]
  },
  {
   "cell_type": "markdown",
   "metadata": {},
   "source": [
    "### Evaluation Metrics\n",
    "\n",
    "Due to the uneven distribution of facial expressions in the dataset, illustrated above, accuracy alone is not a suitable measure of classifier performance. Instead <b>categorical cross entropy loss</b> will be used to rank classifiers.\n"
   ]
  },
  {
   "cell_type": "code",
   "execution_count": 11,
   "metadata": {
    "collapsed": true
   },
   "outputs": [],
   "source": [
    "import numpy as np\n",
    "\n",
    "\n",
    "def my_categorical_cross_entropy(predictions_vector, targets_vector, epsilon_ = 0.0001):\n",
    "    #calculates, for each individual sample, the contribution to the total categorical cross entropy of the predictions with respect to the targets\n",
    "\n",
    "    for i in range(len(predictions_vector)):\n",
    "        if predictions_vector[i] <= 0:\n",
    "            predictions_vector[i] = epsilon_\n",
    "    \n",
    "    predictions = np.array(predictions_vector)\n",
    "\n",
    "    targets = np.array(targets_vector)\n",
    "\n",
    "    log_vector = -np.log(predictions_vector)\n",
    "\n",
    "    return targets.dot(log_vector)\n"
   ]
  },
  {
   "cell_type": "code",
   "execution_count": 12,
   "metadata": {
    "collapsed": true
   },
   "outputs": [],
   "source": [
    "def manual_total_cce(predictions, targets ):\n",
    "    \n",
    "    # predictions and targets inputs must be numpy arrays with the shape: (number of samples, number of classes)\n",
    "    \n",
    "    total = 0\n",
    "    \n",
    "    for i in range(predictions.shape[0]):\n",
    "        if predictions.shape[0] != targets.shape[0]:\n",
    "            print(\"WRONG INPUT DIMS!\")\n",
    "            return None\n",
    "        total += my_categorical_cross_entropy(predictions[i], targets[i])\n",
    "    \n",
    "    return float(total)/predictions.shape[0]"
   ]
  },
  {
   "cell_type": "code",
   "execution_count": 13,
   "metadata": {
    "collapsed": true
   },
   "outputs": [],
   "source": [
    "# function for getting model predictions of a CNN\n",
    "\n",
    "def get_model_predictions(input_model, input_test_tensors):\n",
    "    # closely based on code provided in the Dog Breeds Classifier project\n",
    "    return [input_model.predict(np.expand_dims(tensor, axis=0)) for tensor in input_test_tensors]"
   ]
  },
  {
   "cell_type": "code",
   "execution_count": 14,
   "metadata": {
    "collapsed": true
   },
   "outputs": [],
   "source": [
    "def get_model_accuracy(input_model, input_test_tensors, input_test_targets):\n",
    "    # closely based on code provided in the Dog Breeds Classifier project\n",
    "    # get index of predicted facial expression for test set images\n",
    "    expression_predictions = [np.argmax(input_model.predict(np.expand_dims(tensor, axis=0))) for tensor in input_test_tensors]\n",
    "\n",
    "    test_accuracy = 100*np.sum(np.array(expression_predictions)==np.argmax(input_test_targets, axis=1))/len(expression_predictions)\n",
    "    \n",
    "    return test_accuracy\n",
    "    "
   ]
  },
  {
   "cell_type": "markdown",
   "metadata": {},
   "source": [
    "### Baseline Model\n",
    "\n",
    "First, a simple CNN will be used to build a classifier, to which others can be compared. The baseline comprises only of one convolutional layer with 16 features and is expected to pick up basic features in the faces that will give it some degree of accuracy with the classification task\n"
   ]
  },
  {
   "cell_type": "code",
   "execution_count": 15,
   "metadata": {},
   "outputs": [
    {
     "name": "stdout",
     "output_type": "stream",
     "text": [
      "_________________________________________________________________\n",
      "Layer (type)                 Output Shape              Param #   \n",
      "=================================================================\n",
      "conv2d_1 (Conv2D)            (None, 48, 48, 16)        80        \n",
      "_________________________________________________________________\n",
      "max_pooling2d_1 (MaxPooling2 (None, 24, 24, 16)        0         \n",
      "_________________________________________________________________\n",
      "flatten_1 (Flatten)          (None, 9216)              0         \n",
      "_________________________________________________________________\n",
      "dense_1 (Dense)              (None, 100)               921700    \n",
      "_________________________________________________________________\n",
      "dense_2 (Dense)              (None, 7)                 707       \n",
      "=================================================================\n",
      "Total params: 922,487\n",
      "Trainable params: 922,487\n",
      "Non-trainable params: 0\n",
      "_________________________________________________________________\n"
     ]
    }
   ],
   "source": [
    "model_baseline = Sequential()\n",
    "model_baseline.add(Conv2D(filters=16, kernel_size=2, padding='same', activation='relu', input_shape=(48,48,1)))\n",
    "model_baseline.add(MaxPooling2D(pool_size=2))\n",
    "model_baseline.add(Flatten())\n",
    "model_baseline.add(Dense(100, activation='relu'))\n",
    "model_baseline.add(Dense(7, activation='softmax'))\n",
    "\n",
    "model_baseline.summary()"
   ]
  },
  {
   "cell_type": "code",
   "execution_count": 16,
   "metadata": {
    "collapsed": true
   },
   "outputs": [],
   "source": [
    "model_baseline.compile(optimizer='rmsprop', loss='categorical_crossentropy', metrics=['accuracy'])"
   ]
  },
  {
   "cell_type": "code",
   "execution_count": 17,
   "metadata": {
    "scrolled": true
   },
   "outputs": [
    {
     "name": "stdout",
     "output_type": "stream",
     "text": [
      "Train on 25120 samples, validate on 3589 samples\n",
      "Epoch 1/20\n",
      "25100/25120 [============================>.] - ETA: 0s - loss: 1.6553 - acc: 0.3463Epoch 00000: val_loss improved from inf to 1.52842, saving model to saved_models/weights.best.baseline.hdf5\n",
      "25120/25120 [==============================] - 36s - loss: 1.6552 - acc: 0.3463 - val_loss: 1.5284 - val_acc: 0.4257\n",
      "Epoch 2/20\n",
      "24980/25120 [============================>.] - ETA: 0s - loss: 1.4939 - acc: 0.4312Epoch 00001: val_loss improved from 1.52842 to 1.46809, saving model to saved_models/weights.best.baseline.hdf5\n",
      "25120/25120 [==============================] - 8s - loss: 1.4937 - acc: 0.4315 - val_loss: 1.4681 - val_acc: 0.4505\n",
      "Epoch 3/20\n",
      "25040/25120 [============================>.] - ETA: 0s - loss: 1.4104 - acc: 0.4670Epoch 00002: val_loss improved from 1.46809 to 1.44976, saving model to saved_models/weights.best.baseline.hdf5\n",
      "25120/25120 [==============================] - 8s - loss: 1.4098 - acc: 0.4674 - val_loss: 1.4498 - val_acc: 0.4519\n",
      "Epoch 4/20\n",
      "24980/25120 [============================>.] - ETA: 0s - loss: 1.3457 - acc: 0.4908Epoch 00003: val_loss did not improve\n",
      "25120/25120 [==============================] - 8s - loss: 1.3449 - acc: 0.4912 - val_loss: 1.4620 - val_acc: 0.4464\n",
      "Epoch 5/20\n",
      "25080/25120 [============================>.] - ETA: 0s - loss: 1.2921 - acc: 0.5129Epoch 00004: val_loss improved from 1.44976 to 1.44894, saving model to saved_models/weights.best.baseline.hdf5\n",
      "25120/25120 [==============================] - 8s - loss: 1.2920 - acc: 0.5129 - val_loss: 1.4489 - val_acc: 0.4461\n",
      "Epoch 6/20\n",
      "25040/25120 [============================>.] - ETA: 0s - loss: 1.2412 - acc: 0.5317Epoch 00005: val_loss did not improve\n",
      "25120/25120 [==============================] - 8s - loss: 1.2412 - acc: 0.5318 - val_loss: 1.4540 - val_acc: 0.4486\n",
      "Epoch 7/20\n",
      "25020/25120 [============================>.] - ETA: 0s - loss: 1.1997 - acc: 0.5510Epoch 00006: val_loss did not improve\n",
      "25120/25120 [==============================] - 8s - loss: 1.2000 - acc: 0.5510 - val_loss: 1.5024 - val_acc: 0.4349\n",
      "Epoch 8/20\n",
      "25020/25120 [============================>.] - ETA: 0s - loss: 1.1559 - acc: 0.5699Epoch 00007: val_loss did not improve\n",
      "25120/25120 [==============================] - 8s - loss: 1.1556 - acc: 0.5699 - val_loss: 1.5198 - val_acc: 0.4430\n",
      "Epoch 9/20\n",
      "25080/25120 [============================>.] - ETA: 0s - loss: 1.1126 - acc: 0.5878Epoch 00008: val_loss did not improve\n",
      "25120/25120 [==============================] - 8s - loss: 1.1130 - acc: 0.5879 - val_loss: 1.4730 - val_acc: 0.4570\n",
      "Epoch 10/20\n",
      "24960/25120 [============================>.] - ETA: 0s - loss: 1.0694 - acc: 0.6058Epoch 00009: val_loss did not improve\n",
      "25120/25120 [==============================] - 8s - loss: 1.0700 - acc: 0.6055 - val_loss: 1.5011 - val_acc: 0.4572\n",
      "Epoch 11/20\n",
      "25040/25120 [============================>.] - ETA: 0s - loss: 1.0280 - acc: 0.6197Epoch 00010: val_loss did not improve\n",
      "25120/25120 [==============================] - 8s - loss: 1.0283 - acc: 0.6196 - val_loss: 1.6016 - val_acc: 0.4238\n",
      "Epoch 12/20\n",
      "25000/25120 [============================>.] - ETA: 0s - loss: 0.9843 - acc: 0.6376Epoch 00011: val_loss did not improve\n",
      "25120/25120 [==============================] - 8s - loss: 0.9838 - acc: 0.6377 - val_loss: 1.5722 - val_acc: 0.4645\n",
      "Epoch 13/20\n",
      "25100/25120 [============================>.] - ETA: 0s - loss: 0.9407 - acc: 0.6577Epoch 00012: val_loss did not improve\n",
      "25120/25120 [==============================] - 8s - loss: 0.9407 - acc: 0.6576 - val_loss: 1.5540 - val_acc: 0.4636\n",
      "Epoch 14/20\n",
      "25100/25120 [============================>.] - ETA: 0s - loss: 0.8958 - acc: 0.6724Epoch 00013: val_loss did not improve\n",
      "25120/25120 [==============================] - 8s - loss: 0.8959 - acc: 0.6724 - val_loss: 1.6092 - val_acc: 0.4570\n",
      "Epoch 15/20\n",
      "25100/25120 [============================>.] - ETA: 0s - loss: 0.8525 - acc: 0.6922Epoch 00014: val_loss did not improve\n",
      "25120/25120 [==============================] - 8s - loss: 0.8525 - acc: 0.6922 - val_loss: 1.6536 - val_acc: 0.4503\n",
      "Epoch 16/20\n",
      "24960/25120 [============================>.] - ETA: 0s - loss: 0.8096 - acc: 0.7095Epoch 00015: val_loss did not improve\n",
      "25120/25120 [==============================] - 8s - loss: 0.8092 - acc: 0.7097 - val_loss: 1.7180 - val_acc: 0.4581\n",
      "Epoch 17/20\n",
      "24940/25120 [============================>.] - ETA: 0s - loss: 0.7679 - acc: 0.7242Epoch 00016: val_loss did not improve\n",
      "25120/25120 [==============================] - 8s - loss: 0.7677 - acc: 0.7245 - val_loss: 1.7593 - val_acc: 0.4645\n",
      "Epoch 18/20\n",
      "25080/25120 [============================>.] - ETA: 0s - loss: 0.7240 - acc: 0.7386Epoch 00017: val_loss did not improve\n",
      "25120/25120 [==============================] - 8s - loss: 0.7242 - acc: 0.7386 - val_loss: 1.9117 - val_acc: 0.4294\n",
      "Epoch 19/20\n",
      "24940/25120 [============================>.] - ETA: 0s - loss: 0.6847 - acc: 0.7569Epoch 00018: val_loss did not improve\n",
      "25120/25120 [==============================] - 8s - loss: 0.6845 - acc: 0.7572 - val_loss: 1.8868 - val_acc: 0.4597\n",
      "Epoch 20/20\n",
      "24980/25120 [============================>.] - ETA: 0s - loss: 0.6420 - acc: 0.7759Epoch 00019: val_loss did not improve\n",
      "25120/25120 [==============================] - 8s - loss: 0.6422 - acc: 0.7758 - val_loss: 1.9620 - val_acc: 0.4528\n"
     ]
    }
   ],
   "source": [
    "epochs = 20\n",
    "\n",
    "checkpointer = ModelCheckpoint(filepath='saved_models/weights.best.baseline.hdf5', \n",
    "                               verbose=1, save_best_only=True)\n",
    "\n",
    "history = model_baseline.fit(train_tensors, train_targets, \n",
    "          validation_data=(valid_tensors, valid_targets),\n",
    "          epochs=epochs, batch_size=20, callbacks=[checkpointer], verbose=1)"
   ]
  },
  {
   "cell_type": "code",
   "execution_count": 18,
   "metadata": {
    "collapsed": true
   },
   "outputs": [],
   "source": [
    "model_baseline.load_weights('saved_models/weights.best.baseline.hdf5')"
   ]
  },
  {
   "cell_type": "code",
   "execution_count": 19,
   "metadata": {},
   "outputs": [
    {
     "name": "stdout",
     "output_type": "stream",
     "text": [
      "Test accuracy: 45.4305% \n"
     ]
    }
   ],
   "source": [
    "print(\"Test accuracy: %.4f%% \" % get_model_accuracy(model_baseline, test_tensors, test_targets))"
   ]
  },
  {
   "cell_type": "code",
   "execution_count": 20,
   "metadata": {},
   "outputs": [
    {
     "name": "stdout",
     "output_type": "stream",
     "text": [
      "45.4304820284\n"
     ]
    }
   ],
   "source": [
    "print(get_model_accuracy(model_baseline, test_tensors, test_targets))"
   ]
  },
  {
   "cell_type": "code",
   "execution_count": 21,
   "metadata": {},
   "outputs": [
    {
     "name": "stdout",
     "output_type": "stream",
     "text": [
      "dict_keys(['val_acc', 'acc', 'loss', 'val_loss'])\n"
     ]
    },
    {
     "data": {
      "image/png": "[encoded data removed]",
      "text/plain": [
       "<matplotlib.figure.Figure at 0x7fde5d984c88>"
      ]
     },
     "metadata": {},
     "output_type": "display_data"
    }
   ],
   "source": [
    "# CODE OBTAINED FROM https://machinelearningmastery.com/display-deep-learning-model-training-history-in-keras/\n",
    "print(history.history.keys())\n",
    "# summarize history for accuracy\n",
    "plt.plot(history.history['loss'])\n",
    "plt.plot(history.history['val_loss'])\n",
    "\n",
    "plt.legend(['train', 'validation'], loc='upper left')\n",
    "plt.title('Training and Validation data for Baseline Model')\n",
    "plt.xlabel('Training Epoch')\n",
    "plt.ylabel('Cross Entropy Loss')\n",
    "plt.show()"
   ]
  },
  {
   "cell_type": "code",
   "execution_count": 22,
   "metadata": {},
   "outputs": [
    {
     "name": "stdout",
     "output_type": "stream",
     "text": [
      "[[  1.28602935e-02   7.11517700e-04   8.76329020e-02 ...,   2.02042144e-02\n",
      "    1.49735317e-01   1.05642788e-01]\n",
      " [  2.27117240e-01   1.13362074e-02   1.24869853e-01 ...,   4.70569223e-01\n",
      "    5.15299663e-02   8.10307786e-02]\n",
      " [  2.70138890e-01   2.25366466e-03   4.23930556e-01 ...,   2.56712418e-02\n",
      "    1.22724168e-01   8.05180669e-02]\n",
      " ..., \n",
      " [  2.91146547e-01   5.37341833e-03   1.34398058e-01 ...,   7.41966888e-02\n",
      "    1.32459244e-02   3.03122252e-02]\n",
      " [  8.14870670e-02   2.65657989e-04   5.18936276e-01 ...,   1.84470534e-01\n",
      "    5.36397360e-02   7.81363398e-02]\n",
      " [  8.49090442e-02   6.27537370e-02   6.28602803e-01 ...,   4.68120836e-02\n",
      "    6.21526316e-02   8.05550069e-03]]\n",
      "(7178, 7)\n"
     ]
    }
   ],
   "source": [
    "preds_ = get_model_predictions(model_baseline, test_tensors)\n",
    "\n",
    "holder = np.array(preds_)\n",
    "\n",
    "preds_np = np.array(preds_, dtype='float32').reshape(holder.shape[0],7)\n"
   ]
  },
  {
   "cell_type": "code",
   "execution_count": 23,
   "metadata": {},
   "outputs": [
    {
     "name": "stdout",
     "output_type": "stream",
     "text": [
      "1.4321339317629496\n"
     ]
    }
   ],
   "source": [
    "print(manual_total_cce(preds_np, test_targets))"
   ]
  },
  {
   "cell_type": "markdown",
   "metadata": {},
   "source": [
    "### Advanced Model"
   ]
  },
  {
   "cell_type": "markdown",
   "metadata": {},
   "source": [
    "### Image Augmentation\n",
    "\n",
    "\n"
   ]
  },
  {
   "cell_type": "code",
   "execution_count": 15,
   "metadata": {
    "collapsed": true
   },
   "outputs": [],
   "source": [
    "from keras.preprocessing.image import ImageDataGenerator\n",
    "\n",
    "def augment_data(train_tensors_input, valid_tensors_input, shift_width=0.1, shift_height=0.1, flip_hor=True,\n",
    "                flip_vert=False):\n",
    "    \n",
    "    \n",
    "    datagen_train = ImageDataGenerator(\n",
    "        width_shift_range = shift_width,\n",
    "        height_shift_range = shift_height,\n",
    "        horizontal_flip = flip_hor,\n",
    "        vertical_flip = flip_vert )\n",
    "\n",
    "    # create and configure augmented image generator\n",
    "    datagen_valid = ImageDataGenerator(\n",
    "        width_shift_range = shift_width,\n",
    "        height_shift_range = shift_height,\n",
    "        horizontal_flip = flip_hor,\n",
    "        vertical_flip = flip_vert )\n",
    "\n",
    "    # fit augmented image generator on data\n",
    "    datagen_train.fit(train_tensors_input)\n",
    "    datagen_valid.fit(valid_tensors_input)\n",
    "    \n",
    "    return (datagen_train, datagen_valid)\n",
    "    "
   ]
  },
  {
   "cell_type": "code",
   "execution_count": 16,
   "metadata": {
    "collapsed": true
   },
   "outputs": [],
   "source": [
    "(datagen_train, datagen_valid) = augment_data(train_tensors, valid_tensors)"
   ]
  },
  {
   "cell_type": "code",
   "execution_count": 17,
   "metadata": {
    "scrolled": false
   },
   "outputs": [
    {
     "name": "stdout",
     "output_type": "stream",
     "text": [
      "_________________________________________________________________\n",
      "Layer (type)                 Output Shape              Param #   \n",
      "=================================================================\n",
      "conv2d_1 (Conv2D)            (None, 48, 48, 16)        80        \n",
      "_________________________________________________________________\n",
      "max_pooling2d_1 (MaxPooling2 (None, 24, 24, 16)        0         \n",
      "_________________________________________________________________\n",
      "conv2d_2 (Conv2D)            (None, 24, 24, 32)        2080      \n",
      "_________________________________________________________________\n",
      "max_pooling2d_2 (MaxPooling2 (None, 12, 12, 32)        0         \n",
      "_________________________________________________________________\n",
      "conv2d_3 (Conv2D)            (None, 12, 12, 64)        8256      \n",
      "_________________________________________________________________\n",
      "max_pooling2d_3 (MaxPooling2 (None, 6, 6, 64)          0         \n",
      "_________________________________________________________________\n",
      "flatten_1 (Flatten)          (None, 2304)              0         \n",
      "_________________________________________________________________\n",
      "dense_1 (Dense)              (None, 100)               230500    \n",
      "_________________________________________________________________\n",
      "dense_2 (Dense)              (None, 7)                 707       \n",
      "=================================================================\n",
      "Total params: 241,623\n",
      "Trainable params: 241,623\n",
      "Non-trainable params: 0\n",
      "_________________________________________________________________\n"
     ]
    }
   ],
   "source": [
    "model = Sequential()\n",
    "model.add(Conv2D(filters=16, kernel_size=2, padding='same', activation='relu', input_shape=(48,48,1)))\n",
    "model.add(MaxPooling2D(pool_size=2))\n",
    "model.add(Conv2D(filters=32, kernel_size=2, padding='same', activation='relu'))\n",
    "model.add(MaxPooling2D(pool_size=2))\n",
    "model.add(Conv2D(filters=64, kernel_size=2, padding='same', activation='relu'))\n",
    "model.add(MaxPooling2D(pool_size=2))\n",
    "model.add(Flatten())\n",
    "model.add(Dense(100, activation='relu'))\n",
    "model.add(Dense(7, activation='softmax'))\n",
    "\n",
    "model.summary()"
   ]
  },
  {
   "cell_type": "code",
   "execution_count": 18,
   "metadata": {
    "collapsed": true
   },
   "outputs": [],
   "source": [
    "model.compile(optimizer='rmsprop', loss='categorical_crossentropy', metrics=['accuracy'])"
   ]
  },
  {
   "cell_type": "code",
   "execution_count": 19,
   "metadata": {},
   "outputs": [
    {
     "name": "stdout",
     "output_type": "stream",
     "text": [
      "Epoch 1/50\n",
      "1253/1256 [============================>.] - ETA: 0s - loss: 1.7175 - acc: 0.3114Epoch 00001: val_loss improved from inf to 1.65618, saving model to saved_models/weights.best.from_scratch_augmentation.hdf5\n",
      "1256/1256 [==============================] - 26s 21ms/step - loss: 1.7169 - acc: 0.3117 - val_loss: 1.6562 - val_acc: 0.3363\n",
      "Epoch 2/50\n",
      "1254/1256 [============================>.] - ETA: 0s - loss: 1.5600 - acc: 0.3926Epoch 00002: val_loss improved from 1.65618 to 1.54714, saving model to saved_models/weights.best.from_scratch_augmentation.hdf5\n",
      "1256/1256 [==============================] - 19s 15ms/step - loss: 1.5601 - acc: 0.3927 - val_loss: 1.5471 - val_acc: 0.3983\n",
      "Epoch 3/50\n",
      "1254/1256 [============================>.] - ETA: 0s - loss: 1.4656 - acc: 0.4410Epoch 00003: val_loss improved from 1.54714 to 1.41810, saving model to saved_models/weights.best.from_scratch_augmentation.hdf5\n",
      "1256/1256 [==============================] - 18s 15ms/step - loss: 1.4654 - acc: 0.4411 - val_loss: 1.4181 - val_acc: 0.4517\n",
      "Epoch 4/50\n",
      "1255/1256 [============================>.] - ETA: 0s - loss: 1.4065 - acc: 0.4614Epoch 00004: val_loss did not improve\n",
      "1256/1256 [==============================] - 20s 16ms/step - loss: 1.4064 - acc: 0.4614 - val_loss: 1.4214 - val_acc: 0.4450\n",
      "Epoch 5/50\n",
      "1252/1256 [============================>.] - ETA: 0s - loss: 1.3648 - acc: 0.4796Epoch 00005: val_loss improved from 1.41810 to 1.35656, saving model to saved_models/weights.best.from_scratch_augmentation.hdf5\n",
      "1256/1256 [==============================] - 20s 16ms/step - loss: 1.3648 - acc: 0.4794 - val_loss: 1.3566 - val_acc: 0.4715\n",
      "Epoch 6/50\n",
      "1252/1256 [============================>.] - ETA: 0s - loss: 1.3344 - acc: 0.4939Epoch 00006: val_loss improved from 1.35656 to 1.32294, saving model to saved_models/weights.best.from_scratch_augmentation.hdf5\n",
      "1256/1256 [==============================] - 20s 16ms/step - loss: 1.3339 - acc: 0.4943 - val_loss: 1.3229 - val_acc: 0.4869\n",
      "Epoch 7/50\n",
      "1252/1256 [============================>.] - ETA: 0s - loss: 1.3134 - acc: 0.5008Epoch 00007: val_loss improved from 1.32294 to 1.30236, saving model to saved_models/weights.best.from_scratch_augmentation.hdf5\n",
      "1256/1256 [==============================] - 19s 15ms/step - loss: 1.3138 - acc: 0.5008 - val_loss: 1.3024 - val_acc: 0.4980\n",
      "Epoch 8/50\n",
      "1252/1256 [============================>.] - ETA: 0s - loss: 1.2903 - acc: 0.5093Epoch 00008: val_loss did not improve\n",
      "1256/1256 [==============================] - 20s 16ms/step - loss: 1.2905 - acc: 0.5094 - val_loss: 1.3081 - val_acc: 0.5000\n",
      "Epoch 9/50\n",
      "1255/1256 [============================>.] - ETA: 0s - loss: 1.2729 - acc: 0.5165Epoch 00009: val_loss improved from 1.30236 to 1.26737, saving model to saved_models/weights.best.from_scratch_augmentation.hdf5\n",
      "1256/1256 [==============================] - 20s 16ms/step - loss: 1.2729 - acc: 0.5165 - val_loss: 1.2674 - val_acc: 0.5128\n",
      "Epoch 10/50\n",
      "1254/1256 [============================>.] - ETA: 0s - loss: 1.2694 - acc: 0.5220Epoch 00010: val_loss did not improve\n",
      "1256/1256 [==============================] - 21s 17ms/step - loss: 1.2692 - acc: 0.5222 - val_loss: 1.2686 - val_acc: 0.5131\n",
      "Epoch 11/50\n",
      "1254/1256 [============================>.] - ETA: 0s - loss: 1.2510 - acc: 0.5269Epoch 00011: val_loss did not improve\n",
      "1256/1256 [==============================] - 19s 15ms/step - loss: 1.2512 - acc: 0.5270 - val_loss: 1.2782 - val_acc: 0.5059\n",
      "Epoch 12/50\n",
      "1255/1256 [============================>.] - ETA: 0s - loss: 1.2429 - acc: 0.5292Epoch 00012: val_loss did not improve\n",
      "1256/1256 [==============================] - 20s 16ms/step - loss: 1.2428 - acc: 0.5293 - val_loss: 1.2734 - val_acc: 0.5263\n",
      "Epoch 13/50\n",
      "1255/1256 [============================>.] - ETA: 0s - loss: 1.2373 - acc: 0.5335Epoch 00013: val_loss improved from 1.26737 to 1.26171, saving model to saved_models/weights.best.from_scratch_augmentation.hdf5\n",
      "1256/1256 [==============================] - 20s 16ms/step - loss: 1.2371 - acc: 0.5336 - val_loss: 1.2617 - val_acc: 0.5109\n",
      "Epoch 14/50\n",
      "1252/1256 [============================>.] - ETA: 0s - loss: 1.2342 - acc: 0.5337Epoch 00014: val_loss improved from 1.26171 to 1.25542, saving model to saved_models/weights.best.from_scratch_augmentation.hdf5\n",
      "1256/1256 [==============================] - 19s 15ms/step - loss: 1.2340 - acc: 0.5336 - val_loss: 1.2554 - val_acc: 0.5279\n",
      "Epoch 15/50\n",
      "1253/1256 [============================>.] - ETA: 0s - loss: 1.2276 - acc: 0.5371Epoch 00015: val_loss improved from 1.25542 to 1.22374, saving model to saved_models/weights.best.from_scratch_augmentation.hdf5\n",
      "1256/1256 [==============================] - 18s 15ms/step - loss: 1.2280 - acc: 0.5369 - val_loss: 1.2237 - val_acc: 0.5402\n",
      "Epoch 16/50\n",
      "1253/1256 [============================>.] - ETA: 0s - loss: 1.2253 - acc: 0.5378Epoch 00016: val_loss did not improve\n",
      "1256/1256 [==============================] - 19s 15ms/step - loss: 1.2252 - acc: 0.5378 - val_loss: 1.2683 - val_acc: 0.5263\n",
      "Epoch 17/50\n",
      "1254/1256 [============================>.] - ETA: 0s - loss: 1.2197 - acc: 0.5374Epoch 00017: val_loss did not improve\n",
      "1256/1256 [==============================] - 20s 16ms/step - loss: 1.2198 - acc: 0.5375 - val_loss: 1.2502 - val_acc: 0.5182\n",
      "Epoch 18/50\n",
      "1255/1256 [============================>.] - ETA: 0s - loss: 1.2195 - acc: 0.5360Epoch 00018: val_loss did not improve\n",
      "1256/1256 [==============================] - 18s 15ms/step - loss: 1.2197 - acc: 0.5359 - val_loss: 1.2459 - val_acc: 0.5296\n",
      "Epoch 19/50\n",
      "1255/1256 [============================>.] - ETA: 0s - loss: 1.2228 - acc: 0.5383Epoch 00019: val_loss did not improve\n",
      "1256/1256 [==============================] - 19s 15ms/step - loss: 1.2231 - acc: 0.5382 - val_loss: 1.2407 - val_acc: 0.5330\n",
      "Epoch 20/50\n",
      "1255/1256 [============================>.] - ETA: 0s - loss: 1.2135 - acc: 0.5436Epoch 00020: val_loss did not improve\n",
      "1256/1256 [==============================] - 19s 15ms/step - loss: 1.2136 - acc: 0.5436 - val_loss: 1.2376 - val_acc: 0.5246\n",
      "Epoch 21/50\n",
      "1254/1256 [============================>.] - ETA: 0s - loss: 1.2214 - acc: 0.5391Epoch 00021: val_loss did not improve\n",
      "1256/1256 [==============================] - 19s 15ms/step - loss: 1.2213 - acc: 0.5391 - val_loss: 1.2545 - val_acc: 0.5201\n",
      "Epoch 22/50\n",
      "1253/1256 [============================>.] - ETA: 0s - loss: 1.2153 - acc: 0.5419Epoch 00022: val_loss did not improve\n",
      "1256/1256 [==============================] - 21s 17ms/step - loss: 1.2148 - acc: 0.5419 - val_loss: 1.2952 - val_acc: 0.5271\n",
      "Epoch 23/50\n",
      "1252/1256 [============================>.] - ETA: 0s - loss: 1.2235 - acc: 0.5355Epoch 00023: val_loss did not improve\n",
      "1256/1256 [==============================] - 21s 16ms/step - loss: 1.2242 - acc: 0.5353 - val_loss: 1.2659 - val_acc: 0.5137\n",
      "Epoch 24/50\n",
      "1252/1256 [============================>.] - ETA: 0s - loss: 1.2222 - acc: 0.5444Epoch 00024: val_loss did not improve\n",
      "1256/1256 [==============================] - 19s 15ms/step - loss: 1.2217 - acc: 0.5443 - val_loss: 1.2939 - val_acc: 0.5131\n",
      "Epoch 25/50\n",
      "1255/1256 [============================>.] - ETA: 0s - loss: 1.2200 - acc: 0.5391Epoch 00025: val_loss did not improve\n",
      "1256/1256 [==============================] - 19s 15ms/step - loss: 1.2200 - acc: 0.5391 - val_loss: 1.2708 - val_acc: 0.5198\n",
      "Epoch 26/50\n",
      "1254/1256 [============================>.] - ETA: 0s - loss: 1.2304 - acc: 0.5366Epoch 00026: val_loss did not improve\n",
      "1256/1256 [==============================] - 19s 15ms/step - loss: 1.2301 - acc: 0.5367 - val_loss: 1.2957 - val_acc: 0.5067\n",
      "Epoch 27/50\n",
      "1253/1256 [============================>.] - ETA: 0s - loss: 1.2301 - acc: 0.5383Epoch 00027: val_loss did not improve\n",
      "1256/1256 [==============================] - 19s 15ms/step - loss: 1.2305 - acc: 0.5381 - val_loss: 1.2592 - val_acc: 0.5145\n",
      "Epoch 28/50\n",
      "1255/1256 [============================>.] - ETA: 0s - loss: 1.2349 - acc: 0.5345Epoch 00028: val_loss did not improve\n",
      "1256/1256 [==============================] - 19s 15ms/step - loss: 1.2347 - acc: 0.5344 - val_loss: 1.2608 - val_acc: 0.5282\n",
      "Epoch 29/50\n",
      "1254/1256 [============================>.] - ETA: 0s - loss: 1.2379 - acc: 0.5377Epoch 00029: val_loss did not improve\n",
      "1256/1256 [==============================] - 19s 15ms/step - loss: 1.2380 - acc: 0.5377 - val_loss: 1.3550 - val_acc: 0.4950\n"
     ]
    },
    {
     "name": "stdout",
     "output_type": "stream",
     "text": [
      "Epoch 30/50\n",
      "1253/1256 [============================>.] - ETA: 0s - loss: 1.2360 - acc: 0.5368Epoch 00030: val_loss did not improve\n",
      "1256/1256 [==============================] - 19s 15ms/step - loss: 1.2361 - acc: 0.5368 - val_loss: 1.2766 - val_acc: 0.5025\n",
      "Epoch 31/50\n",
      "1255/1256 [============================>.] - ETA: 0s - loss: 1.2489 - acc: 0.5316Epoch 00031: val_loss did not improve\n",
      "1256/1256 [==============================] - 20s 16ms/step - loss: 1.2488 - acc: 0.5316 - val_loss: 1.2740 - val_acc: 0.5196\n",
      "Epoch 32/50\n",
      "1255/1256 [============================>.] - ETA: 0s - loss: 1.2504 - acc: 0.5319Epoch 00032: val_loss did not improve\n",
      "1256/1256 [==============================] - 18s 15ms/step - loss: 1.2506 - acc: 0.5317 - val_loss: 1.2681 - val_acc: 0.5223\n",
      "Epoch 33/50\n",
      "1253/1256 [============================>.] - ETA: 0s - loss: 1.2562 - acc: 0.5322Epoch 00033: val_loss did not improve\n",
      "1256/1256 [==============================] - 18s 15ms/step - loss: 1.2558 - acc: 0.5323 - val_loss: 1.3184 - val_acc: 0.5053\n",
      "Epoch 34/50\n",
      "1254/1256 [============================>.] - ETA: 0s - loss: 1.2593 - acc: 0.5258Epoch 00034: val_loss did not improve\n",
      "1256/1256 [==============================] - 19s 15ms/step - loss: 1.2592 - acc: 0.5258 - val_loss: 1.2848 - val_acc: 0.5008\n",
      "Epoch 35/50\n",
      "1252/1256 [============================>.] - ETA: 0s - loss: 1.2603 - acc: 0.5234Epoch 00035: val_loss did not improve\n",
      "1256/1256 [==============================] - 20s 16ms/step - loss: 1.2600 - acc: 0.5236 - val_loss: 1.3412 - val_acc: 0.4908\n",
      "Epoch 36/50\n",
      "1254/1256 [============================>.] - ETA: 0s - loss: 1.2634 - acc: 0.5237Epoch 00036: val_loss did not improve\n",
      "1256/1256 [==============================] - 19s 15ms/step - loss: 1.2634 - acc: 0.5236 - val_loss: 1.2766 - val_acc: 0.5123\n",
      "Epoch 37/50\n",
      "1255/1256 [============================>.] - ETA: 0s - loss: 1.2727 - acc: 0.5229Epoch 00037: val_loss did not improve\n",
      "1256/1256 [==============================] - 19s 15ms/step - loss: 1.2729 - acc: 0.5227 - val_loss: 1.3086 - val_acc: 0.4866\n",
      "Epoch 38/50\n",
      "1254/1256 [============================>.] - ETA: 0s - loss: 1.2773 - acc: 0.5234Epoch 00038: val_loss did not improve\n",
      "1256/1256 [==============================] - 19s 15ms/step - loss: 1.2768 - acc: 0.5237 - val_loss: 1.3669 - val_acc: 0.4925\n",
      "Epoch 39/50\n",
      "1254/1256 [============================>.] - ETA: 0s - loss: 1.2805 - acc: 0.5202Epoch 00039: val_loss did not improve\n",
      "1256/1256 [==============================] - 19s 15ms/step - loss: 1.2808 - acc: 0.5200 - val_loss: 1.2999 - val_acc: 0.5053\n",
      "Epoch 40/50\n",
      "1253/1256 [============================>.] - ETA: 0s - loss: 1.2751 - acc: 0.5180Epoch 00040: val_loss did not improve\n",
      "1256/1256 [==============================] - 18s 14ms/step - loss: 1.2754 - acc: 0.5178 - val_loss: 1.3498 - val_acc: 0.4858\n",
      "Epoch 41/50\n",
      "1252/1256 [============================>.] - ETA: 0s - loss: 1.2869 - acc: 0.5140Epoch 00041: val_loss did not improve\n",
      "1256/1256 [==============================] - 18s 14ms/step - loss: 1.2868 - acc: 0.5139 - val_loss: 1.4547 - val_acc: 0.4785\n",
      "Epoch 42/50\n",
      "1254/1256 [============================>.] - ETA: 0s - loss: 1.2899 - acc: 0.5148Epoch 00042: val_loss did not improve\n",
      "1256/1256 [==============================] - 18s 14ms/step - loss: 1.2898 - acc: 0.5148 - val_loss: 1.3215 - val_acc: 0.5117\n",
      "Epoch 43/50\n",
      "1254/1256 [============================>.] - ETA: 0s - loss: 1.2972 - acc: 0.5135Epoch 00043: val_loss did not improve\n",
      "1256/1256 [==============================] - 19s 15ms/step - loss: 1.2975 - acc: 0.5133 - val_loss: 1.3145 - val_acc: 0.5034\n",
      "Epoch 44/50\n",
      "1252/1256 [============================>.] - ETA: 0s - loss: 1.2996 - acc: 0.5140Epoch 00044: val_loss did not improve\n",
      "1256/1256 [==============================] - 19s 15ms/step - loss: 1.2995 - acc: 0.5141 - val_loss: 1.3006 - val_acc: 0.5226\n",
      "Epoch 45/50\n",
      "1255/1256 [============================>.] - ETA: 0s - loss: 1.3035 - acc: 0.5082Epoch 00045: val_loss did not improve\n",
      "1256/1256 [==============================] - 18s 14ms/step - loss: 1.3036 - acc: 0.5081 - val_loss: 1.3589 - val_acc: 0.4916\n",
      "Epoch 46/50\n",
      "1252/1256 [============================>.] - ETA: 0s - loss: 1.3087 - acc: 0.5118Epoch 00046: val_loss did not improve\n",
      "1256/1256 [==============================] - 19s 15ms/step - loss: 1.3088 - acc: 0.5117 - val_loss: 1.3316 - val_acc: 0.4927\n",
      "Epoch 47/50\n",
      "1253/1256 [============================>.] - ETA: 0s - loss: 1.3138 - acc: 0.5098Epoch 00047: val_loss did not improve\n",
      "1256/1256 [==============================] - 18s 14ms/step - loss: 1.3139 - acc: 0.5099 - val_loss: 1.3070 - val_acc: 0.5053\n",
      "Epoch 48/50\n",
      "1254/1256 [============================>.] - ETA: 0s - loss: 1.3110 - acc: 0.5085Epoch 00048: val_loss did not improve\n",
      "1256/1256 [==============================] - 19s 15ms/step - loss: 1.3108 - acc: 0.5085 - val_loss: 1.3459 - val_acc: 0.4891\n",
      "Epoch 49/50\n",
      "1252/1256 [============================>.] - ETA: 0s - loss: 1.3167 - acc: 0.5081Epoch 00049: val_loss did not improve\n",
      "1256/1256 [==============================] - 19s 15ms/step - loss: 1.3165 - acc: 0.5084 - val_loss: 1.3006 - val_acc: 0.5137\n",
      "Epoch 50/50\n",
      "1253/1256 [============================>.] - ETA: 0s - loss: 1.3067 - acc: 0.5118Epoch 00050: val_loss did not improve\n",
      "1256/1256 [==============================] - 19s 15ms/step - loss: 1.3066 - acc: 0.5118 - val_loss: 1.3085 - val_acc: 0.4958\n"
     ]
    }
   ],
   "source": [
    "\n",
    "epochs = 50\n",
    "\n",
    "checkpointer = ModelCheckpoint(filepath='saved_models/weights.best.from_scratch_augmentation.hdf5', \n",
    "                               verbose=1, save_best_only=True)\n",
    "\n",
    "#With image augmentation\n",
    "\n",
    "batch_size = 20\n",
    "\n",
    "history = model.fit_generator(datagen_train.flow(train_tensors, train_targets, batch_size=batch_size),\n",
    "                    steps_per_epoch=train_tensors.shape[0] // batch_size,\n",
    "                    epochs=epochs, verbose=1, callbacks=[checkpointer],\n",
    "                    validation_data=datagen_valid.flow(valid_tensors, valid_targets, batch_size=batch_size),\n",
    "                    validation_steps=valid_tensors.shape[0] // batch_size)"
   ]
  },
  {
   "cell_type": "code",
   "execution_count": 20,
   "metadata": {
    "collapsed": true
   },
   "outputs": [],
   "source": [
    "model.load_weights('saved_models/weights.best.from_scratch_augmentation.hdf5')"
   ]
  },
  {
   "cell_type": "code",
   "execution_count": 21,
   "metadata": {},
   "outputs": [
    {
     "name": "stdout",
     "output_type": "stream",
     "text": [
      "Test accuracy: 54.9178% \n"
     ]
    }
   ],
   "source": [
    "# get index of predicted facial expression for test set images\n",
    "print(\"Test accuracy: %.4f%% \" % get_model_accuracy(model, test_tensors, test_targets))"
   ]
  },
  {
   "cell_type": "code",
   "execution_count": 22,
   "metadata": {},
   "outputs": [
    {
     "name": "stdout",
     "output_type": "stream",
     "text": [
      "dict_keys(['val_loss', 'val_acc', 'loss', 'acc'])\n"
     ]
    },
    {
     "data": {
      "image/png": "[encoded data removed]",
      "text/plain": [
       "<matplotlib.figure.Figure at 0x21251d13a90>"
      ]
     },
     "metadata": {},
     "output_type": "display_data"
    }
   ],
   "source": [
    "# CODE OBTAINED FROM https://machinelearningmastery.com/display-deep-learning-model-training-history-in-keras/\n",
    "print(history.history.keys())\n",
    "# summarize history for accuracy\n",
    "plt.plot(history.history['loss'])\n",
    "plt.plot(history.history['val_loss'])\n",
    "\n",
    "plt.legend(['train', 'validation'], loc='upper left')\n",
    "plt.title('Training and Validation data for Advanced From-Scratch Model')\n",
    "plt.xlabel('Training Epoch')\n",
    "plt.ylabel('Cross Entropy Loss')\n",
    "plt.show()"
   ]
  },
  {
   "cell_type": "code",
   "execution_count": 23,
   "metadata": {},
   "outputs": [
    {
     "name": "stdout",
     "output_type": "stream",
     "text": [
      "[[  4.01534885e-03   8.40757930e-05   1.08661763e-02 ...,   1.10503696e-02\n",
      "    2.91331783e-02   9.17059332e-02]\n",
      " [  7.14554936e-02   9.87932435e-05   3.55943471e-01 ...,   3.52179945e-01\n",
      "    1.46288857e-01   4.16773744e-02]\n",
      " [  3.93585861e-02   3.46484399e-06   1.42116204e-01 ...,   4.05573612e-03\n",
      "    7.69154072e-01   5.42464433e-03]\n",
      " ..., \n",
      " [  2.58753985e-01   2.14125190e-04   3.94387156e-01 ...,   3.09118163e-02\n",
      "    2.78224528e-01   3.27623426e-03]\n",
      " [  2.26812184e-01   6.85125764e-04   1.88626513e-01 ...,   1.82357877e-01\n",
      "    4.02090922e-02   2.99365819e-01]\n",
      " [  8.11867177e-01   1.77207554e-03   1.38476476e-01 ...,   2.38973554e-03\n",
      "    1.59930624e-02   1.41546770e-03]]\n",
      "(7178, 7)\n"
     ]
    }
   ],
   "source": [
    "preds_ = get_model_predictions(model, test_tensors)\n",
    "\n",
    "holder = np.array(preds_)\n",
    "\n",
    "preds_np = np.array(preds_, dtype='float32').reshape(holder.shape[0],7)"
   ]
  },
  {
   "cell_type": "code",
   "execution_count": 25,
   "metadata": {},
   "outputs": [
    {
     "name": "stdout",
     "output_type": "stream",
     "text": [
      "1.1748033858498181\n"
     ]
    }
   ],
   "source": [
    "print(manual_total_cce(preds_np, test_targets))"
   ]
  },
  {
   "cell_type": "markdown",
   "metadata": {},
   "source": [
    "### Transfer Learning\n",
    "\n",
    "It is suitable to explore the use of other CNNs that have been used for other computer vision applications. Below, the performance of the pre-trained networks Inception, VGG-19 and Resnet50 will be explored"
   ]
  },
  {
   "cell_type": "code",
   "execution_count": 34,
   "metadata": {
    "collapsed": true
   },
   "outputs": [],
   "source": [
    "\n",
    "X_train_transf, X_test_transf, X_val_transf = X_train, X_test, X_val\n",
    "\n",
    "y_train_transf, y_test_transf, y_val_transf = y_train, y_test, y_val\n",
    "\n",
    "\n",
    "sample = df_to_tensor(X_train_transf, 48, reshape=False)\n"
   ]
  },
  {
   "cell_type": "code",
   "execution_count": 35,
   "metadata": {
    "collapsed": true
   },
   "outputs": [],
   "source": [
    "# creating transfer tensors\n",
    "\n",
    "train_tensors_transf = df_to_tensor(X_train_transf,48,reshape=False, triple_channels=True).astype('float32')/255\n",
    "valid_tensors_transf = df_to_tensor(X_val_transf,48, reshape=False, triple_channels=True).astype('float32')/255\n",
    "test_tensors_transf = df_to_tensor(X_test_transf,48, reshape=False, triple_channels=True).astype('float32')/255\n",
    "\n",
    "train_targets_transf = np.array(pd.get_dummies(y_train_transf))\n",
    "valid_targets_transf = np.array(pd.get_dummies(y_val_transf))\n",
    "test_targets_transf = np.array(pd.get_dummies(y_test_transf))\n"
   ]
  },
  {
   "cell_type": "code",
   "execution_count": 36,
   "metadata": {},
   "outputs": [
    {
     "name": "stdout",
     "output_type": "stream",
     "text": [
      "_________________________________________________________________\n",
      "Layer (type)                 Output Shape              Param #   \n",
      "=================================================================\n",
      "input_2 (InputLayer)         (None, 48, 48, 3)         0         \n",
      "_________________________________________________________________\n",
      "block1_conv1 (Conv2D)        (None, 48, 48, 64)        1792      \n",
      "_________________________________________________________________\n",
      "block1_conv2 (Conv2D)        (None, 48, 48, 64)        36928     \n",
      "_________________________________________________________________\n",
      "block1_pool (MaxPooling2D)   (None, 24, 24, 64)        0         \n",
      "_________________________________________________________________\n",
      "block2_conv1 (Conv2D)        (None, 24, 24, 128)       73856     \n",
      "_________________________________________________________________\n",
      "block2_conv2 (Conv2D)        (None, 24, 24, 128)       147584    \n",
      "_________________________________________________________________\n",
      "block2_pool (MaxPooling2D)   (None, 12, 12, 128)       0         \n",
      "_________________________________________________________________\n",
      "block3_conv1 (Conv2D)        (None, 12, 12, 256)       295168    \n",
      "_________________________________________________________________\n",
      "block3_conv2 (Conv2D)        (None, 12, 12, 256)       590080    \n",
      "_________________________________________________________________\n",
      "block3_conv3 (Conv2D)        (None, 12, 12, 256)       590080    \n",
      "_________________________________________________________________\n",
      "block3_conv4 (Conv2D)        (None, 12, 12, 256)       590080    \n",
      "_________________________________________________________________\n",
      "block3_pool (MaxPooling2D)   (None, 6, 6, 256)         0         \n",
      "_________________________________________________________________\n",
      "block4_conv1 (Conv2D)        (None, 6, 6, 512)         1180160   \n",
      "_________________________________________________________________\n",
      "block4_conv2 (Conv2D)        (None, 6, 6, 512)         2359808   \n",
      "_________________________________________________________________\n",
      "block4_conv3 (Conv2D)        (None, 6, 6, 512)         2359808   \n",
      "_________________________________________________________________\n",
      "block4_conv4 (Conv2D)        (None, 6, 6, 512)         2359808   \n",
      "_________________________________________________________________\n",
      "block4_pool (MaxPooling2D)   (None, 3, 3, 512)         0         \n",
      "_________________________________________________________________\n",
      "block5_conv1 (Conv2D)        (None, 3, 3, 512)         2359808   \n",
      "_________________________________________________________________\n",
      "block5_conv2 (Conv2D)        (None, 3, 3, 512)         2359808   \n",
      "_________________________________________________________________\n",
      "block5_conv3 (Conv2D)        (None, 3, 3, 512)         2359808   \n",
      "_________________________________________________________________\n",
      "block5_conv4 (Conv2D)        (None, 3, 3, 512)         2359808   \n",
      "_________________________________________________________________\n",
      "block5_pool (MaxPooling2D)   (None, 1, 1, 512)         0         \n",
      "=================================================================\n",
      "Total params: 20,024,384\n",
      "Trainable params: 20,024,384\n",
      "Non-trainable params: 0\n",
      "_________________________________________________________________\n"
     ]
    }
   ],
   "source": [
    "# Note: the code below is an adaptation of a code snippet by Prakash Jay,\n",
    "# obtained from: https://towardsdatascience.com/transfer-learning-using-keras-d804b2e04ef8\n",
    "\n",
    "img_width, img_height = 48, 48\n",
    "batch_size = 16\n",
    "epochs = 50\n",
    "\n",
    "model = applications.VGG19(weights = \"imagenet\", include_top=False, input_shape = (img_width, img_height, 3))\n",
    "\n",
    "model.summary()\n"
   ]
  },
  {
   "cell_type": "code",
   "execution_count": 37,
   "metadata": {
    "collapsed": true
   },
   "outputs": [],
   "source": [
    "# Image augmentation for transfer model\n",
    "\n",
    "from keras.preprocessing.image import ImageDataGenerator\n",
    "\n",
    "# create and configure augmented image generator\n",
    "datagen_train_transf = ImageDataGenerator(\n",
    "    width_shift_range=0.1,  # randomly shift images horizontally (10% of total width)\n",
    "    height_shift_range=0.1,  # randomly shift images vertically (10% of total height)\n",
    "    horizontal_flip=True) # randomly flip images horizontally\n",
    "\n",
    "# create and configure augmented image generator\n",
    "datagen_valid_transf = ImageDataGenerator(\n",
    "    width_shift_range=0.1,  # randomly shift images horizontally (10% of total width)\n",
    "    height_shift_range=0.1,  # randomly shift images vertically (10% of total height)\n",
    "    horizontal_flip=True) # randomly flip images horizontally\n",
    "\n",
    "# fit augmented image generator on data\n",
    "datagen_train_transf.fit(train_tensors_transf)\n",
    "datagen_valid_transf.fit(valid_tensors_transf)"
   ]
  },
  {
   "cell_type": "code",
   "execution_count": 38,
   "metadata": {},
   "outputs": [
    {
     "data": {
      "text/plain": [
       "'\\nfor layer in model.layers:\\n    layer.trainable = False\\n'"
      ]
     },
     "execution_count": 38,
     "metadata": {},
     "output_type": "execute_result"
    }
   ],
   "source": [
    "# change this code to freeze some of the layers of the VGG-19 model with the pre-trained weights\n",
    "\"\"\"\n",
    "for layer in model.layers:\n",
    "    layer.trainable = False\n",
    "\"\"\"\n"
   ]
  },
  {
   "cell_type": "code",
   "execution_count": 39,
   "metadata": {},
   "outputs": [
    {
     "name": "stdout",
     "output_type": "stream",
     "text": [
      "_________________________________________________________________\n",
      "Layer (type)                 Output Shape              Param #   \n",
      "=================================================================\n",
      "input_2 (InputLayer)         (None, 48, 48, 3)         0         \n",
      "_________________________________________________________________\n",
      "block1_conv1 (Conv2D)        (None, 48, 48, 64)        1792      \n",
      "_________________________________________________________________\n",
      "block1_conv2 (Conv2D)        (None, 48, 48, 64)        36928     \n",
      "_________________________________________________________________\n",
      "block1_pool (MaxPooling2D)   (None, 24, 24, 64)        0         \n",
      "_________________________________________________________________\n",
      "block2_conv1 (Conv2D)        (None, 24, 24, 128)       73856     \n",
      "_________________________________________________________________\n",
      "block2_conv2 (Conv2D)        (None, 24, 24, 128)       147584    \n",
      "_________________________________________________________________\n",
      "block2_pool (MaxPooling2D)   (None, 12, 12, 128)       0         \n",
      "_________________________________________________________________\n",
      "block3_conv1 (Conv2D)        (None, 12, 12, 256)       295168    \n",
      "_________________________________________________________________\n",
      "block3_conv2 (Conv2D)        (None, 12, 12, 256)       590080    \n",
      "_________________________________________________________________\n",
      "block3_conv3 (Conv2D)        (None, 12, 12, 256)       590080    \n",
      "_________________________________________________________________\n",
      "block3_conv4 (Conv2D)        (None, 12, 12, 256)       590080    \n",
      "_________________________________________________________________\n",
      "block3_pool (MaxPooling2D)   (None, 6, 6, 256)         0         \n",
      "_________________________________________________________________\n",
      "block4_conv1 (Conv2D)        (None, 6, 6, 512)         1180160   \n",
      "_________________________________________________________________\n",
      "block4_conv2 (Conv2D)        (None, 6, 6, 512)         2359808   \n",
      "_________________________________________________________________\n",
      "block4_conv3 (Conv2D)        (None, 6, 6, 512)         2359808   \n",
      "_________________________________________________________________\n",
      "block4_conv4 (Conv2D)        (None, 6, 6, 512)         2359808   \n",
      "_________________________________________________________________\n",
      "block4_pool (MaxPooling2D)   (None, 3, 3, 512)         0         \n",
      "_________________________________________________________________\n",
      "block5_conv1 (Conv2D)        (None, 3, 3, 512)         2359808   \n",
      "_________________________________________________________________\n",
      "block5_conv2 (Conv2D)        (None, 3, 3, 512)         2359808   \n",
      "_________________________________________________________________\n",
      "block5_conv3 (Conv2D)        (None, 3, 3, 512)         2359808   \n",
      "_________________________________________________________________\n",
      "block5_conv4 (Conv2D)        (None, 3, 3, 512)         2359808   \n",
      "_________________________________________________________________\n",
      "block5_pool (MaxPooling2D)   (None, 1, 1, 512)         0         \n",
      "_________________________________________________________________\n",
      "flatten_2 (Flatten)          (None, 512)               0         \n",
      "_________________________________________________________________\n",
      "dense_6 (Dense)              (None, 1024)              525312    \n",
      "_________________________________________________________________\n",
      "dropout_5 (Dropout)          (None, 1024)              0         \n",
      "_________________________________________________________________\n",
      "dense_7 (Dense)              (None, 1024)              1049600   \n",
      "_________________________________________________________________\n",
      "dropout_6 (Dropout)          (None, 1024)              0         \n",
      "_________________________________________________________________\n",
      "dense_8 (Dense)              (None, 1024)              1049600   \n",
      "_________________________________________________________________\n",
      "dropout_7 (Dropout)          (None, 1024)              0         \n",
      "_________________________________________________________________\n",
      "dense_9 (Dense)              (None, 1024)              1049600   \n",
      "_________________________________________________________________\n",
      "dropout_8 (Dropout)          (None, 1024)              0         \n",
      "_________________________________________________________________\n",
      "dense_10 (Dense)             (None, 7)                 7175      \n",
      "=================================================================\n",
      "Total params: 23,705,671\n",
      "Trainable params: 23,705,671\n",
      "Non-trainable params: 0\n",
      "_________________________________________________________________\n"
     ]
    },
    {
     "name": "stderr",
     "output_type": "stream",
     "text": [
      "C:\\Users\\dhila\\Anaconda3\\lib\\site-packages\\ipykernel_launcher.py:15: UserWarning: Update your `Model` call to the Keras 2 API: `Model(inputs=Tensor(\"in..., outputs=Tensor(\"de...)`\n",
      "  from ipykernel import kernelapp as app\n"
     ]
    }
   ],
   "source": [
    "# duplicate of prakash jay code\n",
    "x = model.output\n",
    "x = Flatten()(x)\n",
    "x = Dense(1024, activation=\"relu\")(x)\n",
    "x = Dropout(0.5)(x)\n",
    "x = Dense(1024, activation=\"relu\")(x)\n",
    "x = Dropout(0.5)(x)\n",
    "x = Dense(1024, activation=\"relu\")(x)\n",
    "x = Dropout(0.5)(x)\n",
    "x = Dense(1024, activation=\"relu\")(x)\n",
    "x = Dropout(0.5)(x)\n",
    "predictions = Dense(7, activation=\"softmax\")(x)\n",
    "\n",
    "# creating the final model \n",
    "model_final = Model(input = model.input, output = predictions)\n",
    "\n",
    "# compile the model \n",
    "model_final.compile(loss = \"categorical_crossentropy\", optimizer = optimizers.SGD(lr=0.0001, momentum=0.9), metrics=[\"accuracy\"])\n",
    "\n",
    "model_final.summary()"
   ]
  },
  {
   "cell_type": "code",
   "execution_count": 23,
   "metadata": {},
   "outputs": [
    {
     "name": "stdout",
     "output_type": "stream",
     "text": [
      "Epoch 1/50\n",
      "429/656 [==================>...........] - ETA: 2:00 - loss: 1.9242 - acc: 0.1984"
     ]
    },
    {
     "ename": "KeyboardInterrupt",
     "evalue": "",
     "output_type": "error",
     "traceback": [
      "\u001b[1;31m---------------------------------------------------------------------------\u001b[0m",
      "\u001b[1;31mKeyboardInterrupt\u001b[0m                         Traceback (most recent call last)",
      "\u001b[1;32m<ipython-input-23-cdcb36d759a8>\u001b[0m in \u001b[0;36m<module>\u001b[1;34m()\u001b[0m\n\u001b[0;32m      6\u001b[0m                     \u001b[0mepochs\u001b[0m\u001b[1;33m=\u001b[0m\u001b[0mepochs\u001b[0m\u001b[1;33m,\u001b[0m \u001b[0mverbose\u001b[0m\u001b[1;33m=\u001b[0m\u001b[1;36m1\u001b[0m\u001b[1;33m,\u001b[0m \u001b[0mcallbacks\u001b[0m\u001b[1;33m=\u001b[0m\u001b[1;33m[\u001b[0m\u001b[0mcheckpointer\u001b[0m\u001b[1;33m]\u001b[0m\u001b[1;33m,\u001b[0m\u001b[1;33m\u001b[0m\u001b[0m\n\u001b[0;32m      7\u001b[0m                     \u001b[0mvalidation_data\u001b[0m\u001b[1;33m=\u001b[0m\u001b[0mdatagen_valid_transf\u001b[0m\u001b[1;33m.\u001b[0m\u001b[0mflow\u001b[0m\u001b[1;33m(\u001b[0m\u001b[0mvalid_tensors_transf\u001b[0m\u001b[1;33m,\u001b[0m \u001b[0mvalid_targets_transf\u001b[0m\u001b[1;33m,\u001b[0m \u001b[0mbatch_size\u001b[0m\u001b[1;33m=\u001b[0m\u001b[0mbatch_size\u001b[0m\u001b[1;33m)\u001b[0m\u001b[1;33m,\u001b[0m\u001b[1;33m\u001b[0m\u001b[0m\n\u001b[1;32m----> 8\u001b[1;33m                     validation_steps=valid_tensors_transf.shape[0] // batch_size)\n\u001b[0m",
      "\u001b[1;32mC:\\Users\\dhila\\Anaconda3\\lib\\site-packages\\keras\\legacy\\interfaces.py\u001b[0m in \u001b[0;36mwrapper\u001b[1;34m(*args, **kwargs)\u001b[0m\n\u001b[0;32m     85\u001b[0m                 warnings.warn('Update your `' + object_name +\n\u001b[0;32m     86\u001b[0m                               '` call to the Keras 2 API: ' + signature, stacklevel=2)\n\u001b[1;32m---> 87\u001b[1;33m             \u001b[1;32mreturn\u001b[0m \u001b[0mfunc\u001b[0m\u001b[1;33m(\u001b[0m\u001b[1;33m*\u001b[0m\u001b[0margs\u001b[0m\u001b[1;33m,\u001b[0m \u001b[1;33m**\u001b[0m\u001b[0mkwargs\u001b[0m\u001b[1;33m)\u001b[0m\u001b[1;33m\u001b[0m\u001b[0m\n\u001b[0m\u001b[0;32m     88\u001b[0m         \u001b[0mwrapper\u001b[0m\u001b[1;33m.\u001b[0m\u001b[0m_original_function\u001b[0m \u001b[1;33m=\u001b[0m \u001b[0mfunc\u001b[0m\u001b[1;33m\u001b[0m\u001b[0m\n\u001b[0;32m     89\u001b[0m         \u001b[1;32mreturn\u001b[0m \u001b[0mwrapper\u001b[0m\u001b[1;33m\u001b[0m\u001b[0m\n",
      "\u001b[1;32mC:\\Users\\dhila\\Anaconda3\\lib\\site-packages\\keras\\engine\\training.py\u001b[0m in \u001b[0;36mfit_generator\u001b[1;34m(self, generator, steps_per_epoch, epochs, verbose, callbacks, validation_data, validation_steps, class_weight, max_queue_size, workers, use_multiprocessing, shuffle, initial_epoch)\u001b[0m\n\u001b[0;32m   2075\u001b[0m                     outs = self.train_on_batch(x, y,\n\u001b[0;32m   2076\u001b[0m                                                \u001b[0msample_weight\u001b[0m\u001b[1;33m=\u001b[0m\u001b[0msample_weight\u001b[0m\u001b[1;33m,\u001b[0m\u001b[1;33m\u001b[0m\u001b[0m\n\u001b[1;32m-> 2077\u001b[1;33m                                                class_weight=class_weight)\n\u001b[0m\u001b[0;32m   2078\u001b[0m \u001b[1;33m\u001b[0m\u001b[0m\n\u001b[0;32m   2079\u001b[0m                     \u001b[1;32mif\u001b[0m \u001b[1;32mnot\u001b[0m \u001b[0misinstance\u001b[0m\u001b[1;33m(\u001b[0m\u001b[0mouts\u001b[0m\u001b[1;33m,\u001b[0m \u001b[0mlist\u001b[0m\u001b[1;33m)\u001b[0m\u001b[1;33m:\u001b[0m\u001b[1;33m\u001b[0m\u001b[0m\n",
      "\u001b[1;32mC:\\Users\\dhila\\Anaconda3\\lib\\site-packages\\keras\\engine\\training.py\u001b[0m in \u001b[0;36mtrain_on_batch\u001b[1;34m(self, x, y, sample_weight, class_weight)\u001b[0m\n\u001b[0;32m   1795\u001b[0m             \u001b[0mins\u001b[0m \u001b[1;33m=\u001b[0m \u001b[0mx\u001b[0m \u001b[1;33m+\u001b[0m \u001b[0my\u001b[0m \u001b[1;33m+\u001b[0m \u001b[0msample_weights\u001b[0m\u001b[1;33m\u001b[0m\u001b[0m\n\u001b[0;32m   1796\u001b[0m         \u001b[0mself\u001b[0m\u001b[1;33m.\u001b[0m\u001b[0m_make_train_function\u001b[0m\u001b[1;33m(\u001b[0m\u001b[1;33m)\u001b[0m\u001b[1;33m\u001b[0m\u001b[0m\n\u001b[1;32m-> 1797\u001b[1;33m         \u001b[0moutputs\u001b[0m \u001b[1;33m=\u001b[0m \u001b[0mself\u001b[0m\u001b[1;33m.\u001b[0m\u001b[0mtrain_function\u001b[0m\u001b[1;33m(\u001b[0m\u001b[0mins\u001b[0m\u001b[1;33m)\u001b[0m\u001b[1;33m\u001b[0m\u001b[0m\n\u001b[0m\u001b[0;32m   1798\u001b[0m         \u001b[1;32mif\u001b[0m \u001b[0mlen\u001b[0m\u001b[1;33m(\u001b[0m\u001b[0moutputs\u001b[0m\u001b[1;33m)\u001b[0m \u001b[1;33m==\u001b[0m \u001b[1;36m1\u001b[0m\u001b[1;33m:\u001b[0m\u001b[1;33m\u001b[0m\u001b[0m\n\u001b[0;32m   1799\u001b[0m             \u001b[1;32mreturn\u001b[0m \u001b[0moutputs\u001b[0m\u001b[1;33m[\u001b[0m\u001b[1;36m0\u001b[0m\u001b[1;33m]\u001b[0m\u001b[1;33m\u001b[0m\u001b[0m\n",
      "\u001b[1;32mC:\\Users\\dhila\\Anaconda3\\lib\\site-packages\\keras\\backend\\tensorflow_backend.py\u001b[0m in \u001b[0;36m__call__\u001b[1;34m(self, inputs)\u001b[0m\n\u001b[0;32m   2330\u001b[0m         updated = session.run(self.outputs + [self.updates_op],\n\u001b[0;32m   2331\u001b[0m                               \u001b[0mfeed_dict\u001b[0m\u001b[1;33m=\u001b[0m\u001b[0mfeed_dict\u001b[0m\u001b[1;33m,\u001b[0m\u001b[1;33m\u001b[0m\u001b[0m\n\u001b[1;32m-> 2332\u001b[1;33m                               **self.session_kwargs)\n\u001b[0m\u001b[0;32m   2333\u001b[0m         \u001b[1;32mreturn\u001b[0m \u001b[0mupdated\u001b[0m\u001b[1;33m[\u001b[0m\u001b[1;33m:\u001b[0m\u001b[0mlen\u001b[0m\u001b[1;33m(\u001b[0m\u001b[0mself\u001b[0m\u001b[1;33m.\u001b[0m\u001b[0moutputs\u001b[0m\u001b[1;33m)\u001b[0m\u001b[1;33m]\u001b[0m\u001b[1;33m\u001b[0m\u001b[0m\n\u001b[0;32m   2334\u001b[0m \u001b[1;33m\u001b[0m\u001b[0m\n",
      "\u001b[1;32mC:\\Users\\dhila\\Anaconda3\\lib\\site-packages\\tensorflow\\python\\client\\session.py\u001b[0m in \u001b[0;36mrun\u001b[1;34m(self, fetches, feed_dict, options, run_metadata)\u001b[0m\n\u001b[0;32m    887\u001b[0m     \u001b[1;32mtry\u001b[0m\u001b[1;33m:\u001b[0m\u001b[1;33m\u001b[0m\u001b[0m\n\u001b[0;32m    888\u001b[0m       result = self._run(None, fetches, feed_dict, options_ptr,\n\u001b[1;32m--> 889\u001b[1;33m                          run_metadata_ptr)\n\u001b[0m\u001b[0;32m    890\u001b[0m       \u001b[1;32mif\u001b[0m \u001b[0mrun_metadata\u001b[0m\u001b[1;33m:\u001b[0m\u001b[1;33m\u001b[0m\u001b[0m\n\u001b[0;32m    891\u001b[0m         \u001b[0mproto_data\u001b[0m \u001b[1;33m=\u001b[0m \u001b[0mtf_session\u001b[0m\u001b[1;33m.\u001b[0m\u001b[0mTF_GetBuffer\u001b[0m\u001b[1;33m(\u001b[0m\u001b[0mrun_metadata_ptr\u001b[0m\u001b[1;33m)\u001b[0m\u001b[1;33m\u001b[0m\u001b[0m\n",
      "\u001b[1;32mC:\\Users\\dhila\\Anaconda3\\lib\\site-packages\\tensorflow\\python\\client\\session.py\u001b[0m in \u001b[0;36m_run\u001b[1;34m(self, handle, fetches, feed_dict, options, run_metadata)\u001b[0m\n\u001b[0;32m   1118\u001b[0m     \u001b[1;32mif\u001b[0m \u001b[0mfinal_fetches\u001b[0m \u001b[1;32mor\u001b[0m \u001b[0mfinal_targets\u001b[0m \u001b[1;32mor\u001b[0m \u001b[1;33m(\u001b[0m\u001b[0mhandle\u001b[0m \u001b[1;32mand\u001b[0m \u001b[0mfeed_dict_tensor\u001b[0m\u001b[1;33m)\u001b[0m\u001b[1;33m:\u001b[0m\u001b[1;33m\u001b[0m\u001b[0m\n\u001b[0;32m   1119\u001b[0m       results = self._do_run(handle, final_targets, final_fetches,\n\u001b[1;32m-> 1120\u001b[1;33m                              feed_dict_tensor, options, run_metadata)\n\u001b[0m\u001b[0;32m   1121\u001b[0m     \u001b[1;32melse\u001b[0m\u001b[1;33m:\u001b[0m\u001b[1;33m\u001b[0m\u001b[0m\n\u001b[0;32m   1122\u001b[0m       \u001b[0mresults\u001b[0m \u001b[1;33m=\u001b[0m \u001b[1;33m[\u001b[0m\u001b[1;33m]\u001b[0m\u001b[1;33m\u001b[0m\u001b[0m\n",
      "\u001b[1;32mC:\\Users\\dhila\\Anaconda3\\lib\\site-packages\\tensorflow\\python\\client\\session.py\u001b[0m in \u001b[0;36m_do_run\u001b[1;34m(self, handle, target_list, fetch_list, feed_dict, options, run_metadata)\u001b[0m\n\u001b[0;32m   1315\u001b[0m     \u001b[1;32mif\u001b[0m \u001b[0mhandle\u001b[0m \u001b[1;32mis\u001b[0m \u001b[1;32mNone\u001b[0m\u001b[1;33m:\u001b[0m\u001b[1;33m\u001b[0m\u001b[0m\n\u001b[0;32m   1316\u001b[0m       return self._do_call(_run_fn, self._session, feeds, fetches, targets,\n\u001b[1;32m-> 1317\u001b[1;33m                            options, run_metadata)\n\u001b[0m\u001b[0;32m   1318\u001b[0m     \u001b[1;32melse\u001b[0m\u001b[1;33m:\u001b[0m\u001b[1;33m\u001b[0m\u001b[0m\n\u001b[0;32m   1319\u001b[0m       \u001b[1;32mreturn\u001b[0m \u001b[0mself\u001b[0m\u001b[1;33m.\u001b[0m\u001b[0m_do_call\u001b[0m\u001b[1;33m(\u001b[0m\u001b[0m_prun_fn\u001b[0m\u001b[1;33m,\u001b[0m \u001b[0mself\u001b[0m\u001b[1;33m.\u001b[0m\u001b[0m_session\u001b[0m\u001b[1;33m,\u001b[0m \u001b[0mhandle\u001b[0m\u001b[1;33m,\u001b[0m \u001b[0mfeeds\u001b[0m\u001b[1;33m,\u001b[0m \u001b[0mfetches\u001b[0m\u001b[1;33m)\u001b[0m\u001b[1;33m\u001b[0m\u001b[0m\n",
      "\u001b[1;32mC:\\Users\\dhila\\Anaconda3\\lib\\site-packages\\tensorflow\\python\\client\\session.py\u001b[0m in \u001b[0;36m_do_call\u001b[1;34m(self, fn, *args)\u001b[0m\n\u001b[0;32m   1321\u001b[0m   \u001b[1;32mdef\u001b[0m \u001b[0m_do_call\u001b[0m\u001b[1;33m(\u001b[0m\u001b[0mself\u001b[0m\u001b[1;33m,\u001b[0m \u001b[0mfn\u001b[0m\u001b[1;33m,\u001b[0m \u001b[1;33m*\u001b[0m\u001b[0margs\u001b[0m\u001b[1;33m)\u001b[0m\u001b[1;33m:\u001b[0m\u001b[1;33m\u001b[0m\u001b[0m\n\u001b[0;32m   1322\u001b[0m     \u001b[1;32mtry\u001b[0m\u001b[1;33m:\u001b[0m\u001b[1;33m\u001b[0m\u001b[0m\n\u001b[1;32m-> 1323\u001b[1;33m       \u001b[1;32mreturn\u001b[0m \u001b[0mfn\u001b[0m\u001b[1;33m(\u001b[0m\u001b[1;33m*\u001b[0m\u001b[0margs\u001b[0m\u001b[1;33m)\u001b[0m\u001b[1;33m\u001b[0m\u001b[0m\n\u001b[0m\u001b[0;32m   1324\u001b[0m     \u001b[1;32mexcept\u001b[0m \u001b[0merrors\u001b[0m\u001b[1;33m.\u001b[0m\u001b[0mOpError\u001b[0m \u001b[1;32mas\u001b[0m \u001b[0me\u001b[0m\u001b[1;33m:\u001b[0m\u001b[1;33m\u001b[0m\u001b[0m\n\u001b[0;32m   1325\u001b[0m       \u001b[0mmessage\u001b[0m \u001b[1;33m=\u001b[0m \u001b[0mcompat\u001b[0m\u001b[1;33m.\u001b[0m\u001b[0mas_text\u001b[0m\u001b[1;33m(\u001b[0m\u001b[0me\u001b[0m\u001b[1;33m.\u001b[0m\u001b[0mmessage\u001b[0m\u001b[1;33m)\u001b[0m\u001b[1;33m\u001b[0m\u001b[0m\n",
      "\u001b[1;32mC:\\Users\\dhila\\Anaconda3\\lib\\site-packages\\tensorflow\\python\\client\\session.py\u001b[0m in \u001b[0;36m_run_fn\u001b[1;34m(session, feed_dict, fetch_list, target_list, options, run_metadata)\u001b[0m\n\u001b[0;32m   1300\u001b[0m           return tf_session.TF_Run(session, options,\n\u001b[0;32m   1301\u001b[0m                                    \u001b[0mfeed_dict\u001b[0m\u001b[1;33m,\u001b[0m \u001b[0mfetch_list\u001b[0m\u001b[1;33m,\u001b[0m \u001b[0mtarget_list\u001b[0m\u001b[1;33m,\u001b[0m\u001b[1;33m\u001b[0m\u001b[0m\n\u001b[1;32m-> 1302\u001b[1;33m                                    status, run_metadata)\n\u001b[0m\u001b[0;32m   1303\u001b[0m \u001b[1;33m\u001b[0m\u001b[0m\n\u001b[0;32m   1304\u001b[0m     \u001b[1;32mdef\u001b[0m \u001b[0m_prun_fn\u001b[0m\u001b[1;33m(\u001b[0m\u001b[0msession\u001b[0m\u001b[1;33m,\u001b[0m \u001b[0mhandle\u001b[0m\u001b[1;33m,\u001b[0m \u001b[0mfeed_dict\u001b[0m\u001b[1;33m,\u001b[0m \u001b[0mfetch_list\u001b[0m\u001b[1;33m)\u001b[0m\u001b[1;33m:\u001b[0m\u001b[1;33m\u001b[0m\u001b[0m\n",
      "\u001b[1;31mKeyboardInterrupt\u001b[0m: "
     ]
    }
   ],
   "source": [
    "checkpointer = ModelCheckpoint(filepath='saved_models/weights.best.transfer_example_six.hdf5', \n",
    "                               verbose=1, save_best_only=True)\n",
    "\n",
    "history = model_final.fit_generator(datagen_train_transf.flow(train_tensors_transf, train_targets_transf, batch_size=batch_size),\n",
    "                    steps_per_epoch=train_tensors_transf.shape[0] // batch_size,\n",
    "                    epochs=epochs, verbose=1, callbacks=[checkpointer],\n",
    "                    validation_data=datagen_valid_transf.flow(valid_tensors_transf, valid_targets_transf, batch_size=batch_size),\n",
    "                    validation_steps=valid_tensors_transf.shape[0] // batch_size)"
   ]
  },
  {
   "cell_type": "code",
   "execution_count": 40,
   "metadata": {
    "collapsed": true
   },
   "outputs": [],
   "source": [
    "model_final.load_weights('saved_models/weights.best.transfer_example_six.hdf5')"
   ]
  },
  {
   "cell_type": "code",
   "execution_count": null,
   "metadata": {},
   "outputs": [],
   "source": [
    "# CODE OBTAINED FROM https://machinelearningmastery.com/display-deep-learning-model-training-history-in-keras/\n",
    "print(history.history.keys())\n",
    "plt.plot(history.history['loss'])\n",
    "plt.plot(history.history['val_loss'])\n",
    "plt.legend(['train', 'validation'], loc='upper left')\n",
    "plt.title('Training and Validation data for VGG-19 transfer learning model')\n",
    "plt.xlabel('Training Epoch')\n",
    "plt.ylabel('Cross Entropy Loss')\n",
    "plt.show()"
   ]
  },
  {
   "cell_type": "code",
   "execution_count": 41,
   "metadata": {},
   "outputs": [
    {
     "name": "stdout",
     "output_type": "stream",
     "text": [
      "Test accuracy: 65.0000%\n"
     ]
    }
   ],
   "source": [
    "# get index of predicted facial expression for test set images\n",
    "expression_predictions_transf = [np.argmax(model_final.predict(np.expand_dims(tensor, axis=0))) for tensor in test_tensors_transf]\n",
    "\n",
    "# report test accuracy\n",
    "test_accuracy = 100*np.sum(np.array(expression_predictions_transf)==np.argmax(test_targets_transf, axis=1))/len(expression_predictions_transf)\n",
    "print('Test accuracy: %.4f%%' % test_accuracy)"
   ]
  },
  {
   "cell_type": "code",
   "execution_count": 42,
   "metadata": {},
   "outputs": [],
   "source": [
    "raw_preds = get_model_predictions(model_final, test_tensors_transf)"
   ]
  },
  {
   "cell_type": "code",
   "execution_count": 43,
   "metadata": {},
   "outputs": [
    {
     "name": "stdout",
     "output_type": "stream",
     "text": [
      "1.0301890028019747\n"
     ]
    }
   ],
   "source": [
    "num_samples = np.array(raw_preds).shape[0]\n",
    "\n",
    "raw_preds_np = np.array(raw_preds,dtype='float32').reshape(num_samples,7)\n",
    "\n",
    "print(manual_total_cce(raw_preds_np, test_targets_transf))"
   ]
  },
  {
   "cell_type": "markdown",
   "metadata": {},
   "source": [
    "## Robustness Analysis\n",
    "\n",
    "Below, the robustness of the final VGG-19 transfer learning model will be investigated. To do so, random Gaussian noise will be added to a number of images, and the performance of the classifier before and after the noise is added will be tested. "
   ]
  },
  {
   "cell_type": "code",
   "execution_count": 44,
   "metadata": {
    "collapsed": true
   },
   "outputs": [],
   "source": [
    "def onehot_to_label(one_hot_array, labels_array):\n",
    "    for i in range(len(one_hot_array)):\n",
    "        if one_hot_array[i] == 1:\n",
    "            break\n",
    "    return labels_array[i]"
   ]
  },
  {
   "cell_type": "code",
   "execution_count": 59,
   "metadata": {},
   "outputs": [
    {
     "name": "stdout",
     "output_type": "stream",
     "text": [
      "(210, 48, 48, 3)\n"
     ]
    },
    {
     "data": {
      "image/png": "[encoded data removed]",
      "text/plain": [
       "<matplotlib.figure.Figure at 0x22fa22a67f0>"
      ]
     },
     "metadata": {},
     "output_type": "display_data"
    }
   ],
   "source": [
    "# Visualization of adding noise\n",
    "\n",
    "#print(train_tensors_transf)\n",
    "\n",
    "# 0=Angry, 1=Disgust, 2=Fear, 3=Happy, 4=Sad, 5=Surprise, 6=Neutral\n",
    "\n",
    "samples = train_tensors_transf\n",
    "\n",
    "seed_number = 0\n",
    "\n",
    "print(samples.shape)\n",
    "\n",
    "fig = plt.figure(figsize=(10, 10))\n",
    "\n",
    "num_rows = 3\n",
    "\n",
    "num_columns = 3\n",
    "\n",
    "labels_words = ['angry', 'disgust', 'fear', 'happy', 'sad', 'surprise', 'neutral']\n",
    "\n",
    "\n",
    "labels = train_targets_transf\n",
    "\n",
    "for i in range(num_rows*num_columns):\n",
    "    ax = fig.add_subplot(num_rows,num_columns,i + 1)\n",
    "    ax.imshow(samples[seed_number + i])\n",
    "    #ax.title.set_text(onehot_to_label(labels[seed_number + i], labels_words))"
   ]
  },
  {
   "cell_type": "code",
   "execution_count": 71,
   "metadata": {
    "collapsed": true
   },
   "outputs": [],
   "source": [
    "def add_noise(samples, number_of_images, std_dev=20, seed_number=0):\n",
    "    for i in range(number_of_images):\n",
    "        for pixel_x in samples[seed_number+i]:\n",
    "            for pixel_y in range(len(pixel_x)):\n",
    "                noise_ = np.random.normal(0,0.025,1)[0]\n",
    "                for rgb_value in range(len(pixel_x[pixel_y])):\n",
    "                    pixel_x[pixel_y][rgb_value] += noise_\n",
    "                    \"\"\"\n",
    "                    if a[j][k] > 1:\n",
    "                        a[j][k] = 1\n",
    "                    elif a[j][k] < 1:\n",
    "                        a[j][k] = 0\n",
    "                    \"\"\"\n",
    "                    if pixel_x[pixel_y][rgb_value] < 0:\n",
    "                        pixel_x[pixel_y][rgb_value] = 0\n",
    "                    if pixel_x[pixel_y][rgb_value] > 1:\n",
    "                        pixel_x[pixel_y][rgb_value] = 1\n",
    "    \n",
    "    return samples"
   ]
  },
  {
   "cell_type": "code",
   "execution_count": 72,
   "metadata": {},
   "outputs": [
    {
     "name": "stdout",
     "output_type": "stream",
     "text": [
      "oeingoigjoierjgoiejoigjeroigjer (210, 48, 48, 3)\n"
     ]
    },
    {
     "data": {
      "image/png": "[encoded data removed]",
      "text/plain": [
       "<matplotlib.figure.Figure at 0x22e8a289f28>"
      ]
     },
     "metadata": {},
     "output_type": "display_data"
    }
   ],
   "source": [
    "# visualize the effect of adding a small amount of gaussian noise to the samples\n",
    "\n",
    "samples_noise = np.copy(train_tensors_transf)\n",
    "\n",
    "#print(samples_noise)\n",
    "\n",
    "fig = plt.figure(figsize=(10, 10))\n",
    "\n",
    "print(\"oeingoigjoierjgoiejoigjeroigjer\", samples_noise.shape)\n",
    "\n",
    "\"\"\"\n",
    "for i in range(num_rows*num_columns):\n",
    "    for a in samples_noise[seed_number+i]:\n",
    "        for j in range(len(a)):\n",
    "            noise_ = np.random.normal(0,0.025,1)[0]\n",
    "            for k in range(len(a[j])):\n",
    "                a[j][k] += noise_\n",
    "\n",
    "                if a[j][k] < 0:\n",
    "                    a[j][k] = 0\n",
    "                if a[j][k] > 1:\n",
    "                    a[j][k] = 1\n",
    "                    \n",
    "                \n",
    "\"\"\"\n",
    "                \n",
    "samples_noise = add_noise(samples_noise, 9)\n",
    "                \n",
    "                \n",
    "    \n",
    "for i in range(num_rows*num_columns):\n",
    "    ax = fig.add_subplot(num_rows,num_columns,i + 1)\n",
    "    ax.imshow(samples_noise[seed_number + i])"
   ]
  },
  {
   "cell_type": "code",
   "execution_count": 70,
   "metadata": {},
   "outputs": [
    {
     "name": "stdout",
     "output_type": "stream",
     "text": [
      "(60, 48, 48, 3)\n",
      "[[[[ 1.          1.          1.        ]\n",
      "   [ 1.          1.          1.        ]\n",
      "   [ 1.          1.          1.        ]\n",
      "   ..., \n",
      "   [ 0.8509804   0.8509804   0.8509804 ]\n",
      "   [ 1.          1.          1.        ]\n",
      "   [ 1.          1.          1.        ]]\n",
      "\n",
      "  [[ 1.          1.          1.        ]\n",
      "   [ 1.          1.          1.        ]\n",
      "   [ 1.          1.          1.        ]\n",
      "   ..., \n",
      "   [ 0.48627451  0.48627451  0.48627451]\n",
      "   [ 0.71764708  0.71764708  0.71764708]\n",
      "   [ 0.93725491  0.93725491  0.93725491]]\n",
      "\n",
      "  [[ 1.          1.          1.        ]\n",
      "   [ 1.          1.          1.        ]\n",
      "   [ 1.          1.          1.        ]\n",
      "   ..., \n",
      "   [ 0.38431373  0.38431373  0.38431373]\n",
      "   [ 0.47450981  0.47450981  0.47450981]\n",
      "   [ 0.6901961   0.6901961   0.6901961 ]]\n",
      "\n",
      "  ..., \n",
      "  [[ 1.          1.          1.        ]\n",
      "   [ 1.          1.          1.        ]\n",
      "   [ 0.94901961  0.94901961  0.94901961]\n",
      "   ..., \n",
      "   [ 1.          1.          1.        ]\n",
      "   [ 0.99215686  0.99215686  0.99215686]\n",
      "   [ 0.99215686  0.99215686  0.99215686]]\n",
      "\n",
      "  [[ 0.73725492  0.73725492  0.73725492]\n",
      "   [ 0.53333336  0.53333336  0.53333336]\n",
      "   [ 0.30588236  0.30588236  0.30588236]\n",
      "   ..., \n",
      "   [ 0.89803922  0.89803922  0.89803922]\n",
      "   [ 1.          1.          1.        ]\n",
      "   [ 1.          1.          1.        ]]\n",
      "\n",
      "  [[ 0.16470589  0.16470589  0.16470589]\n",
      "   [ 0.16862746  0.16862746  0.16862746]\n",
      "   [ 0.2         0.2         0.2       ]\n",
      "   ..., \n",
      "   [ 0.29411766  0.29411766  0.29411766]\n",
      "   [ 0.56862748  0.56862748  0.56862748]\n",
      "   [ 0.78431374  0.78431374  0.78431374]]]\n",
      "\n",
      "\n",
      " [[[ 0.27058825  0.27058825  0.27058825]\n",
      "   [ 0.32156864  0.32156864  0.32156864]\n",
      "   [ 0.30588236  0.30588236  0.30588236]\n",
      "   ..., \n",
      "   [ 0.73725492  0.73725492  0.73725492]\n",
      "   [ 0.73333335  0.73333335  0.73333335]\n",
      "   [ 0.73333335  0.73333335  0.73333335]]\n",
      "\n",
      "  [[ 0.25098041  0.25098041  0.25098041]\n",
      "   [ 0.24705882  0.24705882  0.24705882]\n",
      "   [ 0.22745098  0.22745098  0.22745098]\n",
      "   ..., \n",
      "   [ 0.7764706   0.7764706   0.7764706 ]\n",
      "   [ 0.7764706   0.7764706   0.7764706 ]\n",
      "   [ 0.77254903  0.77254903  0.77254903]]\n",
      "\n",
      "  [[ 0.25490198  0.25490198  0.25490198]\n",
      "   [ 0.24313726  0.24313726  0.24313726]\n",
      "   [ 0.20784314  0.20784314  0.20784314]\n",
      "   ..., \n",
      "   [ 0.79215688  0.79215688  0.79215688]\n",
      "   [ 0.78431374  0.78431374  0.78431374]\n",
      "   [ 0.78823531  0.78823531  0.78823531]]\n",
      "\n",
      "  ..., \n",
      "  [[ 0.10980392  0.10980392  0.10980392]\n",
      "   [ 0.17254902  0.17254902  0.17254902]\n",
      "   [ 0.26274511  0.26274511  0.26274511]\n",
      "   ..., \n",
      "   [ 0.44705883  0.44705883  0.44705883]\n",
      "   [ 0.49019608  0.49019608  0.49019608]\n",
      "   [ 0.48627451  0.48627451  0.48627451]]\n",
      "\n",
      "  [[ 0.3137255   0.3137255   0.3137255 ]\n",
      "   [ 0.45490196  0.45490196  0.45490196]\n",
      "   [ 0.51372552  0.51372552  0.51372552]\n",
      "   ..., \n",
      "   [ 0.41960785  0.41960785  0.41960785]\n",
      "   [ 0.46666667  0.46666667  0.46666667]\n",
      "   [ 0.49803922  0.49803922  0.49803922]]\n",
      "\n",
      "  [[ 0.90588236  0.90588236  0.90588236]\n",
      "   [ 0.94117647  0.94117647  0.94117647]\n",
      "   [ 0.94901961  0.94901961  0.94901961]\n",
      "   ..., \n",
      "   [ 0.42745098  0.42745098  0.42745098]\n",
      "   [ 0.4509804   0.4509804   0.4509804 ]\n",
      "   [ 0.4627451   0.4627451   0.4627451 ]]]\n",
      "\n",
      "\n",
      " [[[ 0.85882354  0.85882354  0.85882354]\n",
      "   [ 0.83529413  0.83529413  0.83529413]\n",
      "   [ 0.80784315  0.80784315  0.80784315]\n",
      "   ..., \n",
      "   [ 0.98823529  0.98823529  0.98823529]\n",
      "   [ 1.          1.          1.        ]\n",
      "   [ 1.          1.          1.        ]]\n",
      "\n",
      "  [[ 0.84313726  0.84313726  0.84313726]\n",
      "   [ 0.84313726  0.84313726  0.84313726]\n",
      "   [ 0.80784315  0.80784315  0.80784315]\n",
      "   ..., \n",
      "   [ 0.98823529  0.98823529  0.98823529]\n",
      "   [ 1.          1.          1.        ]\n",
      "   [ 1.          1.          1.        ]]\n",
      "\n",
      "  [[ 0.85882354  0.85882354  0.85882354]\n",
      "   [ 0.82745099  0.82745099  0.82745099]\n",
      "   [ 0.81568629  0.81568629  0.81568629]\n",
      "   ..., \n",
      "   [ 0.98823529  0.98823529  0.98823529]\n",
      "   [ 1.          1.          1.        ]\n",
      "   [ 1.          1.          1.        ]]\n",
      "\n",
      "  ..., \n",
      "  [[ 0.73725492  0.73725492  0.73725492]\n",
      "   [ 0.7764706   0.7764706   0.7764706 ]\n",
      "   [ 0.79215688  0.79215688  0.79215688]\n",
      "   ..., \n",
      "   [ 0.          0.          0.        ]\n",
      "   [ 0.          0.          0.        ]\n",
      "   [ 0.          0.          0.        ]]\n",
      "\n",
      "  [[ 0.36470589  0.36470589  0.36470589]\n",
      "   [ 0.42745098  0.42745098  0.42745098]\n",
      "   [ 0.49803922  0.49803922  0.49803922]\n",
      "   ..., \n",
      "   [ 0.          0.          0.        ]\n",
      "   [ 0.          0.          0.        ]\n",
      "   [ 0.          0.          0.        ]]\n",
      "\n",
      "  [[ 0.4627451   0.4627451   0.4627451 ]\n",
      "   [ 0.36470589  0.36470589  0.36470589]\n",
      "   [ 0.3019608   0.3019608   0.3019608 ]\n",
      "   ..., \n",
      "   [ 0.          0.          0.        ]\n",
      "   [ 0.          0.          0.        ]\n",
      "   [ 0.          0.          0.        ]]]\n",
      "\n",
      "\n",
      " ..., \n",
      " [[[ 0.63529414  0.63529414  0.63529414]\n",
      "   [ 0.78431374  0.78431374  0.78431374]\n",
      "   [ 0.73333335  0.73333335  0.73333335]\n",
      "   ..., \n",
      "   [ 0.4509804   0.4509804   0.4509804 ]\n",
      "   [ 0.51764709  0.51764709  0.51764709]\n",
      "   [ 0.59607846  0.59607846  0.59607846]]\n",
      "\n",
      "  [[ 0.7019608   0.7019608   0.7019608 ]\n",
      "   [ 0.78431374  0.78431374  0.78431374]\n",
      "   [ 0.76078433  0.76078433  0.76078433]\n",
      "   ..., \n",
      "   [ 0.67058825  0.67058825  0.67058825]\n",
      "   [ 0.58431375  0.58431375  0.58431375]\n",
      "   [ 0.51764709  0.51764709  0.51764709]]\n",
      "\n",
      "  [[ 0.75686276  0.75686276  0.75686276]\n",
      "   [ 0.84313726  0.84313726  0.84313726]\n",
      "   [ 0.88627452  0.88627452  0.88627452]\n",
      "   ..., \n",
      "   [ 0.75686276  0.75686276  0.75686276]\n",
      "   [ 0.74901962  0.74901962  0.74901962]\n",
      "   [ 0.67058825  0.67058825  0.67058825]]\n",
      "\n",
      "  ..., \n",
      "  [[ 0.36470589  0.36470589  0.36470589]\n",
      "   [ 0.43921569  0.43921569  0.43921569]\n",
      "   [ 0.38431373  0.38431373  0.38431373]\n",
      "   ..., \n",
      "   [ 0.40000001  0.40000001  0.40000001]\n",
      "   [ 0.38431373  0.38431373  0.38431373]\n",
      "   [ 0.47843137  0.47843137  0.47843137]]\n",
      "\n",
      "  [[ 0.34117648  0.34117648  0.34117648]\n",
      "   [ 0.41960785  0.41960785  0.41960785]\n",
      "   [ 0.43137255  0.43137255  0.43137255]\n",
      "   ..., \n",
      "   [ 0.35686275  0.35686275  0.35686275]\n",
      "   [ 0.47058824  0.47058824  0.47058824]\n",
      "   [ 0.41960785  0.41960785  0.41960785]]\n",
      "\n",
      "  [[ 0.33725491  0.33725491  0.33725491]\n",
      "   [ 0.36078432  0.36078432  0.36078432]\n",
      "   [ 0.44313726  0.44313726  0.44313726]\n",
      "   ..., \n",
      "   [ 0.44313726  0.44313726  0.44313726]\n",
      "   [ 0.44313726  0.44313726  0.44313726]\n",
      "   [ 0.36862746  0.36862746  0.36862746]]]\n",
      "\n",
      "\n",
      " [[[ 0.15686275  0.15686275  0.15686275]\n",
      "   [ 0.15686275  0.15686275  0.15686275]\n",
      "   [ 0.15686275  0.15686275  0.15686275]\n",
      "   ..., \n",
      "   [ 0.59215689  0.59215689  0.59215689]\n",
      "   [ 0.49803922  0.49803922  0.49803922]\n",
      "   [ 0.36470589  0.36470589  0.36470589]]\n",
      "\n",
      "  [[ 0.15294118  0.15294118  0.15294118]\n",
      "   [ 0.16470589  0.16470589  0.16470589]\n",
      "   [ 0.16862746  0.16862746  0.16862746]\n",
      "   ..., \n",
      "   [ 0.48627451  0.48627451  0.48627451]\n",
      "   [ 0.33725491  0.33725491  0.33725491]\n",
      "   [ 0.1882353   0.1882353   0.1882353 ]]\n",
      "\n",
      "  [[ 0.15294118  0.15294118  0.15294118]\n",
      "   [ 0.16470589  0.16470589  0.16470589]\n",
      "   [ 0.17254902  0.17254902  0.17254902]\n",
      "   ..., \n",
      "   [ 0.27058825  0.27058825  0.27058825]\n",
      "   [ 0.15294118  0.15294118  0.15294118]\n",
      "   [ 0.13333334  0.13333334  0.13333334]]\n",
      "\n",
      "  ..., \n",
      "  [[ 0.13333334  0.13333334  0.13333334]\n",
      "   [ 0.21960784  0.21960784  0.21960784]\n",
      "   [ 0.20392157  0.20392157  0.20392157]\n",
      "   ..., \n",
      "   [ 0.58431375  0.58431375  0.58431375]\n",
      "   [ 0.58823532  0.58823532  0.58823532]\n",
      "   [ 0.58431375  0.58431375  0.58431375]]\n",
      "\n",
      "  [[ 0.17254902  0.17254902  0.17254902]\n",
      "   [ 0.20392157  0.20392157  0.20392157]\n",
      "   [ 0.14117648  0.14117648  0.14117648]\n",
      "   ..., \n",
      "   [ 0.54509807  0.54509807  0.54509807]\n",
      "   [ 0.58823532  0.58823532  0.58823532]\n",
      "   [ 0.58039218  0.58039218  0.58039218]]\n",
      "\n",
      "  [[ 0.20392157  0.20392157  0.20392157]\n",
      "   [ 0.16470589  0.16470589  0.16470589]\n",
      "   [ 0.12941177  0.12941177  0.12941177]\n",
      "   ..., \n",
      "   [ 0.42745098  0.42745098  0.42745098]\n",
      "   [ 0.53725493  0.53725493  0.53725493]\n",
      "   [ 0.56862748  0.56862748  0.56862748]]]\n",
      "\n",
      "\n",
      " [[[ 0.24313726  0.24313726  0.24313726]\n",
      "   [ 0.28627452  0.28627452  0.28627452]\n",
      "   [ 0.30588236  0.30588236  0.30588236]\n",
      "   ..., \n",
      "   [ 0.98823529  0.98823529  0.98823529]\n",
      "   [ 0.99215686  0.99215686  0.99215686]\n",
      "   [ 0.99607843  0.99607843  0.99607843]]\n",
      "\n",
      "  [[ 0.24313726  0.24313726  0.24313726]\n",
      "   [ 0.27843139  0.27843139  0.27843139]\n",
      "   [ 0.29019609  0.29019609  0.29019609]\n",
      "   ..., \n",
      "   [ 1.          1.          1.        ]\n",
      "   [ 0.98823529  0.98823529  0.98823529]\n",
      "   [ 0.99215686  0.99215686  0.99215686]]\n",
      "\n",
      "  [[ 0.23529412  0.23529412  0.23529412]\n",
      "   [ 0.28235295  0.28235295  0.28235295]\n",
      "   [ 0.26274511  0.26274511  0.26274511]\n",
      "   ..., \n",
      "   [ 1.          1.          1.        ]\n",
      "   [ 0.98823529  0.98823529  0.98823529]\n",
      "   [ 0.99215686  0.99215686  0.99215686]]\n",
      "\n",
      "  ..., \n",
      "  [[ 0.83529413  0.83529413  0.83529413]\n",
      "   [ 0.88235295  0.88235295  0.88235295]\n",
      "   [ 0.9254902   0.9254902   0.9254902 ]\n",
      "   ..., \n",
      "   [ 0.30588236  0.30588236  0.30588236]\n",
      "   [ 0.30588236  0.30588236  0.30588236]\n",
      "   [ 0.29803923  0.29803923  0.29803923]]\n",
      "\n",
      "  [[ 0.82352942  0.82352942  0.82352942]\n",
      "   [ 0.88627452  0.88627452  0.88627452]\n",
      "   [ 0.92156863  0.92156863  0.92156863]\n",
      "   ..., \n",
      "   [ 0.3019608   0.3019608   0.3019608 ]\n",
      "   [ 0.30980393  0.30980393  0.30980393]\n",
      "   [ 0.3137255   0.3137255   0.3137255 ]]\n",
      "\n",
      "  [[ 0.77254903  0.77254903  0.77254903]\n",
      "   [ 0.87058824  0.87058824  0.87058824]\n",
      "   [ 0.90196079  0.90196079  0.90196079]\n",
      "   ..., \n",
      "   [ 0.30980393  0.30980393  0.30980393]\n",
      "   [ 0.31764707  0.31764707  0.31764707]\n",
      "   [ 0.32549021  0.32549021  0.32549021]]]]\n"
     ]
    }
   ],
   "source": [
    "# add the gaussian noise to each of the test_tensors_transf\n",
    "\n",
    "test_tensors_transf_noise = np.copy(test_tensors_transf)\n",
    "\n",
    "\n",
    "print(test_tensors_transf_noise.shape)\n",
    "\n",
    "\n",
    "print(test_tensors_transf)"
   ]
  },
  {
   "cell_type": "code",
   "execution_count": 74,
   "metadata": {},
   "outputs": [],
   "source": [
    "num_images = test_tensors_transf_noise.shape[0]\n",
    "test_tensors_transf_noise = add_noise(test_tensors_transf_noise, num_images)"
   ]
  },
  {
   "cell_type": "code",
   "execution_count": 75,
   "metadata": {},
   "outputs": [
    {
     "name": "stdout",
     "output_type": "stream",
     "text": [
      "[[[[ 0.93306595  0.93306595  0.93306595]\n",
      "   [ 0.94930112  0.94930112  0.94930112]\n",
      "   [ 0.95973849  0.95973849  0.95973849]\n",
      "   ..., \n",
      "   [ 0.89023757  0.89023757  0.89023757]\n",
      "   [ 1.          1.          1.        ]\n",
      "   [ 0.99264103  0.99264103  0.99264103]]\n",
      "\n",
      "  [[ 0.97288942  0.97288942  0.97288942]\n",
      "   [ 0.93675685  0.93675685  0.93675685]\n",
      "   [ 1.          1.          1.        ]\n",
      "   ..., \n",
      "   [ 0.49627438  0.49627438  0.49627438]\n",
      "   [ 0.703174    0.703174    0.703174  ]\n",
      "   [ 0.94045931  0.94045931  0.94045931]]\n",
      "\n",
      "  [[ 0.92526728  0.92526728  0.92526728]\n",
      "   [ 0.96197689  0.96197689  0.96197689]\n",
      "   [ 0.94822031  0.94822031  0.94822031]\n",
      "   ..., \n",
      "   [ 0.42779797  0.42779797  0.42779797]\n",
      "   [ 0.3634102   0.3634102   0.3634102 ]\n",
      "   [ 0.63265336  0.63265336  0.63265336]]\n",
      "\n",
      "  ..., \n",
      "  [[ 0.92166466  0.92166466  0.92166466]\n",
      "   [ 0.96029007  0.96029007  0.96029007]\n",
      "   [ 0.8684932   0.8684932   0.8684932 ]\n",
      "   ..., \n",
      "   [ 0.9265691   0.9265691   0.9265691 ]\n",
      "   [ 1.          1.          1.        ]\n",
      "   [ 0.95907009  0.95907009  0.95907009]]\n",
      "\n",
      "  [[ 0.83117783  0.83117783  0.83117783]\n",
      "   [ 0.58673805  0.58673805  0.58673805]\n",
      "   [ 0.22960158  0.22960158  0.22960158]\n",
      "   ..., \n",
      "   [ 0.94214064  0.94214064  0.94214064]\n",
      "   [ 0.9823336   0.9823336   0.9823336 ]\n",
      "   [ 0.94475377  0.94475377  0.94475377]]\n",
      "\n",
      "  [[ 0.11955482  0.11955482  0.11955482]\n",
      "   [ 0.14892954  0.14892954  0.14892954]\n",
      "   [ 0.19303539  0.19303539  0.19303539]\n",
      "   ..., \n",
      "   [ 0.31546795  0.31546795  0.31546795]\n",
      "   [ 0.51449674  0.51449674  0.51449674]\n",
      "   [ 0.77289999  0.77289999  0.77289999]]]\n",
      "\n",
      "\n",
      " [[[ 0.29859582  0.29859582  0.29859582]\n",
      "   [ 0.25528935  0.25528935  0.25528935]\n",
      "   [ 0.24988149  0.24988149  0.24988149]\n",
      "   ..., \n",
      "   [ 0.72067326  0.72067326  0.72067326]\n",
      "   [ 0.71592909  0.71592909  0.71592909]\n",
      "   [ 0.63414431  0.63414431  0.63414431]]\n",
      "\n",
      "  [[ 0.22493373  0.22493373  0.22493373]\n",
      "   [ 0.22960733  0.22960733  0.22960733]\n",
      "   [ 0.26877585  0.26877585  0.26877585]\n",
      "   ..., \n",
      "   [ 0.85787618  0.85787618  0.85787618]\n",
      "   [ 0.86310387  0.86310387  0.86310387]\n",
      "   [ 0.66345716  0.66345716  0.66345716]]\n",
      "\n",
      "  [[ 0.28309983  0.28309983  0.28309983]\n",
      "   [ 0.21422648  0.21422648  0.21422648]\n",
      "   [ 0.09943709  0.09943709  0.09943709]\n",
      "   ..., \n",
      "   [ 0.83008742  0.83008742  0.83008742]\n",
      "   [ 0.80024695  0.80024695  0.80024695]\n",
      "   [ 0.76569968  0.76569968  0.76569968]]\n",
      "\n",
      "  ..., \n",
      "  [[ 0.08835054  0.08835054  0.08835054]\n",
      "   [ 0.18877785  0.18877785  0.18877785]\n",
      "   [ 0.2198144   0.2198144   0.2198144 ]\n",
      "   ..., \n",
      "   [ 0.37595698  0.37595698  0.37595698]\n",
      "   [ 0.5236901   0.5236901   0.5236901 ]\n",
      "   [ 0.48576814  0.48576814  0.48576814]]\n",
      "\n",
      "  [[ 0.39089134  0.39089134  0.39089134]\n",
      "   [ 0.43179539  0.43179539  0.43179539]\n",
      "   [ 0.46855804  0.46855804  0.46855804]\n",
      "   ..., \n",
      "   [ 0.4941735   0.4941735   0.4941735 ]\n",
      "   [ 0.60522038  0.60522038  0.60522038]\n",
      "   [ 0.41907117  0.41907117  0.41907117]]\n",
      "\n",
      "  [[ 0.86441427  0.86441427  0.86441427]\n",
      "   [ 0.98146838  0.98146838  0.98146838]\n",
      "   [ 0.84942311  0.84942311  0.84942311]\n",
      "   ..., \n",
      "   [ 0.33666018  0.33666018  0.33666018]\n",
      "   [ 0.45923415  0.45923415  0.45923415]\n",
      "   [ 0.56220758  0.56220758  0.56220758]]]\n",
      "\n",
      "\n",
      " [[[ 0.89239031  0.89239031  0.89239031]\n",
      "   [ 0.7863239   0.7863239   0.7863239 ]\n",
      "   [ 0.81010675  0.81010675  0.81010675]\n",
      "   ..., \n",
      "   [ 1.          1.          1.        ]\n",
      "   [ 0.91757196  0.91757196  0.91757196]\n",
      "   [ 0.94798112  0.94798112  0.94798112]]\n",
      "\n",
      "  [[ 0.99510217  0.99510217  0.99510217]\n",
      "   [ 0.75050974  0.75050974  0.75050974]\n",
      "   [ 0.78015983  0.78015983  0.78015983]\n",
      "   ..., \n",
      "   [ 1.          1.          1.        ]\n",
      "   [ 0.99194098  0.99194098  0.99194098]\n",
      "   [ 0.97781092  0.97781092  0.97781092]]\n",
      "\n",
      "  [[ 0.9219541   0.9219541   0.9219541 ]\n",
      "   [ 0.91425806  0.91425806  0.91425806]\n",
      "   [ 0.91051716  0.91051716  0.91051716]\n",
      "   ..., \n",
      "   [ 0.9701122   0.9701122   0.9701122 ]\n",
      "   [ 1.          1.          1.        ]\n",
      "   [ 0.95879322  0.95879322  0.95879322]]\n",
      "\n",
      "  ..., \n",
      "  [[ 0.74076802  0.74076802  0.74076802]\n",
      "   [ 0.78314775  0.78314775  0.78314775]\n",
      "   [ 0.78872478  0.78872478  0.78872478]\n",
      "   ..., \n",
      "   [ 0.00915682  0.00915682  0.00915682]\n",
      "   [ 0.03117351  0.03117351  0.03117351]\n",
      "   [ 0.01460322  0.01460322  0.01460322]]\n",
      "\n",
      "  [[ 0.39352089  0.39352089  0.39352089]\n",
      "   [ 0.4839887   0.4839887   0.4839887 ]\n",
      "   [ 0.48051423  0.48051423  0.48051423]\n",
      "   ..., \n",
      "   [ 0.06340857  0.06340857  0.06340857]\n",
      "   [ 0.01451079  0.01451079  0.01451079]\n",
      "   [ 0.02664219  0.02664219  0.02664219]]\n",
      "\n",
      "  [[ 0.41929907  0.41929907  0.41929907]\n",
      "   [ 0.3468914   0.3468914   0.3468914 ]\n",
      "   [ 0.27737719  0.27737719  0.27737719]\n",
      "   ..., \n",
      "   [ 0.          0.          0.        ]\n",
      "   [ 0.02550201  0.02550201  0.02550201]\n",
      "   [ 0.          0.          0.        ]]]\n",
      "\n",
      "\n",
      " ..., \n",
      " [[[ 0.56889606  0.56889606  0.56889606]\n",
      "   [ 0.76653218  0.76653218  0.76653218]\n",
      "   [ 0.70584542  0.70584542  0.70584542]\n",
      "   ..., \n",
      "   [ 0.57827282  0.57827282  0.57827282]\n",
      "   [ 0.53190297  0.53190297  0.53190297]\n",
      "   [ 0.63965368  0.63965368  0.63965368]]\n",
      "\n",
      "  [[ 0.58788663  0.58788663  0.58788663]\n",
      "   [ 0.82799512  0.82799512  0.82799512]\n",
      "   [ 0.77227032  0.77227032  0.77227032]\n",
      "   ..., \n",
      "   [ 0.61990297  0.61990297  0.61990297]\n",
      "   [ 0.52545708  0.52545708  0.52545708]\n",
      "   [ 0.51192236  0.51192236  0.51192236]]\n",
      "\n",
      "  [[ 0.77965021  0.77965021  0.77965021]\n",
      "   [ 0.90314358  0.90314358  0.90314358]\n",
      "   [ 0.85509998  0.85509998  0.85509998]\n",
      "   ..., \n",
      "   [ 0.80236626  0.80236626  0.80236626]\n",
      "   [ 0.76244074  0.76244074  0.76244074]\n",
      "   [ 0.70175362  0.70175362  0.70175362]]\n",
      "\n",
      "  ..., \n",
      "  [[ 0.29641309  0.29641309  0.29641309]\n",
      "   [ 0.36779824  0.36779824  0.36779824]\n",
      "   [ 0.46373212  0.46373212  0.46373212]\n",
      "   ..., \n",
      "   [ 0.39655253  0.39655253  0.39655253]\n",
      "   [ 0.32847908  0.32847908  0.32847908]\n",
      "   [ 0.37309498  0.37309498  0.37309498]]\n",
      "\n",
      "  [[ 0.33707631  0.33707631  0.33707631]\n",
      "   [ 0.5152666   0.5152666   0.5152666 ]\n",
      "   [ 0.42984673  0.42984673  0.42984673]\n",
      "   ..., \n",
      "   [ 0.3385781   0.3385781   0.3385781 ]\n",
      "   [ 0.54070997  0.54070997  0.54070997]\n",
      "   [ 0.46062696  0.46062696  0.46062696]]\n",
      "\n",
      "  [[ 0.37263453  0.37263453  0.37263453]\n",
      "   [ 0.41469601  0.41469601  0.41469601]\n",
      "   [ 0.42244282  0.42244282  0.42244282]\n",
      "   ..., \n",
      "   [ 0.32573971  0.32573971  0.32573971]\n",
      "   [ 0.46866563  0.46866563  0.46866563]\n",
      "   [ 0.36409616  0.36409616  0.36409616]]]\n",
      "\n",
      "\n",
      " [[[ 0.11112501  0.11112501  0.11112501]\n",
      "   [ 0.15366344  0.15366344  0.15366344]\n",
      "   [ 0.15023963  0.15023963  0.15023963]\n",
      "   ..., \n",
      "   [ 0.66928333  0.66928333  0.66928333]\n",
      "   [ 0.57550251  0.57550251  0.57550251]\n",
      "   [ 0.36549947  0.36549947  0.36549947]]\n",
      "\n",
      "  [[ 0.14185473  0.14185473  0.14185473]\n",
      "   [ 0.10199699  0.10199699  0.10199699]\n",
      "   [ 0.09223698  0.09223698  0.09223698]\n",
      "   ..., \n",
      "   [ 0.54602522  0.54602522  0.54602522]\n",
      "   [ 0.23340118  0.23340118  0.23340118]\n",
      "   [ 0.1522985   0.1522985   0.1522985 ]]\n",
      "\n",
      "  [[ 0.18180734  0.18180734  0.18180734]\n",
      "   [ 0.17608102  0.17608102  0.17608102]\n",
      "   [ 0.24743822  0.24743822  0.24743822]\n",
      "   ..., \n",
      "   [ 0.29699457  0.29699457  0.29699457]\n",
      "   [ 0.1715086   0.1715086   0.1715086 ]\n",
      "   [ 0.15504344  0.15504344  0.15504344]]\n",
      "\n",
      "  ..., \n",
      "  [[ 0.09161712  0.09161712  0.09161712]\n",
      "   [ 0.22871493  0.22871493  0.22871493]\n",
      "   [ 0.23372212  0.23372212  0.23372212]\n",
      "   ..., \n",
      "   [ 0.60816938  0.60816938  0.60816938]\n",
      "   [ 0.62116426  0.62116426  0.62116426]\n",
      "   [ 0.61143368  0.61143368  0.61143368]]\n",
      "\n",
      "  [[ 0.38616392  0.38616392  0.38616392]\n",
      "   [ 0.20990635  0.20990635  0.20990635]\n",
      "   [ 0.27696165  0.27696165  0.27696165]\n",
      "   ..., \n",
      "   [ 0.58064628  0.58064628  0.58064628]\n",
      "   [ 0.61539972  0.61539972  0.61539972]\n",
      "   [ 0.53011632  0.53011632  0.53011632]]\n",
      "\n",
      "  [[ 0.218658    0.218658    0.218658  ]\n",
      "   [ 0.03796288  0.03796288  0.03796288]\n",
      "   [ 0.14756133  0.14756133  0.14756133]\n",
      "   ..., \n",
      "   [ 0.40843949  0.40843949  0.40843949]\n",
      "   [ 0.51010054  0.51010054  0.51010054]\n",
      "   [ 0.53624338  0.53624338  0.53624338]]]\n",
      "\n",
      "\n",
      " [[[ 0.21957442  0.21957442  0.21957442]\n",
      "   [ 0.29356587  0.29356587  0.29356587]\n",
      "   [ 0.36079016  0.36079016  0.36079016]\n",
      "   ..., \n",
      "   [ 0.99851137  0.99851137  0.99851137]\n",
      "   [ 0.9050743   0.9050743   0.9050743 ]\n",
      "   [ 0.99966621  0.99966621  0.99966621]]\n",
      "\n",
      "  [[ 0.21387371  0.21387371  0.21387371]\n",
      "   [ 0.28399333  0.28399333  0.28399333]\n",
      "   [ 0.3450214   0.3450214   0.3450214 ]\n",
      "   ..., \n",
      "   [ 0.96229702  0.96229702  0.96229702]\n",
      "   [ 0.89282358  0.89282358  0.89282358]\n",
      "   [ 0.93905944  0.93905944  0.93905944]]\n",
      "\n",
      "  [[ 0.21725772  0.21725772  0.21725772]\n",
      "   [ 0.28391701  0.28391701  0.28391701]\n",
      "   [ 0.27075016  0.27075016  0.27075016]\n",
      "   ..., \n",
      "   [ 0.97638249  0.97638249  0.97638249]\n",
      "   [ 0.96187967  0.96187967  0.96187967]\n",
      "   [ 0.92072952  0.92072952  0.92072952]]\n",
      "\n",
      "  ..., \n",
      "  [[ 0.74592483  0.74592483  0.74592483]\n",
      "   [ 0.86848938  0.86848938  0.86848938]\n",
      "   [ 0.83931732  0.83931732  0.83931732]\n",
      "   ..., \n",
      "   [ 0.25511208  0.25511208  0.25511208]\n",
      "   [ 0.30103132  0.30103132  0.30103132]\n",
      "   [ 0.27227604  0.27227604  0.27227604]]\n",
      "\n",
      "  [[ 0.8498885   0.8498885   0.8498885 ]\n",
      "   [ 0.74963307  0.74963307  0.74963307]\n",
      "   [ 0.89137185  0.89137185  0.89137185]\n",
      "   ..., \n",
      "   [ 0.298765    0.298765    0.298765  ]\n",
      "   [ 0.36729211  0.36729211  0.36729211]\n",
      "   [ 0.26806048  0.26806048  0.26806048]]\n",
      "\n",
      "  [[ 0.79351515  0.79351515  0.79351515]\n",
      "   [ 0.90050805  0.90050805  0.90050805]\n",
      "   [ 0.94762731  0.94762731  0.94762731]\n",
      "   ..., \n",
      "   [ 0.34521842  0.34521842  0.34521842]\n",
      "   [ 0.28689227  0.28689227  0.28689227]\n",
      "   [ 0.3503724   0.3503724   0.3503724 ]]]]\n"
     ]
    }
   ],
   "source": [
    "print(test_tensors_transf_noise)"
   ]
  },
  {
   "cell_type": "code",
   "execution_count": 77,
   "metadata": {
    "collapsed": true
   },
   "outputs": [],
   "source": [
    "raw_preds = get_model_predictions(model_final, test_tensors_transf_noise)"
   ]
  },
  {
   "cell_type": "code",
   "execution_count": 78,
   "metadata": {},
   "outputs": [
    {
     "name": "stdout",
     "output_type": "stream",
     "text": [
      "1.375656186346896\n"
     ]
    }
   ],
   "source": [
    "num_samples = np.array(raw_preds).shape[0]\n",
    "\n",
    "raw_preds_np = np.array(raw_preds,dtype='float32').reshape(num_samples,7)\n",
    "\n",
    "print(manual_total_cce(raw_preds_np, test_targets_transf))"
   ]
  },
  {
   "cell_type": "code",
   "execution_count": 79,
   "metadata": {},
   "outputs": [
    {
     "name": "stdout",
     "output_type": "stream",
     "text": [
      "50.0\n"
     ]
    }
   ],
   "source": [
    "print(get_model_accuracy(model_final, test_tensors_transf_noise, test_targets_transf))"
   ]
  },
  {
   "cell_type": "code",
   "execution_count": null,
   "metadata": {
    "collapsed": true
   },
   "outputs": [],
   "source": []
  }
 ],
 "metadata": {
  "kernelspec": {
   "display_name": "Python 3",
   "language": "python",
   "name": "python3"
  },
  "language_info": {
   "codemirror_mode": {
    "name": "ipython",
    "version": 3
   },
   "file_extension": ".py",
   "mimetype": "text/x-python",
   "name": "python",
   "nbconvert_exporter": "python",
   "pygments_lexer": "ipython3",
   "version": "3.6.1"
  }
 },
 "nbformat": 4,
 "nbformat_minor": 2
}
