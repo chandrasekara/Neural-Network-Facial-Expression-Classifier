{
 "cells": [
  {
   "cell_type": "code",
   "execution_count": 2,
   "metadata": {
    "collapsed": true
   },
   "outputs": [],
   "source": [
    "import pandas as pd\n",
    "import numpy as np\n",
    "import matplotlib.pyplot as plt\n"
   ]
  },
  {
   "cell_type": "code",
   "execution_count": 3,
   "metadata": {},
   "outputs": [],
   "source": [
    "data = pd.read_csv('section_fer2013.csv')"
   ]
  },
  {
   "cell_type": "code",
   "execution_count": 33,
   "metadata": {},
   "outputs": [
    {
     "name": "stdout",
     "output_type": "stream",
     "text": [
      "   label  pixel1  pixel2  pixel3  pixel4  pixel5  pixel6  pixel7  pixel8  \\\n",
      "0      2       0       0       0       0       0       0       0       0   \n",
      "1      9       0       0       0       0       0       0       0       0   \n",
      "2      6       0       0       0       0       0       0       0       5   \n",
      "3      0       0       0       0       1       2       0       0       0   \n",
      "4      3       0       0       0       0       0       0       0       0   \n",
      "\n",
      "   pixel9    ...     pixel775  pixel776  pixel777  pixel778  pixel779  \\\n",
      "0       0    ...            0         0         0         0         0   \n",
      "1       0    ...            0         0         0         0         0   \n",
      "2       0    ...            0         0         0        30        43   \n",
      "3       0    ...            3         0         0         0         0   \n",
      "4       0    ...            0         0         0         0         0   \n",
      "\n",
      "   pixel780  pixel781  pixel782  pixel783  pixel784  \n",
      "0         0         0         0         0         0  \n",
      "1         0         0         0         0         0  \n",
      "2         0         0         0         0         0  \n",
      "3         1         0         0         0         0  \n",
      "4         0         0         0         0         0  \n",
      "\n",
      "[5 rows x 785 columns]\n"
     ]
    }
   ],
   "source": [
    "print(data.head(n=5))"
   ]
  },
  {
   "cell_type": "code",
   "execution_count": 4,
   "metadata": {},
   "outputs": [
    {
     "name": "stdout",
     "output_type": "stream",
     "text": [
      "[2065, 239, 2176, 3742, 2547, 1598, 2632]\n"
     ]
    }
   ],
   "source": [
    "emotions_series = data['emotion']\n",
    "\n",
    "#print(emotions_series)\n",
    "\n",
    "freq_list = [0,0,0,0,0,0,0]\n",
    "\n",
    "i = 0\n",
    "\n",
    "for i in emotions_series:\n",
    "    freq_list[i] += 1\n",
    "    \n",
    "print(freq_list)\n",
    "\n",
    "#emotions are found to not be evenly distributed"
   ]
  },
  {
   "cell_type": "code",
   "execution_count": 5,
   "metadata": {},
   "outputs": [
    {
     "name": "stdout",
     "output_type": "stream",
     "text": [
      "   emotion                                             pixels     Usage\n",
      "0        0  [70, 80, 82, 72, 58, 58, 60, 63, 54, 58, 60, 4...  Training\n",
      "1        0  [151, 150, 147, 155, 148, 133, 111, 140, 170, ...  Training\n",
      "2        2  [231, 212, 156, 164, 174, 138, 161, 173, 182, ...  Training\n",
      "3        4  [24, 32, 36, 30, 32, 23, 19, 20, 30, 41, 21, 2...  Training\n",
      "4        6  [4, 0, 0, 0, 0, 0, 0, 0, 0, 0, 0, 0, 3, 15, 23...  Training\n",
      "                                                  pixels\n",
      "0      [70, 80, 82, 72, 58, 58, 60, 63, 54, 58, 60, 4...\n",
      "1      [151, 150, 147, 155, 148, 133, 111, 140, 170, ...\n",
      "2      [231, 212, 156, 164, 174, 138, 161, 173, 182, ...\n",
      "3      [24, 32, 36, 30, 32, 23, 19, 20, 30, 41, 21, 2...\n",
      "4      [4, 0, 0, 0, 0, 0, 0, 0, 0, 0, 0, 0, 3, 15, 23...\n",
      "5      [55, 55, 55, 55, 55, 54, 60, 68, 54, 85, 151, ...\n",
      "6      [20, 17, 19, 21, 25, 38, 42, 42, 46, 54, 56, 6...\n",
      "7      [77, 78, 79, 79, 78, 75, 60, 55, 47, 48, 58, 7...\n",
      "8      [85, 84, 90, 121, 101, 102, 133, 153, 153, 169...\n",
      "9      [255, 254, 255, 254, 254, 179, 122, 107, 95, 1...\n",
      "10     [30, 24, 21, 23, 25, 25, 49, 67, 84, 103, 120,...\n",
      "11     [39, 75, 78, 58, 58, 45, 49, 48, 103, 156, 81,...\n",
      "12     [219, 213, 206, 202, 209, 217, 216, 215, 219, ...\n",
      "13     [148, 144, 130, 129, 119, 122, 129, 131, 139, ...\n",
      "14     [4, 2, 13, 41, 56, 62, 67, 87, 95, 62, 65, 70,...\n",
      "15     [107, 107, 109, 109, 109, 109, 110, 101, 123, ...\n",
      "16     [14, 14, 18, 28, 27, 22, 21, 30, 42, 61, 77, 8...\n",
      "17     [255, 255, 255, 255, 255, 255, 255, 255, 255, ...\n",
      "18     [134, 124, 167, 180, 197, 194, 203, 210, 204, ...\n",
      "19     [219, 192, 179, 148, 208, 254, 192, 98, 121, 1...\n",
      "20     [1, 1, 1, 1, 1, 1, 1, 1, 1, 1, 1, 1, 2, 2, 2, ...\n",
      "21     [174, 51, 37, 37, 38, 41, 22, 25, 22, 24, 35, ...\n",
      "22     [123, 125, 124, 142, 209, 226, 234, 236, 231, ...\n",
      "23     [8, 9, 14, 21, 26, 32, 37, 46, 52, 62, 72, 70,...\n",
      "24     [252, 250, 246, 229, 182, 140, 98, 72, 53, 44,...\n",
      "25     [224, 227, 219, 217, 215, 210, 187, 177, 189, ...\n",
      "26     [162, 200, 187, 180, 197, 198, 196, 192, 176, ...\n",
      "27     [236, 230, 225, 226, 228, 209, 199, 193, 196, ...\n",
      "28     [210, 210, 210, 210, 211, 207, 147, 103, 68, 6...\n",
      "29     [50, 44, 74, 141, 187, 187, 169, 113, 80, 128,...\n",
      "...                                                  ...\n",
      "14969  [119, 75, 62, 58, 53, 54, 54, 52, 60, 59, 61, ...\n",
      "14970  [177, 177, 176, 175, 176, 177, 180, 174, 169, ...\n",
      "14971  [128, 126, 125, 126, 125, 126, 126, 126, 126, ...\n",
      "14972  [83, 85, 89, 91, 93, 91, 89, 89, 90, 91, 90, 8...\n",
      "14973  [193, 189, 191, 190, 188, 188, 187, 184, 186, ...\n",
      "14974  [63, 126, 140, 126, 154, 178, 168, 182, 157, 6...\n",
      "14975  [221, 187, 200, 158, 119, 183, 208, 208, 210, ...\n",
      "14976  [13, 11, 12, 13, 14, 14, 18, 72, 103, 107, 102...\n",
      "14977  [107, 117, 108, 114, 112, 103, 80, 64, 64, 69,...\n",
      "14978  [10, 9, 6, 17, 19, 6, 4, 7, 11, 11, 9, 6, 7, 1...\n",
      "14979  [114, 101, 86, 79, 71, 87, 111, 150, 169, 184,...\n",
      "14980  [53, 77, 108, 140, 108, 94, 122, 124, 118, 111...\n",
      "14981  [37, 37, 25, 11, 11, 16, 17, 18, 19, 23, 20, 2...\n",
      "14982  [217, 217, 215, 212, 209, 205, 198, 196, 202, ...\n",
      "14983  [213, 214, 213, 214, 213, 214, 215, 215, 215, ...\n",
      "14984  [166, 200, 208, 209, 210, 217, 219, 220, 221, ...\n",
      "14985  [246, 226, 185, 150, 121, 84, 72, 55, 57, 69, ...\n",
      "14986  [254, 255, 248, 244, 233, 115, 82, 75, 61, 71,...\n",
      "14987  [231, 227, 202, 179, 149, 138, 118, 141, 139, ...\n",
      "14988  [64, 64, 64, 63, 63, 63, 64, 63, 63, 63, 62, 5...\n",
      "14989  [226, 134, 114, 107, 118, 68, 66, 106, 182, 12...\n",
      "14990  [26, 26, 46, 55, 66, 75, 87, 82, 76, 60, 56, 6...\n",
      "14991  [217, 220, 211, 126, 52, 50, 45, 42, 45, 51, 4...\n",
      "14992  [0, 0, 0, 0, 0, 0, 0, 2, 34, 77, 99, 110, 118,...\n",
      "14993  [179, 179, 180, 180, 180, 180, 180, 181, 181, ...\n",
      "14994  [252, 252, 253, 252, 251, 255, 198, 121, 106, ...\n",
      "14995  [72, 108, 164, 196, 210, 211, 204, 184, 133, 1...\n",
      "14996  [102, 99, 96, 94, 98, 95, 97, 93, 93, 90, 87, ...\n",
      "14997  [205, 207, 216, 219, 220, 197, 124, 50, 40, 28...\n",
      "14998  [84, 85, 86, 89, 93, 81, 67, 97, 111, 117, 99,...\n",
      "\n",
      "[14999 rows x 1 columns]\n"
     ]
    }
   ],
   "source": [
    "\n",
    "\n",
    "\n",
    "\n",
    "#print(features['pixels'])\n",
    "\n",
    "pixel_list_list = []\n",
    "\n",
    "#j = 0\n",
    "\n",
    "\n",
    "for i in data['pixels']:\n",
    "    pixel_list_list.append(i.split())\n",
    "    #j += 1\n",
    "    \n",
    "pll_series = pd.Series(pixel_list_list)\n",
    "\n",
    "data['pixels'] = pll_series\n",
    "\n",
    "labels = data['emotion']\n",
    "\n",
    "features = data.drop(['emotion', 'Usage'], axis=1, inplace=False)\n",
    "\n",
    "\n",
    "print(data.head(n=5))\n",
    "\n",
    "print(features)\n"
   ]
  },
  {
   "cell_type": "code",
   "execution_count": 6,
   "metadata": {},
   "outputs": [
    {
     "name": "stdout",
     "output_type": "stream",
     "text": [
      "(14999, 1)\n"
     ]
    }
   ],
   "source": [
    "print(features.shape)\n"
   ]
  },
  {
   "cell_type": "code",
   "execution_count": 11,
   "metadata": {},
   "outputs": [],
   "source": [
    "pixel_array = []\n",
    "\n",
    "for i in features.loc[1522]:\n",
    "    pixel_array.append(i)\n",
    "\n",
    "pixel_array = pixel_array[0]\n",
    "\n",
    "im_dim = 48\n",
    "\n",
    "pixel_array = [pixel_array[x:x+im_dim] for x in range(0, len(pixel_array), im_dim)]"
   ]
  },
  {
   "cell_type": "code",
   "execution_count": 10,
   "metadata": {},
   "outputs": [
    {
     "data": {
      "image/png": "[encoded data removed]",
      "text/plain": [
       "<matplotlib.figure.Figure at 0x1e1a545e550>"
      ]
     },
     "metadata": {},
     "output_type": "display_data"
    }
   ],
   "source": [
    "for a in range(len(pixel_array)):\n",
    "    for b in range(len(pixel_array[a])):\n",
    "        pixel_array[a][b] = float(pixel_array[a][b])\n",
    "\n",
    "im_np = np.array(pixel_array)\n",
    "\n",
    "plt.imshow(im_np, cmap='gray')\n",
    "\n",
    "plt.show()\n"
   ]
  },
  {
   "cell_type": "code",
   "execution_count": null,
   "metadata": {
    "collapsed": true
   },
   "outputs": [],
   "source": []
  }
 ],
 "metadata": {
  "kernelspec": {
   "display_name": "Python 3",
   "language": "python",
   "name": "python3"
  },
  "language_info": {
   "codemirror_mode": {
    "name": "ipython",
    "version": 3
   },
   "file_extension": ".py",
   "mimetype": "text/x-python",
   "name": "python",
   "nbconvert_exporter": "python",
   "pygments_lexer": "ipython3",
   "version": "3.6.1"
  }
 },
 "nbformat": 4,
 "nbformat_minor": 2
}
