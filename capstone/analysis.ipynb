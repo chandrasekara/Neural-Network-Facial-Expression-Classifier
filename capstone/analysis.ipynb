{
 "cells": [
  {
   "cell_type": "markdown",
   "metadata": {},
   "source": [
    "# Machine Learning Engineer Nanodegree\n",
    "\n",
    "## Capstone Project\n",
    "\n",
    "### Using Computer Vision for Facial Expression Classification\n",
    "\n",
    "This project seeks to investigate the use of computer vision techniques to build a classifier that can classify different faces, based on facial expressions.\n",
    "\n",
    "A deep learning approach will be taken to this problem, investigating the use of convolutional neural networks (CNNs). \n",
    "\n",
    "A simple benchmark CNN will first be investigated, followed by a more complex and deep network.\n",
    "\n",
    "In addition, the use of pre-existing architectures for the [ImageNet challenge](http://www.image-net.org/challenges/LSVRC/) will be explored to aid performance in the facial expression classification problem. \n",
    "\n",
    "\n",
    "\n",
    "\n"
   ]
  },
  {
   "cell_type": "code",
   "execution_count": 1,
   "metadata": {
    "scrolled": true
   },
   "outputs": [
    {
     "name": "stderr",
     "output_type": "stream",
     "text": [
      "Using TensorFlow backend.\n"
     ]
    }
   ],
   "source": [
    "import pandas as pd\n",
    "import numpy as np\n",
    "import matplotlib.pyplot as plt\n",
    "\n",
    "from keras.datasets import mnist\n",
    "from keras.models import Sequential, Model\n",
    "from keras.layers import Dense, Dropout, Flatten\n",
    "from keras.layers import Conv2D, MaxPooling2D, GlobalAveragePooling2D\n",
    "from keras.callbacks import ModelCheckpoint  \n",
    "\n",
    "from keras import losses\n",
    "from keras import backend as K\n",
    "from keras import applications\n",
    "from keras import optimizers\n",
    "\n",
    "%matplotlib inline"
   ]
  },
  {
   "cell_type": "markdown",
   "metadata": {},
   "source": [
    "### Reading the Data\n",
    "\n",
    "The dataset can be obtained from [here](https://www.kaggle.com/c/challenges-in-representation-learning-facial-expression-recognition-challenge). For the purpose of this notebook, and determining the best classification model, only the first 15,000 entries will be used. Later, the entire dataset will be used for training, testing and validation on the optimal model, to gain an idea for the true performance of the model.\n",
    "\n",
    "Below, Pandas is used to read the input data into a Data Frame"
   ]
  },
  {
   "cell_type": "code",
   "execution_count": 2,
   "metadata": {},
   "outputs": [],
   "source": [
    "use_section_data = False\n",
    "smaller_section_data = False\n",
    "\n",
    "if use_section_data:\n",
    "    data = pd.read_csv(\"section_fer2013.csv\")    \n",
    "    if smaller_section_data:\n",
    "        data = pd.read_csv(\"smaller_section_fer2013.csv\")\n",
    "else:\n",
    "    data = pd.read_csv(\"fer2013cp.csv\")\n",
    "\n",
    "labels = data['emotion']\n",
    "\n",
    "features = data.drop(['emotion','Usage'], axis=1, inplace=False)\n"
   ]
  },
  {
   "cell_type": "markdown",
   "metadata": {},
   "source": [
    "### Pre-Processing the Data\n",
    "\n",
    "The raw data is in .csv format, with every pixel value listed in a single cell, for each image, separated by spaces.\n",
    "\n",
    "Below, each pixel value is separated, to be an individual value in a Python list, within a Data Frame.\n",
    "\n",
    "In addition, the data will be converted to a tensor format."
   ]
  },
  {
   "cell_type": "code",
   "execution_count": 3,
   "metadata": {},
   "outputs": [],
   "source": [
    "temp_list = []\n",
    "\n",
    "for i in features['pixels']:\n",
    "    temp_list.append(i.split())\n",
    "    \n",
    "features.drop('pixels',axis=1,inplace=True)\n",
    "\n",
    "features['pixels'] = pd.Series(temp_list)"
   ]
  },
  {
   "cell_type": "markdown",
   "metadata": {},
   "source": [
    "Of all of the data that has been imported, 20% will be used for training, 10% for validation, and 70% for training."
   ]
  },
  {
   "cell_type": "code",
   "execution_count": 4,
   "metadata": {},
   "outputs": [],
   "source": [
    "from sklearn.model_selection import train_test_split\n",
    "\n",
    "\n",
    "X_train, X_test, y_train, y_test = train_test_split(features,labels,test_size = 0.2, random_state=0)\n",
    "\n",
    "X_train, X_val, y_train, y_val = train_test_split(X_train, y_train, test_size = 0.125, random_state=0)"
   ]
  },
  {
   "cell_type": "code",
   "execution_count": 5,
   "metadata": {},
   "outputs": [],
   "source": [
    "def df_to_tensor(X_in, im_dim, reshape=True, triple_channels=False, horizontal_flip_double=False):\n",
    "    \n",
    "    # convert from the dataframe which contains Python lists with all pixel values, into a tensor, suitable for\n",
    "    # input into a convolutional neural network\n",
    "    \n",
    "    list_of_2d_arrays = []\n",
    "    \n",
    "    \n",
    "    \n",
    "    for image in X_in['pixels']:\n",
    "        pixel_array = []\n",
    "        \n",
    "        for pixel in image:\n",
    "            if not triple_channels:\n",
    "                pixel_array.append(int(pixel))\n",
    "            else:\n",
    "                pixel_array.append([int(pixel),int(pixel),int(pixel)])\n",
    "        \n",
    "        pixel_array = [pixel_array[x:x+im_dim] for x in range(0,len(pixel_array),im_dim)]\n",
    "        \n",
    "        \n",
    "        \n",
    "        list_of_2d_arrays.append(pixel_array)\n",
    "        \n",
    "    if horizontal_flip_double == True:\n",
    "        \n",
    "        reversed_array = []\n",
    "        \n",
    "        for pixel_row in pixel_array:\n",
    "            reversed_array.append(pixel_row[::-1])\n",
    "            \n",
    "        list_of_2d_arrays.append(reversed_array)\n",
    "            \n",
    "            \n",
    "        \n",
    "        \n",
    "    np_arr =  np.array(list_of_2d_arrays)\n",
    "    \n",
    "    #print(np_arr.shape)\n",
    "    if reshape:\n",
    "        return np_arr.reshape(np_arr.shape[0], 48, 48, 1)\n",
    "    else:\n",
    "        return np_arr"
   ]
  },
  {
   "cell_type": "markdown",
   "metadata": {},
   "source": [
    "### Sample Visualization\n",
    "\n",
    "A few of the images from the dataset will be plotted below."
   ]
  },
  {
   "cell_type": "code",
   "execution_count": 6,
   "metadata": {},
   "outputs": [],
   "source": [
    "# take a few sample images to provide a visualization\n",
    "\n",
    "samples = df_to_tensor(features,48)"
   ]
  },
  {
   "cell_type": "code",
   "execution_count": 7,
   "metadata": {
    "scrolled": true
   },
   "outputs": [
    {
     "data": {
      "image/png": "[encoded data removed]",
      "text/plain": [
       "<matplotlib.figure.Figure at 0x7f432abf8dd8>"
      ]
     },
     "metadata": {},
     "output_type": "display_data"
    }
   ],
   "source": [
    "seed_number = 21\n",
    "\n",
    "two_d_array = samples[seed_number].reshape(48,48)\n",
    "\n",
    "fig = plt.figure(figsize=(10, 10))\n",
    "\n",
    "num_rows = 3\n",
    "\n",
    "num_columns = 3\n",
    "\n",
    "hardcoded_labels = [\"Fear\", \"Anger\", \"Anger\", \"Happy\", \"Happy\",\n",
    "                   \"Happy\", \"Disgust\", \"Happy\", \"Surprised\"]\n",
    "\n",
    "for i in range(num_rows*num_columns):\n",
    "    ax = fig.add_subplot(num_rows,num_columns,i + 1)\n",
    "    ax.imshow(samples[seed_number + i].reshape(48,48), cmap='gray')\n",
    "    ax.title.set_text(hardcoded_labels[i])\n",
    "\n"
   ]
  },
  {
   "cell_type": "markdown",
   "metadata": {},
   "source": [
    "### Frequency of Expressions\n",
    "\n",
    "The distribution of how many times each expression appears in the dataset is important to inform what metrics are suitable for assessing the classifier. Below a bar graph showing the relative frequencies of each expression is shown."
   ]
  },
  {
   "cell_type": "code",
   "execution_count": 8,
   "metadata": {},
   "outputs": [
    {
     "data": {
      "image/png": "[encoded data removed]",
      "text/plain": [
       "<matplotlib.figure.Figure at 0x7f432868a080>"
      ]
     },
     "metadata": {},
     "output_type": "display_data"
    }
   ],
   "source": [
    "# seeing the distribution of each emotion in the dataset\n",
    "\n",
    "frequency_list = np.zeros(7)\n",
    "\n",
    "for label in labels:\n",
    "    frequency_list[int(label)] += 1\n",
    "    \n",
    "emotion_indices = range(1,8)\n",
    "\n",
    "x_axis_labels = ['Angry','Disgust','Fear','Happy','Sad','Surprise',\n",
    "         'Neutral']\n",
    "\n",
    "\n",
    "bar = plt.bar(emotion_indices, frequency_list, align='center')\n",
    "\n",
    "plt.xticks(emotion_indices, x_axis_labels )\n",
    "\n",
    "plt.xlabel(\"Facial Expression\")\n",
    "\n",
    "plt.ylabel(\"Frequency of Occurence\")\n",
    "\n",
    "\n",
    "\n",
    "plt.show()"
   ]
  },
  {
   "cell_type": "code",
   "execution_count": 9,
   "metadata": {},
   "outputs": [],
   "source": [
    "train_tensors = df_to_tensor(X_train,48).astype('float32')/255\n",
    "valid_tensors = df_to_tensor(X_val,48).astype('float32')/255\n",
    "test_tensors = df_to_tensor(X_test,48).astype('float32')/255\n",
    "\n",
    "train_targets = np.array(pd.get_dummies(y_train))\n",
    "valid_targets = np.array(pd.get_dummies(y_val))\n",
    "test_targets = np.array(pd.get_dummies(y_test))\n"
   ]
  },
  {
   "cell_type": "code",
   "execution_count": 10,
   "metadata": {},
   "outputs": [],
   "source": [
    "img_width = 48\n",
    "img_height = 48"
   ]
  },
  {
   "cell_type": "markdown",
   "metadata": {},
   "source": [
    "### Evaluation Metrics\n",
    "\n",
    "Due to the uneven distribution of facial expressions in the dataset, illustrated above, accuracy alone is not a suitable measure of classifier performance. Instead <b>categorical cross entropy loss</b> will be used to rank classifiers.\n"
   ]
  },
  {
   "cell_type": "code",
   "execution_count": 11,
   "metadata": {},
   "outputs": [],
   "source": [
    "import numpy as np\n",
    "\n",
    "# this function probably isn't needed, now that you are able to make use of keras' categorical cross entropy function which\n",
    "# makes use of tensorflow\n",
    "\n",
    "def my_categorical_cross_entropy(predictions_vector, targets_vector, epsilon_ = 0.0001):\n",
    "    #calculates, for each individual sample, the contribution to the total categorical cross entropy of the predictions with respect to the targets\n",
    "\n",
    "    for i in range(len(predictions_vector)):\n",
    "        if predictions_vector[i] <= 0:\n",
    "            predictions_vector[i] = epsilon_\n",
    "    \n",
    "    predictions = np.array(predictions_vector)\n",
    "\n",
    "    targets = np.array(targets_vector)\n",
    "\n",
    "    log_vector = -np.log(predictions_vector)\n",
    "\n",
    "    return targets.dot(log_vector)\n"
   ]
  },
  {
   "cell_type": "code",
   "execution_count": 12,
   "metadata": {},
   "outputs": [],
   "source": [
    "def manual_total_cce(predictions, targets ):\n",
    "    \n",
    "    # predictions and targets inputs must be numpy arrays with the shape: (number of samples, number of classes)\n",
    "    \n",
    "    total = 0\n",
    "    \n",
    "    for i in range(predictions.shape[0]):\n",
    "        if predictions.shape[0] != targets.shape[0]:\n",
    "            print(\"WRONG INPUT DIMS!\")\n",
    "            return None\n",
    "        total += my_categorical_cross_entropy(predictions[i], targets[i])\n",
    "    \n",
    "    return float(total)/predictions.shape[0]"
   ]
  },
  {
   "cell_type": "code",
   "execution_count": 13,
   "metadata": {},
   "outputs": [],
   "source": [
    "# function for getting model predictions of a CNN\n",
    "\n",
    "#move this to higher up in the notebook later so you can use the same function for the other models\n",
    "\n",
    "def get_model_predictions(input_model, input_test_tensors):\n",
    "    # closely based on code provided in the Dog Breeds Classifier project\n",
    "    return [input_model.predict(np.expand_dims(tensor, axis=0)) for tensor in input_test_tensors]"
   ]
  },
  {
   "cell_type": "code",
   "execution_count": 14,
   "metadata": {},
   "outputs": [],
   "source": [
    "def get_model_accuracy(input_model, input_test_tensors, input_test_targets):\n",
    "    # closely based on code provided in the Dog Breeds Classifier project\n",
    "    # get index of predicted facial expression for test set images\n",
    "    expression_predictions = [np.argmax(input_model.predict(np.expand_dims(tensor, axis=0))) for tensor in input_test_tensors]\n",
    "\n",
    "    # report test accuracy\n",
    "    test_accuracy = 100*np.sum(np.array(expression_predictions)==np.argmax(input_test_targets, axis=1))/len(expression_predictions)\n",
    "    #print('Test accuracy: %.4f%%' % test_accuracy)\n",
    "    \n",
    "    return test_accuracy\n",
    "    "
   ]
  },
  {
   "cell_type": "markdown",
   "metadata": {},
   "source": [
    "### Baseline Model\n",
    "\n",
    "First, a simple CNN will be used to build a classifier, to which others can be compared. The baseline comprises only of two convolutional layers and a low amount of filters (ADD EXACT AMOUNT HERE AFTERWARD) and is expected to pick up basic features in the faces that will give it some degree of accuracy with the classification task\n"
   ]
  },
  {
   "cell_type": "code",
   "execution_count": 113,
   "metadata": {},
   "outputs": [
    {
     "name": "stdout",
     "output_type": "stream",
     "text": [
      "_________________________________________________________________\n",
      "Layer (type)                 Output Shape              Param #   \n",
      "=================================================================\n",
      "conv2d_71 (Conv2D)           (None, 48, 48, 16)        80        \n",
      "_________________________________________________________________\n",
      "max_pooling2d_52 (MaxPooling (None, 24, 24, 16)        0         \n",
      "_________________________________________________________________\n",
      "conv2d_72 (Conv2D)           (None, 24, 24, 32)        2080      \n",
      "_________________________________________________________________\n",
      "max_pooling2d_53 (MaxPooling (None, 12, 12, 32)        0         \n",
      "_________________________________________________________________\n",
      "flatten_19 (Flatten)         (None, 4608)              0         \n",
      "_________________________________________________________________\n",
      "dense_54 (Dense)             (None, 100)               460900    \n",
      "_________________________________________________________________\n",
      "dense_55 (Dense)             (None, 7)                 707       \n",
      "=================================================================\n",
      "Total params: 463,767.0\n",
      "Trainable params: 463,767.0\n",
      "Non-trainable params: 0.0\n",
      "_________________________________________________________________\n"
     ]
    }
   ],
   "source": [
    "model_baseline = Sequential()\n",
    "model_baseline.add(Conv2D(filters=16, kernel_size=2, padding='same', activation='relu', input_shape=(48,48,1)))\n",
    "model_baseline.add(MaxPooling2D(pool_size=2))\n",
    "model_baseline.add(Conv2D(filters=32, kernel_size=2, padding='same', activation='relu'))\n",
    "model_baseline.add(MaxPooling2D(pool_size=2))\n",
    "model_baseline.add(Flatten())\n",
    "model_baseline.add(Dense(100, activation='relu'))\n",
    "model_baseline.add(Dense(7, activation='softmax'))\n",
    "\n",
    "\n",
    "model_baseline.summary()"
   ]
  },
  {
   "cell_type": "code",
   "execution_count": 16,
   "metadata": {},
   "outputs": [],
   "source": [
    "model_baseline.compile(optimizer='rmsprop', loss='categorical_crossentropy', metrics=['accuracy'])"
   ]
  },
  {
   "cell_type": "code",
   "execution_count": 17,
   "metadata": {
    "scrolled": true
   },
   "outputs": [
    {
     "name": "stdout",
     "output_type": "stream",
     "text": [
      "Train on 25120 samples, validate on 3589 samples\n",
      "Epoch 1/20\n",
      "25040/25120 [============================>.] - ETA: 0s - loss: 1.6339 - acc: 0.3607Epoch 00000: val_loss improved from inf to 1.54052, saving model to saved_models/weights.best.baseline.hdf5\n",
      "25120/25120 [==============================] - 9s - loss: 1.6339 - acc: 0.3609 - val_loss: 1.5405 - val_acc: 0.4043\n",
      "Epoch 2/20\n",
      "24960/25120 [============================>.] - ETA: 0s - loss: 1.4583 - acc: 0.4446Epoch 00001: val_loss improved from 1.54052 to 1.45489, saving model to saved_models/weights.best.baseline.hdf5\n",
      "25120/25120 [==============================] - 8s - loss: 1.4578 - acc: 0.4447 - val_loss: 1.4549 - val_acc: 0.4344\n",
      "Epoch 3/20\n",
      "24980/25120 [============================>.] - ETA: 0s - loss: 1.3608 - acc: 0.4823Epoch 00002: val_loss improved from 1.45489 to 1.43780, saving model to saved_models/weights.best.baseline.hdf5\n",
      "25120/25120 [==============================] - 8s - loss: 1.3604 - acc: 0.4824 - val_loss: 1.4378 - val_acc: 0.4589\n",
      "Epoch 4/20\n",
      "24980/25120 [============================>.] - ETA: 0s - loss: 1.2869 - acc: 0.5100Epoch 00003: val_loss improved from 1.43780 to 1.37187, saving model to saved_models/weights.best.baseline.hdf5\n",
      "25120/25120 [==============================] - 8s - loss: 1.2862 - acc: 0.5101 - val_loss: 1.3719 - val_acc: 0.4773\n",
      "Epoch 5/20\n",
      "24980/25120 [============================>.] - ETA: 0s - loss: 1.2193 - acc: 0.5411Epoch 00004: val_loss improved from 1.37187 to 1.36901, saving model to saved_models/weights.best.baseline.hdf5\n",
      "25120/25120 [==============================] - 8s - loss: 1.2204 - acc: 0.5406 - val_loss: 1.3690 - val_acc: 0.4762\n",
      "Epoch 6/20\n",
      "24980/25120 [============================>.] - ETA: 0s - loss: 1.1569 - acc: 0.5665Epoch 00005: val_loss did not improve\n",
      "25120/25120 [==============================] - 8s - loss: 1.1569 - acc: 0.5665 - val_loss: 1.4260 - val_acc: 0.4773\n",
      "Epoch 7/20\n",
      "24980/25120 [============================>.] - ETA: 0s - loss: 1.0907 - acc: 0.5935Epoch 00006: val_loss did not improve\n",
      "25120/25120 [==============================] - 8s - loss: 1.0905 - acc: 0.5935 - val_loss: 1.3704 - val_acc: 0.4912\n",
      "Epoch 8/20\n",
      "24980/25120 [============================>.] - ETA: 0s - loss: 1.0307 - acc: 0.6183Epoch 00007: val_loss improved from 1.36901 to 1.36590, saving model to saved_models/weights.best.baseline.hdf5\n",
      "25120/25120 [==============================] - 8s - loss: 1.0311 - acc: 0.6180 - val_loss: 1.3659 - val_acc: 0.4940\n",
      "Epoch 9/20\n",
      "24980/25120 [============================>.] - ETA: 0s - loss: 0.9699 - acc: 0.6444Epoch 00008: val_loss did not improve\n",
      "25120/25120 [==============================] - 8s - loss: 0.9695 - acc: 0.6444 - val_loss: 1.4206 - val_acc: 0.4923\n",
      "Epoch 10/20\n",
      "24960/25120 [============================>.] - ETA: 0s - loss: 0.9009 - acc: 0.6700Epoch 00009: val_loss did not improve\n",
      "25120/25120 [==============================] - 8s - loss: 0.9017 - acc: 0.6698 - val_loss: 1.4699 - val_acc: 0.5010\n",
      "Epoch 11/20\n",
      "24980/25120 [============================>.] - ETA: 0s - loss: 0.8367 - acc: 0.6962Epoch 00010: val_loss did not improve\n",
      "25120/25120 [==============================] - 8s - loss: 0.8370 - acc: 0.6958 - val_loss: 1.5343 - val_acc: 0.4968\n",
      "Epoch 12/20\n",
      "24980/25120 [============================>.] - ETA: 0s - loss: 0.7726 - acc: 0.7211Epoch 00011: val_loss did not improve\n",
      "25120/25120 [==============================] - 8s - loss: 0.7728 - acc: 0.7211 - val_loss: 1.5802 - val_acc: 0.4976\n",
      "Epoch 13/20\n",
      "24980/25120 [============================>.] - ETA: 0s - loss: 0.7092 - acc: 0.7465Epoch 00012: val_loss did not improve\n",
      "25120/25120 [==============================] - 8s - loss: 0.7099 - acc: 0.7464 - val_loss: 1.6495 - val_acc: 0.4790\n",
      "Epoch 14/20\n",
      "24980/25120 [============================>.] - ETA: 0s - loss: 0.6441 - acc: 0.7695Epoch 00013: val_loss did not improve\n",
      "25120/25120 [==============================] - 8s - loss: 0.6441 - acc: 0.7695 - val_loss: 1.7886 - val_acc: 0.4896\n",
      "Epoch 15/20\n",
      "24980/25120 [============================>.] - ETA: 0s - loss: 0.5865 - acc: 0.7912Epoch 00014: val_loss did not improve\n",
      "25120/25120 [==============================] - 8s - loss: 0.5866 - acc: 0.7912 - val_loss: 1.8393 - val_acc: 0.4876\n",
      "Epoch 16/20\n",
      "24980/25120 [============================>.] - ETA: 0s - loss: 0.5235 - acc: 0.8171Epoch 00015: val_loss did not improve\n",
      "25120/25120 [==============================] - 8s - loss: 0.5239 - acc: 0.8170 - val_loss: 1.9792 - val_acc: 0.4790\n",
      "Epoch 17/20\n",
      "24980/25120 [============================>.] - ETA: 0s - loss: 0.4691 - acc: 0.8369Epoch 00016: val_loss did not improve\n",
      "25120/25120 [==============================] - 8s - loss: 0.4693 - acc: 0.8367 - val_loss: 2.1249 - val_acc: 0.4857\n",
      "Epoch 18/20\n",
      "24980/25120 [============================>.] - ETA: 0s - loss: 0.4196 - acc: 0.8532Epoch 00017: val_loss did not improve\n",
      "25120/25120 [==============================] - 8s - loss: 0.4203 - acc: 0.8528 - val_loss: 2.1507 - val_acc: 0.4851\n",
      "Epoch 19/20\n",
      "24980/25120 [============================>.] - ETA: 0s - loss: 0.3704 - acc: 0.8736Epoch 00018: val_loss did not improve\n",
      "25120/25120 [==============================] - 8s - loss: 0.3707 - acc: 0.8733 - val_loss: 2.4345 - val_acc: 0.4884\n",
      "Epoch 20/20\n",
      "24980/25120 [============================>.] - ETA: 0s - loss: 0.3281 - acc: 0.8904Epoch 00019: val_loss did not improve\n",
      "25120/25120 [==============================] - 8s - loss: 0.3289 - acc: 0.8902 - val_loss: 2.5528 - val_acc: 0.4790\n"
     ]
    }
   ],
   "source": [
    "# put repeated stuff into a function later on\n",
    "\n",
    "\n",
    "### TODO: specify the number of epochs that you would like to use to train the model.\n",
    "\n",
    "epochs = 20\n",
    "\n",
    "### Do NOT modify the code below this line.\n",
    "\n",
    "checkpointer = ModelCheckpoint(filepath='saved_models/weights.best.baseline.hdf5', \n",
    "                               verbose=1, save_best_only=True)\n",
    "\n",
    "history = model_baseline.fit(train_tensors, train_targets, \n",
    "          validation_data=(valid_tensors, valid_targets),\n",
    "          epochs=epochs, batch_size=20, callbacks=[checkpointer], verbose=1)"
   ]
  },
  {
   "cell_type": "code",
   "execution_count": 18,
   "metadata": {},
   "outputs": [],
   "source": [
    "model_baseline.load_weights('saved_models/weights.best.baseline.hdf5')"
   ]
  },
  {
   "cell_type": "code",
   "execution_count": 19,
   "metadata": {},
   "outputs": [
    {
     "name": "stdout",
     "output_type": "stream",
     "text": [
      "Test accuracy: 50.0836% \n"
     ]
    }
   ],
   "source": [
    "print(\"Test accuracy: %.4f%% \" % get_model_accuracy(model_baseline, test_tensors, test_targets))"
   ]
  },
  {
   "cell_type": "code",
   "execution_count": 22,
   "metadata": {},
   "outputs": [
    {
     "name": "stdout",
     "output_type": "stream",
     "text": [
      "50.0835887434\n"
     ]
    }
   ],
   "source": [
    "print(get_model_accuracy(model_baseline, test_tensors, test_targets))"
   ]
  },
  {
   "cell_type": "code",
   "execution_count": 23,
   "metadata": {},
   "outputs": [
    {
     "name": "stdout",
     "output_type": "stream",
     "text": [
      "dict_keys(['val_loss', 'acc', 'loss', 'val_acc'])\n"
     ]
    },
    {
     "data": {
      "image/png": "[encoded data removed]",
      "text/plain": [
       "<matplotlib.figure.Figure at 0x7f4326b69780>"
      ]
     },
     "metadata": {},
     "output_type": "display_data"
    }
   ],
   "source": [
    "# list all data in history\n",
    "print(history.history.keys())\n",
    "# summarize history for accuracy\n",
    "plt.plot(history.history['loss'])\n",
    "plt.plot(history.history['val_loss'])\n",
    "\n",
    "plt.legend(['train', 'validation'], loc='upper left')\n",
    "plt.title('Training and Validation data for Baseline Model')\n",
    "plt.xlabel('Training Epoch')\n",
    "plt.ylabel('Cross Entropy Loss')\n",
    "plt.show()"
   ]
  },
  {
   "cell_type": "code",
   "execution_count": 24,
   "metadata": {},
   "outputs": [
    {
     "name": "stdout",
     "output_type": "stream",
     "text": [
      "[[  6.60117343e-03   1.75271089e-06   3.96805769e-03 ...,   1.38195353e-02\n",
      "    5.57925133e-03   3.38386111e-02]\n",
      " [  4.64711308e-01   2.91587294e-05   1.24624155e-01 ...,   2.21785784e-01\n",
      "    5.33817932e-02   1.05001546e-01]\n",
      " [  8.63652453e-02   2.21477308e-08   2.59006936e-02 ...,   3.69121619e-02\n",
      "    8.24323576e-03   7.80620694e-01]\n",
      " ..., \n",
      " [  1.75703242e-01   1.80752215e-03   4.50747758e-01 ...,   1.42343938e-01\n",
      "    1.38655975e-01   3.76189910e-02]\n",
      " [  3.75809148e-02   1.41485157e-06   5.22477746e-01 ...,   8.18843469e-02\n",
      "    7.77047547e-03   1.40621126e-01]\n",
      " [  5.07406294e-01   2.34598666e-02   3.48823339e-01 ...,   1.23774521e-02\n",
      "    1.60992928e-02   1.17793195e-02]]\n",
      "(7178, 7)\n"
     ]
    }
   ],
   "source": [
    "preds_ = get_model_predictions(model_baseline, test_tensors)\n",
    "\n",
    "holder = np.array(preds_)\n",
    "\n",
    "preds_np = np.array(preds_, dtype='float32').reshape(holder.shape[0],7)\n",
    "\n",
    "print(preds_np)\n",
    "print(preds_np.shape)"
   ]
  },
  {
   "cell_type": "code",
   "execution_count": 25,
   "metadata": {},
   "outputs": [
    {
     "name": "stdout",
     "output_type": "stream",
     "text": [
      "1.339422579298363\n"
     ]
    }
   ],
   "source": [
    "print(manual_total_cce(preds_np, test_targets))"
   ]
  },
  {
   "cell_type": "markdown",
   "metadata": {},
   "source": [
    "### Advanced Model"
   ]
  },
  {
   "cell_type": "markdown",
   "metadata": {},
   "source": [
    "### Image Augmentation\n",
    "\n",
    "\n"
   ]
  },
  {
   "cell_type": "code",
   "execution_count": 104,
   "metadata": {},
   "outputs": [],
   "source": [
    "from keras.preprocessing.image import ImageDataGenerator\n",
    "\n",
    "def augment_data(train_tensors_input, valid_tensors_input, shift_width=0.1, shift_height=0.1, flip_hor=True,\n",
    "                flip_vert=False):\n",
    "    \n",
    "    \n",
    "    datagen_train = ImageDataGenerator(\n",
    "        width_shift_range = shift_width,\n",
    "        height_shift_range = shift_height,\n",
    "        horizontal_flip = flip_hor,\n",
    "        vertical_flip = flip_vert )\n",
    "\n",
    "    # create and configure augmented image generator\n",
    "    datagen_valid = ImageDataGenerator(\n",
    "        width_shift_range = shift_width,\n",
    "        height_shift_range = shift_height,\n",
    "        horizontal_flip = flip_hor,\n",
    "        vertical_flip = flip_vert )\n",
    "\n",
    "    # fit augmented image generator on data\n",
    "    datagen_train.fit(train_tensors_input)\n",
    "    datagen_valid.fit(valid_tensors_input)\n",
    "    \n",
    "    return (datagen_train, datagen_valid)\n",
    "    "
   ]
  },
  {
   "cell_type": "code",
   "execution_count": 105,
   "metadata": {},
   "outputs": [],
   "source": [
    "(datagen_train, datagen_valid) = augment_data(train_tensors, valid_tensors)"
   ]
  },
  {
   "cell_type": "code",
   "execution_count": 114,
   "metadata": {
    "scrolled": true
   },
   "outputs": [
    {
     "name": "stdout",
     "output_type": "stream",
     "text": [
      "_________________________________________________________________\n",
      "Layer (type)                 Output Shape              Param #   \n",
      "=================================================================\n",
      "conv2d_71 (Conv2D)           (None, 48, 48, 16)        80        \n",
      "_________________________________________________________________\n",
      "max_pooling2d_52 (MaxPooling (None, 24, 24, 16)        0         \n",
      "_________________________________________________________________\n",
      "conv2d_72 (Conv2D)           (None, 24, 24, 32)        2080      \n",
      "_________________________________________________________________\n",
      "max_pooling2d_53 (MaxPooling (None, 12, 12, 32)        0         \n",
      "_________________________________________________________________\n",
      "flatten_19 (Flatten)         (None, 4608)              0         \n",
      "_________________________________________________________________\n",
      "dense_54 (Dense)             (None, 100)               460900    \n",
      "_________________________________________________________________\n",
      "dense_55 (Dense)             (None, 7)                 707       \n",
      "=================================================================\n",
      "Total params: 463,767.0\n",
      "Trainable params: 463,767.0\n",
      "Non-trainable params: 0.0\n",
      "_________________________________________________________________\n"
     ]
    }
   ],
   "source": [
    "\n",
    "\n",
    "model = Sequential()\n",
    "model.add(Conv2D(filters=32, kernel_size=2, padding='same', activation='relu',\n",
    "                 input_shape=(img_width, img_height, 1)))\n",
    "model.add(MaxPooling2D(pool_size=2))\n",
    "model.add(Conv2D(filters=64, kernel_size=2, padding='same', activation='relu'))\n",
    "model.add(MaxPooling2D(pool_size=2))\n",
    "model.add(Conv2D(filters=128, kernel_size=2, padding='same', activation='relu'))\n",
    "model.add(MaxPooling2D(pool_size=2))\n",
    "model.add(Conv2D(filters=256, kernel_size=2, padding='same', activation='relu'))\n",
    "model.add(MaxPooling2D(pool_size=2))\n",
    "model.add(Flatten())\n",
    "model.add(Dense(1024, activation='relu'))\n",
    "model.add(Dropout(0.8))\n",
    "model.add(Dense(1024, activation='relu'))\n",
    "model.add(Dense(7, activation='softmax'))\n",
    "\n",
    "\n",
    "model = model_baseline\n",
    "\n",
    "model.summary()"
   ]
  },
  {
   "cell_type": "code",
   "execution_count": 115,
   "metadata": {},
   "outputs": [],
   "source": [
    "model.compile(optimizer='rmsprop', loss='categorical_crossentropy', metrics=['accuracy'])"
   ]
  },
  {
   "cell_type": "code",
   "execution_count": 116,
   "metadata": {},
   "outputs": [
    {
     "name": "stdout",
     "output_type": "stream",
     "text": [
      "Epoch 1/20\n",
      "1252/1256 [============================>.] - ETA: 0s - loss: 1.7088 - acc: 0.3140Epoch 00000: val_loss improved from inf to 1.63528, saving model to saved_models/weights.best.from_scratch_augmentation.hdf5\n",
      "1256/1256 [==============================] - 11s - loss: 1.7085 - acc: 0.3141 - val_loss: 1.6353 - val_acc: 0.3656\n",
      "Epoch 2/20\n",
      "1255/1256 [============================>.] - ETA: 0s - loss: 1.5843 - acc: 0.3817Epoch 00001: val_loss improved from 1.63528 to 1.53091, saving model to saved_models/weights.best.from_scratch_augmentation.hdf5\n",
      "1256/1256 [==============================] - 10s - loss: 1.5843 - acc: 0.3817 - val_loss: 1.5309 - val_acc: 0.4060\n",
      "Epoch 3/20\n",
      "1250/1256 [============================>.] - ETA: 0s - loss: 1.5133 - acc: 0.4174Epoch 00002: val_loss improved from 1.53091 to 1.48798, saving model to saved_models/weights.best.from_scratch_augmentation.hdf5\n",
      "1256/1256 [==============================] - 10s - loss: 1.5139 - acc: 0.4171 - val_loss: 1.4880 - val_acc: 0.4346\n",
      "Epoch 4/20\n",
      "1250/1256 [============================>.] - ETA: 0s - loss: 1.4743 - acc: 0.4328Epoch 00003: val_loss improved from 1.48798 to 1.45334, saving model to saved_models/weights.best.from_scratch_augmentation.hdf5\n",
      "1256/1256 [==============================] - 10s - loss: 1.4741 - acc: 0.4328 - val_loss: 1.4533 - val_acc: 0.4452\n",
      "Epoch 5/20\n",
      "1253/1256 [============================>.] - ETA: 0s - loss: 1.4439 - acc: 0.4446Epoch 00004: val_loss improved from 1.45334 to 1.42310, saving model to saved_models/weights.best.from_scratch_augmentation.hdf5\n",
      "1256/1256 [==============================] - 10s - loss: 1.4437 - acc: 0.4448 - val_loss: 1.4231 - val_acc: 0.4503\n",
      "Epoch 6/20\n",
      "1250/1256 [============================>.] - ETA: 0s - loss: 1.4169 - acc: 0.4575Epoch 00005: val_loss improved from 1.42310 to 1.41868, saving model to saved_models/weights.best.from_scratch_augmentation.hdf5\n",
      "1256/1256 [==============================] - 10s - loss: 1.4169 - acc: 0.4572 - val_loss: 1.4187 - val_acc: 0.4477\n",
      "Epoch 7/20\n",
      "1253/1256 [============================>.] - ETA: 0s - loss: 1.3954 - acc: 0.4645Epoch 00006: val_loss improved from 1.41868 to 1.38970, saving model to saved_models/weights.best.from_scratch_augmentation.hdf5\n",
      "1256/1256 [==============================] - 10s - loss: 1.3953 - acc: 0.4645 - val_loss: 1.3897 - val_acc: 0.4615\n",
      "Epoch 8/20\n",
      "1251/1256 [============================>.] - ETA: 0s - loss: 1.3699 - acc: 0.4749Epoch 00007: val_loss did not improve\n",
      "1256/1256 [==============================] - 10s - loss: 1.3705 - acc: 0.4748 - val_loss: 1.3949 - val_acc: 0.4657\n",
      "Epoch 9/20\n",
      "1249/1256 [============================>.] - ETA: 0s - loss: 1.3586 - acc: 0.4771Epoch 00008: val_loss did not improve\n",
      "1256/1256 [==============================] - 10s - loss: 1.3578 - acc: 0.4775 - val_loss: 1.4083 - val_acc: 0.4421\n",
      "Epoch 10/20\n",
      "1249/1256 [============================>.] - ETA: 0s - loss: 1.3478 - acc: 0.4834Epoch 00009: val_loss improved from 1.38970 to 1.38775, saving model to saved_models/weights.best.from_scratch_augmentation.hdf5\n",
      "1256/1256 [==============================] - 10s - loss: 1.3473 - acc: 0.4838 - val_loss: 1.3878 - val_acc: 0.4690\n",
      "Epoch 11/20\n",
      "1254/1256 [============================>.] - ETA: 0s - loss: 1.3357 - acc: 0.4948Epoch 00010: val_loss improved from 1.38775 to 1.38027, saving model to saved_models/weights.best.from_scratch_augmentation.hdf5\n",
      "1256/1256 [==============================] - 10s - loss: 1.3359 - acc: 0.4949 - val_loss: 1.3803 - val_acc: 0.4763\n",
      "Epoch 12/20\n",
      "1252/1256 [============================>.] - ETA: 0s - loss: 1.3271 - acc: 0.4915Epoch 00011: val_loss improved from 1.38027 to 1.33165, saving model to saved_models/weights.best.from_scratch_augmentation.hdf5\n",
      "1256/1256 [==============================] - 10s - loss: 1.3275 - acc: 0.4912 - val_loss: 1.3317 - val_acc: 0.4878\n",
      "Epoch 13/20\n",
      "1255/1256 [============================>.] - ETA: 0s - loss: 1.3292 - acc: 0.4935Epoch 00012: val_loss did not improve\n",
      "1256/1256 [==============================] - 10s - loss: 1.3291 - acc: 0.4936 - val_loss: 1.3469 - val_acc: 0.4783\n",
      "Epoch 14/20\n",
      "1253/1256 [============================>.] - ETA: 0s - loss: 1.3170 - acc: 0.4943Epoch 00013: val_loss did not improve\n",
      "1256/1256 [==============================] - 10s - loss: 1.3168 - acc: 0.4944 - val_loss: 1.3432 - val_acc: 0.4909\n",
      "Epoch 15/20\n",
      "1252/1256 [============================>.] - ETA: 0s - loss: 1.3147 - acc: 0.5004Epoch 00014: val_loss did not improve\n",
      "1256/1256 [==============================] - 10s - loss: 1.3149 - acc: 0.5002 - val_loss: 1.3350 - val_acc: 0.4881\n",
      "Epoch 16/20\n",
      "1253/1256 [============================>.] - ETA: 0s - loss: 1.3109 - acc: 0.5012Epoch 00015: val_loss did not improve\n",
      "1256/1256 [==============================] - 10s - loss: 1.3112 - acc: 0.5013 - val_loss: 1.3405 - val_acc: 0.4887\n",
      "Epoch 17/20\n",
      "1251/1256 [============================>.] - ETA: 0s - loss: 1.3011 - acc: 0.5058Epoch 00016: val_loss improved from 1.33165 to 1.32184, saving model to saved_models/weights.best.from_scratch_augmentation.hdf5\n",
      "1256/1256 [==============================] - 10s - loss: 1.3011 - acc: 0.5057 - val_loss: 1.3218 - val_acc: 0.4954\n",
      "Epoch 18/20\n",
      "1254/1256 [============================>.] - ETA: 0s - loss: 1.3018 - acc: 0.5065Epoch 00017: val_loss did not improve\n",
      "1256/1256 [==============================] - 10s - loss: 1.3015 - acc: 0.5067 - val_loss: 1.3340 - val_acc: 0.4968\n",
      "Epoch 19/20\n",
      "1252/1256 [============================>.] - ETA: 0s - loss: 1.2968 - acc: 0.5080Epoch 00018: val_loss did not improve\n",
      "1256/1256 [==============================] - 10s - loss: 1.2965 - acc: 0.5082 - val_loss: 1.3356 - val_acc: 0.4808\n",
      "Epoch 20/20\n",
      "1253/1256 [============================>.] - ETA: 0s - loss: 1.2980 - acc: 0.5060Epoch 00019: val_loss improved from 1.32184 to 1.31852, saving model to saved_models/weights.best.from_scratch_augmentation.hdf5\n",
      "1256/1256 [==============================] - 10s - loss: 1.2981 - acc: 0.5060 - val_loss: 1.3185 - val_acc: 0.4976\n"
     ]
    }
   ],
   "source": [
    "\n",
    "### TODO: specify the number of epochs that you would like to use to train the model.\n",
    "\n",
    "epochs = 20\n",
    "\n",
    "\n",
    "\n",
    "### Do NOT modify the code below this line.\n",
    "\n",
    "checkpointer = ModelCheckpoint(filepath='saved_models/weights.best.from_scratch_augmentation.hdf5', \n",
    "                               verbose=1, save_best_only=True)\n",
    "\n",
    "\"\"\"\n",
    "#Without image augmentation\n",
    "model.fit(train_tensors, train_targets, \n",
    "          validation_data=(valid_tensors, valid_targets),\n",
    "          epochs=epochs, batch_size=20, callbacks=[checkpointer], verbose=1)\n",
    "\"\"\"\n",
    "\n",
    "\n",
    "#With image augmentation\n",
    "\n",
    "batch_size = 20\n",
    "\n",
    "history = model.fit_generator(datagen_train.flow(train_tensors, train_targets, batch_size=batch_size),\n",
    "                    steps_per_epoch=train_tensors.shape[0] // batch_size,\n",
    "                    epochs=epochs, verbose=1, callbacks=[checkpointer],\n",
    "                    validation_data=datagen_valid.flow(valid_tensors, valid_targets, batch_size=batch_size),\n",
    "                    validation_steps=valid_tensors.shape[0] // batch_size)"
   ]
  },
  {
   "cell_type": "code",
   "execution_count": 117,
   "metadata": {},
   "outputs": [],
   "source": [
    "model.load_weights('saved_models/weights.best.from_scratch_augmentation.hdf5')"
   ]
  },
  {
   "cell_type": "code",
   "execution_count": 118,
   "metadata": {},
   "outputs": [
    {
     "name": "stdout",
     "output_type": "stream",
     "text": [
      "Test accuracy: 52.5077% \n"
     ]
    }
   ],
   "source": [
    "# get index of predicted facial expression for test set images\n",
    "print(\"Test accuracy: %.4f%% \" % get_model_accuracy(model, test_tensors, test_targets))"
   ]
  },
  {
   "cell_type": "code",
   "execution_count": 100,
   "metadata": {},
   "outputs": [
    {
     "name": "stdout",
     "output_type": "stream",
     "text": [
      "dict_keys(['val_loss', 'acc', 'loss', 'val_acc'])\n"
     ]
    },
    {
     "data": {
      "image/png": "[encoded data removed]",
      "text/plain": [
       "<matplotlib.figure.Figure at 0x7f4214ccc358>"
      ]
     },
     "metadata": {},
     "output_type": "display_data"
    }
   ],
   "source": [
    "# list all data in history\n",
    "print(history.history.keys())\n",
    "# summarize history for accuracy\n",
    "plt.plot(history.history['loss'])\n",
    "plt.plot(history.history['val_loss'])\n",
    "\n",
    "plt.legend(['train', 'validation'], loc='upper left')\n",
    "plt.title('Training and Validation data for Advanced From-Scratch Model')\n",
    "plt.xlabel('Training Epoch')\n",
    "plt.ylabel('Cross Entropy Loss')\n",
    "plt.show()"
   ]
  },
  {
   "cell_type": "code",
   "execution_count": 101,
   "metadata": {},
   "outputs": [
    {
     "name": "stdout",
     "output_type": "stream",
     "text": [
      "[[  2.12260094e-02   1.26383631e-04   5.73693439e-02 ...,   5.54405488e-02\n",
      "    4.00935933e-02   7.96687379e-02]\n",
      " [  1.65475518e-01   1.87446401e-02   1.58315584e-01 ...,   3.01854938e-01\n",
      "    3.46180946e-02   2.52318323e-01]\n",
      " [  1.07725777e-01   4.54529375e-03   2.49480888e-01 ...,   9.15704072e-02\n",
      "    4.17768419e-01   6.03987835e-02]\n",
      " ..., \n",
      " [  1.26721844e-01   1.20015414e-02   2.21275538e-01 ...,   2.37367630e-01\n",
      "    1.27255186e-01   2.08995536e-01]\n",
      " [  1.73380822e-01   1.70897208e-02   1.60584241e-01 ...,   3.34619105e-01\n",
      "    1.84199009e-02   2.48276636e-01]\n",
      " [  2.18929291e-01   1.21496329e-02   1.29554316e-01 ...,   4.02611382e-02\n",
      "    2.30916440e-02   9.58163757e-03]]\n",
      "(7178, 7)\n"
     ]
    }
   ],
   "source": [
    "preds_ = get_model_predictions(model, test_tensors)\n",
    "\n",
    "#after computation is finished change model_baseline to model\n",
    "\n",
    "holder = np.array(preds_)\n",
    "\n",
    "preds_np = np.array(preds_, dtype='float32').reshape(holder.shape[0],7)\n",
    "\n",
    "print(preds_np)\n",
    "print(preds_np.shape)"
   ]
  },
  {
   "cell_type": "code",
   "execution_count": 102,
   "metadata": {},
   "outputs": [
    {
     "name": "stdout",
     "output_type": "stream",
     "text": [
      "(7178, 7)\n"
     ]
    }
   ],
   "source": [
    "print(test_targets.shape)"
   ]
  },
  {
   "cell_type": "code",
   "execution_count": 103,
   "metadata": {},
   "outputs": [
    {
     "name": "stdout",
     "output_type": "stream",
     "text": [
      "1.3666132133207425\n"
     ]
    }
   ],
   "source": [
    "print(manual_total_cce(preds_np, test_targets))"
   ]
  },
  {
   "cell_type": "markdown",
   "metadata": {},
   "source": [
    "### Transfer Learning\n",
    "\n",
    "It is suitable to explore the use of other CNNs that have been used for other computer vision applications. Below, the performance of the pre-trained networks Inception, VGG-19 and Resnet50 will be explored"
   ]
  },
  {
   "cell_type": "code",
   "execution_count": 61,
   "metadata": {},
   "outputs": [],
   "source": [
    "#import cv2\n",
    "\n",
    "X_train_transf, X_test_transf, X_val_transf = X_train, X_test, X_val\n",
    "\n",
    "y_train_transf, y_test_transf, y_val_transf = y_train, y_test, y_val\n",
    "\n",
    "\n",
    "sample = df_to_tensor(X_train_transf, 48, reshape=False)\n",
    "\n",
    "#sample.shape"
   ]
  },
  {
   "cell_type": "code",
   "execution_count": 62,
   "metadata": {},
   "outputs": [
    {
     "ename": "KeyboardInterrupt",
     "evalue": "",
     "output_type": "error",
     "traceback": [
      "\u001b[0;31m---------------------------------------------------------------------------\u001b[0m",
      "\u001b[0;31mKeyboardInterrupt\u001b[0m                         Traceback (most recent call last)",
      "\u001b[0;32m<ipython-input-62-fd08f544e877>\u001b[0m in \u001b[0;36m<module>\u001b[0;34m()\u001b[0m\n\u001b[1;32m      1\u001b[0m \u001b[0;31m# creating transfer tensors\u001b[0m\u001b[0;34m\u001b[0m\u001b[0;34m\u001b[0m\u001b[0m\n\u001b[1;32m      2\u001b[0m \u001b[0;34m\u001b[0m\u001b[0m\n\u001b[0;32m----> 3\u001b[0;31m \u001b[0mtrain_tensors_transf\u001b[0m \u001b[0;34m=\u001b[0m \u001b[0mdf_to_tensor\u001b[0m\u001b[0;34m(\u001b[0m\u001b[0mX_train_transf\u001b[0m\u001b[0;34m,\u001b[0m\u001b[0;36m48\u001b[0m\u001b[0;34m,\u001b[0m\u001b[0mreshape\u001b[0m\u001b[0;34m=\u001b[0m\u001b[0;32mFalse\u001b[0m\u001b[0;34m,\u001b[0m \u001b[0mtriple_channels\u001b[0m\u001b[0;34m=\u001b[0m\u001b[0;32mTrue\u001b[0m\u001b[0;34m)\u001b[0m\u001b[0;34m.\u001b[0m\u001b[0mastype\u001b[0m\u001b[0;34m(\u001b[0m\u001b[0;34m'float32'\u001b[0m\u001b[0;34m)\u001b[0m\u001b[0;34m/\u001b[0m\u001b[0;36m255\u001b[0m\u001b[0;34m\u001b[0m\u001b[0m\n\u001b[0m\u001b[1;32m      4\u001b[0m \u001b[0mvalid_tensors_transf\u001b[0m \u001b[0;34m=\u001b[0m \u001b[0mdf_to_tensor\u001b[0m\u001b[0;34m(\u001b[0m\u001b[0mX_val_transf\u001b[0m\u001b[0;34m,\u001b[0m\u001b[0;36m48\u001b[0m\u001b[0;34m,\u001b[0m \u001b[0mreshape\u001b[0m\u001b[0;34m=\u001b[0m\u001b[0;32mFalse\u001b[0m\u001b[0;34m,\u001b[0m \u001b[0mtriple_channels\u001b[0m\u001b[0;34m=\u001b[0m\u001b[0;32mTrue\u001b[0m\u001b[0;34m)\u001b[0m\u001b[0;34m.\u001b[0m\u001b[0mastype\u001b[0m\u001b[0;34m(\u001b[0m\u001b[0;34m'float32'\u001b[0m\u001b[0;34m)\u001b[0m\u001b[0;34m/\u001b[0m\u001b[0;36m255\u001b[0m\u001b[0;34m\u001b[0m\u001b[0m\n\u001b[1;32m      5\u001b[0m \u001b[0mtest_tensors_transf\u001b[0m \u001b[0;34m=\u001b[0m \u001b[0mdf_to_tensor\u001b[0m\u001b[0;34m(\u001b[0m\u001b[0mX_test_transf\u001b[0m\u001b[0;34m,\u001b[0m\u001b[0;36m48\u001b[0m\u001b[0;34m,\u001b[0m \u001b[0mreshape\u001b[0m\u001b[0;34m=\u001b[0m\u001b[0;32mFalse\u001b[0m\u001b[0;34m,\u001b[0m \u001b[0mtriple_channels\u001b[0m\u001b[0;34m=\u001b[0m\u001b[0;32mTrue\u001b[0m\u001b[0;34m)\u001b[0m\u001b[0;34m.\u001b[0m\u001b[0mastype\u001b[0m\u001b[0;34m(\u001b[0m\u001b[0;34m'float32'\u001b[0m\u001b[0;34m)\u001b[0m\u001b[0;34m/\u001b[0m\u001b[0;36m255\u001b[0m\u001b[0;34m\u001b[0m\u001b[0m\n",
      "\u001b[0;32m<ipython-input-5-97460df12f8f>\u001b[0m in \u001b[0;36mdf_to_tensor\u001b[0;34m(X_in, im_dim, reshape, triple_channels, horizontal_flip_double)\u001b[0m\n\u001b[1;32m     15\u001b[0m                 \u001b[0mpixel_array\u001b[0m\u001b[0;34m.\u001b[0m\u001b[0mappend\u001b[0m\u001b[0;34m(\u001b[0m\u001b[0mint\u001b[0m\u001b[0;34m(\u001b[0m\u001b[0mpixel\u001b[0m\u001b[0;34m)\u001b[0m\u001b[0;34m)\u001b[0m\u001b[0;34m\u001b[0m\u001b[0m\n\u001b[1;32m     16\u001b[0m             \u001b[0;32melse\u001b[0m\u001b[0;34m:\u001b[0m\u001b[0;34m\u001b[0m\u001b[0m\n\u001b[0;32m---> 17\u001b[0;31m                 \u001b[0mpixel_array\u001b[0m\u001b[0;34m.\u001b[0m\u001b[0mappend\u001b[0m\u001b[0;34m(\u001b[0m\u001b[0;34m[\u001b[0m\u001b[0mint\u001b[0m\u001b[0;34m(\u001b[0m\u001b[0mpixel\u001b[0m\u001b[0;34m)\u001b[0m\u001b[0;34m,\u001b[0m\u001b[0mint\u001b[0m\u001b[0;34m(\u001b[0m\u001b[0mpixel\u001b[0m\u001b[0;34m)\u001b[0m\u001b[0;34m,\u001b[0m\u001b[0mint\u001b[0m\u001b[0;34m(\u001b[0m\u001b[0mpixel\u001b[0m\u001b[0;34m)\u001b[0m\u001b[0;34m]\u001b[0m\u001b[0;34m)\u001b[0m\u001b[0;34m\u001b[0m\u001b[0m\n\u001b[0m\u001b[1;32m     18\u001b[0m \u001b[0;34m\u001b[0m\u001b[0m\n\u001b[1;32m     19\u001b[0m         \u001b[0mpixel_array\u001b[0m \u001b[0;34m=\u001b[0m \u001b[0;34m[\u001b[0m\u001b[0mpixel_array\u001b[0m\u001b[0;34m[\u001b[0m\u001b[0mx\u001b[0m\u001b[0;34m:\u001b[0m\u001b[0mx\u001b[0m\u001b[0;34m+\u001b[0m\u001b[0mim_dim\u001b[0m\u001b[0;34m]\u001b[0m \u001b[0;32mfor\u001b[0m \u001b[0mx\u001b[0m \u001b[0;32min\u001b[0m \u001b[0mrange\u001b[0m\u001b[0;34m(\u001b[0m\u001b[0;36m0\u001b[0m\u001b[0;34m,\u001b[0m\u001b[0mlen\u001b[0m\u001b[0;34m(\u001b[0m\u001b[0mpixel_array\u001b[0m\u001b[0;34m)\u001b[0m\u001b[0;34m,\u001b[0m\u001b[0mim_dim\u001b[0m\u001b[0;34m)\u001b[0m\u001b[0;34m]\u001b[0m\u001b[0;34m\u001b[0m\u001b[0m\n",
      "\u001b[0;31mKeyboardInterrupt\u001b[0m: "
     ]
    }
   ],
   "source": [
    "# creating transfer tensors\n",
    "\n",
    "train_tensors_transf = df_to_tensor(X_train_transf,48,reshape=False, triple_channels=True).astype('float32')/255\n",
    "valid_tensors_transf = df_to_tensor(X_val_transf,48, reshape=False, triple_channels=True).astype('float32')/255\n",
    "test_tensors_transf = df_to_tensor(X_test_transf,48, reshape=False, triple_channels=True).astype('float32')/255\n",
    "\n",
    "train_targets_transf = np.array(pd.get_dummies(y_train_transf))\n",
    "valid_targets_transf = np.array(pd.get_dummies(y_val_transf))\n",
    "test_targets_transf = np.array(pd.get_dummies(y_test_transf))\n"
   ]
  },
  {
   "cell_type": "code",
   "execution_count": null,
   "metadata": {},
   "outputs": [],
   "source": [
    "# Note: the code below is an adaptation of a code snippet by Prakash Jay,\n",
    "# obtained from: https://towardsdatascience.com/transfer-learning-using-keras-d804b2e04ef8\n",
    "\n",
    "img_width, img_height = 48, 48\n",
    "\"\"\"\n",
    "train_data_dir = \"data/train\"\n",
    "validation_data_dir = \"data/val\"\n",
    "nb_train_samples = 4125\n",
    "nb_validation_samples = 466 \n",
    "\"\"\"\n",
    "batch_size = 16\n",
    "epochs = 50\n",
    "\n",
    "model = applications.VGG19(weights = \"imagenet\", include_top=False, input_shape = (img_width, img_height, 3))\n",
    "\n",
    "\n",
    "model.summary()\n"
   ]
  },
  {
   "cell_type": "code",
   "execution_count": null,
   "metadata": {},
   "outputs": [],
   "source": [
    "# Image augmentation for transfer model\n",
    "\n",
    "from keras.preprocessing.image import ImageDataGenerator\n",
    "\n",
    "# create and configure augmented image generator\n",
    "datagen_train_transf = ImageDataGenerator(\n",
    "    width_shift_range=0.1,  # randomly shift images horizontally (10% of total width)\n",
    "    height_shift_range=0.1,  # randomly shift images vertically (10% of total height)\n",
    "    horizontal_flip=True) # randomly flip images horizontally\n",
    "\n",
    "# create and configure augmented image generator\n",
    "datagen_valid_transf = ImageDataGenerator(\n",
    "    width_shift_range=0.1,  # randomly shift images horizontally (10% of total width)\n",
    "    height_shift_range=0.1,  # randomly shift images vertically (10% of total height)\n",
    "    horizontal_flip=True) # randomly flip images horizontally\n",
    "\n",
    "# fit augmented image generator on data\n",
    "datagen_train_transf.fit(train_tensors_transf)\n",
    "datagen_valid_transf.fit(valid_tensors_transf)"
   ]
  },
  {
   "cell_type": "code",
   "execution_count": null,
   "metadata": {},
   "outputs": [],
   "source": [
    "\"\"\"\n",
    "for layer in model.layers:\n",
    "    layer.trainable = False\n",
    "\"\"\"\n",
    "\n",
    "#allow training in initial layers for now, to see what the result is"
   ]
  },
  {
   "cell_type": "code",
   "execution_count": null,
   "metadata": {},
   "outputs": [],
   "source": [
    "# duplicate of prakash jay code\n",
    "x = model.output\n",
    "x = Flatten()(x)\n",
    "x = Dense(1024, activation=\"relu\")(x)\n",
    "x = Dropout(0.5)(x)\n",
    "x = Dense(1024, activation=\"relu\")(x)\n",
    "x = Dropout(0.5)(x)\n",
    "#two additional dense layers below with same dropout\n",
    "#unsure whether it will help, go back to two if \n",
    "#needed\n",
    "x = Dense(1024, activation=\"relu\")(x)\n",
    "x = Dropout(0.5)(x)\n",
    "x = Dense(1024, activation=\"relu\")(x)\n",
    "x = Dropout(0.5)(x)\n",
    "predictions = Dense(7, activation=\"softmax\")(x)\n",
    "\n",
    "# creating the final model \n",
    "model_final = Model(input = model.input, output = predictions)\n",
    "\n",
    "# compile the model \n",
    "model_final.compile(loss = \"categorical_crossentropy\", optimizer = optimizers.SGD(lr=0.0001, momentum=0.9), metrics=[\"accuracy\"])\n",
    "\n",
    "model_final.summary()"
   ]
  },
  {
   "cell_type": "code",
   "execution_count": null,
   "metadata": {},
   "outputs": [],
   "source": [
    "checkpointer = ModelCheckpoint(filepath='saved_models/weights.best.transfer_example_six.hdf5', \n",
    "                               verbose=1, save_best_only=True)\n",
    "\n",
    "history = model_final.fit_generator(datagen_train_transf.flow(train_tensors_transf, train_targets_transf, batch_size=batch_size),\n",
    "                    steps_per_epoch=train_tensors_transf.shape[0] // batch_size,\n",
    "                    epochs=epochs, verbose=1, callbacks=[checkpointer],\n",
    "                    validation_data=datagen_valid_transf.flow(valid_tensors_transf, valid_targets_transf, batch_size=batch_size),\n",
    "                    validation_steps=valid_tensors_transf.shape[0] // batch_size)"
   ]
  },
  {
   "cell_type": "code",
   "execution_count": null,
   "metadata": {},
   "outputs": [],
   "source": [
    "model_final.load_weights('saved_models/weights.best.transfer_example_six.hdf5')"
   ]
  },
  {
   "cell_type": "code",
   "execution_count": null,
   "metadata": {},
   "outputs": [],
   "source": [
    "# list all data in history\n",
    "print(history.history.keys())\n",
    "# summarize history for accuracy\n",
    "plt.plot(history.history['loss'])\n",
    "plt.plot(history.history['val_loss'])\n",
    "\n",
    "plt.legend(['train', 'validation'], loc='upper left')\n",
    "plt.title('Training and Validation data for VGG-19 transfer learning model')\n",
    "plt.xlabel('Training Epoch')\n",
    "plt.ylabel('Cross Entropy Loss')\n",
    "plt.show()\n",
    "\n",
    "#change to loss and val_loss to get categorical cross entropy plots!"
   ]
  },
  {
   "cell_type": "code",
   "execution_count": null,
   "metadata": {},
   "outputs": [],
   "source": []
  },
  {
   "cell_type": "code",
   "execution_count": null,
   "metadata": {},
   "outputs": [],
   "source": [
    "# get index of predicted facial expression for test set images\n",
    "expression_predictions_transf = [np.argmax(model_final.predict(np.expand_dims(tensor, axis=0))) for tensor in test_tensors_transf]\n",
    "\n",
    "# report test accuracy\n",
    "test_accuracy = 100*np.sum(np.array(expression_predictions_transf)==np.argmax(test_targets_transf, axis=1))/len(expression_predictions_transf)\n",
    "print('Test accuracy: %.4f%%' % test_accuracy)"
   ]
  },
  {
   "cell_type": "code",
   "execution_count": null,
   "metadata": {},
   "outputs": [],
   "source": []
  },
  {
   "cell_type": "code",
   "execution_count": null,
   "metadata": {},
   "outputs": [],
   "source": [
    "raw_preds = [model_final.predict(np.expand_dims(tensor, axis=0)) for tensor in test_tensors_transf]\n",
    "\n",
    "raw_preds = get_model_predictions(model_final, test_tensors_transf)"
   ]
  },
  {
   "cell_type": "code",
   "execution_count": null,
   "metadata": {},
   "outputs": [],
   "source": [
    "print(raw_preds[1][0])"
   ]
  },
  {
   "cell_type": "code",
   "execution_count": null,
   "metadata": {},
   "outputs": [],
   "source": [
    "print(test_targets_transf[0])\n",
    "\n",
    "print(np.array(raw_preds).shape)"
   ]
  },
  {
   "cell_type": "code",
   "execution_count": null,
   "metadata": {},
   "outputs": [],
   "source": [
    "num_samples = np.array(raw_preds).shape[0]\n",
    "\n",
    "raw_preds_np = np.array(raw_preds,dtype='float32').reshape(num_samples,7)\n",
    "\n",
    "print(raw_preds_np.shape[0])\n",
    "\n",
    "print(test_targets_transf.shape)\n",
    "\n",
    "print(test_targets_transf)"
   ]
  },
  {
   "cell_type": "code",
   "execution_count": null,
   "metadata": {},
   "outputs": [],
   "source": [
    "print(manual_total_cce(raw_preds_np, test_targets_transf))"
   ]
  },
  {
   "cell_type": "code",
   "execution_count": null,
   "metadata": {},
   "outputs": [],
   "source": [
    "\n",
    "    "
   ]
  },
  {
   "cell_type": "code",
   "execution_count": null,
   "metadata": {},
   "outputs": [],
   "source": []
  }
 ],
 "metadata": {
  "kernelspec": {
   "display_name": "Python 3",
   "language": "python",
   "name": "python3"
  },
  "language_info": {
   "codemirror_mode": {
    "name": "ipython",
    "version": 3
   },
   "file_extension": ".py",
   "mimetype": "text/x-python",
   "name": "python",
   "nbconvert_exporter": "python",
   "pygments_lexer": "ipython3",
   "version": "3.5.2"
  }
 },
 "nbformat": 4,
 "nbformat_minor": 2
}
