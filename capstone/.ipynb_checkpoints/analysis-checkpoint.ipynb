{
 "cells": [
  {
   "cell_type": "code",
   "execution_count": 31,
   "metadata": {
    "collapsed": true
   },
   "outputs": [],
   "source": [
    "import pandas as pd\n",
    "import numpy as np\n",
    "import matplotlib.pyplot as plt\n"
   ]
  },
  {
   "cell_type": "code",
   "execution_count": 32,
   "metadata": {
    "collapsed": true
   },
   "outputs": [],
   "source": [
    "data = pd.read_csv('fashion-mnist_train.csv')"
   ]
  },
  {
   "cell_type": "code",
   "execution_count": 33,
   "metadata": {},
   "outputs": [
    {
     "name": "stdout",
     "output_type": "stream",
     "text": [
      "   label  pixel1  pixel2  pixel3  pixel4  pixel5  pixel6  pixel7  pixel8  \\\n",
      "0      2       0       0       0       0       0       0       0       0   \n",
      "1      9       0       0       0       0       0       0       0       0   \n",
      "2      6       0       0       0       0       0       0       0       5   \n",
      "3      0       0       0       0       1       2       0       0       0   \n",
      "4      3       0       0       0       0       0       0       0       0   \n",
      "\n",
      "   pixel9    ...     pixel775  pixel776  pixel777  pixel778  pixel779  \\\n",
      "0       0    ...            0         0         0         0         0   \n",
      "1       0    ...            0         0         0         0         0   \n",
      "2       0    ...            0         0         0        30        43   \n",
      "3       0    ...            3         0         0         0         0   \n",
      "4       0    ...            0         0         0         0         0   \n",
      "\n",
      "   pixel780  pixel781  pixel782  pixel783  pixel784  \n",
      "0         0         0         0         0         0  \n",
      "1         0         0         0         0         0  \n",
      "2         0         0         0         0         0  \n",
      "3         1         0         0         0         0  \n",
      "4         0         0         0         0         0  \n",
      "\n",
      "[5 rows x 785 columns]\n"
     ]
    }
   ],
   "source": [
    "print(data.head(n=5))"
   ]
  },
  {
   "cell_type": "code",
   "execution_count": 35,
   "metadata": {},
   "outputs": [
    {
     "name": "stdout",
     "output_type": "stream",
     "text": [
      "   pixel1  pixel2  pixel3  pixel4  pixel5  pixel6  pixel7  pixel8  pixel9  \\\n",
      "0       0       0       0       0       0       0       0       0       0   \n",
      "1       0       0       0       0       0       0       0       0       0   \n",
      "2       0       0       0       0       0       0       0       5       0   \n",
      "3       0       0       0       1       2       0       0       0       0   \n",
      "4       0       0       0       0       0       0       0       0       0   \n",
      "\n",
      "   pixel10    ...     pixel775  pixel776  pixel777  pixel778  pixel779  \\\n",
      "0        0    ...            0         0         0         0         0   \n",
      "1        0    ...            0         0         0         0         0   \n",
      "2        0    ...            0         0         0        30        43   \n",
      "3        0    ...            3         0         0         0         0   \n",
      "4        0    ...            0         0         0         0         0   \n",
      "\n",
      "   pixel780  pixel781  pixel782  pixel783  pixel784  \n",
      "0         0         0         0         0         0  \n",
      "1         0         0         0         0         0  \n",
      "2         0         0         0         0         0  \n",
      "3         1         0         0         0         0  \n",
      "4         0         0         0         0         0  \n",
      "\n",
      "[5 rows x 784 columns]\n",
      "***\n",
      "0        2\n",
      "1        9\n",
      "2        6\n",
      "3        0\n",
      "4        3\n",
      "5        4\n",
      "6        4\n",
      "7        5\n",
      "8        4\n",
      "9        8\n",
      "10       0\n",
      "11       8\n",
      "12       9\n",
      "13       0\n",
      "14       2\n",
      "15       2\n",
      "16       9\n",
      "17       3\n",
      "18       3\n",
      "19       3\n",
      "20       8\n",
      "21       7\n",
      "22       4\n",
      "23       4\n",
      "24       0\n",
      "25       4\n",
      "26       4\n",
      "27       8\n",
      "28       7\n",
      "29       1\n",
      "        ..\n",
      "59970    7\n",
      "59971    5\n",
      "59972    2\n",
      "59973    8\n",
      "59974    7\n",
      "59975    9\n",
      "59976    5\n",
      "59977    8\n",
      "59978    6\n",
      "59979    5\n",
      "59980    0\n",
      "59981    5\n",
      "59982    5\n",
      "59983    5\n",
      "59984    7\n",
      "59985    6\n",
      "59986    6\n",
      "59987    5\n",
      "59988    5\n",
      "59989    4\n",
      "59990    0\n",
      "59991    5\n",
      "59992    5\n",
      "59993    2\n",
      "59994    9\n",
      "59995    9\n",
      "59996    1\n",
      "59997    8\n",
      "59998    8\n",
      "59999    7\n",
      "Name: label, Length: 60000, dtype: int64\n"
     ]
    }
   ],
   "source": [
    "\n",
    "\n",
    "labels = data['label']\n",
    "\n",
    "features = data.drop('label', axis=1)\n",
    "\n",
    "\n",
    "\n",
    "print(features.head(n=5))\n",
    "print('***')\n",
    "print(labels)\n"
   ]
  },
  {
   "cell_type": "code",
   "execution_count": 39,
   "metadata": {},
   "outputs": [
    {
     "name": "stdout",
     "output_type": "stream",
     "text": [
      "pixel1      0\n",
      "pixel2      0\n",
      "pixel3      0\n",
      "pixel4      0\n",
      "pixel5      0\n",
      "pixel6      0\n",
      "pixel7      0\n",
      "pixel8      0\n",
      "pixel9      0\n",
      "pixel10     0\n",
      "pixel11     0\n",
      "pixel12     0\n",
      "pixel13     0\n",
      "pixel14     0\n",
      "pixel15     0\n",
      "pixel16     0\n",
      "pixel17     0\n",
      "pixel18     0\n",
      "pixel19     0\n",
      "pixel20     0\n",
      "pixel21     0\n",
      "pixel22     0\n",
      "pixel23     0\n",
      "pixel24     0\n",
      "pixel25     0\n",
      "pixel26     0\n",
      "pixel27     0\n",
      "pixel28     0\n",
      "pixel29     0\n",
      "pixel30     0\n",
      "           ..\n",
      "pixel755    0\n",
      "pixel756    0\n",
      "pixel757    0\n",
      "pixel758    0\n",
      "pixel759    0\n",
      "pixel760    0\n",
      "pixel761    0\n",
      "pixel762    0\n",
      "pixel763    0\n",
      "pixel764    0\n",
      "pixel765    0\n",
      "pixel766    0\n",
      "pixel767    0\n",
      "pixel768    0\n",
      "pixel769    0\n",
      "pixel770    0\n",
      "pixel771    0\n",
      "pixel772    0\n",
      "pixel773    0\n",
      "pixel774    0\n",
      "pixel775    0\n",
      "pixel776    0\n",
      "pixel777    0\n",
      "pixel778    0\n",
      "pixel779    0\n",
      "pixel780    0\n",
      "pixel781    0\n",
      "pixel782    0\n",
      "pixel783    0\n",
      "pixel784    0\n",
      "Name: 0, Length: 784, dtype: int64\n",
      "******\n",
      "[0, 0, 0, 0, 0, 0, 0, 0, 0, 0, 0, 0, 0, 0, 0, 0, 0, 0, 0, 0, 0, 0, 0, 0, 0, 0, 0, 0, 0, 0, 0, 0, 0, 0, 0, 0, 0, 0, 0, 0, 0, 0, 0, 0, 0, 0, 0, 0, 0, 0, 0, 0, 0, 0, 0, 0, 0, 0, 0, 0, 0, 0, 0, 0, 0, 0, 0, 0, 0, 0, 0, 0, 0, 0, 0, 0, 0, 0, 0, 0, 0, 0, 0, 0, 0, 0, 0, 0, 4, 0, 0, 0, 0, 0, 62, 61, 21, 29, 23, 51, 136, 61, 0, 0, 0, 0, 0, 0, 0, 0, 0, 0, 0, 0, 0, 0, 0, 0, 0, 88, 201, 228, 225, 255, 115, 62, 137, 255, 235, 222, 255, 135, 0, 0, 0, 0, 0, 0, 0, 0, 0, 0, 0, 0, 0, 47, 252, 234, 238, 224, 215, 215, 229, 108, 180, 207, 214, 224, 231, 249, 254, 45, 0, 0, 0, 0, 0, 0, 0, 0, 1, 0, 0, 214, 222, 210, 213, 224, 225, 217, 220, 254, 233, 219, 221, 217, 223, 221, 240, 254, 0, 0, 1, 0, 0, 0, 1, 0, 0, 0, 128, 237, 207, 224, 224, 207, 216, 214, 210, 208, 211, 221, 208, 219, 213, 226, 211, 237, 150, 0, 0, 0, 0, 0, 0, 2, 0, 0, 237, 222, 215, 207, 210, 212, 213, 206, 214, 213, 214, 213, 210, 215, 214, 206, 199, 218, 255, 13, 0, 2, 0, 0, 0, 4, 0, 85, 228, 210, 218, 200, 211, 208, 203, 215, 210, 209, 209, 210, 213, 211, 210, 217, 206, 213, 231, 175, 0, 0, 0, 0, 0, 0, 0, 217, 224, 215, 206, 205, 204, 217, 230, 222, 215, 224, 233, 228, 232, 228, 224, 207, 212, 215, 213, 229, 31, 0, 4, 0, 1, 0, 21, 225, 212, 212, 203, 211, 225, 193, 139, 136, 195, 147, 156, 139, 128, 162, 197, 223, 207, 220, 213, 232, 177, 0, 0, 0, 0, 0, 123, 226, 207, 211, 209, 205, 228, 158, 90, 103, 186, 138, 100, 121, 147, 158, 183, 226, 208, 214, 209, 216, 255, 13, 0, 1, 0, 0, 226, 219, 202, 208, 206, 205, 216, 184, 156, 150, 193, 170, 164, 168, 188, 186, 200, 219, 216, 213, 213, 211, 233, 148, 0, 0, 0, 45, 227, 204, 214, 211, 218, 222, 221, 230, 229, 221, 213, 224, 233, 226, 220, 219, 221, 224, 223, 217, 210, 218, 213, 254, 0, 0, 0, 157, 226, 203, 207, 211, 209, 215, 205, 198, 207, 208, 201, 201, 197, 203, 205, 210, 207, 213, 214, 214, 214, 213, 208, 234, 107, 0, 0, 235, 213, 204, 211, 210, 209, 213, 202, 197, 204, 215, 217, 213, 212, 210, 206, 212, 203, 211, 218, 215, 214, 208, 209, 222, 230, 0, 52, 255, 207, 200, 208, 213, 210, 210, 208, 207, 202, 201, 209, 216, 216, 216, 216, 214, 212, 205, 215, 201, 228, 208, 214, 212, 218, 25, 118, 217, 201, 206, 208, 213, 208, 205, 206, 210, 211, 202, 199, 207, 208, 209, 210, 207, 210, 210, 245, 139, 119, 255, 202, 203, 236, 114, 171, 238, 212, 203, 220, 216, 217, 209, 207, 205, 210, 211, 206, 204, 206, 209, 211, 215, 210, 206, 221, 242, 0, 224, 234, 230, 181, 26, 39, 145, 201, 255, 157, 115, 250, 200, 207, 206, 207, 213, 216, 206, 205, 206, 207, 206, 215, 207, 221, 238, 0, 0, 188, 85, 0, 0, 0, 0, 0, 31, 0, 129, 253, 190, 207, 208, 208, 208, 209, 211, 211, 209, 209, 209, 212, 201, 226, 165, 0, 0, 0, 0, 0, 0, 2, 0, 0, 0, 0, 89, 254, 199, 199, 192, 196, 198, 199, 201, 202, 203, 204, 203, 203, 200, 222, 155, 0, 3, 3, 3, 2, 0, 0, 0, 1, 5, 0, 0, 255, 218, 226, 232, 228, 224, 222, 220, 219, 219, 217, 221, 220, 212, 236, 95, 0, 2, 0, 0, 0, 0, 0, 0, 0, 0, 0, 0, 155, 194, 168, 170, 171, 173, 173, 179, 177, 175, 172, 171, 167, 161, 180, 0, 0, 1, 0, 1, 0, 0, 0, 0, 0, 0, 0, 0, 0, 0, 0, 0, 0, 0, 0, 0, 0, 0, 0, 0, 0, 0, 0, 0, 0, 0, 0, 0, 0, 0, 0, 0, 0, 0, 0, 0, 0, 0, 0, 0, 0, 0, 0, 0, 0, 0, 0, 0, 0, 0, 0, 0, 0, 0, 0, 0, 0, 0, 0, 0, 0, 0, 0, 0, 0, 0, 0, 0, 0, 0, 0, 0, 0, 0, 0, 0, 0, 0, 0, 0, 0, 0, 0, 0, 0, 0]\n",
      "*******\n",
      "[[0, 0, 0, 0, 0, 0, 0, 0, 0, 0, 0, 0, 0, 0, 0, 0, 0, 0, 0, 0, 0, 0, 0, 0, 0, 0, 0, 0], [0, 0, 0, 0, 0, 0, 0, 0, 0, 0, 0, 0, 0, 0, 0, 0, 0, 0, 0, 0, 0, 0, 0, 0, 0, 0, 0, 0], [0, 0, 0, 0, 0, 0, 0, 0, 0, 0, 0, 0, 0, 0, 0, 0, 0, 0, 0, 0, 0, 0, 0, 0, 0, 0, 0, 0], [0, 0, 0, 0, 4, 0, 0, 0, 0, 0, 62, 61, 21, 29, 23, 51, 136, 61, 0, 0, 0, 0, 0, 0, 0, 0, 0, 0], [0, 0, 0, 0, 0, 0, 0, 88, 201, 228, 225, 255, 115, 62, 137, 255, 235, 222, 255, 135, 0, 0, 0, 0, 0, 0, 0, 0], [0, 0, 0, 0, 0, 47, 252, 234, 238, 224, 215, 215, 229, 108, 180, 207, 214, 224, 231, 249, 254, 45, 0, 0, 0, 0, 0, 0], [0, 0, 1, 0, 0, 214, 222, 210, 213, 224, 225, 217, 220, 254, 233, 219, 221, 217, 223, 221, 240, 254, 0, 0, 1, 0, 0, 0], [1, 0, 0, 0, 128, 237, 207, 224, 224, 207, 216, 214, 210, 208, 211, 221, 208, 219, 213, 226, 211, 237, 150, 0, 0, 0, 0, 0], [0, 2, 0, 0, 237, 222, 215, 207, 210, 212, 213, 206, 214, 213, 214, 213, 210, 215, 214, 206, 199, 218, 255, 13, 0, 2, 0, 0], [0, 4, 0, 85, 228, 210, 218, 200, 211, 208, 203, 215, 210, 209, 209, 210, 213, 211, 210, 217, 206, 213, 231, 175, 0, 0, 0, 0], [0, 0, 0, 217, 224, 215, 206, 205, 204, 217, 230, 222, 215, 224, 233, 228, 232, 228, 224, 207, 212, 215, 213, 229, 31, 0, 4, 0], [1, 0, 21, 225, 212, 212, 203, 211, 225, 193, 139, 136, 195, 147, 156, 139, 128, 162, 197, 223, 207, 220, 213, 232, 177, 0, 0, 0], [0, 0, 123, 226, 207, 211, 209, 205, 228, 158, 90, 103, 186, 138, 100, 121, 147, 158, 183, 226, 208, 214, 209, 216, 255, 13, 0, 1], [0, 0, 226, 219, 202, 208, 206, 205, 216, 184, 156, 150, 193, 170, 164, 168, 188, 186, 200, 219, 216, 213, 213, 211, 233, 148, 0, 0], [0, 45, 227, 204, 214, 211, 218, 222, 221, 230, 229, 221, 213, 224, 233, 226, 220, 219, 221, 224, 223, 217, 210, 218, 213, 254, 0, 0], [0, 157, 226, 203, 207, 211, 209, 215, 205, 198, 207, 208, 201, 201, 197, 203, 205, 210, 207, 213, 214, 214, 214, 213, 208, 234, 107, 0], [0, 235, 213, 204, 211, 210, 209, 213, 202, 197, 204, 215, 217, 213, 212, 210, 206, 212, 203, 211, 218, 215, 214, 208, 209, 222, 230, 0], [52, 255, 207, 200, 208, 213, 210, 210, 208, 207, 202, 201, 209, 216, 216, 216, 216, 214, 212, 205, 215, 201, 228, 208, 214, 212, 218, 25], [118, 217, 201, 206, 208, 213, 208, 205, 206, 210, 211, 202, 199, 207, 208, 209, 210, 207, 210, 210, 245, 139, 119, 255, 202, 203, 236, 114], [171, 238, 212, 203, 220, 216, 217, 209, 207, 205, 210, 211, 206, 204, 206, 209, 211, 215, 210, 206, 221, 242, 0, 224, 234, 230, 181, 26], [39, 145, 201, 255, 157, 115, 250, 200, 207, 206, 207, 213, 216, 206, 205, 206, 207, 206, 215, 207, 221, 238, 0, 0, 188, 85, 0, 0], [0, 0, 0, 31, 0, 129, 253, 190, 207, 208, 208, 208, 209, 211, 211, 209, 209, 209, 212, 201, 226, 165, 0, 0, 0, 0, 0, 0], [2, 0, 0, 0, 0, 89, 254, 199, 199, 192, 196, 198, 199, 201, 202, 203, 204, 203, 203, 200, 222, 155, 0, 3, 3, 3, 2, 0], [0, 0, 1, 5, 0, 0, 255, 218, 226, 232, 228, 224, 222, 220, 219, 219, 217, 221, 220, 212, 236, 95, 0, 2, 0, 0, 0, 0], [0, 0, 0, 0, 0, 0, 155, 194, 168, 170, 171, 173, 173, 179, 177, 175, 172, 171, 167, 161, 180, 0, 0, 1, 0, 1, 0, 0], [0, 0, 0, 0, 0, 0, 0, 0, 0, 0, 0, 0, 0, 0, 0, 0, 0, 0, 0, 0, 0, 0, 0, 0, 0, 0, 0, 0], [0, 0, 0, 0, 0, 0, 0, 0, 0, 0, 0, 0, 0, 0, 0, 0, 0, 0, 0, 0, 0, 0, 0, 0, 0, 0, 0, 0], [0, 0, 0, 0, 0, 0, 0, 0, 0, 0, 0, 0, 0, 0, 0, 0, 0, 0, 0, 0, 0, 0, 0, 0, 0, 0, 0, 0]]\n"
     ]
    }
   ],
   "source": [
    "print(features.loc[0])\n",
    "\n",
    "pixel_array = []\n",
    "\n",
    "for i in features.loc[0]:\n",
    "    pixel_array.append(i)\n",
    "\n",
    "print(\"******\")\n",
    "\n",
    "print(pixel_array)\n",
    "\n",
    "im_dim = 28\n",
    "\n",
    "pixel_array = [pixel_array[x:x+im_dim] for x in range(0, len(pixel_array), im_dim)]\n",
    "\n",
    "print(\"*******\")\n",
    "\n",
    "print(pixel_array)"
   ]
  },
  {
   "cell_type": "code",
   "execution_count": 41,
   "metadata": {},
   "outputs": [
    {
     "data": {
      "image/png": "[encoded data removed]",
      "text/plain": [
       "<matplotlib.figure.Figure at 0x2393841d208>"
      ]
     },
     "metadata": {},
     "output_type": "display_data"
    }
   ],
   "source": [
    "im_np = np.array(pixel_array)\n",
    "\n",
    "fig = plt.figure(figsize=(2,2))\n",
    "ax = fig.add_subplot(111)\n",
    "ax.set_title('colorMap')\n",
    "plt.imshow(im_np)\n",
    "ax.set_aspect('equal')\n",
    "\n",
    "plt.show()\n",
    "\n",
    "plt.imshow(im_np)"
   ]
  },
  {
   "cell_type": "code",
   "execution_count": null,
   "metadata": {
    "collapsed": true
   },
   "outputs": [],
   "source": []
  }
 ],
 "metadata": {
  "kernelspec": {
   "display_name": "Python 3",
   "language": "python",
   "name": "python3"
  },
  "language_info": {
   "codemirror_mode": {
    "name": "ipython",
    "version": 3
   },
   "file_extension": ".py",
   "mimetype": "text/x-python",
   "name": "python",
   "nbconvert_exporter": "python",
   "pygments_lexer": "ipython3",
   "version": "3.6.1"
  }
 },
 "nbformat": 4,
 "nbformat_minor": 2
}
